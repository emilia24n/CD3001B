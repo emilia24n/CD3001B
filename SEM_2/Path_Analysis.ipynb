{
  "nbformat": 4,
  "nbformat_minor": 0,
  "metadata": {
    "colab": {
      "provenance": [],
      "authorship_tag": "ABX9TyMOY+CoXQv/z0v4+MFpsbgw",
      "include_colab_link": true
    },
    "kernelspec": {
      "name": "python3",
      "display_name": "Python 3"
    },
    "language_info": {
      "name": "python"
    }
  },
  "cells": [
    {
      "cell_type": "markdown",
      "metadata": {
        "id": "view-in-github",
        "colab_type": "text"
      },
      "source": [
        "<a href=\"https://colab.research.google.com/github/sharop/CD3001B/blob/main/SEM_2/Path_Analysis.ipynb\" target=\"_parent\"><img src=\"https://colab.research.google.com/assets/colab-badge.svg\" alt=\"Open In Colab\"/></a>"
      ]
    },
    {
      "cell_type": "code",
      "source": [
        "# graphviz is installed already, but need lib too\n",
        "!apt install libgraphviz-dev\n",
        "!pip install pygraphviz\n",
        "!pip install semopy\n"
      ],
      "metadata": {
        "colab": {
          "base_uri": "https://localhost:8080/"
        },
        "id": "Giil48kF6cj9",
        "outputId": "429a6082-54fd-4d75-cb0f-f40a3b19eb09"
      },
      "execution_count": 1,
      "outputs": [
        {
          "output_type": "stream",
          "name": "stdout",
          "text": [
            "Reading package lists... Done\n",
            "Building dependency tree       \n",
            "Reading state information... Done\n",
            "libgraphviz-dev is already the newest version (2.42.2-3build2).\n",
            "0 upgraded, 0 newly installed, 0 to remove and 19 not upgraded.\n",
            "Looking in indexes: https://pypi.org/simple, https://us-python.pkg.dev/colab-wheels/public/simple/\n",
            "Requirement already satisfied: pygraphviz in /usr/local/lib/python3.8/dist-packages (1.10)\n",
            "Looking in indexes: https://pypi.org/simple, https://us-python.pkg.dev/colab-wheels/public/simple/\n",
            "Requirement already satisfied: semopy in /usr/local/lib/python3.8/dist-packages (2.3.9)\n",
            "Requirement already satisfied: sympy in /usr/local/lib/python3.8/dist-packages (from semopy) (1.7.1)\n",
            "Requirement already satisfied: numpy in /usr/local/lib/python3.8/dist-packages (from semopy) (1.22.4)\n",
            "Requirement already satisfied: sklearn in /usr/local/lib/python3.8/dist-packages (from semopy) (0.0.post1)\n",
            "Requirement already satisfied: scipy in /usr/local/lib/python3.8/dist-packages (from semopy) (1.7.3)\n",
            "Requirement already satisfied: statsmodels in /usr/local/lib/python3.8/dist-packages (from semopy) (0.12.2)\n",
            "Requirement already satisfied: pandas in /usr/local/lib/python3.8/dist-packages (from semopy) (1.3.5)\n",
            "Requirement already satisfied: python-dateutil>=2.7.3 in /usr/local/lib/python3.8/dist-packages (from pandas->semopy) (2.8.2)\n",
            "Requirement already satisfied: pytz>=2017.3 in /usr/local/lib/python3.8/dist-packages (from pandas->semopy) (2022.7.1)\n",
            "Requirement already satisfied: patsy>=0.5 in /usr/local/lib/python3.8/dist-packages (from statsmodels->semopy) (0.5.3)\n",
            "Requirement already satisfied: mpmath>=0.19 in /usr/local/lib/python3.8/dist-packages (from sympy->semopy) (1.2.1)\n",
            "Requirement already satisfied: six in /usr/local/lib/python3.8/dist-packages (from patsy>=0.5->statsmodels->semopy) (1.15.0)\n"
          ]
        }
      ]
    },
    {
      "cell_type": "markdown",
      "source": [
        "## Ejemplo de grafica"
      ],
      "metadata": {
        "id": "sp-XvkcNkuB0"
      }
    },
    {
      "cell_type": "code",
      "execution_count": 2,
      "metadata": {
        "id": "0zWWrpRu4xKs"
      },
      "outputs": [],
      "source": [
        "import pygraphviz as pgv\n",
        "\n",
        "# Crear el grafo\n",
        "G = pgv.AGraph(strict=False, directed=True)\n",
        "\n",
        "# Agregar nodos\n",
        "G.add_node(\"E\", label=\"Educación\")\n",
        "G.add_node(\"I\", label=\"Ingreso\")\n",
        "\n",
        "# Agregar arcos\n",
        "G.add_edge(\"E\", \"I\")\n",
        "\n",
        "# Mostrar el grafo\n",
        "G.draw(\"senderos.png\", prog=\"dot\")\n"
      ]
    },
    {
      "cell_type": "markdown",
      "source": [
        "# Ejemplo 2"
      ],
      "metadata": {
        "id": "_Uy8aC5Ok7qf"
      }
    },
    {
      "cell_type": "markdown",
      "source": [
        "Para este ejemplo, utilizaremos un conjunto de datos de la Encuesta Nacional de Salud y Nutrición de los Estados Unidos (NHANES) para investigar la relación entre la actividad física y la obesidad."
      ],
      "metadata": {
        "id": "ooeS1NqOk4AX"
      }
    },
    {
      "cell_type": "code",
      "source": [
        "import pandas as pd\n",
        "import numpy as np\n",
        "import semopy\n",
        "from semopy import Model,OptimalScaler, sem\n",
        "\n"
      ],
      "metadata": {
        "colab": {
          "base_uri": "https://localhost:8080/",
          "height": 357
        },
        "id": "yMpJo7gN6Swu",
        "outputId": "aa7e421c-e193-495a-8be4-5fd09a967a26"
      },
      "execution_count": 15,
      "outputs": [
        {
          "output_type": "error",
          "ename": "ImportError",
          "evalue": "ignored",
          "traceback": [
            "\u001b[0;31m---------------------------------------------------------------------------\u001b[0m",
            "\u001b[0;31mImportError\u001b[0m                               Traceback (most recent call last)",
            "\u001b[0;32m<ipython-input-15-ead8344a7295>\u001b[0m in \u001b[0;36m<module>\u001b[0;34m\u001b[0m\n\u001b[1;32m      2\u001b[0m \u001b[0;32mimport\u001b[0m \u001b[0mnumpy\u001b[0m \u001b[0;32mas\u001b[0m \u001b[0mnp\u001b[0m\u001b[0;34m\u001b[0m\u001b[0;34m\u001b[0m\u001b[0m\n\u001b[1;32m      3\u001b[0m \u001b[0;32mimport\u001b[0m \u001b[0msemopy\u001b[0m\u001b[0;34m\u001b[0m\u001b[0;34m\u001b[0m\u001b[0m\n\u001b[0;32m----> 4\u001b[0;31m \u001b[0;32mfrom\u001b[0m \u001b[0msemopy\u001b[0m \u001b[0;32mimport\u001b[0m \u001b[0mModel\u001b[0m\u001b[0;34m,\u001b[0m\u001b[0mOptimalScaler\u001b[0m\u001b[0;34m,\u001b[0m \u001b[0msem\u001b[0m\u001b[0;34m\u001b[0m\u001b[0;34m\u001b[0m\u001b[0m\n\u001b[0m\u001b[1;32m      5\u001b[0m \u001b[0;34m\u001b[0m\u001b[0m\n",
            "\u001b[0;31mImportError\u001b[0m: cannot import name 'OptimalScaler' from 'semopy' (/usr/local/lib/python3.8/dist-packages/semopy/__init__.py)",
            "",
            "\u001b[0;31m---------------------------------------------------------------------------\u001b[0;32m\nNOTE: If your import is failing due to a missing package, you can\nmanually install dependencies using either !pip or !apt.\n\nTo view examples of installing some common dependencies, click the\n\"Open Examples\" button below.\n\u001b[0;31m---------------------------------------------------------------------------\u001b[0m\n"
          ],
          "errorDetails": {
            "actions": [
              {
                "action": "open_url",
                "actionText": "Open Examples",
                "url": "/notebooks/snippets/importing_libraries.ipynb"
              }
            ]
          }
        }
      ]
    },
    {
      "cell_type": "code",
      "source": [
        "data = pd.read_csv(\"https://raw.githubusercontent.com/GTPB/PSLS20/master/data/NHANES.csv\")\n"
      ],
      "metadata": {
        "id": "xiAX-Vi6lBXG"
      },
      "execution_count": 4,
      "outputs": []
    },
    {
      "cell_type": "markdown",
      "source": [
        "A continuación, definimos las variables que vamos a utilizar en nuestro modelo y creamos una matriz de correlación para evaluar la relación entre ellas:"
      ],
      "metadata": {
        "id": "PGIIkJp7lGuU"
      }
    },
    {
      "cell_type": "code",
      "source": [
        "\n",
        "# Definimos las variables\n",
        "x1 = data['Age']\n",
        "x2 = (data['Gender']==\"male\").replace({True: 1, False: 0}) \n",
        "x3 = (data['PhysActive'] == \"Yes\").replace({True: 1, False: 0}) \n",
        "y = ((data.Weight/((data.Height/100)**2)) >30).replace({True: 1, False: 0})\n",
        "# Creamos la matriz de correlación\n",
        "corr = np.corrcoef([x1, x2, x3, y])\n"
      ],
      "metadata": {
        "id": "HUAnflCElGNC"
      },
      "execution_count": 5,
      "outputs": []
    },
    {
      "cell_type": "markdown",
      "source": [
        "Después, definimos el modelo de senderos utilizando la notación estándar y los coeficientes de regresión a partir de la matriz de correlación:"
      ],
      "metadata": {
        "id": "6jHk7XUtu267"
      }
    },
    {
      "cell_type": "code",
      "source": [
        "# Definimos el modelo utilizando la notación estándar\n",
        "model = Model('''\n",
        "    obesidad ~ edad + genero + fisicamente_activo\n",
        "    fisicamente_activo ~ edad\n",
        "''')\n",
        "model.load_cov(corr)\n",
        "##Age -> Obesity\n",
        "#    Gender -> Obesity\n",
        "#    PhysActive -> Obesity\n",
        "#    Age -> PhysActive\n",
        "#\n",
        "\n"
      ],
      "metadata": {
        "id": "dg5UL-min7a6"
      },
      "execution_count": 10,
      "outputs": []
    },
    {
      "cell_type": "code",
      "source": [
        "semopy.semplot(model, \"model.png\")"
      ],
      "metadata": {
        "colab": {
          "base_uri": "https://localhost:8080/",
          "height": 272
        },
        "id": "oDRN6yHq01Z8",
        "outputId": "86b69456-3b41-4e77-8afb-d202836e9ee3"
      },
      "execution_count": 11,
      "outputs": [
        {
          "output_type": "execute_result",
          "data": {
            "text/plain": [
              "<graphviz.dot.Digraph at 0x7f3fcf791be0>"
            ],
            "image/svg+xml": "<?xml version=\"1.0\" encoding=\"UTF-8\" standalone=\"no\"?>\n<!DOCTYPE svg PUBLIC \"-//W3C//DTD SVG 1.1//EN\"\n \"http://www.w3.org/Graphics/SVG/1.1/DTD/svg11.dtd\">\n<!-- Generated by graphviz version 2.43.0 (0)\n -->\n<!-- Title: G Pages: 1 -->\n<svg width=\"214pt\" height=\"188pt\"\n viewBox=\"0.00 0.00 213.63 188.00\" xmlns=\"http://www.w3.org/2000/svg\" xmlns:xlink=\"http://www.w3.org/1999/xlink\">\n<g id=\"graph0\" class=\"graph\" transform=\"scale(1 1) rotate(0) translate(4 184)\">\n<title>G</title>\n<polygon fill=\"white\" stroke=\"transparent\" points=\"-4,4 -4,-184 209.63,-184 209.63,4 -4,4\"/>\n<!-- obesidad -->\n<g id=\"node1\" class=\"node\">\n<title>obesidad</title>\n<polygon fill=\"none\" stroke=\"black\" points=\"106.13,-36 41.13,-36 41.13,0 106.13,0 106.13,-36\"/>\n<text text-anchor=\"middle\" x=\"73.63\" y=\"-14.3\" font-family=\"Times,serif\" font-size=\"14.00\">obesidad</text>\n</g>\n<!-- edad -->\n<g id=\"node2\" class=\"node\">\n<title>edad</title>\n<polygon fill=\"none\" stroke=\"black\" points=\"56.63,-180 2.63,-180 2.63,-144 56.63,-144 56.63,-180\"/>\n<text text-anchor=\"middle\" x=\"29.63\" y=\"-158.3\" font-family=\"Times,serif\" font-size=\"14.00\">edad</text>\n</g>\n<!-- edad&#45;&gt;obesidad -->\n<g id=\"edge2\" class=\"edge\">\n<title>edad&#45;&gt;obesidad</title>\n<path fill=\"none\" stroke=\"black\" d=\"M17.76,-143.93C6.53,-125.49 -7.01,-95.61 4.63,-72 10.75,-59.58 21.33,-49.26 32.39,-41.13\"/>\n<polygon fill=\"black\" stroke=\"black\" points=\"34.59,-43.87 40.88,-35.34 30.65,-38.09 34.59,-43.87\"/>\n</g>\n<!-- fisicamente_activo -->\n<g id=\"node3\" class=\"node\">\n<title>fisicamente_activo</title>\n<polygon fill=\"none\" stroke=\"black\" points=\"133.13,-108 14.13,-108 14.13,-72 133.13,-72 133.13,-108\"/>\n<text text-anchor=\"middle\" x=\"73.63\" y=\"-86.3\" font-family=\"Times,serif\" font-size=\"14.00\">fisicamente_activo</text>\n</g>\n<!-- edad&#45;&gt;fisicamente_activo -->\n<g id=\"edge1\" class=\"edge\">\n<title>edad&#45;&gt;fisicamente_activo</title>\n<path fill=\"none\" stroke=\"black\" d=\"M40.51,-143.7C45.62,-135.56 51.82,-125.69 57.47,-116.7\"/>\n<polygon fill=\"black\" stroke=\"black\" points=\"60.52,-118.43 62.88,-108.1 54.59,-114.71 60.52,-118.43\"/>\n</g>\n<!-- fisicamente_activo&#45;&gt;obesidad -->\n<g id=\"edge4\" class=\"edge\">\n<title>fisicamente_activo&#45;&gt;obesidad</title>\n<path fill=\"none\" stroke=\"black\" d=\"M73.63,-71.7C73.63,-63.98 73.63,-54.71 73.63,-46.11\"/>\n<polygon fill=\"black\" stroke=\"black\" points=\"77.13,-46.1 73.63,-36.1 70.13,-46.1 77.13,-46.1\"/>\n</g>\n<!-- genero -->\n<g id=\"node4\" class=\"node\">\n<title>genero</title>\n<polygon fill=\"none\" stroke=\"black\" points=\"205.63,-108 151.63,-108 151.63,-72 205.63,-72 205.63,-108\"/>\n<text text-anchor=\"middle\" x=\"178.63\" y=\"-86.3\" font-family=\"Times,serif\" font-size=\"14.00\">genero</text>\n</g>\n<!-- genero&#45;&gt;obesidad -->\n<g id=\"edge3\" class=\"edge\">\n<title>genero&#45;&gt;obesidad</title>\n<path fill=\"none\" stroke=\"black\" d=\"M152.94,-71.88C139.34,-62.81 122.46,-51.55 107.77,-41.76\"/>\n<polygon fill=\"black\" stroke=\"black\" points=\"109.68,-38.82 99.41,-36.19 105.79,-44.65 109.68,-38.82\"/>\n</g>\n</g>\n</svg>\n"
          },
          "metadata": {},
          "execution_count": 11
        }
      ]
    },
    {
      "cell_type": "code",
      "source": [
        "# Establecemos los coeficientes de regresión a partir de la matriz de correlación\n",
        "model.parameters[0, 3] = corr[0, 3]\n",
        "model.parameters[1, 3] = corr[1, 3]\n",
        "model.parameters[2, 3] = corr[2, 3]\n",
        "model.parameters[0, 2] = corr[0, 2]"
      ],
      "metadata": {
        "id": "_N8APSJZ02NJ"
      },
      "execution_count": 12,
      "outputs": []
    },
    {
      "cell_type": "markdown",
      "source": [
        "En el modelo definido, `edad`, `genero`, y `fisicamente_activo` son las variables predictoras y `obesidad` es la variable de criterio o dependiente. Además, en el modelo se establecen las siguientes relaciones:\n",
        "\n",
        "- `edad` tiene un efecto directo sobre `obesidad`\n",
        "- `genero` tiene un efecto directo sobre `obesidad`\n",
        "- `fisicamente_activo` tiene un efecto directo sobre `obesidad`\n",
        "- `edad` tiene un efecto directo sobre `fisicamente_activo`\n",
        "\n",
        "Finalmente, ajustamos el modelo y evaluamos los resultados:"
      ],
      "metadata": {
        "id": "JBrARBhAzaJR"
      }
    },
    {
      "cell_type": "code",
      "source": [
        "\n",
        "# Escalamos los datos óptimamente\n",
        "scaler = OptimalScaler()\n",
        "data_scaled = scaler.fit_transform(data)\n",
        "\n",
        "# Ajustamos el modelo utilizando SEM\n",
        "fit = sem(model, data_scaled)\n",
        "\n",
        "# Evaluamos los resultados\n",
        "print(fit.summary())"
      ],
      "metadata": {
        "colab": {
          "base_uri": "https://localhost:8080/",
          "height": 272
        },
        "id": "i8tJmIWdyZJo",
        "outputId": "e7566754-5078-429a-d78d-09fa703a7c29"
      },
      "execution_count": 7,
      "outputs": [
        {
          "output_type": "execute_result",
          "data": {
            "text/plain": [
              "<graphviz.dot.Digraph at 0x7f3fcf75b7f0>"
            ],
            "image/svg+xml": "<?xml version=\"1.0\" encoding=\"UTF-8\" standalone=\"no\"?>\n<!DOCTYPE svg PUBLIC \"-//W3C//DTD SVG 1.1//EN\"\n \"http://www.w3.org/Graphics/SVG/1.1/DTD/svg11.dtd\">\n<!-- Generated by graphviz version 2.43.0 (0)\n -->\n<!-- Title: G Pages: 1 -->\n<svg width=\"214pt\" height=\"188pt\"\n viewBox=\"0.00 0.00 213.63 188.00\" xmlns=\"http://www.w3.org/2000/svg\" xmlns:xlink=\"http://www.w3.org/1999/xlink\">\n<g id=\"graph0\" class=\"graph\" transform=\"scale(1 1) rotate(0) translate(4 184)\">\n<title>G</title>\n<polygon fill=\"white\" stroke=\"transparent\" points=\"-4,4 -4,-184 209.63,-184 209.63,4 -4,4\"/>\n<!-- obesidad -->\n<g id=\"node1\" class=\"node\">\n<title>obesidad</title>\n<polygon fill=\"none\" stroke=\"black\" points=\"106.13,-36 41.13,-36 41.13,0 106.13,0 106.13,-36\"/>\n<text text-anchor=\"middle\" x=\"73.63\" y=\"-14.3\" font-family=\"Times,serif\" font-size=\"14.00\">obesidad</text>\n</g>\n<!-- edad -->\n<g id=\"node2\" class=\"node\">\n<title>edad</title>\n<polygon fill=\"none\" stroke=\"black\" points=\"56.63,-180 2.63,-180 2.63,-144 56.63,-144 56.63,-180\"/>\n<text text-anchor=\"middle\" x=\"29.63\" y=\"-158.3\" font-family=\"Times,serif\" font-size=\"14.00\">edad</text>\n</g>\n<!-- edad&#45;&gt;obesidad -->\n<g id=\"edge2\" class=\"edge\">\n<title>edad&#45;&gt;obesidad</title>\n<path fill=\"none\" stroke=\"black\" d=\"M17.76,-143.93C6.53,-125.49 -7.01,-95.61 4.63,-72 10.75,-59.58 21.33,-49.26 32.39,-41.13\"/>\n<polygon fill=\"black\" stroke=\"black\" points=\"34.59,-43.87 40.88,-35.34 30.65,-38.09 34.59,-43.87\"/>\n</g>\n<!-- fisicamente_activo -->\n<g id=\"node3\" class=\"node\">\n<title>fisicamente_activo</title>\n<polygon fill=\"none\" stroke=\"black\" points=\"133.13,-108 14.13,-108 14.13,-72 133.13,-72 133.13,-108\"/>\n<text text-anchor=\"middle\" x=\"73.63\" y=\"-86.3\" font-family=\"Times,serif\" font-size=\"14.00\">fisicamente_activo</text>\n</g>\n<!-- edad&#45;&gt;fisicamente_activo -->\n<g id=\"edge1\" class=\"edge\">\n<title>edad&#45;&gt;fisicamente_activo</title>\n<path fill=\"none\" stroke=\"black\" d=\"M40.51,-143.7C45.62,-135.56 51.82,-125.69 57.47,-116.7\"/>\n<polygon fill=\"black\" stroke=\"black\" points=\"60.52,-118.43 62.88,-108.1 54.59,-114.71 60.52,-118.43\"/>\n</g>\n<!-- fisicamente_activo&#45;&gt;obesidad -->\n<g id=\"edge4\" class=\"edge\">\n<title>fisicamente_activo&#45;&gt;obesidad</title>\n<path fill=\"none\" stroke=\"black\" d=\"M73.63,-71.7C73.63,-63.98 73.63,-54.71 73.63,-46.11\"/>\n<polygon fill=\"black\" stroke=\"black\" points=\"77.13,-46.1 73.63,-36.1 70.13,-46.1 77.13,-46.1\"/>\n</g>\n<!-- genero -->\n<g id=\"node4\" class=\"node\">\n<title>genero</title>\n<polygon fill=\"none\" stroke=\"black\" points=\"205.63,-108 151.63,-108 151.63,-72 205.63,-72 205.63,-108\"/>\n<text text-anchor=\"middle\" x=\"178.63\" y=\"-86.3\" font-family=\"Times,serif\" font-size=\"14.00\">genero</text>\n</g>\n<!-- genero&#45;&gt;obesidad -->\n<g id=\"edge3\" class=\"edge\">\n<title>genero&#45;&gt;obesidad</title>\n<path fill=\"none\" stroke=\"black\" d=\"M152.94,-71.88C139.34,-62.81 122.46,-51.55 107.77,-41.76\"/>\n<polygon fill=\"black\" stroke=\"black\" points=\"109.68,-38.82 99.41,-36.19 105.79,-44.65 109.68,-38.82\"/>\n</g>\n</g>\n</svg>\n"
          },
          "metadata": {},
          "execution_count": 7
        }
      ]
    },
    {
      "cell_type": "code",
      "source": [],
      "metadata": {
        "id": "pTOIksZ8vIRN"
      },
      "execution_count": 8,
      "outputs": []
    },
    {
      "cell_type": "markdown",
      "source": [
        "semopy.semplot(model, \"model.png\")"
      ],
      "metadata": {
        "id": "54kDz-UQ0s0k"
      }
    },
    {
      "cell_type": "code",
      "source": [
        "model.parameters"
      ],
      "metadata": {
        "colab": {
          "base_uri": "https://localhost:8080/"
        },
        "id": "w8IWIVyKlEHy",
        "outputId": "e31266b5-7a21-4d26-99d4-27a515138992"
      },
      "execution_count": 9,
      "outputs": [
        {
          "output_type": "execute_result",
          "data": {
            "text/plain": [
              "{'_b1': Model.Parameter(start=None, active=True, bound=(None, None), locations=[Model.ParameterLoc(matrix=array([[0., 0., 0.],\n",
              "        [1., 0., 0.],\n",
              "        [0., 1., 0.],\n",
              "        [0., 0., 1.]]), indices=(0, 0), symmetric=False)]),\n",
              " '_b2': Model.Parameter(start=None, active=True, bound=(None, None), locations=[Model.ParameterLoc(matrix=array([[0., 0., 0.],\n",
              "        [1., 0., 0.],\n",
              "        [0., 1., 0.],\n",
              "        [0., 0., 1.]]), indices=(0, 2), symmetric=False)]),\n",
              " '_b3': Model.Parameter(start=None, active=True, bound=(None, None), locations=[Model.ParameterLoc(matrix=array([[0., 0., 0.],\n",
              "        [1., 0., 0.],\n",
              "        [0., 1., 0.],\n",
              "        [0., 0., 1.]]), indices=(0, 1), symmetric=False)]),\n",
              " '_b4': Model.Parameter(start=None, active=True, bound=(None, None), locations=[Model.ParameterLoc(matrix=array([[0., 0., 0.],\n",
              "        [0., 0., 0.],\n",
              "        [0., 0., 0.]]), indices=(1, 0), symmetric=False)]),\n",
              " '_c1': Model.Parameter(start=None, active=False, bound=(0, None), locations=[Model.ParameterLoc(matrix=array([[0., 0., 0.],\n",
              "        [0., 0., 0.],\n",
              "        [0., 0., 0.]]), indices=(2, 2), symmetric=False)]),\n",
              " '_c2': Model.Parameter(start=None, active=False, bound=(None, None), locations=[Model.ParameterLoc(matrix=array([[0., 0., 0.],\n",
              "        [0., 0., 0.],\n",
              "        [0., 0., 0.]]), indices=(2, 0), symmetric=True)]),\n",
              " '_c3': Model.Parameter(start=None, active=False, bound=(0, None), locations=[Model.ParameterLoc(matrix=array([[0., 0., 0.],\n",
              "        [0., 0., 0.],\n",
              "        [0., 0., 0.]]), indices=(0, 0), symmetric=False)]),\n",
              " '_c4': Model.Parameter(start=None, active=True, bound=(0, None), locations=[Model.ParameterLoc(matrix=array([[0., 0., 0., 0.],\n",
              "        [0., 0., 0., 0.],\n",
              "        [0., 0., 0., 0.],\n",
              "        [0., 0., 0., 0.]]), indices=(0, 0), symmetric=False)]),\n",
              " '_c5': Model.Parameter(start=None, active=True, bound=(0, None), locations=[Model.ParameterLoc(matrix=array([[0., 0., 0.],\n",
              "        [0., 0., 0.],\n",
              "        [0., 0., 0.]]), indices=(1, 1), symmetric=False)]),\n",
              " (0, 3): 0.24480420424112187,\n",
              " (1, 3): -0.01006191526158733,\n",
              " (2, 3): -0.015788739450152762,\n",
              " (0, 2): 0.0915437001460074}"
            ]
          },
          "metadata": {},
          "execution_count": 9
        }
      ]
    },
    {
      "cell_type": "code",
      "source": [],
      "metadata": {
        "id": "H4TpR5qRlL-8"
      },
      "execution_count": 9,
      "outputs": []
    },
    {
      "cell_type": "code",
      "source": [],
      "metadata": {
        "id": "4uElqUPG0bSm"
      },
      "execution_count": 9,
      "outputs": []
    },
    {
      "cell_type": "code",
      "source": [],
      "metadata": {
        "id": "OJPR2xfzmEGw"
      },
      "execution_count": 9,
      "outputs": []
    }
  ]
}