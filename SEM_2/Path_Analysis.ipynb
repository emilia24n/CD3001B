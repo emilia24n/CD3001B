{
  "nbformat": 4,
  "nbformat_minor": 0,
  "metadata": {
    "colab": {
      "provenance": [],
      "authorship_tag": "ABX9TyMhw8//vY1SJEudUsUU0ODq",
      "include_colab_link": true
    },
    "kernelspec": {
      "name": "python3",
      "display_name": "Python 3"
    },
    "language_info": {
      "name": "python"
    }
  },
  "cells": [
    {
      "cell_type": "markdown",
      "metadata": {
        "id": "view-in-github",
        "colab_type": "text"
      },
      "source": [
        "<a href=\"https://colab.research.google.com/github/sharop/CD3001B/blob/main/SEM_2/Path_Analysis.ipynb\" target=\"_parent\"><img src=\"https://colab.research.google.com/assets/colab-badge.svg\" alt=\"Open In Colab\"/></a>"
      ]
    },
    {
      "cell_type": "code",
      "source": [
        "# graphviz is installed already, but need lib too\n",
        "!apt install libgraphviz-dev\n",
        "!pip install pygraphviz\n",
        "!pip install semopy\n"
      ],
      "metadata": {
        "colab": {
          "base_uri": "https://localhost:8080/"
        },
        "id": "Giil48kF6cj9",
        "outputId": "cd1adfa7-b360-4c9e-c4a3-3a227d89843a"
      },
      "execution_count": 1,
      "outputs": [
        {
          "output_type": "stream",
          "name": "stdout",
          "text": [
            "Reading package lists... Done\n",
            "Building dependency tree       \n",
            "Reading state information... Done\n",
            "libgraphviz-dev is already the newest version (2.42.2-3build2).\n",
            "0 upgraded, 0 newly installed, 0 to remove and 19 not upgraded.\n",
            "Looking in indexes: https://pypi.org/simple, https://us-python.pkg.dev/colab-wheels/public/simple/\n",
            "Requirement already satisfied: pygraphviz in /usr/local/lib/python3.8/dist-packages (1.10)\n",
            "Looking in indexes: https://pypi.org/simple, https://us-python.pkg.dev/colab-wheels/public/simple/\n",
            "Requirement already satisfied: semopy in /usr/local/lib/python3.8/dist-packages (2.3.9)\n",
            "Requirement already satisfied: scipy in /usr/local/lib/python3.8/dist-packages (from semopy) (1.7.3)\n",
            "Requirement already satisfied: sklearn in /usr/local/lib/python3.8/dist-packages (from semopy) (0.0.post1)\n",
            "Requirement already satisfied: pandas in /usr/local/lib/python3.8/dist-packages (from semopy) (1.3.5)\n",
            "Requirement already satisfied: numpy in /usr/local/lib/python3.8/dist-packages (from semopy) (1.22.4)\n",
            "Requirement already satisfied: statsmodels in /usr/local/lib/python3.8/dist-packages (from semopy) (0.12.2)\n",
            "Requirement already satisfied: sympy in /usr/local/lib/python3.8/dist-packages (from semopy) (1.7.1)\n",
            "Requirement already satisfied: python-dateutil>=2.7.3 in /usr/local/lib/python3.8/dist-packages (from pandas->semopy) (2.8.2)\n",
            "Requirement already satisfied: pytz>=2017.3 in /usr/local/lib/python3.8/dist-packages (from pandas->semopy) (2022.7.1)\n",
            "Requirement already satisfied: patsy>=0.5 in /usr/local/lib/python3.8/dist-packages (from statsmodels->semopy) (0.5.3)\n",
            "Requirement already satisfied: mpmath>=0.19 in /usr/local/lib/python3.8/dist-packages (from sympy->semopy) (1.2.1)\n",
            "Requirement already satisfied: six in /usr/local/lib/python3.8/dist-packages (from patsy>=0.5->statsmodels->semopy) (1.15.0)\n"
          ]
        }
      ]
    },
    {
      "cell_type": "markdown",
      "source": [
        "## Ejemplo de grafica"
      ],
      "metadata": {
        "id": "sp-XvkcNkuB0"
      }
    },
    {
      "cell_type": "code",
      "execution_count": 2,
      "metadata": {
        "id": "0zWWrpRu4xKs"
      },
      "outputs": [],
      "source": [
        "import pygraphviz as pgv\n",
        "\n",
        "# Crear el grafo\n",
        "G = pgv.AGraph(strict=False, directed=True)\n",
        "\n",
        "# Agregar nodos\n",
        "G.add_node(\"E\", label=\"Educación\")\n",
        "G.add_node(\"I\", label=\"Ingreso\")\n",
        "\n",
        "# Agregar arcos\n",
        "G.add_edge(\"E\", \"I\")\n",
        "\n",
        "# Mostrar el grafo\n",
        "G.draw(\"senderos.png\", prog=\"dot\")\n"
      ]
    },
    {
      "cell_type": "markdown",
      "source": [
        "# Ejemplo 2"
      ],
      "metadata": {
        "id": "_Uy8aC5Ok7qf"
      }
    },
    {
      "cell_type": "markdown",
      "source": [
        "Para este ejemplo, utilizaremos un conjunto de datos de la Encuesta Nacional de Salud y Nutrición de los Estados Unidos (NHANES) para investigar la relación entre la actividad física y la obesidad."
      ],
      "metadata": {
        "id": "ooeS1NqOk4AX"
      }
    },
    {
      "cell_type": "code",
      "source": [
        "import pandas as pd\n",
        "import numpy as np\n",
        "import semopy\n",
        "from semopy import Model, semplot\n",
        "from sklearn.preprocessing import MinMaxScaler\n",
        "from scipy import stats\n",
        "\n",
        "\n"
      ],
      "metadata": {
        "id": "yMpJo7gN6Swu"
      },
      "execution_count": 3,
      "outputs": []
    },
    {
      "cell_type": "code",
      "source": [
        "data = pd.read_csv(\"https://raw.githubusercontent.com/GTPB/PSLS20/master/data/NHANES.csv\")\n"
      ],
      "metadata": {
        "id": "xiAX-Vi6lBXG"
      },
      "execution_count": 4,
      "outputs": []
    },
    {
      "cell_type": "code",
      "source": [
        "data['Gender']= (data['Gender']==\"male\").replace({True: 1, False: 0}) \n",
        "data['PhysActive'] = (data['PhysActive'] == \"Yes\").replace({True: 1, False: 0}) \n",
        "data['Obesity']=((data.Weight/((data.Height/100)**2)) >30).replace({True: 1, False: 0})"
      ],
      "metadata": {
        "id": "yZhJDAvi2uvN"
      },
      "execution_count": 5,
      "outputs": []
    },
    {
      "cell_type": "code",
      "source": [
        "data = data[[\"Obesity\",\"Age\", \"Gender\", \"PhysActive\", \"Height\", \"Weight\"]]\n"
      ],
      "metadata": {
        "id": "NPiHCioc3GJO"
      },
      "execution_count": 6,
      "outputs": []
    },
    {
      "cell_type": "code",
      "source": [],
      "metadata": {
        "id": "9zW8kRRu4LEi"
      },
      "execution_count": 6,
      "outputs": []
    },
    {
      "cell_type": "markdown",
      "source": [
        "A continuación, definimos las variables que vamos a utilizar en nuestro modelo y creamos una matriz de correlación para evaluar la relación entre ellas:"
      ],
      "metadata": {
        "id": "PGIIkJp7lGuU"
      }
    },
    {
      "cell_type": "code",
      "source": [
        "\n",
        "# Definimos las variables\n",
        "x1 = data['Age']\n",
        "x2 = data['Gender'] ##(data['Gender']==\"male\").replace({True: 1, False: 0}) \n",
        "x3 = data['PhysActive'] #(data['PhysActive'] == \"Yes\").replace({True: 1, False: 0}) \n",
        "y = data['Obesity']#((data.Weight/((data.Height/100)**2)) >30).replace({True: 1, False: 0})\n",
        "# Creamos la matriz de correlación\n",
        "corr = np.corrcoef([x1, x2, x3, y])\n"
      ],
      "metadata": {
        "id": "HUAnflCElGNC"
      },
      "execution_count": 7,
      "outputs": []
    },
    {
      "cell_type": "markdown",
      "source": [
        "Después, definimos el modelo de senderos utilizando la notación estándar y los coeficientes de regresión a partir de la matriz de correlación:"
      ],
      "metadata": {
        "id": "6jHk7XUtu267"
      }
    },
    {
      "cell_type": "code",
      "source": [
        "# Definimos el modelo utilizando la notación estándar\n",
        "model = Model('''\n",
        "    Obesity ~ Age + Gender + PhysActive\n",
        "    PhysActive ~ Age\n",
        "''')\n"
      ],
      "metadata": {
        "id": "dg5UL-min7a6"
      },
      "execution_count": 14,
      "outputs": []
    },
    {
      "cell_type": "code",
      "source": [
        "#model.load_cov(corr)\n",
        "##Age -> Obesity\n",
        "#    Gender -> Obesity\n",
        "#    PhysActive -> Obesity\n",
        "#    Age -> PhysActive\n",
        "#\n",
        "\n"
      ],
      "metadata": {
        "id": "t5Irr74qpWQx"
      },
      "execution_count": null,
      "outputs": []
    },
    {
      "cell_type": "code",
      "source": [
        "semopy.semplot(model, \"model.png\")"
      ],
      "metadata": {
        "colab": {
          "base_uri": "https://localhost:8080/",
          "height": 341
        },
        "id": "oDRN6yHq01Z8",
        "outputId": "40a94a5f-c9f1-457e-b2db-3de46950eb1c"
      },
      "execution_count": 18,
      "outputs": [
        {
          "output_type": "execute_result",
          "data": {
            "text/plain": [
              "<graphviz.dot.Digraph at 0x7f6f97c5dbe0>"
            ],
            "image/svg+xml": "<?xml version=\"1.0\" encoding=\"UTF-8\" standalone=\"no\"?>\n<!DOCTYPE svg PUBLIC \"-//W3C//DTD SVG 1.1//EN\"\n \"http://www.w3.org/Graphics/SVG/1.1/DTD/svg11.dtd\">\n<!-- Generated by graphviz version 2.43.0 (0)\n -->\n<!-- Title: G Pages: 1 -->\n<svg width=\"252pt\" height=\"240pt\"\n viewBox=\"0.00 0.00 252.00 240.00\" xmlns=\"http://www.w3.org/2000/svg\" xmlns:xlink=\"http://www.w3.org/1999/xlink\">\n<g id=\"graph0\" class=\"graph\" transform=\"scale(1 1) rotate(0) translate(4 236)\">\n<title>G</title>\n<polygon fill=\"white\" stroke=\"transparent\" points=\"-4,4 -4,-236 248,-236 248,4 -4,4\"/>\n<!-- Obesity -->\n<g id=\"node1\" class=\"node\">\n<title>Obesity</title>\n<polygon fill=\"none\" stroke=\"black\" points=\"150.5,-36 91.5,-36 91.5,0 150.5,0 150.5,-36\"/>\n<text text-anchor=\"middle\" x=\"121\" y=\"-14.3\" font-family=\"Times,serif\" font-size=\"14.00\">Obesity</text>\n</g>\n<!-- Age -->\n<g id=\"node2\" class=\"node\">\n<title>Age</title>\n<polygon fill=\"none\" stroke=\"black\" points=\"54,-232 0,-232 0,-196 54,-196 54,-232\"/>\n<text text-anchor=\"middle\" x=\"27\" y=\"-210.3\" font-family=\"Times,serif\" font-size=\"14.00\">Age</text>\n</g>\n<!-- Age&#45;&gt;Obesity -->\n<g id=\"edge2\" class=\"edge\">\n<title>Age&#45;&gt;Obesity</title>\n<path fill=\"none\" stroke=\"black\" d=\"M21.11,-195.61C14.25,-172.15 5.66,-129.67 21,-98 33.77,-71.63 60.09,-51.41 82.52,-38.02\"/>\n<polygon fill=\"black\" stroke=\"black\" points=\"84.26,-41.06 91.21,-33.05 80.79,-34.98 84.26,-41.06\"/>\n<text text-anchor=\"middle\" x=\"47\" y=\"-119.4\" font-family=\"Times,serif\" font-size=\"12.00\">0.005</text>\n<text text-anchor=\"middle\" x=\"47\" y=\"-106.4\" font-family=\"Times,serif\" font-size=\"12.00\">p&#45;val: 0.00</text>\n</g>\n<!-- PhysActive -->\n<g id=\"node4\" class=\"node\">\n<title>PhysActive</title>\n<polygon fill=\"none\" stroke=\"black\" points=\"160.5,-134 81.5,-134 81.5,-98 160.5,-98 160.5,-134\"/>\n<text text-anchor=\"middle\" x=\"121\" y=\"-112.3\" font-family=\"Times,serif\" font-size=\"14.00\">PhysActive</text>\n</g>\n<!-- Age&#45;&gt;PhysActive -->\n<g id=\"edge1\" class=\"edge\">\n<title>Age&#45;&gt;PhysActive</title>\n<path fill=\"none\" stroke=\"black\" d=\"M43.81,-195.84C58.64,-180.68 80.44,-158.42 97.09,-141.41\"/>\n<polygon fill=\"black\" stroke=\"black\" points=\"99.84,-143.61 104.34,-134.01 94.84,-138.71 99.84,-143.61\"/>\n<text text-anchor=\"middle\" x=\"112\" y=\"-168.4\" font-family=\"Times,serif\" font-size=\"12.00\">0.002</text>\n<text text-anchor=\"middle\" x=\"112\" y=\"-155.4\" font-family=\"Times,serif\" font-size=\"12.00\">p&#45;val: 0.00</text>\n</g>\n<!-- Gender -->\n<g id=\"node3\" class=\"node\">\n<title>Gender</title>\n<polygon fill=\"none\" stroke=\"black\" points=\"234,-134 178,-134 178,-98 234,-98 234,-134\"/>\n<text text-anchor=\"middle\" x=\"206\" y=\"-112.3\" font-family=\"Times,serif\" font-size=\"14.00\">Gender</text>\n</g>\n<!-- Gender&#45;&gt;Obesity -->\n<g id=\"edge3\" class=\"edge\">\n<title>Gender&#45;&gt;Obesity</title>\n<path fill=\"none\" stroke=\"black\" d=\"M200.85,-97.97C196.22,-84.82 188.39,-66.78 177,-54 171.97,-48.35 165.8,-43.29 159.43,-38.89\"/>\n<polygon fill=\"black\" stroke=\"black\" points=\"161.01,-35.74 150.7,-33.3 157.24,-41.64 161.01,-35.74\"/>\n<text text-anchor=\"middle\" x=\"218\" y=\"-70.4\" font-family=\"Times,serif\" font-size=\"12.00\">0.001</text>\n<text text-anchor=\"middle\" x=\"218\" y=\"-57.4\" font-family=\"Times,serif\" font-size=\"12.00\">p&#45;val: 0.88</text>\n</g>\n<!-- PhysActive&#45;&gt;Obesity -->\n<g id=\"edge4\" class=\"edge\">\n<title>PhysActive&#45;&gt;Obesity</title>\n<path fill=\"none\" stroke=\"black\" d=\"M121,-97.84C121,-83.5 121,-62.81 121,-46.22\"/>\n<polygon fill=\"black\" stroke=\"black\" points=\"124.5,-46.01 121,-36.01 117.5,-46.01 124.5,-46.01\"/>\n<text text-anchor=\"middle\" x=\"147\" y=\"-70.4\" font-family=\"Times,serif\" font-size=\"12.00\">&#45;0.034</text>\n<text text-anchor=\"middle\" x=\"147\" y=\"-57.4\" font-family=\"Times,serif\" font-size=\"12.00\">p&#45;val: 0.00</text>\n</g>\n</g>\n</svg>\n"
          },
          "metadata": {},
          "execution_count": 18
        }
      ]
    },
    {
      "cell_type": "markdown",
      "source": [
        "En el modelo definido, `edad`, `genero`, y `fisicamente_activo` son las variables predictoras y `obesidad` es la variable de criterio o dependiente. Además, en el modelo se establecen las siguientes relaciones:\n",
        "\n",
        "- `edad` tiene un efecto directo sobre `obesidad`\n",
        "- `genero` tiene un efecto directo sobre `obesidad`\n",
        "- `fisicamente_activo` tiene un efecto directo sobre `obesidad`\n",
        "- `edad` tiene un efecto directo sobre `fisicamente_activo`\n",
        "\n",
        "Finalmente, ajustamos el modelo y evaluamos los resultados:"
      ],
      "metadata": {
        "id": "JBrARBhAzaJR"
      }
    },
    {
      "cell_type": "code",
      "source": [
        "# Ajustamos el modelo utilizando SEM\n",
        "model.fit(data)\n"
      ],
      "metadata": {
        "colab": {
          "base_uri": "https://localhost:8080/"
        },
        "id": "i8tJmIWdyZJo",
        "outputId": "7ab6f066-c253-4673-c4eb-87796be701a3"
      },
      "execution_count": 11,
      "outputs": [
        {
          "output_type": "stream",
          "name": "stdout",
          "text": [
            "[[1.         0.425      1.         0.         0.69434932 0.37121545]\n",
            " [1.         0.425      1.         0.         0.69434932 0.37121545]\n",
            " [1.         0.425      1.         0.         0.69434932 0.37121545]\n",
            " ...\n",
            " [1.         0.3375     1.         0.         0.78938356 0.41202282]\n",
            " [0.         0.75       1.         0.         0.72945205 0.33172444]\n",
            " [0.         0.75       1.         0.         0.72945205 0.33172444]]\n"
          ]
        }
      ]
    },
    {
      "cell_type": "code",
      "source": [
        "\n",
        "# Evaluamos los resultados\n",
        "print(model.inspect(mode='list', what=\"names\", std_est=True))"
      ],
      "metadata": {
        "colab": {
          "base_uri": "https://localhost:8080/"
        },
        "id": "7s23Qw3t8ZP7",
        "outputId": "e5db7f3a-6048-406a-e5a8-fefc52c46bfc"
      },
      "execution_count": 19,
      "outputs": [
        {
          "output_type": "stream",
          "name": "stdout",
          "text": [
            "         lval  op        rval  Estimate  Est. Std  Std. Err    z-value  \\\n",
            "0  PhysActive   ~         Age  0.002039  0.091557  0.000222   9.194355   \n",
            "1     Obesity   ~         Age  0.004956  0.248304  0.000194  25.500746   \n",
            "2     Obesity   ~      Gender  0.001319  0.001476  0.008669   0.152196   \n",
            "3     Obesity   ~  PhysActive -0.034447 -0.038437  0.008719  -3.950684   \n",
            "4  PhysActive  ~~  PhysActive  0.246718  0.991617  0.003489  70.710678   \n",
            "5     Obesity  ~~     Obesity  0.187568  0.938643  0.002653  70.710678   \n",
            "\n",
            "    p-value  \n",
            "0  0.000000  \n",
            "1  0.000000  \n",
            "2  0.879032  \n",
            "3  0.000078  \n",
            "4  0.000000  \n",
            "5  0.000000  \n"
          ]
        }
      ]
    },
    {
      "cell_type": "code",
      "source": [
        "semopy.calc_stats(model)"
      ],
      "metadata": {
        "colab": {
          "base_uri": "https://localhost:8080/",
          "height": 142
        },
        "id": "pTOIksZ8vIRN",
        "outputId": "e4aba161-0ed7-49eb-a1bd-3889a2bc5f70"
      },
      "execution_count": 21,
      "outputs": [
        {
          "output_type": "execute_result",
          "data": {
            "text/plain": [
              "       DoF  DoF Baseline       chi2  chi2 p-value  chi2 Baseline      CFI  \\\n",
              "Value    4             8  17.255766      0.001724     751.443045  0.98217   \n",
              "\n",
              "            GFI      AGFI       NFI      TLI     RMSEA        AIC        BIC  \\\n",
              "Value  0.977036  0.954073  0.977036  0.96434  0.018205  11.996549  55.258591   \n",
              "\n",
              "         LogLik  \n",
              "Value  0.001726  "
            ],
            "text/html": [
              "\n",
              "  <div id=\"df-50da7e47-4e34-4efb-b7fc-9b319e4a5a1a\">\n",
              "    <div class=\"colab-df-container\">\n",
              "      <div>\n",
              "<style scoped>\n",
              "    .dataframe tbody tr th:only-of-type {\n",
              "        vertical-align: middle;\n",
              "    }\n",
              "\n",
              "    .dataframe tbody tr th {\n",
              "        vertical-align: top;\n",
              "    }\n",
              "\n",
              "    .dataframe thead th {\n",
              "        text-align: right;\n",
              "    }\n",
              "</style>\n",
              "<table border=\"1\" class=\"dataframe\">\n",
              "  <thead>\n",
              "    <tr style=\"text-align: right;\">\n",
              "      <th></th>\n",
              "      <th>DoF</th>\n",
              "      <th>DoF Baseline</th>\n",
              "      <th>chi2</th>\n",
              "      <th>chi2 p-value</th>\n",
              "      <th>chi2 Baseline</th>\n",
              "      <th>CFI</th>\n",
              "      <th>GFI</th>\n",
              "      <th>AGFI</th>\n",
              "      <th>NFI</th>\n",
              "      <th>TLI</th>\n",
              "      <th>RMSEA</th>\n",
              "      <th>AIC</th>\n",
              "      <th>BIC</th>\n",
              "      <th>LogLik</th>\n",
              "    </tr>\n",
              "  </thead>\n",
              "  <tbody>\n",
              "    <tr>\n",
              "      <th>Value</th>\n",
              "      <td>4</td>\n",
              "      <td>8</td>\n",
              "      <td>17.255766</td>\n",
              "      <td>0.001724</td>\n",
              "      <td>751.443045</td>\n",
              "      <td>0.98217</td>\n",
              "      <td>0.977036</td>\n",
              "      <td>0.954073</td>\n",
              "      <td>0.977036</td>\n",
              "      <td>0.96434</td>\n",
              "      <td>0.018205</td>\n",
              "      <td>11.996549</td>\n",
              "      <td>55.258591</td>\n",
              "      <td>0.001726</td>\n",
              "    </tr>\n",
              "  </tbody>\n",
              "</table>\n",
              "</div>\n",
              "      <button class=\"colab-df-convert\" onclick=\"convertToInteractive('df-50da7e47-4e34-4efb-b7fc-9b319e4a5a1a')\"\n",
              "              title=\"Convert this dataframe to an interactive table.\"\n",
              "              style=\"display:none;\">\n",
              "        \n",
              "  <svg xmlns=\"http://www.w3.org/2000/svg\" height=\"24px\"viewBox=\"0 0 24 24\"\n",
              "       width=\"24px\">\n",
              "    <path d=\"M0 0h24v24H0V0z\" fill=\"none\"/>\n",
              "    <path d=\"M18.56 5.44l.94 2.06.94-2.06 2.06-.94-2.06-.94-.94-2.06-.94 2.06-2.06.94zm-11 1L8.5 8.5l.94-2.06 2.06-.94-2.06-.94L8.5 2.5l-.94 2.06-2.06.94zm10 10l.94 2.06.94-2.06 2.06-.94-2.06-.94-.94-2.06-.94 2.06-2.06.94z\"/><path d=\"M17.41 7.96l-1.37-1.37c-.4-.4-.92-.59-1.43-.59-.52 0-1.04.2-1.43.59L10.3 9.45l-7.72 7.72c-.78.78-.78 2.05 0 2.83L4 21.41c.39.39.9.59 1.41.59.51 0 1.02-.2 1.41-.59l7.78-7.78 2.81-2.81c.8-.78.8-2.07 0-2.86zM5.41 20L4 18.59l7.72-7.72 1.47 1.35L5.41 20z\"/>\n",
              "  </svg>\n",
              "      </button>\n",
              "      \n",
              "  <style>\n",
              "    .colab-df-container {\n",
              "      display:flex;\n",
              "      flex-wrap:wrap;\n",
              "      gap: 12px;\n",
              "    }\n",
              "\n",
              "    .colab-df-convert {\n",
              "      background-color: #E8F0FE;\n",
              "      border: none;\n",
              "      border-radius: 50%;\n",
              "      cursor: pointer;\n",
              "      display: none;\n",
              "      fill: #1967D2;\n",
              "      height: 32px;\n",
              "      padding: 0 0 0 0;\n",
              "      width: 32px;\n",
              "    }\n",
              "\n",
              "    .colab-df-convert:hover {\n",
              "      background-color: #E2EBFA;\n",
              "      box-shadow: 0px 1px 2px rgba(60, 64, 67, 0.3), 0px 1px 3px 1px rgba(60, 64, 67, 0.15);\n",
              "      fill: #174EA6;\n",
              "    }\n",
              "\n",
              "    [theme=dark] .colab-df-convert {\n",
              "      background-color: #3B4455;\n",
              "      fill: #D2E3FC;\n",
              "    }\n",
              "\n",
              "    [theme=dark] .colab-df-convert:hover {\n",
              "      background-color: #434B5C;\n",
              "      box-shadow: 0px 1px 3px 1px rgba(0, 0, 0, 0.15);\n",
              "      filter: drop-shadow(0px 1px 2px rgba(0, 0, 0, 0.3));\n",
              "      fill: #FFFFFF;\n",
              "    }\n",
              "  </style>\n",
              "\n",
              "      <script>\n",
              "        const buttonEl =\n",
              "          document.querySelector('#df-50da7e47-4e34-4efb-b7fc-9b319e4a5a1a button.colab-df-convert');\n",
              "        buttonEl.style.display =\n",
              "          google.colab.kernel.accessAllowed ? 'block' : 'none';\n",
              "\n",
              "        async function convertToInteractive(key) {\n",
              "          const element = document.querySelector('#df-50da7e47-4e34-4efb-b7fc-9b319e4a5a1a');\n",
              "          const dataTable =\n",
              "            await google.colab.kernel.invokeFunction('convertToInteractive',\n",
              "                                                     [key], {});\n",
              "          if (!dataTable) return;\n",
              "\n",
              "          const docLinkHtml = 'Like what you see? Visit the ' +\n",
              "            '<a target=\"_blank\" href=https://colab.research.google.com/notebooks/data_table.ipynb>data table notebook</a>'\n",
              "            + ' to learn more about interactive tables.';\n",
              "          element.innerHTML = '';\n",
              "          dataTable['output_type'] = 'display_data';\n",
              "          await google.colab.output.renderOutput(dataTable, element);\n",
              "          const docLink = document.createElement('div');\n",
              "          docLink.innerHTML = docLinkHtml;\n",
              "          element.appendChild(docLink);\n",
              "        }\n",
              "      </script>\n",
              "    </div>\n",
              "  </div>\n",
              "  "
            ]
          },
          "metadata": {},
          "execution_count": 21
        }
      ]
    },
    {
      "cell_type": "code",
      "source": [
        "semopy.semplot(model, \"model.png\")"
      ],
      "metadata": {
        "colab": {
          "base_uri": "https://localhost:8080/",
          "height": 341
        },
        "id": "gWQ4Mti8ubff",
        "outputId": "f4e9e075-b52b-4d07-f351-d4a074f60200"
      },
      "execution_count": 22,
      "outputs": [
        {
          "output_type": "execute_result",
          "data": {
            "text/plain": [
              "<graphviz.dot.Digraph at 0x7f6f9a9868e0>"
            ],
            "image/svg+xml": "<?xml version=\"1.0\" encoding=\"UTF-8\" standalone=\"no\"?>\n<!DOCTYPE svg PUBLIC \"-//W3C//DTD SVG 1.1//EN\"\n \"http://www.w3.org/Graphics/SVG/1.1/DTD/svg11.dtd\">\n<!-- Generated by graphviz version 2.43.0 (0)\n -->\n<!-- Title: G Pages: 1 -->\n<svg width=\"252pt\" height=\"240pt\"\n viewBox=\"0.00 0.00 252.00 240.00\" xmlns=\"http://www.w3.org/2000/svg\" xmlns:xlink=\"http://www.w3.org/1999/xlink\">\n<g id=\"graph0\" class=\"graph\" transform=\"scale(1 1) rotate(0) translate(4 236)\">\n<title>G</title>\n<polygon fill=\"white\" stroke=\"transparent\" points=\"-4,4 -4,-236 248,-236 248,4 -4,4\"/>\n<!-- Obesity -->\n<g id=\"node1\" class=\"node\">\n<title>Obesity</title>\n<polygon fill=\"none\" stroke=\"black\" points=\"150.5,-36 91.5,-36 91.5,0 150.5,0 150.5,-36\"/>\n<text text-anchor=\"middle\" x=\"121\" y=\"-14.3\" font-family=\"Times,serif\" font-size=\"14.00\">Obesity</text>\n</g>\n<!-- Age -->\n<g id=\"node2\" class=\"node\">\n<title>Age</title>\n<polygon fill=\"none\" stroke=\"black\" points=\"54,-232 0,-232 0,-196 54,-196 54,-232\"/>\n<text text-anchor=\"middle\" x=\"27\" y=\"-210.3\" font-family=\"Times,serif\" font-size=\"14.00\">Age</text>\n</g>\n<!-- Age&#45;&gt;Obesity -->\n<g id=\"edge2\" class=\"edge\">\n<title>Age&#45;&gt;Obesity</title>\n<path fill=\"none\" stroke=\"black\" d=\"M21.11,-195.61C14.25,-172.15 5.66,-129.67 21,-98 33.77,-71.63 60.09,-51.41 82.52,-38.02\"/>\n<polygon fill=\"black\" stroke=\"black\" points=\"84.26,-41.06 91.21,-33.05 80.79,-34.98 84.26,-41.06\"/>\n<text text-anchor=\"middle\" x=\"47\" y=\"-119.4\" font-family=\"Times,serif\" font-size=\"12.00\">0.005</text>\n<text text-anchor=\"middle\" x=\"47\" y=\"-106.4\" font-family=\"Times,serif\" font-size=\"12.00\">p&#45;val: 0.00</text>\n</g>\n<!-- PhysActive -->\n<g id=\"node4\" class=\"node\">\n<title>PhysActive</title>\n<polygon fill=\"none\" stroke=\"black\" points=\"160.5,-134 81.5,-134 81.5,-98 160.5,-98 160.5,-134\"/>\n<text text-anchor=\"middle\" x=\"121\" y=\"-112.3\" font-family=\"Times,serif\" font-size=\"14.00\">PhysActive</text>\n</g>\n<!-- Age&#45;&gt;PhysActive -->\n<g id=\"edge1\" class=\"edge\">\n<title>Age&#45;&gt;PhysActive</title>\n<path fill=\"none\" stroke=\"black\" d=\"M43.81,-195.84C58.64,-180.68 80.44,-158.42 97.09,-141.41\"/>\n<polygon fill=\"black\" stroke=\"black\" points=\"99.84,-143.61 104.34,-134.01 94.84,-138.71 99.84,-143.61\"/>\n<text text-anchor=\"middle\" x=\"112\" y=\"-168.4\" font-family=\"Times,serif\" font-size=\"12.00\">0.002</text>\n<text text-anchor=\"middle\" x=\"112\" y=\"-155.4\" font-family=\"Times,serif\" font-size=\"12.00\">p&#45;val: 0.00</text>\n</g>\n<!-- Gender -->\n<g id=\"node3\" class=\"node\">\n<title>Gender</title>\n<polygon fill=\"none\" stroke=\"black\" points=\"234,-134 178,-134 178,-98 234,-98 234,-134\"/>\n<text text-anchor=\"middle\" x=\"206\" y=\"-112.3\" font-family=\"Times,serif\" font-size=\"14.00\">Gender</text>\n</g>\n<!-- Gender&#45;&gt;Obesity -->\n<g id=\"edge3\" class=\"edge\">\n<title>Gender&#45;&gt;Obesity</title>\n<path fill=\"none\" stroke=\"black\" d=\"M200.85,-97.97C196.22,-84.82 188.39,-66.78 177,-54 171.97,-48.35 165.8,-43.29 159.43,-38.89\"/>\n<polygon fill=\"black\" stroke=\"black\" points=\"161.01,-35.74 150.7,-33.3 157.24,-41.64 161.01,-35.74\"/>\n<text text-anchor=\"middle\" x=\"218\" y=\"-70.4\" font-family=\"Times,serif\" font-size=\"12.00\">0.001</text>\n<text text-anchor=\"middle\" x=\"218\" y=\"-57.4\" font-family=\"Times,serif\" font-size=\"12.00\">p&#45;val: 0.88</text>\n</g>\n<!-- PhysActive&#45;&gt;Obesity -->\n<g id=\"edge4\" class=\"edge\">\n<title>PhysActive&#45;&gt;Obesity</title>\n<path fill=\"none\" stroke=\"black\" d=\"M121,-97.84C121,-83.5 121,-62.81 121,-46.22\"/>\n<polygon fill=\"black\" stroke=\"black\" points=\"124.5,-46.01 121,-36.01 117.5,-46.01 124.5,-46.01\"/>\n<text text-anchor=\"middle\" x=\"147\" y=\"-70.4\" font-family=\"Times,serif\" font-size=\"12.00\">&#45;0.034</text>\n<text text-anchor=\"middle\" x=\"147\" y=\"-57.4\" font-family=\"Times,serif\" font-size=\"12.00\">p&#45;val: 0.00</text>\n</g>\n</g>\n</svg>\n"
          },
          "metadata": {},
          "execution_count": 22
        }
      ]
    },
    {
      "cell_type": "markdown",
      "source": [],
      "metadata": {
        "id": "54kDz-UQ0s0k"
      }
    },
    {
      "cell_type": "markdown",
      "source": [
        " Finalmente, evaluamos los resultados mediante el método `summary` que nos muestra una tabla que contiene los coeficientes de regresión, los errores estándar, los valores t y los valores p correspondientes para cada variable.\n",
        "\n",
        "Es importante mencionar que el modelo de senderos puede ser modificado y ajustado según sea necesario, y que `semopy` ofrece varias funciones y métodos para hacerlo."
      ],
      "metadata": {
        "id": "Wm5XjQe9omsz"
      }
    },
    {
      "cell_type": "code",
      "source": [],
      "metadata": {
        "id": "H4TpR5qRlL-8"
      },
      "execution_count": null,
      "outputs": []
    },
    {
      "cell_type": "code",
      "source": [],
      "metadata": {
        "id": "4uElqUPG0bSm"
      },
      "execution_count": null,
      "outputs": []
    },
    {
      "cell_type": "code",
      "source": [],
      "metadata": {
        "id": "OJPR2xfzmEGw"
      },
      "execution_count": null,
      "outputs": []
    }
  ]
}