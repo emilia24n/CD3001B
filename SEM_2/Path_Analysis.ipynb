{
  "nbformat": 4,
  "nbformat_minor": 0,
  "metadata": {
    "colab": {
      "provenance": [],
      "authorship_tag": "ABX9TyM+1I3HxDbxYO2Ytc82dbBG",
      "include_colab_link": true
    },
    "kernelspec": {
      "name": "python3",
      "display_name": "Python 3"
    },
    "language_info": {
      "name": "python"
    }
  },
  "cells": [
    {
      "cell_type": "markdown",
      "metadata": {
        "id": "view-in-github",
        "colab_type": "text"
      },
      "source": [
        "<a href=\"https://colab.research.google.com/github/sharop/CD3001B/blob/main/SEM_2/Path_Analysis.ipynb\" target=\"_parent\"><img src=\"https://colab.research.google.com/assets/colab-badge.svg\" alt=\"Open In Colab\"/></a>"
      ]
    },
    {
      "cell_type": "code",
      "source": [
        "# graphviz is installed already, but need lib too\n",
        "!apt install libgraphviz-dev\n",
        "!pip install pygraphviz\n",
        "!pip install semopy\n"
      ],
      "metadata": {
        "colab": {
          "base_uri": "https://localhost:8080/"
        },
        "id": "Giil48kF6cj9",
        "outputId": "17007bde-4145-40b6-f5b3-965028ce0b29"
      },
      "execution_count": 2,
      "outputs": [
        {
          "output_type": "stream",
          "name": "stdout",
          "text": [
            "Reading package lists... Done\n",
            "Building dependency tree       \n",
            "Reading state information... Done\n",
            "The following additional packages will be installed:\n",
            "  libgail-common libgail18 libgtk2.0-0 libgtk2.0-bin libgtk2.0-common\n",
            "  libgvc6-plugins-gtk libxdot4\n",
            "Suggested packages:\n",
            "  gvfs\n",
            "The following NEW packages will be installed:\n",
            "  libgail-common libgail18 libgraphviz-dev libgtk2.0-0 libgtk2.0-bin\n",
            "  libgtk2.0-common libgvc6-plugins-gtk libxdot4\n",
            "0 upgraded, 8 newly installed, 0 to remove and 19 not upgraded.\n",
            "Need to get 2,148 kB of archives.\n",
            "After this operation, 7,427 kB of additional disk space will be used.\n",
            "Get:1 http://archive.ubuntu.com/ubuntu focal/main amd64 libgtk2.0-common all 2.24.32-4ubuntu4 [126 kB]\n",
            "Get:2 http://archive.ubuntu.com/ubuntu focal/main amd64 libgtk2.0-0 amd64 2.24.32-4ubuntu4 [1,791 kB]\n",
            "Get:3 http://archive.ubuntu.com/ubuntu focal/main amd64 libgail18 amd64 2.24.32-4ubuntu4 [14.7 kB]\n",
            "Get:4 http://archive.ubuntu.com/ubuntu focal/main amd64 libgail-common amd64 2.24.32-4ubuntu4 [116 kB]\n",
            "Get:5 http://archive.ubuntu.com/ubuntu focal/universe amd64 libxdot4 amd64 2.42.2-3build2 [15.4 kB]\n",
            "Get:6 http://archive.ubuntu.com/ubuntu focal/universe amd64 libgvc6-plugins-gtk amd64 2.42.2-3build2 [20.6 kB]\n",
            "Get:7 http://archive.ubuntu.com/ubuntu focal/universe amd64 libgraphviz-dev amd64 2.42.2-3build2 [57.2 kB]\n",
            "Get:8 http://archive.ubuntu.com/ubuntu focal/main amd64 libgtk2.0-bin amd64 2.24.32-4ubuntu4 [7,728 B]\n",
            "Fetched 2,148 kB in 1s (2,507 kB/s)\n",
            "Selecting previously unselected package libgtk2.0-common.\n",
            "(Reading database ... 128208 files and directories currently installed.)\n",
            "Preparing to unpack .../0-libgtk2.0-common_2.24.32-4ubuntu4_all.deb ...\n",
            "Unpacking libgtk2.0-common (2.24.32-4ubuntu4) ...\n",
            "Selecting previously unselected package libgtk2.0-0:amd64.\n",
            "Preparing to unpack .../1-libgtk2.0-0_2.24.32-4ubuntu4_amd64.deb ...\n",
            "Unpacking libgtk2.0-0:amd64 (2.24.32-4ubuntu4) ...\n",
            "Selecting previously unselected package libgail18:amd64.\n",
            "Preparing to unpack .../2-libgail18_2.24.32-4ubuntu4_amd64.deb ...\n",
            "Unpacking libgail18:amd64 (2.24.32-4ubuntu4) ...\n",
            "Selecting previously unselected package libgail-common:amd64.\n",
            "Preparing to unpack .../3-libgail-common_2.24.32-4ubuntu4_amd64.deb ...\n",
            "Unpacking libgail-common:amd64 (2.24.32-4ubuntu4) ...\n",
            "Selecting previously unselected package libxdot4:amd64.\n",
            "Preparing to unpack .../4-libxdot4_2.42.2-3build2_amd64.deb ...\n",
            "Unpacking libxdot4:amd64 (2.42.2-3build2) ...\n",
            "Selecting previously unselected package libgvc6-plugins-gtk.\n",
            "Preparing to unpack .../5-libgvc6-plugins-gtk_2.42.2-3build2_amd64.deb ...\n",
            "Unpacking libgvc6-plugins-gtk (2.42.2-3build2) ...\n",
            "Selecting previously unselected package libgraphviz-dev:amd64.\n",
            "Preparing to unpack .../6-libgraphviz-dev_2.42.2-3build2_amd64.deb ...\n",
            "Unpacking libgraphviz-dev:amd64 (2.42.2-3build2) ...\n",
            "Selecting previously unselected package libgtk2.0-bin.\n",
            "Preparing to unpack .../7-libgtk2.0-bin_2.24.32-4ubuntu4_amd64.deb ...\n",
            "Unpacking libgtk2.0-bin (2.24.32-4ubuntu4) ...\n",
            "Setting up libxdot4:amd64 (2.42.2-3build2) ...\n",
            "Setting up libgtk2.0-common (2.24.32-4ubuntu4) ...\n",
            "Setting up libgtk2.0-0:amd64 (2.24.32-4ubuntu4) ...\n",
            "Setting up libgvc6-plugins-gtk (2.42.2-3build2) ...\n",
            "Setting up libgail18:amd64 (2.24.32-4ubuntu4) ...\n",
            "Setting up libgtk2.0-bin (2.24.32-4ubuntu4) ...\n",
            "Setting up libgail-common:amd64 (2.24.32-4ubuntu4) ...\n",
            "Setting up libgraphviz-dev:amd64 (2.42.2-3build2) ...\n",
            "Processing triggers for man-db (2.9.1-1) ...\n",
            "Processing triggers for libc-bin (2.31-0ubuntu9.9) ...\n",
            "Looking in indexes: https://pypi.org/simple, https://us-python.pkg.dev/colab-wheels/public/simple/\n",
            "Collecting pygraphviz\n",
            "  Downloading pygraphviz-1.10.zip (120 kB)\n",
            "\u001b[2K     \u001b[90m━━━━━━━━━━━━━━━━━━━━━━━━━━━━━━━━━━━━━━\u001b[0m \u001b[32m120.6/120.6 KB\u001b[0m \u001b[31m14.0 MB/s\u001b[0m eta \u001b[36m0:00:00\u001b[0m\n",
            "\u001b[?25h  Preparing metadata (setup.py) ... \u001b[?25l\u001b[?25hdone\n",
            "Building wheels for collected packages: pygraphviz\n",
            "  Building wheel for pygraphviz (setup.py) ... \u001b[?25l\u001b[?25hdone\n",
            "  Created wheel for pygraphviz: filename=pygraphviz-1.10-cp38-cp38-linux_x86_64.whl size=184584 sha256=f4e9568db545a921fe07a2bfef0eaea8a8e8aea96028515094c79f1a755fe5ed\n",
            "  Stored in directory: /root/.cache/pip/wheels/ac/bd/46/118c2a336c6fd8d47026854302f8fad63bb7e431e52008ea06\n",
            "Successfully built pygraphviz\n",
            "Installing collected packages: pygraphviz\n",
            "Successfully installed pygraphviz-1.10\n",
            "Looking in indexes: https://pypi.org/simple, https://us-python.pkg.dev/colab-wheels/public/simple/\n",
            "Collecting semopy\n",
            "  Downloading semopy-2.3.9.tar.gz (1.6 MB)\n",
            "\u001b[2K     \u001b[90m━━━━━━━━━━━━━━━━━━━━━━━━━━━━━━━━━━━━━━━━\u001b[0m \u001b[32m1.6/1.6 MB\u001b[0m \u001b[31m59.3 MB/s\u001b[0m eta \u001b[36m0:00:00\u001b[0m\n",
            "\u001b[?25h  Preparing metadata (setup.py) ... \u001b[?25l\u001b[?25hdone\n",
            "Requirement already satisfied: scipy in /usr/local/lib/python3.8/dist-packages (from semopy) (1.7.3)\n",
            "Requirement already satisfied: numpy in /usr/local/lib/python3.8/dist-packages (from semopy) (1.22.4)\n",
            "Requirement already satisfied: pandas in /usr/local/lib/python3.8/dist-packages (from semopy) (1.3.5)\n",
            "Requirement already satisfied: sympy in /usr/local/lib/python3.8/dist-packages (from semopy) (1.7.1)\n",
            "Collecting sklearn\n",
            "  Downloading sklearn-0.0.post1.tar.gz (3.6 kB)\n",
            "  Preparing metadata (setup.py) ... \u001b[?25l\u001b[?25hdone\n",
            "Requirement already satisfied: statsmodels in /usr/local/lib/python3.8/dist-packages (from semopy) (0.12.2)\n",
            "Requirement already satisfied: python-dateutil>=2.7.3 in /usr/local/lib/python3.8/dist-packages (from pandas->semopy) (2.8.2)\n",
            "Requirement already satisfied: pytz>=2017.3 in /usr/local/lib/python3.8/dist-packages (from pandas->semopy) (2022.7.1)\n",
            "Requirement already satisfied: patsy>=0.5 in /usr/local/lib/python3.8/dist-packages (from statsmodels->semopy) (0.5.3)\n",
            "Requirement already satisfied: mpmath>=0.19 in /usr/local/lib/python3.8/dist-packages (from sympy->semopy) (1.2.1)\n",
            "Requirement already satisfied: six in /usr/local/lib/python3.8/dist-packages (from patsy>=0.5->statsmodels->semopy) (1.15.0)\n",
            "Building wheels for collected packages: semopy, sklearn\n",
            "  Building wheel for semopy (setup.py) ... \u001b[?25l\u001b[?25hdone\n",
            "  Created wheel for semopy: filename=semopy-2.3.9-py3-none-any.whl size=1657804 sha256=f0aa608793eadbbfd959f29ed0dcda9fa5f26db9235517c9106326c8ac49d8b1\n",
            "  Stored in directory: /root/.cache/pip/wheels/aa/d5/83/afbfa4fe06d08c0ec7849e93aa71843aa514684b3f22e3a694\n",
            "  Building wheel for sklearn (setup.py) ... \u001b[?25l\u001b[?25hdone\n",
            "  Created wheel for sklearn: filename=sklearn-0.0.post1-py3-none-any.whl size=2344 sha256=c07e61cf6364a6b7b282270f6e2b5407992e59057f02c0acee24e0c8f1143a44\n",
            "  Stored in directory: /root/.cache/pip/wheels/14/25/f7/1cc0956978ae479e75140219088deb7a36f60459df242b1a72\n",
            "Successfully built semopy sklearn\n",
            "Installing collected packages: sklearn, semopy\n",
            "Successfully installed semopy-2.3.9 sklearn-0.0.post1\n"
          ]
        }
      ]
    },
    {
      "cell_type": "markdown",
      "source": [
        "## Ejemplo de grafica"
      ],
      "metadata": {
        "id": "sp-XvkcNkuB0"
      }
    },
    {
      "cell_type": "code",
      "execution_count": 3,
      "metadata": {
        "id": "0zWWrpRu4xKs"
      },
      "outputs": [],
      "source": [
        "import pygraphviz as pgv\n",
        "\n",
        "# Crear el grafo\n",
        "G = pgv.AGraph(strict=False, directed=True)\n",
        "\n",
        "# Agregar nodos\n",
        "G.add_node(\"E\", label=\"Educación\")\n",
        "G.add_node(\"I\", label=\"Ingreso\")\n",
        "\n",
        "# Agregar arcos\n",
        "G.add_edge(\"E\", \"I\")\n",
        "\n",
        "# Mostrar el grafo\n",
        "G.draw(\"senderos.png\", prog=\"dot\")\n"
      ]
    },
    {
      "cell_type": "markdown",
      "source": [
        "# Ejemplo 2"
      ],
      "metadata": {
        "id": "_Uy8aC5Ok7qf"
      }
    },
    {
      "cell_type": "markdown",
      "source": [
        "Para este ejemplo, utilizaremos un conjunto de datos de la Encuesta Nacional de Salud y Nutrición de los Estados Unidos (NHANES) para investigar la relación entre la actividad física y la obesidad."
      ],
      "metadata": {
        "id": "ooeS1NqOk4AX"
      }
    },
    {
      "cell_type": "code",
      "source": [
        "import pandas as pd\n",
        "import numpy as np\n",
        "import semopy\n",
        "from semopy import Model, semplot\n",
        "from sklearn.preprocessing import MinMaxScaler\n",
        "from scipy import stats\n",
        "\n",
        "\n"
      ],
      "metadata": {
        "id": "yMpJo7gN6Swu"
      },
      "execution_count": 4,
      "outputs": []
    },
    {
      "cell_type": "code",
      "source": [
        "data = pd.read_csv(\"https://raw.githubusercontent.com/GTPB/PSLS20/master/data/NHANES.csv\")\n"
      ],
      "metadata": {
        "id": "xiAX-Vi6lBXG"
      },
      "execution_count": 5,
      "outputs": []
    },
    {
      "cell_type": "code",
      "source": [
        "data['Gender']= (data['Gender']==\"male\").replace({True: 1, False: 0}) \n",
        "data['PhysActive'] = (data['PhysActive'] == \"Yes\").replace({True: 1, False: 0}) \n",
        "data['Obesity']=((data.Weight/((data.Height/100)**2)) >30).replace({True: 1, False: 0})"
      ],
      "metadata": {
        "id": "yZhJDAvi2uvN"
      },
      "execution_count": 6,
      "outputs": []
    },
    {
      "cell_type": "code",
      "source": [
        "data = data[[\"Obesity\",\"Age\", \"Gender\", \"PhysActive\", \"Height\", \"Weight\"]]\n"
      ],
      "metadata": {
        "id": "NPiHCioc3GJO"
      },
      "execution_count": 7,
      "outputs": []
    },
    {
      "cell_type": "code",
      "source": [],
      "metadata": {
        "id": "9zW8kRRu4LEi"
      },
      "execution_count": 7,
      "outputs": []
    },
    {
      "cell_type": "markdown",
      "source": [
        "A continuación, definimos las variables que vamos a utilizar en nuestro modelo y creamos una matriz de correlación para evaluar la relación entre ellas:"
      ],
      "metadata": {
        "id": "PGIIkJp7lGuU"
      }
    },
    {
      "cell_type": "code",
      "source": [
        "\n",
        "# Definimos las variables\n",
        "x1 = data['Age']\n",
        "x2 = data['Gender'] ##(data['Gender']==\"male\").replace({True: 1, False: 0}) \n",
        "x3 = data['PhysActive'] #(data['PhysActive'] == \"Yes\").replace({True: 1, False: 0}) \n",
        "y = data['Obesity']#((data.Weight/((data.Height/100)**2)) >30).replace({True: 1, False: 0})\n",
        "# Creamos la matriz de correlación\n",
        "corr = np.corrcoef([x1, x2, x3, y])\n"
      ],
      "metadata": {
        "id": "HUAnflCElGNC"
      },
      "execution_count": 8,
      "outputs": []
    },
    {
      "cell_type": "markdown",
      "source": [
        "Después, definimos el modelo de senderos utilizando la notación estándar y los coeficientes de regresión a partir de la matriz de correlación:"
      ],
      "metadata": {
        "id": "6jHk7XUtu267"
      }
    },
    {
      "cell_type": "code",
      "source": [
        "# Definimos el modelo utilizando la notación estándar\n",
        "model = Model('''\n",
        "    Obesity ~ Age + Gender + PhysActive\n",
        "    PhysActive ~ Age\n",
        "''')\n",
        "model.load_cov(corr)\n",
        "##Age -> Obesity\n",
        "#    Gender -> Obesity\n",
        "#    PhysActive -> Obesity\n",
        "#    Age -> PhysActive\n",
        "#\n",
        "\n"
      ],
      "metadata": {
        "id": "dg5UL-min7a6"
      },
      "execution_count": 9,
      "outputs": []
    },
    {
      "cell_type": "code",
      "source": [
        "semopy.semplot(model, \"model.png\")"
      ],
      "metadata": {
        "colab": {
          "base_uri": "https://localhost:8080/",
          "height": 272
        },
        "id": "oDRN6yHq01Z8",
        "outputId": "8d346319-c31f-49a9-a8a0-73db103a8fac"
      },
      "execution_count": 10,
      "outputs": [
        {
          "output_type": "execute_result",
          "data": {
            "text/plain": [
              "<graphviz.dot.Digraph at 0x7f0de00eda30>"
            ],
            "image/svg+xml": "<?xml version=\"1.0\" encoding=\"UTF-8\" standalone=\"no\"?>\n<!DOCTYPE svg PUBLIC \"-//W3C//DTD SVG 1.1//EN\"\n \"http://www.w3.org/Graphics/SVG/1.1/DTD/svg11.dtd\">\n<!-- Generated by graphviz version 2.43.0 (0)\n -->\n<!-- Title: G Pages: 1 -->\n<svg width=\"182pt\" height=\"188pt\"\n viewBox=\"0.00 0.00 182.00 188.00\" xmlns=\"http://www.w3.org/2000/svg\" xmlns:xlink=\"http://www.w3.org/1999/xlink\">\n<g id=\"graph0\" class=\"graph\" transform=\"scale(1 1) rotate(0) translate(4 184)\">\n<title>G</title>\n<polygon fill=\"white\" stroke=\"transparent\" points=\"-4,4 -4,-184 178,-184 178,4 -4,4\"/>\n<!-- Obesity -->\n<g id=\"node1\" class=\"node\">\n<title>Obesity</title>\n<polygon fill=\"none\" stroke=\"black\" points=\"90.5,-36 31.5,-36 31.5,0 90.5,0 90.5,-36\"/>\n<text text-anchor=\"middle\" x=\"61\" y=\"-14.3\" font-family=\"Times,serif\" font-size=\"14.00\">Obesity</text>\n</g>\n<!-- Age -->\n<g id=\"node2\" class=\"node\">\n<title>Age</title>\n<polygon fill=\"none\" stroke=\"black\" points=\"54,-180 0,-180 0,-144 54,-144 54,-180\"/>\n<text text-anchor=\"middle\" x=\"27\" y=\"-158.3\" font-family=\"Times,serif\" font-size=\"14.00\">Age</text>\n</g>\n<!-- Age&#45;&gt;Obesity -->\n<g id=\"edge2\" class=\"edge\">\n<title>Age&#45;&gt;Obesity</title>\n<path fill=\"none\" stroke=\"black\" d=\"M19.17,-143.72C12.01,-125.37 3.83,-95.79 13,-72 17.1,-61.36 24.44,-51.53 32.17,-43.3\"/>\n<polygon fill=\"black\" stroke=\"black\" points=\"34.67,-45.75 39.29,-36.21 29.73,-40.78 34.67,-45.75\"/>\n</g>\n<!-- PhysActive -->\n<g id=\"node4\" class=\"node\">\n<title>PhysActive</title>\n<polygon fill=\"none\" stroke=\"black\" points=\"100.5,-108 21.5,-108 21.5,-72 100.5,-72 100.5,-108\"/>\n<text text-anchor=\"middle\" x=\"61\" y=\"-86.3\" font-family=\"Times,serif\" font-size=\"14.00\">PhysActive</text>\n</g>\n<!-- Age&#45;&gt;PhysActive -->\n<g id=\"edge1\" class=\"edge\">\n<title>Age&#45;&gt;PhysActive</title>\n<path fill=\"none\" stroke=\"black\" d=\"M35.4,-143.7C39.27,-135.73 43.95,-126.1 48.24,-117.26\"/>\n<polygon fill=\"black\" stroke=\"black\" points=\"51.47,-118.63 52.69,-108.1 45.17,-115.57 51.47,-118.63\"/>\n</g>\n<!-- Gender -->\n<g id=\"node3\" class=\"node\">\n<title>Gender</title>\n<polygon fill=\"none\" stroke=\"black\" points=\"174,-108 118,-108 118,-72 174,-72 174,-108\"/>\n<text text-anchor=\"middle\" x=\"146\" y=\"-86.3\" font-family=\"Times,serif\" font-size=\"14.00\">Gender</text>\n</g>\n<!-- Gender&#45;&gt;Obesity -->\n<g id=\"edge3\" class=\"edge\">\n<title>Gender&#45;&gt;Obesity</title>\n<path fill=\"none\" stroke=\"black\" d=\"M124.99,-71.7C114.28,-62.88 101.11,-52.03 89.5,-42.47\"/>\n<polygon fill=\"black\" stroke=\"black\" points=\"91.71,-39.76 81.77,-36.1 87.26,-45.16 91.71,-39.76\"/>\n</g>\n<!-- PhysActive&#45;&gt;Obesity -->\n<g id=\"edge4\" class=\"edge\">\n<title>PhysActive&#45;&gt;Obesity</title>\n<path fill=\"none\" stroke=\"black\" d=\"M61,-71.7C61,-63.98 61,-54.71 61,-46.11\"/>\n<polygon fill=\"black\" stroke=\"black\" points=\"64.5,-46.1 61,-36.1 57.5,-46.1 64.5,-46.1\"/>\n</g>\n</g>\n</svg>\n"
          },
          "metadata": {},
          "execution_count": 10
        }
      ]
    },
    {
      "cell_type": "code",
      "source": [
        "# Establecemos los coeficientes de regresión a partir de la matriz de correlación\n",
        "model.parameters[0, 3] = corr[0, 3]\n",
        "model.parameters[1, 3] = corr[1, 3]\n",
        "model.parameters[2, 3] = corr[2, 3]\n",
        "model.parameters[0, 2] = corr[0, 2]"
      ],
      "metadata": {
        "id": "_N8APSJZ02NJ"
      },
      "execution_count": 11,
      "outputs": []
    },
    {
      "cell_type": "markdown",
      "source": [
        "En el modelo definido, `edad`, `genero`, y `fisicamente_activo` son las variables predictoras y `obesidad` es la variable de criterio o dependiente. Además, en el modelo se establecen las siguientes relaciones:\n",
        "\n",
        "- `edad` tiene un efecto directo sobre `obesidad`\n",
        "- `genero` tiene un efecto directo sobre `obesidad`\n",
        "- `fisicamente_activo` tiene un efecto directo sobre `obesidad`\n",
        "- `edad` tiene un efecto directo sobre `fisicamente_activo`\n",
        "\n",
        "Finalmente, ajustamos el modelo y evaluamos los resultados:"
      ],
      "metadata": {
        "id": "JBrARBhAzaJR"
      }
    },
    {
      "cell_type": "code",
      "source": [
        "\n",
        "# Escalamos los datos óptimamente\n",
        "scaler = MinMaxScaler()\n",
        "data_scaled = scaler.fit_transform(data)\n",
        "print(data_scaled)\n"
      ],
      "metadata": {
        "colab": {
          "base_uri": "https://localhost:8080/"
        },
        "id": "i8tJmIWdyZJo",
        "outputId": "6b887020-c405-462c-893e-a72d1893e777"
      },
      "execution_count": 12,
      "outputs": [
        {
          "output_type": "stream",
          "name": "stdout",
          "text": [
            "[[1.         0.425      1.         0.         0.69434932 0.37121545]\n",
            " [1.         0.425      1.         0.         0.69434932 0.37121545]\n",
            " [1.         0.425      1.         0.         0.69434932 0.37121545]\n",
            " ...\n",
            " [1.         0.3375     1.         0.         0.78938356 0.41202282]\n",
            " [0.         0.75       1.         0.         0.72945205 0.33172444]\n",
            " [0.         0.75       1.         0.         0.72945205 0.33172444]]\n"
          ]
        }
      ]
    },
    {
      "cell_type": "code",
      "source": [
        "# Ajustamos el modelo utilizando SEM\n",
        "fit = model.fit(data, obj=\"MLW\", solver=\"SLSQP\")\n",
        "\n",
        "\n",
        "# Evaluamos los resultados\n",
        "print(model.inspect(mode='list', what=\"names\", std_est=True))"
      ],
      "metadata": {
        "colab": {
          "base_uri": "https://localhost:8080/",
          "height": 389
        },
        "id": "7s23Qw3t8ZP7",
        "outputId": "80181267-29fd-4df9-f772-71c8d56e346f"
      },
      "execution_count": 13,
      "outputs": [
        {
          "output_type": "error",
          "ename": "AttributeError",
          "evalue": "ignored",
          "traceback": [
            "\u001b[0;31m---------------------------------------------------------------------------\u001b[0m",
            "\u001b[0;31mAttributeError\u001b[0m                            Traceback (most recent call last)",
            "\u001b[0;32m<ipython-input-13-f763c94c4e67>\u001b[0m in \u001b[0;36m<module>\u001b[0;34m\u001b[0m\n\u001b[1;32m      1\u001b[0m \u001b[0;31m# Ajustamos el modelo utilizando SEM\u001b[0m\u001b[0;34m\u001b[0m\u001b[0;34m\u001b[0m\u001b[0;34m\u001b[0m\u001b[0m\n\u001b[0;32m----> 2\u001b[0;31m \u001b[0mfit\u001b[0m \u001b[0;34m=\u001b[0m \u001b[0mmodel\u001b[0m\u001b[0;34m.\u001b[0m\u001b[0mfit\u001b[0m\u001b[0;34m(\u001b[0m\u001b[0mdata\u001b[0m\u001b[0;34m,\u001b[0m \u001b[0mobj\u001b[0m\u001b[0;34m=\u001b[0m\u001b[0;34m\"MLW\"\u001b[0m\u001b[0;34m,\u001b[0m \u001b[0msolver\u001b[0m\u001b[0;34m=\u001b[0m\u001b[0;34m\"SLSQP\"\u001b[0m\u001b[0;34m)\u001b[0m\u001b[0;34m\u001b[0m\u001b[0;34m\u001b[0m\u001b[0m\n\u001b[0m\u001b[1;32m      3\u001b[0m \u001b[0;34m\u001b[0m\u001b[0m\n\u001b[1;32m      4\u001b[0m \u001b[0;34m\u001b[0m\u001b[0m\n\u001b[1;32m      5\u001b[0m \u001b[0;31m# Evaluamos los resultados\u001b[0m\u001b[0;34m\u001b[0m\u001b[0;34m\u001b[0m\u001b[0;34m\u001b[0m\u001b[0m\n",
            "\u001b[0;32m/usr/local/lib/python3.8/dist-packages/semopy/model.py\u001b[0m in \u001b[0;36mfit\u001b[0;34m(self, data, cov, obj, solver, groups, clean_slate, regularization, n_samples, **kwargs)\u001b[0m\n\u001b[1;32m   1097\u001b[0m \u001b[0;34m\u001b[0m\u001b[0m\n\u001b[1;32m   1098\u001b[0m         \"\"\"\n\u001b[0;32m-> 1099\u001b[0;31m         self.load(data=data, cov=cov, groups=groups,\n\u001b[0m\u001b[1;32m   1100\u001b[0m                   clean_slate=clean_slate, n_samples=n_samples)\n\u001b[1;32m   1101\u001b[0m         \u001b[0;32mif\u001b[0m \u001b[0mobj\u001b[0m \u001b[0;34m==\u001b[0m \u001b[0;34m'FIML'\u001b[0m\u001b[0;34m:\u001b[0m\u001b[0;34m\u001b[0m\u001b[0;34m\u001b[0m\u001b[0m\n",
            "\u001b[0;32m/usr/local/lib/python3.8/dist-packages/semopy/model.py\u001b[0m in \u001b[0;36mload\u001b[0;34m(self, data, cov, groups, clean_slate, n_samples)\u001b[0m\n\u001b[1;32m   1050\u001b[0m                 \u001b[0;32mfor\u001b[0m \u001b[0mv\u001b[0m \u001b[0;32min\u001b[0m \u001b[0mself\u001b[0m\u001b[0;34m.\u001b[0m\u001b[0mparams_to_start\u001b[0m\u001b[0;34m:\u001b[0m\u001b[0;34m\u001b[0m\u001b[0;34m\u001b[0m\u001b[0m\n\u001b[1;32m   1051\u001b[0m                     \u001b[0mp\u001b[0m\u001b[0;34m[\u001b[0m\u001b[0mv\u001b[0m\u001b[0;34m]\u001b[0m\u001b[0;34m.\u001b[0m\u001b[0mstart\u001b[0m \u001b[0;34m=\u001b[0m \u001b[0;32mNone\u001b[0m\u001b[0;34m\u001b[0m\u001b[0;34m\u001b[0m\u001b[0m\n\u001b[0;32m-> 1052\u001b[0;31m             \u001b[0mself\u001b[0m\u001b[0;34m.\u001b[0m\u001b[0mload_starting_values\u001b[0m\u001b[0;34m(\u001b[0m\u001b[0;34m)\u001b[0m\u001b[0;34m\u001b[0m\u001b[0;34m\u001b[0m\u001b[0m\n\u001b[0m\u001b[1;32m   1053\u001b[0m         \u001b[0;32mif\u001b[0m \u001b[0;34m(\u001b[0m\u001b[0mclean_slate\u001b[0m\u001b[0;34m)\u001b[0m \u001b[0;32mor\u001b[0m \u001b[0;34m(\u001b[0m\u001b[0;32mnot\u001b[0m \u001b[0mhasattr\u001b[0m\u001b[0;34m(\u001b[0m\u001b[0mself\u001b[0m\u001b[0;34m,\u001b[0m \u001b[0;34m'param_vals'\u001b[0m\u001b[0;34m)\u001b[0m\u001b[0;34m)\u001b[0m\u001b[0;34m:\u001b[0m\u001b[0;34m\u001b[0m\u001b[0;34m\u001b[0m\u001b[0m\n\u001b[1;32m   1054\u001b[0m             \u001b[0mself\u001b[0m\u001b[0;34m.\u001b[0m\u001b[0mprepare_params\u001b[0m\u001b[0;34m(\u001b[0m\u001b[0;34m)\u001b[0m\u001b[0;34m\u001b[0m\u001b[0;34m\u001b[0m\u001b[0m\n",
            "\u001b[0;32m/usr/local/lib/python3.8/dist-packages/semopy/model.py\u001b[0m in \u001b[0;36mload_starting_values\u001b[0;34m(self)\u001b[0m\n\u001b[1;32m    852\u001b[0m         \u001b[0mparams_to_start\u001b[0m \u001b[0;34m=\u001b[0m \u001b[0mset\u001b[0m\u001b[0;34m(\u001b[0m\u001b[0;34m)\u001b[0m\u001b[0;34m\u001b[0m\u001b[0;34m\u001b[0m\u001b[0m\n\u001b[1;32m    853\u001b[0m         \u001b[0;32mfor\u001b[0m \u001b[0mname\u001b[0m\u001b[0;34m,\u001b[0m \u001b[0mparam\u001b[0m \u001b[0;32min\u001b[0m \u001b[0mself\u001b[0m\u001b[0;34m.\u001b[0m\u001b[0mparameters\u001b[0m\u001b[0;34m.\u001b[0m\u001b[0mitems\u001b[0m\u001b[0;34m(\u001b[0m\u001b[0;34m)\u001b[0m\u001b[0;34m:\u001b[0m\u001b[0;34m\u001b[0m\u001b[0;34m\u001b[0m\u001b[0m\n\u001b[0;32m--> 854\u001b[0;31m             \u001b[0;32mif\u001b[0m \u001b[0mparam\u001b[0m\u001b[0;34m.\u001b[0m\u001b[0mstart\u001b[0m \u001b[0;32mis\u001b[0m \u001b[0;32mNone\u001b[0m\u001b[0;34m:\u001b[0m\u001b[0;34m\u001b[0m\u001b[0;34m\u001b[0m\u001b[0m\n\u001b[0m\u001b[1;32m    855\u001b[0m                 \u001b[0mparams_to_start\u001b[0m\u001b[0;34m.\u001b[0m\u001b[0madd\u001b[0m\u001b[0;34m(\u001b[0m\u001b[0mname\u001b[0m\u001b[0;34m)\u001b[0m\u001b[0;34m\u001b[0m\u001b[0;34m\u001b[0m\u001b[0m\n\u001b[1;32m    856\u001b[0m                 \u001b[0mloc\u001b[0m \u001b[0;34m=\u001b[0m \u001b[0mparam\u001b[0m\u001b[0;34m.\u001b[0m\u001b[0mlocations\u001b[0m\u001b[0;34m[\u001b[0m\u001b[0;36m0\u001b[0m\u001b[0;34m]\u001b[0m\u001b[0;34m\u001b[0m\u001b[0;34m\u001b[0m\u001b[0m\n",
            "\u001b[0;31mAttributeError\u001b[0m: 'numpy.float64' object has no attribute 'start'"
          ]
        }
      ]
    },
    {
      "cell_type": "code",
      "source": [
        "semopy.calc_stats(model)"
      ],
      "metadata": {
        "id": "pTOIksZ8vIRN"
      },
      "execution_count": null,
      "outputs": []
    },
    {
      "cell_type": "markdown",
      "source": [
        "semopy.semplot(model, \"model.png\")"
      ],
      "metadata": {
        "id": "54kDz-UQ0s0k"
      }
    },
    {
      "cell_type": "code",
      "source": [],
      "metadata": {
        "id": "w8IWIVyKlEHy"
      },
      "execution_count": null,
      "outputs": []
    },
    {
      "cell_type": "code",
      "source": [],
      "metadata": {
        "id": "H4TpR5qRlL-8"
      },
      "execution_count": null,
      "outputs": []
    },
    {
      "cell_type": "code",
      "source": [],
      "metadata": {
        "id": "4uElqUPG0bSm"
      },
      "execution_count": null,
      "outputs": []
    },
    {
      "cell_type": "code",
      "source": [],
      "metadata": {
        "id": "OJPR2xfzmEGw"
      },
      "execution_count": null,
      "outputs": []
    }
  ]
}