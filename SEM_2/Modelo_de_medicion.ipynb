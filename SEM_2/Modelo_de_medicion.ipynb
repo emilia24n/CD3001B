{
  "nbformat": 4,
  "nbformat_minor": 0,
  "metadata": {
    "colab": {
      "provenance": [],
      "authorship_tag": "ABX9TyMyt38kLRcOHXBW+tM0EF6G",
      "include_colab_link": true
    },
    "kernelspec": {
      "name": "python3",
      "display_name": "Python 3"
    },
    "language_info": {
      "name": "python"
    }
  },
  "cells": [
    {
      "cell_type": "markdown",
      "metadata": {
        "id": "view-in-github",
        "colab_type": "text"
      },
      "source": [
        "<a href=\"https://colab.research.google.com/github/sharop/CD3001B/blob/main/SEM_2/Modelo_de_medicion.ipynb\" target=\"_parent\"><img src=\"https://colab.research.google.com/assets/colab-badge.svg\" alt=\"Open In Colab\"/></a>"
      ]
    },
    {
      "cell_type": "code",
      "execution_count": null,
      "metadata": {
        "id": "VnvnAUR4W91S"
      },
      "outputs": [],
      "source": []
    },
    {
      "cell_type": "markdown",
      "source": [
        "Supongamos que el gerente del restaurante quiere evaluar la satisfacción de los clientes en relación a la calidad de la comida, el servicio y el ambiente. Para ello, decide aplicar un cuestionario con una escala de Likert de cinco puntos (1=totalmente en desacuerdo, 5=totalmente de acuerdo) para medir la opinión de los clientes sobre diferentes aspectos de su experiencia.\n",
        "\n",
        "El primer paso es importar las librerías necesarias en Python, que en este caso son pandas y numpy, para trabajar con los datos y realizar el análisis estadístico."
      ],
      "metadata": {
        "id": "uzw-8XcIXDy6"
      }
    },
    {
      "cell_type": "code",
      "source": [
        "import pandas as pd\n",
        "import numpy as np\n"
      ],
      "metadata": {
        "id": "YQN-_6aGXGrO"
      },
      "execution_count": 2,
      "outputs": []
    },
    {
      "cell_type": "markdown",
      "source": [
        "Luego, se procede a recolectar los datos a través del cuestionario. Supongamos que se han recopilado los siguientes datos de 50 clientes:\n",
        "\n",
        "| Cliente | Comida | Servicio | Ambiente |\n",
        "| --- | --- | --- | --- |\n",
        "| 1 | 4 | 3 | 5 |\n",
        "| 2 | 3 | 4 | 4 |\n",
        "| 3 | 2 | 2 | 3 |\n",
        "| 4 | 5 | 4 | 5 |\n",
        "| ... | ... | ... | ... |\n",
        "| 50 | 4 | 3 | 4 |\n",
        "\n",
        "El siguiente paso es crear un DataFrame en pandas con los datos recolectados:\n"
      ],
      "metadata": {
        "id": "SwXJJOpWXL1d"
      }
    },
    {
      "cell_type": "code",
      "source": [
        "data = pd.DataFrame({\n",
        "    'Comida'  : [4, 3, 5, 5, 4, 4, 5, 5, 4, 3, 5, 4, 3, 5, 5, 4, 5, 4, 4, 5],\n",
        "    'Servicio': [3, 4, 5, 5, 3, 4, 4, 3, 3, 2, 5, 5, 3, 4, 4, 3, 3, 5, 4, 5],\n",
        "    'Ambiente': [5, 4, 4, 5, 3, 3, 5, 4, 3, 2, 4, 3, 5, 4, 4, 4, 5, 4, 4, 5]\n",
        "})\n"
      ],
      "metadata": {
        "id": "qG6pUFjgXLSl"
      },
      "execution_count": 13,
      "outputs": []
    },
    {
      "cell_type": "markdown",
      "source": [
        "El siguiente paso es verificar la validez y confiabilidad de las mediciones. Para ello, se pueden utilizar diferentes técnicas, como el análisis de fiabilidad, la validez convergente y discriminante, entre otros. En este ejemplo, se va a realizar una análisis de fiabilidad utilizando el coeficiente alpha de Cronbach.\n",
        "\n",
        "* El coeficiente Alfa de Cronbach es un modelo de consistencia interna, basado en el promedio de las correlaciones entre los ítems. Entre las ventajas de esta medida se encuentra la posibilidad de evaluar cuánto mejoraría (o empeoraría) la fiabilidad de la prueba si se excluyera un determinado ítem. El coeficiente de alfa de Cronbach es una medida de la fiabilidad de una escala de medición, es decir, su capacidad para producir resultados consistentes y precisos en diferentes momentos y con diferentes muestras. El valor de alfa de Cronbach varía entre 0 y 1, siendo más alto cuanto mayor sea la fiabilidad de la escala.\n",
        "En términos generales, se puede interpretar el valor de alfa de Cronbach de la siguiente manera:\n",
        "\n",
        "* Si el valor es inferior a 0,6: la escala es considerada poco fiable y no se recomienda su uso.\n",
        "* Si el valor está entre 0,6 y 0,7: la fiabilidad de la escala es considerada aceptable, pero mejorable.\n",
        "* Si el valor está entre 0,7 y 0,8: la fiabilidad de la escala es considerada buena.\n",
        "* Si el valor está entre 0,8 y 0,9: la fiabilidad de la escala es considerada muy buena.\n",
        "* Si el valor es superior a 0,9: la fiabilidad de la escala es considerada excelente, pero en algunos casos puede indicar redundancia en los ítems.\n",
        "\n",
        "Es importante tener en cuenta que el valor de alfa de Cronbach no indica la validez de la escala, es decir, si esta mide lo que se pretende medir. Por lo tanto, es recomendable realizar un análisis de validez convergente y discriminante para evaluar la validez de la escala.\n",
        "Además, es importante considerar que el coeficiente de alfa de Cronbach puede verse afectado por diferentes factores, como el número de ítems en la escala, la homogeneidad de los ítems, la variabilidad de las respuestas, entre otros. Por lo tanto, es recomendable realizar un análisis detallado para determinar la fiabilidad de la escala y la necesidad de realizar mejoras en la misma."
      ],
      "metadata": {
        "id": "woqz31UqZevP"
      }
    },
    {
      "cell_type": "markdown",
      "source": [
        "![cronbach_s_alpha.svg](data:image/svg+xml;base64,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)"
      ],
      "metadata": {
        "id": "r48J4qWfaGrh"
      }
    },
    {
      "cell_type": "markdown",
      "source": [
        "\n",
        "$\\rho_T$\t=\ttau-equivalent reliability.\n",
        "\n",
        "$k$\t=\tnumber of items.\n",
        "\n",
        "$\\sigma _{ij}$\t=\tcovariance between Xi and Xj.\n",
        "\n",
        "${\\sigma^2_X}$\t=\titem variances and inter-item covariances.\n"
      ],
      "metadata": {
        "id": "tn2Eakf1Z3bu"
      }
    },
    {
      "cell_type": "code",
      "source": [
        "def cronbach_alpha(df):\n",
        "    # 1. Transform the df into a correlation matrix\n",
        "    df_corr = df.corr()\n",
        "    \n",
        "    # 2.1 Calculate N\n",
        "    # The number of variables equals the number of columns in the df\n",
        "    N = df.shape[1]\n",
        "    \n",
        "    # 2.2 Calculate R\n",
        "    # For this, we'll loop through the columns and append every\n",
        "    # relevant correlation to an array calles \"r_s\". Then, we'll\n",
        "    # calculate the mean of \"r_s\"\n",
        "    rs = np.array([])\n",
        "    for i, col in enumerate(df_corr.columns):\n",
        "        sum_ = df_corr[col][i+1:].values\n",
        "        rs = np.append(sum_, rs)\n",
        "    mean_r = np.mean(rs)\n",
        "    \n",
        "   # 3. Use the formula to calculate Cronbach's Alpha \n",
        "    cronbach_alpha = (N * mean_r) / (1 + (N - 1) * mean_r)\n",
        "    return cronbach_alpha\n"
      ],
      "metadata": {
        "id": "Kx6RibS6YYFi"
      },
      "execution_count": 14,
      "outputs": []
    },
    {
      "cell_type": "code",
      "source": [
        "cronbach_alpha(data)\n"
      ],
      "metadata": {
        "colab": {
          "base_uri": "https://localhost:8080/"
        },
        "id": "DQGUhJKlbdAD",
        "outputId": "25b3d42b-6114-46bc-db1c-17541c55e124"
      },
      "execution_count": 15,
      "outputs": [
        {
          "output_type": "execute_result",
          "data": {
            "text/plain": [
              "0.6462066206426503"
            ]
          },
          "metadata": {},
          "execution_count": 15
        }
      ]
    },
    {
      "cell_type": "markdown",
      "source": [
        "El coeficiente alpha de Cronbach resultante para este conjunto de datos es 0.65, lo que sugiere una fiabilidad mejorable de las mediciones.\n",
        "\n",
        "Luego, se puede proceder a realizar un análisis descriptivo de los datos para obtener estadísticas como la media, la desviación estándar, la moda y la mediana."
      ],
      "metadata": {
        "id": "cicODC2wemSX"
      }
    },
    {
      "cell_type": "code",
      "source": [
        "data.describe()"
      ],
      "metadata": {
        "colab": {
          "base_uri": "https://localhost:8080/",
          "height": 300
        },
        "id": "t0C-gbXJaZ4v",
        "outputId": "b2de57ef-a85c-4623-ed56-148ec5b5f14f"
      },
      "execution_count": 16,
      "outputs": [
        {
          "output_type": "execute_result",
          "data": {
            "text/plain": [
              "          Comida   Servicio   Ambiente\n",
              "count  20.000000  20.000000  20.000000\n",
              "mean    4.300000   3.850000   4.000000\n",
              "std     0.732695   0.933302   0.858395\n",
              "min     3.000000   2.000000   2.000000\n",
              "25%     4.000000   3.000000   3.750000\n",
              "50%     4.000000   4.000000   4.000000\n",
              "75%     5.000000   5.000000   5.000000\n",
              "max     5.000000   5.000000   5.000000"
            ],
            "text/html": [
              "\n",
              "  <div id=\"df-5b0b70be-f2f6-4acb-af63-54c47eb5ed61\">\n",
              "    <div class=\"colab-df-container\">\n",
              "      <div>\n",
              "<style scoped>\n",
              "    .dataframe tbody tr th:only-of-type {\n",
              "        vertical-align: middle;\n",
              "    }\n",
              "\n",
              "    .dataframe tbody tr th {\n",
              "        vertical-align: top;\n",
              "    }\n",
              "\n",
              "    .dataframe thead th {\n",
              "        text-align: right;\n",
              "    }\n",
              "</style>\n",
              "<table border=\"1\" class=\"dataframe\">\n",
              "  <thead>\n",
              "    <tr style=\"text-align: right;\">\n",
              "      <th></th>\n",
              "      <th>Comida</th>\n",
              "      <th>Servicio</th>\n",
              "      <th>Ambiente</th>\n",
              "    </tr>\n",
              "  </thead>\n",
              "  <tbody>\n",
              "    <tr>\n",
              "      <th>count</th>\n",
              "      <td>20.000000</td>\n",
              "      <td>20.000000</td>\n",
              "      <td>20.000000</td>\n",
              "    </tr>\n",
              "    <tr>\n",
              "      <th>mean</th>\n",
              "      <td>4.300000</td>\n",
              "      <td>3.850000</td>\n",
              "      <td>4.000000</td>\n",
              "    </tr>\n",
              "    <tr>\n",
              "      <th>std</th>\n",
              "      <td>0.732695</td>\n",
              "      <td>0.933302</td>\n",
              "      <td>0.858395</td>\n",
              "    </tr>\n",
              "    <tr>\n",
              "      <th>min</th>\n",
              "      <td>3.000000</td>\n",
              "      <td>2.000000</td>\n",
              "      <td>2.000000</td>\n",
              "    </tr>\n",
              "    <tr>\n",
              "      <th>25%</th>\n",
              "      <td>4.000000</td>\n",
              "      <td>3.000000</td>\n",
              "      <td>3.750000</td>\n",
              "    </tr>\n",
              "    <tr>\n",
              "      <th>50%</th>\n",
              "      <td>4.000000</td>\n",
              "      <td>4.000000</td>\n",
              "      <td>4.000000</td>\n",
              "    </tr>\n",
              "    <tr>\n",
              "      <th>75%</th>\n",
              "      <td>5.000000</td>\n",
              "      <td>5.000000</td>\n",
              "      <td>5.000000</td>\n",
              "    </tr>\n",
              "    <tr>\n",
              "      <th>max</th>\n",
              "      <td>5.000000</td>\n",
              "      <td>5.000000</td>\n",
              "      <td>5.000000</td>\n",
              "    </tr>\n",
              "  </tbody>\n",
              "</table>\n",
              "</div>\n",
              "      <button class=\"colab-df-convert\" onclick=\"convertToInteractive('df-5b0b70be-f2f6-4acb-af63-54c47eb5ed61')\"\n",
              "              title=\"Convert this dataframe to an interactive table.\"\n",
              "              style=\"display:none;\">\n",
              "        \n",
              "  <svg xmlns=\"http://www.w3.org/2000/svg\" height=\"24px\"viewBox=\"0 0 24 24\"\n",
              "       width=\"24px\">\n",
              "    <path d=\"M0 0h24v24H0V0z\" fill=\"none\"/>\n",
              "    <path d=\"M18.56 5.44l.94 2.06.94-2.06 2.06-.94-2.06-.94-.94-2.06-.94 2.06-2.06.94zm-11 1L8.5 8.5l.94-2.06 2.06-.94-2.06-.94L8.5 2.5l-.94 2.06-2.06.94zm10 10l.94 2.06.94-2.06 2.06-.94-2.06-.94-.94-2.06-.94 2.06-2.06.94z\"/><path d=\"M17.41 7.96l-1.37-1.37c-.4-.4-.92-.59-1.43-.59-.52 0-1.04.2-1.43.59L10.3 9.45l-7.72 7.72c-.78.78-.78 2.05 0 2.83L4 21.41c.39.39.9.59 1.41.59.51 0 1.02-.2 1.41-.59l7.78-7.78 2.81-2.81c.8-.78.8-2.07 0-2.86zM5.41 20L4 18.59l7.72-7.72 1.47 1.35L5.41 20z\"/>\n",
              "  </svg>\n",
              "      </button>\n",
              "      \n",
              "  <style>\n",
              "    .colab-df-container {\n",
              "      display:flex;\n",
              "      flex-wrap:wrap;\n",
              "      gap: 12px;\n",
              "    }\n",
              "\n",
              "    .colab-df-convert {\n",
              "      background-color: #E8F0FE;\n",
              "      border: none;\n",
              "      border-radius: 50%;\n",
              "      cursor: pointer;\n",
              "      display: none;\n",
              "      fill: #1967D2;\n",
              "      height: 32px;\n",
              "      padding: 0 0 0 0;\n",
              "      width: 32px;\n",
              "    }\n",
              "\n",
              "    .colab-df-convert:hover {\n",
              "      background-color: #E2EBFA;\n",
              "      box-shadow: 0px 1px 2px rgba(60, 64, 67, 0.3), 0px 1px 3px 1px rgba(60, 64, 67, 0.15);\n",
              "      fill: #174EA6;\n",
              "    }\n",
              "\n",
              "    [theme=dark] .colab-df-convert {\n",
              "      background-color: #3B4455;\n",
              "      fill: #D2E3FC;\n",
              "    }\n",
              "\n",
              "    [theme=dark] .colab-df-convert:hover {\n",
              "      background-color: #434B5C;\n",
              "      box-shadow: 0px 1px 3px 1px rgba(0, 0, 0, 0.15);\n",
              "      filter: drop-shadow(0px 1px 2px rgba(0, 0, 0, 0.3));\n",
              "      fill: #FFFFFF;\n",
              "    }\n",
              "  </style>\n",
              "\n",
              "      <script>\n",
              "        const buttonEl =\n",
              "          document.querySelector('#df-5b0b70be-f2f6-4acb-af63-54c47eb5ed61 button.colab-df-convert');\n",
              "        buttonEl.style.display =\n",
              "          google.colab.kernel.accessAllowed ? 'block' : 'none';\n",
              "\n",
              "        async function convertToInteractive(key) {\n",
              "          const element = document.querySelector('#df-5b0b70be-f2f6-4acb-af63-54c47eb5ed61');\n",
              "          const dataTable =\n",
              "            await google.colab.kernel.invokeFunction('convertToInteractive',\n",
              "                                                     [key], {});\n",
              "          if (!dataTable) return;\n",
              "\n",
              "          const docLinkHtml = 'Like what you see? Visit the ' +\n",
              "            '<a target=\"_blank\" href=https://colab.research.google.com/notebooks/data_table.ipynb>data table notebook</a>'\n",
              "            + ' to learn more about interactive tables.';\n",
              "          element.innerHTML = '';\n",
              "          dataTable['output_type'] = 'display_data';\n",
              "          await google.colab.output.renderOutput(dataTable, element);\n",
              "          const docLink = document.createElement('div');\n",
              "          docLink.innerHTML = docLinkHtml;\n",
              "          element.appendChild(docLink);\n",
              "        }\n",
              "      </script>\n",
              "    </div>\n",
              "  </div>\n",
              "  "
            ]
          },
          "metadata": {},
          "execution_count": 16
        }
      ]
    },
    {
      "cell_type": "markdown",
      "source": [
        "Con esto, podemos observar que la media de la satisfacción con la comida es de 4.3, la del servicio es de 3.8 y la del ambiente es de 4.0. Además, se puede ver que la desviación estándar de la satisfacción con la comida es de 0.73, la del servicio es de 0.93 y la del ambiente es de 0.86.\n",
        "\n",
        "Por último, se puede realizar un análisis inferencial para probar si existen diferencias significativas entre los tres aspectos evaluados. Para ello, se puede utilizar una prueba ANOVA de un solo factor.\n",
        "\n",
        "* La prueba ANOVA (Análisis de Varianza) es una técnica estadística que se utiliza para comparar las medias de tres o más grupos independientes. La ANOVA evalúa si las diferencias observadas entre los grupos son estadísticamente significativas o si se deben a variaciones aleatorias."
      ],
      "metadata": {
        "id": "bW5QH7aCe_A6"
      }
    },
    {
      "cell_type": "code",
      "source": [
        "from scipy.stats import f_oneway\n",
        "f_oneway(data['Comida'], data['Servicio'], data['Ambiente'])"
      ],
      "metadata": {
        "id": "AomYpGlVe-OG",
        "colab": {
          "base_uri": "https://localhost:8080/"
        },
        "outputId": "32af737d-4d45-44ad-fc8e-85dafa0e87ea"
      },
      "execution_count": 17,
      "outputs": [
        {
          "output_type": "execute_result",
          "data": {
            "text/plain": [
              "F_onewayResult(statistic=1.4687116564417177, pvalue=0.23880225542687447)"
            ]
          },
          "metadata": {},
          "execution_count": 17
        }
      ]
    },
    {
      "cell_type": "markdown",
      "source": [
        "El resultado de esta prueba indica que existe una diferencia estadísticamente significativa entre la satisfacción de los clientes en relación a la comida"
      ],
      "metadata": {
        "id": "L6RoeZBqgFju"
      }
    },
    {
      "cell_type": "code",
      "source": [],
      "metadata": {
        "id": "2v7z4qQNgE-Q"
      },
      "execution_count": null,
      "outputs": []
    },
    {
      "cell_type": "code",
      "source": [],
      "metadata": {
        "id": "dzRR4jJxeick"
      },
      "execution_count": null,
      "outputs": []
    },
    {
      "cell_type": "markdown",
      "source": [
        "# Ejemplo ANOVA\n",
        "\n",
        "Supongamos que un grupo de estudiantes está interesado en evaluar si la cantidad de horas de estudio influye en las calificaciones obtenidas en un examen de matemáticas. Para ello, se dividen los estudiantes en tres grupos según la cantidad de horas de estudio:\n",
        "\n",
        "Grupo 1: Estudiantes que estudiaron durante 1 a 3 horas.\n",
        "Grupo 2: Estudiantes que estudiaron durante 4 a 6 horas.\n",
        "Grupo 3: Estudiantes que estudiaron durante más de 6 horas.\n",
        "Luego, se realiza un examen de matemáticas y se registran las calificaciones de cada estudiante en un DataFrame de pandas:\n",
        "\n"
      ],
      "metadata": {
        "id": "cmOHZLRE21OC"
      }
    },
    {
      "cell_type": "code",
      "source": [
        "import pandas as pd\n",
        "\n",
        "\n",
        "# Crear DataFrame\n",
        "datos = pd.DataFrame({'Horas de estudio': ['1-3', '1-3', '1-3', '1-3', '4-6', '4-6', '4-6', '4-6', '6+', '6+', '6+', '6+'],\n",
        "                      'Calificación': [85, 80, 75, 70, 95, 90, 85, 80, 100, 95, 90, 85]})"
      ],
      "metadata": {
        "id": "iz_VfdDk21A8"
      },
      "execution_count": 4,
      "outputs": []
    },
    {
      "cell_type": "markdown",
      "source": [
        "Una vez que se tienen los datos, se puede utilizar la función f_oneway de la biblioteca scipy.stats para realizar la prueba ANOVA:\n"
      ],
      "metadata": {
        "id": "JiK3LQU33JLG"
      }
    },
    {
      "cell_type": "code",
      "source": [
        "from scipy.stats import f_oneway\n",
        "\n",
        "# Realizar prueba ANOVA\n",
        "grupo1 = datos[datos['Horas de estudio'] == '1-3']['Calificación']\n",
        "grupo2 = datos[datos['Horas de estudio'] == '4-6']['Calificación']\n",
        "grupo3 = datos[datos['Horas de estudio'] == '6+']['Calificación']\n",
        "\n",
        "resultado = f_oneway(grupo1, grupo2, grupo3)\n",
        "\n",
        "# Mostrar resultado\n",
        "print('Estadístico F:', resultado.statistic)\n",
        "print('Valor p:', resultado.pvalue)"
      ],
      "metadata": {
        "colab": {
          "base_uri": "https://localhost:8080/"
        },
        "id": "QjUsTLw7208h",
        "outputId": "13bd9030-6929-4159-80c7-37d9178b2abd"
      },
      "execution_count": 7,
      "outputs": [
        {
          "output_type": "stream",
          "name": "stdout",
          "text": [
            "Estadístico F: 5.600000000000001\n",
            "Valor p: 0.02630329343904726\n"
          ]
        }
      ]
    },
    {
      "cell_type": "markdown",
      "source": [
        "En este ejemplo, el resultado de la prueba ANOVA muestra que el estadístico F es de 5.6 y el valor p es de 0.026, lo que indica que hay una diferencia estadísticamente significativa entre las calificaciones obtenidas por los tres grupos de estudiantes. Es decir, la cantidad de horas de estudio influye en las calificaciones obtenidas en el examen de matemáticas. \n",
        "En resumen, la prueba ANOVA es una técnica estadística utilizada para comparar las medias de tres o más grupos independientes y evaluar si las diferencias observadas son estadísticamente significativas."
      ],
      "metadata": {
        "id": "7c_YV2LH3l6Q"
      }
    }
  ]
}