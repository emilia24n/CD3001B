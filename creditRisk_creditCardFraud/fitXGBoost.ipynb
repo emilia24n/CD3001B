{
 "cells": [
  {
   "cell_type": "code",
   "execution_count": 18,
   "id": "42189bf6-0bc8-4caa-ad59-c89d0574e627",
   "metadata": {
    "tags": []
   },
   "outputs": [],
   "source": [
    "import pandas as pd\n",
    "import xgboost\n",
    "from sklearn.model_selection import train_test_split\n",
    "import random"
   ]
  },
  {
   "cell_type": "code",
   "execution_count": 33,
   "id": "7fb576a0-89a9-4dd1-b1a5-863507225390",
   "metadata": {
    "tags": []
   },
   "outputs": [],
   "source": [
    "df = pd.read_csv('./../creditRisk_creditCardFraud/data_fraude.csv')"
   ]
  },
  {
   "cell_type": "code",
   "execution_count": 34,
   "id": "b4feb5c3-923c-4505-a5c4-553c7e456203",
   "metadata": {},
   "outputs": [],
   "source": [
    "df = df.rename(columns={'0.1':'Class'}).\\\n",
    "drop('Unnamed: 0',axis=1)\n",
    "\n",
    "yvar = df.Class\n",
    "xvars = df[[x for x in df.columns if x != 'Class']]"
   ]
  },
  {
   "cell_type": "code",
   "execution_count": 39,
   "id": "1be3fbec-15d0-4d06-8a1a-e288de66db11",
   "metadata": {
    "tags": []
   },
   "outputs": [],
   "source": [
    "xtrain, xtest, ytrain, ytest = train_test_split(xvars, yvar, train_size = 0.80, random_state = 2)\n"
   ]
  },
  {
   "cell_type": "code",
   "execution_count": 57,
   "id": "7e4a92c3-640c-42cf-a131-454d77713ad7",
   "metadata": {
    "tags": []
   },
   "outputs": [],
   "source": [
    "trainXGB = xgboost.DMatrix(data=xtrain,\n",
    "                label=ytrain)\n",
    "\n",
    "\n",
    "testXGB = xgboost.DMatrix(data=xtest,\n",
    "                          label=ytest\n",
    "                         )"
   ]
  },
  {
   "cell_type": "code",
   "execution_count": 75,
   "id": "890024d7-9c04-45ab-8710-012822419c6f",
   "metadata": {
    "tags": []
   },
   "outputs": [
    {
     "name": "stdout",
     "output_type": "stream",
     "text": [
      "[0]\ttrain-auc:0.96948+0.00139\ttest-auc:0.96561+0.01069\n",
      "[1]\ttrain-auc:0.97373+0.00279\ttest-auc:0.97055+0.01067\n",
      "[2]\ttrain-auc:0.97764+0.00351\ttest-auc:0.97346+0.01248\n",
      "[3]\ttrain-auc:0.97867+0.00335\ttest-auc:0.97485+0.01337\n",
      "[4]\ttrain-auc:0.98048+0.00272\ttest-auc:0.97691+0.01246\n",
      "[5]\ttrain-auc:0.98165+0.00334\ttest-auc:0.97701+0.01291\n",
      "[6]\ttrain-auc:0.98290+0.00355\ttest-auc:0.97813+0.01160\n",
      "[7]\ttrain-auc:0.98329+0.00392\ttest-auc:0.97814+0.01175\n",
      "[8]\ttrain-auc:0.98386+0.00384\ttest-auc:0.97843+0.01183\n",
      "[9]\ttrain-auc:0.98425+0.00366\ttest-auc:0.97873+0.01233\n"
     ]
    }
   ],
   "source": [
    "best_metric = 0\n",
    "best_params = list()\n",
    "iters = 1\n",
    "for iteration in range(iters):\n",
    "\n",
    "    params = {\n",
    "            'tree_method' : 'exact',\n",
    "            'booster' : 'gbtree', # 'gblinear'\n",
    "            'eta' : random.uniform(0.01, 0.3),\n",
    "            'max_depth' : random.randint(5,14),\n",
    "            'reg_lambda' : random.uniform(0.01, 0.4),\n",
    "            'reg_alpha' : random.uniform(0.01, 0.4),\n",
    "            'gamma' : random.randint(0, 20),\n",
    "            'subsample' : random.uniform(0.5, 1),\n",
    "            'colsample_bytree' : random.uniform(0.5, 1),\n",
    "            'objective' : 'binary:logistic',\n",
    "            'eval_metric' : 'auc'\n",
    "        }\n",
    "\n",
    "    xgb_cv = xgboost.cv(\n",
    "        params = params, \n",
    "        dtrain = trainXGB, \n",
    "           nfold=10,\n",
    "           metrics={'auc'}, \n",
    "           seed=0,\n",
    "           callbacks=[xgboost.callback.EvaluationMonitor(show_stdv=True),\n",
    "                      xgboost.callback.EarlyStopping(2)])\n",
    "    "
   ]
  },
  {
   "cell_type": "code",
   "execution_count": null,
   "id": "d03a0eaf-fba0-46ed-b346-8d7a8f87060b",
   "metadata": {},
   "outputs": [],
   "source": [
    "best_metric = 0\n",
    "best_params = list()\n",
    "    \n",
    "for iteration in 1:iter:\n",
    "\n",
    "    \n",
    "\n",
    "    xgb_cv <- \n",
    "    xgb.cv(\n",
    "      nfold = 10,\n",
    "      params = params,\n",
    "      nrounds = 20000,\n",
    "      data = trainXGB,\n",
    "      verbose = 2,\n",
    "      maximize = T,\n",
    "      early_stopping_rounds = 2\n",
    "    )\n",
    "\n",
    "auc = xgb_cv$evaluation_log$test_auc_mean[xgb_cv$best_iteration]\n",
    "\n",
    "if(auc > best_metric){\n",
    "  best_metric = xgb_cv$evaluation_log$test_auc_mean[xgb_cv$best_iteration]\n",
    "  best_params = params\n",
    "}\n",
    "}\n",
    "\n",
    "finalXGB <-\n",
    "xgb.train(\n",
    "  params = best_params,\n",
    "  nrounds = 20000,\n",
    "  data = trainXGB,\n",
    "  verbose = 2,\n",
    "  maximize = F,\n",
    "  early_stopping_rounds = 5,\n",
    "  watchlist = list(train = trainXGB,\n",
    "                   test = testXGB)\n",
    ")\n",
    "\n",
    "return(list(finalXGB = finalXGB,\n",
    "          best_params = best_params))\n",
    "}\n",
    "\n",
    "}\n",
    "\n",
    "\n",
    "\n",
    "\n",
    "\n",
    "\n"
   ]
  }
 ],
 "metadata": {
  "kernelspec": {
   "display_name": "Python 3 (ipykernel)",
   "language": "python",
   "name": "python3"
  },
  "language_info": {
   "codemirror_mode": {
    "name": "ipython",
    "version": 3
   },
   "file_extension": ".py",
   "mimetype": "text/x-python",
   "name": "python",
   "nbconvert_exporter": "python",
   "pygments_lexer": "ipython3",
   "version": "3.11.2"
  }
 },
 "nbformat": 4,
 "nbformat_minor": 5
}
