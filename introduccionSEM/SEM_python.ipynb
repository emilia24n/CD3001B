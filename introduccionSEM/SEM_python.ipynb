{
 "cells": [
  {
   "cell_type": "markdown",
   "id": "9125e8d2-58db-427e-98ed-0e05d80557b8",
   "metadata": {},
   "source": [
    "# STRUCTURAL EQUATION MODELS WITH PYTHON"
   ]
  },
  {
   "cell_type": "code",
   "execution_count": 69,
   "id": "a763cf7f-9ca7-44b7-aff7-67699e58c8ea",
   "metadata": {
    "tags": []
   },
   "outputs": [],
   "source": [
    "## https://semopy.com/\n",
    "## Igolkina, Anna A. Mescheryakov, G. semopy: A Python Package for Structural Equation Modeling. Taylor and Francis. Pages 952-963 | Published online: 18 Feb 2020\n"
   ]
  },
  {
   "cell_type": "markdown",
   "id": "f063a2af-a576-4a4b-a278-15527f78c041",
   "metadata": {},
   "source": [
    "### Table of Contents"
   ]
  },
  {
   "cell_type": "markdown",
   "id": "b02522b9-eb51-4a98-bd98-1acfe8ef8239",
   "metadata": {
    "tags": []
   },
   "source": [
    "[1. Introduction and General Overview](#1)\n",
    "\n",
    "[2. Syntax and Relations](#2)\n",
    "\n",
    "[3. Prediction and imputation](#3)\n",
    "\n",
    "[4. Factor Scores](#4)\n",
    "\n",
    "[5. Intercepts](#5)\n",
    "\n",
    "[6. Mean Components Model](#6)\n",
    "\n",
    "[7. REML and ML](#7)\n",
    "\n",
    "[8. Random Effects](#8)\n",
    "\n",
    "[9. Ordinal Variables](#9)\n",
    "\n",
    "[10. Fit Metrics](#10)\n",
    "\n",
    "[11. Confirmatory Factor Analysis](#11)\n",
    "\n",
    "[12. Visualisation](#12)\n",
    "\n",
    "[13. Report](#13)\n"
   ]
  },
  {
   "cell_type": "markdown",
   "id": "8109f4e9-fe34-40a2-8113-243184d82a9e",
   "metadata": {},
   "source": [
    "<a id='1'></a>"
   ]
  },
  {
   "cell_type": "markdown",
   "id": "83db39ae-7b70-4229-b8f7-d8ca38405b35",
   "metadata": {},
   "source": [
    "## 1. Introduction and General Overview"
   ]
  },
  {
   "cell_type": "code",
   "execution_count": null,
   "id": "0bb2a059-450a-41d7-bfdc-1376d7e70e55",
   "metadata": {
    "tags": []
   },
   "outputs": [],
   "source": [
    "pip install semopy"
   ]
  },
  {
   "cell_type": "code",
   "execution_count": 3,
   "id": "63c1194b-86b2-4f3c-8093-ba9f68c9ff19",
   "metadata": {
    "tags": []
   },
   "outputs": [],
   "source": [
    "import semopy\n",
    "import pandas as pd"
   ]
  },
  {
   "cell_type": "markdown",
   "id": "56fbb3d0-0dea-43df-8508-8ffa53bb6ab0",
   "metadata": {
    "tags": []
   },
   "source": [
    "#### Let's inspect a model"
   ]
  },
  {
   "cell_type": "code",
   "execution_count": 4,
   "id": "0f5338fb-fb96-4d1a-a57d-c33bb6b25dd6",
   "metadata": {
    "tags": []
   },
   "outputs": [
    {
     "name": "stdout",
     "output_type": "stream",
     "text": [
      "# measurement model\n",
      "ind60 =~ x1 + x2 + x3\n",
      "dem60 =~ y1 + y2 + y3 + y4\n",
      "dem65 =~ y5 + y6 + y7 + y8\n",
      "# regressions\n",
      "dem60 ~ ind60\n",
      "dem65 ~ ind60 + dem60\n",
      "# residual correlations\n",
      "y1 ~~ y5\n",
      "y2 ~~ y4 + y6\n",
      "y3 ~~ y7\n",
      "y4 ~~ y8\n",
      "y6 ~~ y8\n"
     ]
    }
   ],
   "source": [
    "desc = semopy.examples.political_democracy.get_model()\n",
    "print(desc)"
   ]
  },
  {
   "cell_type": "markdown",
   "id": "92042004-f9d2-4546-90c5-fa36846e6c25",
   "metadata": {},
   "source": [
    "#### Let's get the associated dataset:"
   ]
  },
  {
   "cell_type": "code",
   "execution_count": 4,
   "id": "8e9ad124-3867-4fe5-9676-0718efea7e8e",
   "metadata": {
    "tags": []
   },
   "outputs": [
    {
     "name": "stdout",
     "output_type": "stream",
     "text": [
      "      y1        y2        y3        y4        y5        y6        y7  \\\n",
      "1   2.50  0.000000  3.333333  0.000000  1.250000  0.000000  3.726360   \n",
      "2   1.25  0.000000  3.333333  0.000000  6.250000  1.100000  6.666666   \n",
      "3   7.50  8.800000  9.999998  9.199991  8.750000  8.094061  9.999998   \n",
      "4   8.90  8.800000  9.999998  9.199991  8.907948  8.127979  9.999998   \n",
      "5  10.00  3.333333  9.999998  6.666666  7.500000  3.333333  9.999998   \n",
      "\n",
      "         y8        x1        x2        x3  \n",
      "1  3.333333  4.442651  3.637586  2.557615  \n",
      "2  0.736999  5.384495  5.062595  3.568079  \n",
      "3  8.211809  5.961005  6.255750  5.224433  \n",
      "4  4.615086  6.285998  7.567863  6.267495  \n",
      "5  6.666666  5.863631  6.818924  4.573679  \n"
     ]
    }
   ],
   "source": [
    "data = semopy.examples.political_democracy.get_data()\n",
    "print(data.head())"
   ]
  },
  {
   "cell_type": "markdown",
   "id": "843a7f93-b3af-43f8-97d4-0cd9755d00cd",
   "metadata": {},
   "source": [
    "#### Fit the model"
   ]
  },
  {
   "cell_type": "code",
   "execution_count": 5,
   "id": "456f6095-223b-4ad2-9660-610b94a6edfa",
   "metadata": {
    "tags": []
   },
   "outputs": [
    {
     "name": "stdout",
     "output_type": "stream",
     "text": [
      "Name of objective: MLW\n",
      "Optimization method: SLSQP\n",
      "Optimization successful.\n",
      "Optimization terminated successfully\n",
      "Objective value: 0.508\n",
      "Number of iterations: 52\n",
      "Params: 2.180 1.819 1.257 1.058 1.265 1.186 1.280 1.266 1.482 0.572 0.838 0.624 1.893 1.320 2.156 7.385 0.793 5.067 0.347 3.148 1.357 4.954 3.951 0.082 0.467 0.172 0.120 2.352 3.256 3.430 0.448\n"
     ]
    }
   ],
   "source": [
    "mod = semopy.Model(desc)\n",
    "res = mod.fit(data)\n",
    "print(res)"
   ]
  },
  {
   "cell_type": "markdown",
   "id": "7f8c1022-9a9d-4ae6-916b-0c6f7775dc29",
   "metadata": {
    "tags": []
   },
   "source": [
    "#### Let's inspect parameters estimates"
   ]
  },
  {
   "cell_type": "code",
   "execution_count": 11,
   "id": "9fe8becd-fb52-4bc4-8047-854cb3885fa4",
   "metadata": {
    "tags": []
   },
   "outputs": [
    {
     "name": "stdout",
     "output_type": "stream",
     "text": [
      "     lval  op   rval  Estimate  Std. Err    z-value   p-value\n",
      "0   dem60   ~  ind60  1.482379  0.399024   3.715017  0.000203\n",
      "1   dem65   ~  ind60  0.571912  0.221383   2.583364  0.009784\n",
      "2   dem65   ~  dem60  0.837574  0.098446   8.507992       0.0\n",
      "3      x1   ~  ind60  1.000000         -          -         -\n",
      "4      x2   ~  ind60  2.180494  0.138565  15.736254       0.0\n",
      "5      x3   ~  ind60  1.818546  0.151993   11.96465       0.0\n",
      "6      y1   ~  dem60  1.000000         -          -         -\n",
      "7      y2   ~  dem60  1.256819  0.182687   6.879647       0.0\n",
      "8      y3   ~  dem60  1.058174  0.151521   6.983699       0.0\n",
      "9      y4   ~  dem60  1.265186  0.145151   8.716344       0.0\n",
      "10     y5   ~  dem65  1.000000         -          -         -\n",
      "11     y6   ~  dem65  1.185743  0.168908   7.020032       0.0\n",
      "12     y7   ~  dem65  1.279717  0.159996    7.99841       0.0\n",
      "13     y8   ~  dem65  1.266084  0.158238   8.001141       0.0\n",
      "14  dem60  ~~  dem60  3.950849  0.920451   4.292296  0.000018\n",
      "15  dem65  ~~  dem65  0.172210  0.214861   0.801494  0.422846\n",
      "16  ind60  ~~  ind60  0.448321  0.086677   5.172345       0.0\n",
      "17     y1  ~~     y5  0.624423  0.358435   1.742083  0.081494\n",
      "18     y1  ~~     y1  1.892743   0.44456   4.257565  0.000021\n",
      "19     y2  ~~     y4  1.319589   0.70268   1.877937   0.06039\n",
      "20     y2  ~~     y6  2.156164  0.734155   2.936934  0.003315\n",
      "21     y2  ~~     y2  7.385292  1.375671   5.368501       0.0\n",
      "22     y3  ~~     y7  0.793329  0.607642   1.305585  0.191694\n",
      "23     y3  ~~     y3  5.066628  0.951722   5.323646       0.0\n",
      "24     y4  ~~     y8  0.347222  0.442234   0.785154  0.432363\n",
      "25     y4  ~~     y4  3.147911  0.738841   4.260605   0.00002\n",
      "26     y6  ~~     y8  1.357037    0.5685   2.387047  0.016984\n",
      "27     y6  ~~     y6  4.954364  0.914284   5.418843       0.0\n",
      "28     x1  ~~     x1  0.081573  0.019495   4.184317  0.000029\n",
      "29     x3  ~~     x3  0.466732  0.090168   5.176276       0.0\n",
      "30     x2  ~~     x2  0.119894  0.069747   1.718973  0.085619\n",
      "31     y5  ~~     y5  2.351910  0.480369   4.896044  0.000001\n",
      "32     y8  ~~     y8  3.256389   0.69504   4.685182  0.000003\n",
      "33     y7  ~~     y7  3.430032  0.712732   4.812512  0.000001\n"
     ]
    }
   ],
   "source": [
    "ins = mod.inspect()\n",
    "print(ins)"
   ]
  },
  {
   "cell_type": "markdown",
   "id": "394ceaf5-ba7a-4d23-9dbd-4baac643fc07",
   "metadata": {
    "tags": []
   },
   "source": [
    "#### Zoom Into the Fit Method"
   ]
  },
  {
   "cell_type": "markdown",
   "id": "c27cf722-397c-48f5-b8f4-919a3434bd91",
   "metadata": {},
   "source": [
    "The fit method has 3 arguments of interest:\n",
    "\n",
    "1) data — dataset in the form of pandas DataFrame;\n",
    "\n",
    "2) obj — name of objective function to minimize:\n",
    "    * \"MLW\" (the default): Wishart loglikelihood\n",
    "    * \"ULS\": Unweighted Least Squares\n",
    "    * \"GLS\": Generalized Least Squares\n",
    "    * \"WLS\": Weighted Least Squares (also known as an Asymptotic Distribution-Free Estimator)\n",
    "    * \"DWLS\": Diagonally Weighted Least Squares (also known as robust WLS)\n",
    "    * \"FIML\": Full Information Maximum Likelihood (when data has no missing values FIML is effectively a Multivariate Normal Maximum Likelihood)\n",
    "  \n",
    "3) solver — name of optimization method (at the moment only [scipy-minimize methods](https://docs.scipy.org/doc/scipy/reference/generated/scipy.optimize.minimize.html) are available, the default is \"SLSQP\"). More info on [scipy.optimize.minimize](https://docs.scipy.org/doc/scipy/reference/optimize.html)"
   ]
  },
  {
   "cell_type": "markdown",
   "id": "0ff8f762-b39a-4471-97a4-443cb6fc73cf",
   "metadata": {},
   "source": [
    "#### Inspecting Resutls"
   ]
  },
  {
   "cell_type": "markdown",
   "id": "e77c0054-b584-406b-ba7f-db34f4dd73b7",
   "metadata": {
    "tags": []
   },
   "source": [
    "The inspect method returns a pandas DataFrame with parameter estimates and p-values. DataFrame will contain estimates, standard errors, z-scores and p-values (see Built-in examples).  \n",
    "  \n",
    "This method, however, is more versatile than it may look at the first glance; it has 3 arguments of interest:\n",
    "1) **mode** — dictates the behaviour of the method. Can take 2 values:\n",
    "    1) \"list\" (the default): DataFrame with estimates is returned;\n",
    "    2) \"mx\": Dictionary with model iternal structures (matrices) is returned.\n",
    "2) **what** — has effect only if mode is \"mx\"; determines what values are displayed in place of estimated parameters in matrices. Can take 3 values:\n",
    "    1) \"est\" (the default): matrices are returned as-is with current parameter estimates;\n",
    "    2) \"start\": matrices are returned filled with the starting values of parameters.\n",
    "    3) \"names\": instead of values, parameter names/identifiers are displayed in place of their respective parameters.\n",
    "3) **std_est** -- if True or \"lv\", standardized coefficients are also returned (non-output variables are not standardized in case of \"lv\"). The default is False."
   ]
  },
  {
   "cell_type": "markdown",
   "id": "d34a4357-f49c-4b16-9a70-06d73365fe11",
   "metadata": {
    "tags": []
   },
   "source": [
    "<a id='2'></a>"
   ]
  },
  {
   "cell_type": "markdown",
   "id": "43ddaec8-fe28-4767-baa3-ecff32785602",
   "metadata": {},
   "source": [
    "## 2. Syntax and Relations"
   ]
  },
  {
   "cell_type": "markdown",
   "id": "359a1009-210c-426e-a461-780de88bb66d",
   "metadata": {},
   "source": [
    "Relations typically consist of left-sided variables (lvalues) and right-sided values (rvalues) separated by an operator character that constitutes the nature of relationship between lvalues and rvalues. In semopy, lvalues are separated by a comma \",\" sign and rvalues are separated by a plus \"+\" sign. The supported operators are:"
   ]
  },
  {
   "cell_type": "markdown",
   "id": "60f96a27-88a5-4325-99bc-bd964b0489ce",
   "metadata": {},
   "source": [
    "#### Regression operator: `y ~ x1 + x2 + x3`"
   ]
  },
  {
   "cell_type": "markdown",
   "id": "432a9859-11bc-41b8-a1c2-dfea86d0dd5c",
   "metadata": {},
   "source": [
    "Constituted by a tilde symbol ~ implies that rvalues regress onto lvalues. For instance, consider a multivaraite regression model where it implies that x1, x2, x3 regress onto y."
   ]
  },
  {
   "cell_type": "markdown",
   "id": "7b4f711e-5753-413d-aac4-88887db43035",
   "metadata": {},
   "source": [
    "#### Measurement operator: `eta =~ y1 + y2 + y3`"
   ]
  },
  {
   "cell_type": "markdown",
   "id": "14a4f06d-18f6-4919-b6e8-567734960724",
   "metadata": {},
   "source": [
    "Defined by =~ symbols, it's effectively a syntax sugar and translates into a regression operator with lvalues and rvalues swapped. However, it also postulates that lvalues are latent variables and, unless specified otherwise, fixes the first loading in the relationship between a latent factor and an observed variable to 1.0 It introduces a latent factor eta into the model that regresses onto y1, y2, y3. The first regression coefficient between y1 and eta is fixed to 1.0."
   ]
  },
  {
   "cell_type": "markdown",
   "id": "d454f4a8-ea8f-4ec5-834a-c61412b4f737",
   "metadata": {},
   "source": [
    "#### Covariance operator `a ~~ b + c` `c ~~ c`"
   ]
  },
  {
   "cell_type": "markdown",
   "id": "a481a5e5-220a-491b-b72b-ac77ebd46c1d",
   "metadata": {},
   "source": [
    "Variances and covariances between variables are defined by ~~ symbols. The above example adds covariance parameters between a and b, between a and c, and parametrises variance of c."
   ]
  },
  {
   "cell_type": "markdown",
   "id": "b98daa2d-46b6-42f3-ac7d-cad398ee41aa",
   "metadata": {},
   "source": [
    "When comma , sign is used in an lvalue part of a relation, the relation is effectively duplicated for each lvalue:"
   ]
  },
  {
   "cell_type": "markdown",
   "id": "57d612cd-b880-4949-87b0-9044259b35e3",
   "metadata": {
    "tags": []
   },
   "source": [
    "`y1, y2 ~ x1 + x2 + x3` translates into `y1 ~ x1 + x2 + x3` `y2 ~ x1 + x2 + x3`"
   ]
  },
  {
   "cell_type": "markdown",
   "id": "c735b5df-a5a9-423f-9265-a2772bd55fba",
   "metadata": {
    "tags": []
   },
   "source": [
    "#### Naming Variables on the fly"
   ]
  },
  {
   "cell_type": "markdown",
   "id": "399aca2b-9d08-4186-bb1e-a99c40cb3d8f",
   "metadata": {},
   "source": [
    "Variables in the right-value part of relations can be preceeded with either a string or a float separated by a * character. If it is a string, then it will be assigned to the corresponding parameter as its new name. It can be used either to reuse the same parameter in different parts of SEM model or to refer it in constraints. The name of parameter will be seen if inspect method of the Model is called with an appropriate arguments, for example:"
   ]
  },
  {
   "cell_type": "code",
   "execution_count": 20,
   "id": "bcee7b35-7f50-434c-abe5-455835ede721",
   "metadata": {
    "tags": []
   },
   "outputs": [
    {
     "name": "stdout",
     "output_type": "stream",
     "text": [
      "     x1             x2         x3\n",
      "y1  _b1  JuanRodriguez  MissLetty\n",
      "x1  1.0            0.0        0.0\n",
      "x2  0.0            1.0        0.0\n",
      "x3  0.0            0.0        1.0\n"
     ]
    }
   ],
   "source": [
    "from semopy import Model\n",
    "from semopy.examples import multivariate_regression\n",
    "\n",
    "desc = '''y1 ~ x1 + JuanRodriguez*x2 + MissLetty*x3'''\n",
    "data = multivariate_regression.get_data()\n",
    "mod = Model(desc)\n",
    "mod.fit(data)\n",
    "print(mod.inspect('mx', what='names')['Lambda'])"
   ]
  },
  {
   "cell_type": "markdown",
   "id": "82b0d0a2-e9a8-4c2d-834f-46492e5dcad5",
   "metadata": {},
   "source": [
    "#### Fixing Parameters to Constant values"
   ]
  },
  {
   "cell_type": "code",
   "execution_count": 22,
   "id": "ebc8d093-c4c7-4e62-9fc5-bf4dfca9a1d0",
   "metadata": {
    "tags": []
   },
   "outputs": [
    {
     "name": "stdout",
     "output_type": "stream",
     "text": [
      "  lval  op rval   Estimate  Std. Err   z-value   p-value\n",
      "0   y1   ~   x1  -1.250803  0.600134 -2.084207  0.037141\n",
      "1   y1   ~   x2   6.000000         -         -         -\n",
      "2   y1   ~   x3   0.241955  0.590724  0.409591  0.682106\n",
      "3   y1  ~~   y1  42.637130  6.029801  7.071068       0.0\n"
     ]
    }
   ],
   "source": [
    "from semopy import Model\n",
    "from semopy.examples import \\\n",
    "     multivariate_regression\n",
    "\n",
    "desc = '''y1 ~ x1 + 6*x2 + x3'''\n",
    "data = multivariate_regression.get_data()\n",
    "mod = Model(desc)\n",
    "mod.fit(data)\n",
    "print(mod.inspect())"
   ]
  },
  {
   "cell_type": "markdown",
   "id": "6933b1f0-1ea8-4804-b6ee-50607eab8bd6",
   "metadata": {},
   "source": [
    "### Operations and Constraints"
   ]
  },
  {
   "cell_type": "markdown",
   "id": "2daf94c5-4eaa-431a-bdaa-b90c9d7e7071",
   "metadata": {},
   "source": [
    "Operations are actions that are to be performed onto certain semopy entities, such as variables or parameters. In semopy, operations have structure OperationName(OperationParameters) entity_1, entity_2, ..., entity_n. Model supports the following operations:"
   ]
  },
  {
   "cell_type": "markdown",
   "id": "dd9133cb-fd7d-4b2a-b527-31de0df92c7a",
   "metadata": {},
   "source": [
    "**DEFINE(latent)**"
   ]
  },
  {
   "cell_type": "code",
   "execution_count": null,
   "id": "48b46ae7-b411-4076-8b62-3fbbbf06c6cb",
   "metadata": {
    "tags": []
   },
   "outputs": [],
   "source": [
    "desc='''y1 ~ 1.0 * eta1\n",
    "        y2, y3 ~ eta1 + eta2\n",
    "        y3 ~ 1.5 * eta2\n",
    "        DEFINE(latent) eta1 eta2'''\n",
    "\n",
    "data = multivariate_regression.get_data()\n",
    "mod = Model(desc)\n",
    "mod.fit(data)\n",
    "print(mod.inspect())"
   ]
  },
  {
   "cell_type": "markdown",
   "id": "a9defc07-9d29-463a-b531-7f82bee462c9",
   "metadata": {},
   "source": [
    "It sets variables eta1, eta2 as latents. Notice that this is the same as:"
   ]
  },
  {
   "cell_type": "markdown",
   "id": "a412e478-4b9f-4408-84b2-213bc7dddfb7",
   "metadata": {},
   "source": [
    "`eta1 =~ y1 + y2 + y3`  \n",
    "\n",
    "`eta2 =~ y2 + y3 + 1.5*y4`"
   ]
  },
  {
   "cell_type": "markdown",
   "id": "a2485db7-5934-45c0-ab72-d5cc15e6b7fe",
   "metadata": {},
   "source": [
    "**DEFINE(ordinal)**"
   ]
  },
  {
   "cell_type": "markdown",
   "id": "7c026386-c642-4781-b956-90a217a02e2e",
   "metadata": {},
   "source": [
    "Makes semopy treat variables as ordinal, i.e. their polychoric and/or polyserial correlations will be estimated. Valid only for Model."
   ]
  },
  {
   "cell_type": "code",
   "execution_count": null,
   "id": "6c11aada-bfa2-44fd-855b-f9e4f95ef9bc",
   "metadata": {
    "tags": []
   },
   "outputs": [],
   "source": [
    "'''y ~ x1 + cat1 + cat2\n",
    "   DEFINE(ordinal) cat1 cat2'''"
   ]
  },
  {
   "cell_type": "markdown",
   "id": "73ea4c7a-2134-4d47-9d10-1f39537463b7",
   "metadata": {},
   "source": [
    "Here, Pearsons correlations between cat1 and cat2 variables will be substituted with polychoric correlations, and correlations inbetween cat1, cat2 and x, y with polyserial correlations."
   ]
  },
  {
   "cell_type": "markdown",
   "id": "6725034e-67ff-45ca-8cf7-8fa9a74adaed",
   "metadata": {},
   "source": [
    "**START(x)**"
   ]
  },
  {
   "cell_type": "markdown",
   "id": "811abdf3-ef7d-46d5-91d2-a65cc0e0302a",
   "metadata": {},
   "source": [
    "Sets starting value x to parameters. Example:"
   ]
  },
  {
   "cell_type": "code",
   "execution_count": null,
   "id": "271e8a85-b541-41e1-a200-ba3c2d787c8e",
   "metadata": {
    "tags": []
   },
   "outputs": [],
   "source": [
    "'''y ~ a*x1 + b*x2 + c*x3\n",
    "   START(1.5) a b\n",
    "   START(-5) c'''"
   ]
  },
  {
   "cell_type": "markdown",
   "id": "eebf1e55-1e00-40c6-9534-350453d397e6",
   "metadata": {
    "tags": []
   },
   "source": [
    "**BOUND(l, r)**"
   ]
  },
  {
   "cell_type": "markdown",
   "id": "b4169fad-c054-4a96-a4a5-929a89b51e65",
   "metadata": {},
   "source": [
    "Sets bound constraints in interval (l, r) to parameters"
   ]
  },
  {
   "cell_type": "code",
   "execution_count": null,
   "id": "6738b01e-4344-486d-a8fa-a55848f39e3b",
   "metadata": {
    "tags": []
   },
   "outputs": [],
   "source": [
    "'''y ~ x1 + x2 + x3\n",
    "   y ~~ a * y\n",
    "   BOUND(4, 100) a'''"
   ]
  },
  {
   "cell_type": "markdown",
   "id": "6443c42d-e75b-47d9-bef9-dd6d42d719e3",
   "metadata": {
    "tags": []
   },
   "source": [
    "**CONSTRAINT(constr)**"
   ]
  },
  {
   "cell_type": "code",
   "execution_count": null,
   "id": "a5df16f1-ae9f-4992-89c2-0ded1e5c6597",
   "metadata": {
    "tags": []
   },
   "outputs": [],
   "source": [
    "'''y ~ a * x1 + b * x2 + c * x3\n",
    "   y ~~ v * y\n",
    "   START(6) b\n",
    "   CONSTRAINT(exp(a) + log(b) = 10)\n",
    "   CONSTRAINT(v > cos(a)^2 + sin(b)^2)```"
   ]
  },
  {
   "cell_type": "markdown",
   "id": "76ae2709-9e44-41b6-8c3a-267373a67e70",
   "metadata": {},
   "source": [
    "Any sympy-compaitble formula can be supplied as constr."
   ]
  },
  {
   "cell_type": "markdown",
   "id": "594d35f3-3eb8-4906-972f-06e90896572f",
   "metadata": {
    "tags": []
   },
   "source": [
    "<a id='3'></a>"
   ]
  },
  {
   "cell_type": "markdown",
   "id": "7a7b3399-7933-4b33-8225-cd4462605c91",
   "metadata": {
    "tags": []
   },
   "source": [
    "## 3. Prediction and imputation"
   ]
  },
  {
   "cell_type": "markdown",
   "id": "be6f0080-13b7-47b2-a274-04940979e12c",
   "metadata": {},
   "source": [
    "All semopy models are equipped with predict method that does a SEM regression onto missing data given at least some of the observed variables. The regression is done by means of a conditional expectation of the vector of missing variables given some of the observed.\n",
    "  \n",
    "The predict method always returns a DataFrame with all the variables present in the model. The DataFrame that is passed to predict is merely an information on the data present, everything that is lacking in the DataFrame will be guessed by the predict routine. It's possible to pass a DataFrame with an arbitrary set of available variables in it with missing values. Furthermore, if one passes a DataFrame with missing values and an employed semopy model supports missing data, then it can be thought of as a prediction scheme. Example:"
   ]
  },
  {
   "cell_type": "code",
   "execution_count": 37,
   "id": "c0073248-4160-4551-adc6-482b7a05736c",
   "metadata": {
    "tags": []
   },
   "outputs": [
    {
     "name": "stdout",
     "output_type": "stream",
     "text": [
      "relative error is 2.17%\n"
     ]
    }
   ],
   "source": [
    "from semopy.examples import political_democracy\n",
    "from semopy import ModelMeans\n",
    "import numpy as np\n",
    "\n",
    "desc = political_democracy.get_model()\n",
    "data = political_democracy.get_data()\n",
    "\n",
    "i, v = 0, 'x1'\n",
    "x = data[v].values[i]\n",
    "\n",
    "data[v].values[i] = float('nan')\n",
    "model = ModelMeans(desc)\n",
    "model.fit(data, )\n",
    "preds = model.predict(data)\n",
    "diff = np.abs((x - preds[v].values[i])/x)\n",
    "print('relative error is {:.2f}%'.format(diff * 100))"
   ]
  },
  {
   "cell_type": "markdown",
   "id": "63690910-4906-4fcd-8139-2a2e727d3c72",
   "metadata": {},
   "source": [
    "If you use ModelMeans, ModelEffects or ModelGeneralizedEffects and don't need to impute missing data, you can quickly predict observed endogenous and latent variables by a known (at least, partially) set of exogenous variables by invoking the predict_exo method. Unlike predict, it considers only exogenous variables data for prediction. If any of the values in exogenous data are missing, or even if some of the exogenous variables themselves are missing, the missing values will be imputed with zeros."
   ]
  },
  {
   "cell_type": "markdown",
   "id": "f68556d4-5816-45cb-9515-b9eafb8c3725",
   "metadata": {},
   "source": [
    "<a id='4'></a>"
   ]
  },
  {
   "cell_type": "markdown",
   "id": "647f951b-9c18-4ffd-a079-61cbaaa3cf2c",
   "metadata": {},
   "source": [
    "## 4. Factor Scores"
   ]
  },
  {
   "cell_type": "markdown",
   "id": "251b8fac-ba7f-45e6-997e-6010a7037549",
   "metadata": {},
   "source": [
    "Models in semopy are equipped with predict_factors method that can be used for factor scores estimation. Let's see how the method works with Political Democracy dataset:"
   ]
  },
  {
   "cell_type": "code",
   "execution_count": 39,
   "id": "fdfade97-09e7-4a97-9773-451595c94f42",
   "metadata": {
    "tags": []
   },
   "outputs": [
    {
     "name": "stdout",
     "output_type": "stream",
     "text": [
      "      dem60     dem65     ind60\n",
      "0 -2.539528 -2.368729 -0.536216\n",
      "1 -2.345362 -1.513466  0.151093\n",
      "2  2.925690  2.998107  0.740218\n",
      "3  2.883632  3.021921  1.244115\n",
      "4  2.428383  2.422393  0.831255\n"
     ]
    }
   ],
   "source": [
    "from semopy.examples import political_democracy\n",
    "from semopy import Model\n",
    "\n",
    "desc = political_democracy.get_model()\n",
    "data = political_democracy.get_data()\n",
    "\n",
    "model = Model(desc)\n",
    "model.fit(data)\n",
    "factors = model.predict_factors(data)\n",
    "print(factors.head())"
   ]
  },
  {
   "cell_type": "markdown",
   "id": "6f32fc15-cf0a-4cbc-91ed-e521d149bc69",
   "metadata": {},
   "source": [
    "<a id='5'></a>"
   ]
  },
  {
   "cell_type": "markdown",
   "id": "57582bb6-3d8c-40d8-a817-448ae2446f40",
   "metadata": {
    "tags": []
   },
   "source": [
    "## 5. Intercepts"
   ]
  },
  {
   "cell_type": "markdown",
   "id": "59d03e46-02a5-4121-9e7f-77d193808241",
   "metadata": {},
   "source": [
    "Although rarely necessary, sometimes researcher might be interested in observed variables' means. It's straightforward to estimate means after estimating variance components. After obtaining variance components, we can estimate means using a GLS procedure by calling a estimate_means function:"
   ]
  },
  {
   "cell_type": "code",
   "execution_count": 41,
   "id": "5a17c4b3-3c7f-46d6-835d-cadc12c6c39f",
   "metadata": {
    "tags": []
   },
   "outputs": [
    {
     "name": "stdout",
     "output_type": "stream",
     "text": [
      "  lval op rval  Estimate\n",
      "0   x1  ~    1 -0.043750\n",
      "1   x2  ~    1  0.073704\n",
      "2   x3  ~    1 -0.056712\n",
      "3   y1  ~    1 -1.456624\n",
      "4   y2  ~    1  0.929309\n",
      "5   y3  ~    1  0.992039\n"
     ]
    }
   ],
   "source": [
    "from semopy.examples import multivariate_regression\n",
    "from semopy.means import estimate_means\n",
    "from semopy import Model\n",
    "\n",
    "desc = multivariate_regression.get_model()\n",
    "data = multivariate_regression.get_data()\n",
    "\n",
    "model = Model(desc)\n",
    "model.fit(data)\n",
    "print(estimate_means(model))"
   ]
  },
  {
   "cell_type": "markdown",
   "id": "6b2a98fb-7469-4736-b52f-0fce119cf256",
   "metadata": {},
   "source": [
    "Notice that exogenous variables x1, x2, x3 means are equal to their sample means (as expected) by calling"
   ]
  },
  {
   "cell_type": "code",
   "execution_count": 42,
   "id": "dd00428f-4751-4eab-9d74-e55b2d9e2167",
   "metadata": {
    "tags": []
   },
   "outputs": [
    {
     "name": "stdout",
     "output_type": "stream",
     "text": [
      "y1   -1.461698\n",
      "y2    1.105265\n",
      "y3    1.104522\n",
      "x1   -0.043750\n",
      "x2    0.073704\n",
      "x3   -0.056712\n",
      "dtype: float64\n"
     ]
    }
   ],
   "source": [
    "print(data.mean())"
   ]
  },
  {
   "cell_type": "markdown",
   "id": "4f8cb092-ce4e-466a-a183-ba834ba99334",
   "metadata": {},
   "source": [
    "<a id='6'></a>"
   ]
  },
  {
   "cell_type": "markdown",
   "id": "2d53b7ef-d54e-4439-92af-5e9dec92a321",
   "metadata": {
    "tags": []
   },
   "source": [
    "## 6. Mean Components Model"
   ]
  },
  {
   "cell_type": "markdown",
   "id": "d1146c34-f907-46cf-91a9-faf99501f593",
   "metadata": {},
   "source": [
    "semopy has a different model called ModelMeans that differs from Model in a way that it estimates mean components simultaneously with variance components as in a classical multivariate-normal MLE."
   ]
  },
  {
   "cell_type": "code",
   "execution_count": 44,
   "id": "655f64b6-7399-457f-90eb-23ca63b8f771",
   "metadata": {
    "tags": []
   },
   "outputs": [
    {
     "name": "stdout",
     "output_type": "stream",
     "text": [
      "   lval  op rval  Estimate  Std. Err    z-value       p-value\n",
      "0    y1   ~   x1 -1.389720  0.073417 -18.929022  0.000000e+00\n",
      "1    y1   ~   x2 -1.138398  0.087966 -12.941384  0.000000e+00\n",
      "2    y1   ~   x3 -0.317953  0.072576  -4.380966  1.181546e-05\n",
      "3    y2   ~   x1 -0.745740  0.097969  -7.611965  2.708944e-14\n",
      "4    y2   ~   x2  1.074526  0.117383   9.154020  0.000000e+00\n",
      "5    y2   ~   x3 -1.130938  0.096847 -11.677611  0.000000e+00\n",
      "6    y3   ~   x1  0.702778  0.064269  10.934870  0.000000e+00\n",
      "7    y3   ~   x2  1.235047  0.077005  16.038535  0.000000e+00\n",
      "8    y3   ~   x3 -0.920454  0.063533 -14.487837  0.000000e+00\n",
      "9    y1   ~    1 -1.456621  0.080268 -18.147061  0.000000e+00\n",
      "10   y2   ~    1  0.929294  0.107110   8.676035  0.000000e+00\n",
      "11   y3   ~    1  0.992040  0.070266  14.118332  0.000000e+00\n",
      "12   y3  ~~   y3  0.488724  0.069116   7.071068  1.537437e-12\n",
      "13   y2  ~~   y2  1.135630  0.160602   7.071068  1.537437e-12\n",
      "14   y1  ~~   y1  0.637755  0.090192   7.071068  1.537437e-12\n"
     ]
    }
   ],
   "source": [
    "from semopy.examples import multivariate_regression\n",
    "from semopy import ModelMeans\n",
    "desc = multivariate_regression.get_model()\n",
    "data = multivariate_regression.get_data()\n",
    "\n",
    "model = ModelMeans(desc)\n",
    "model.fit(data)\n",
    "print(model.inspect())"
   ]
  },
  {
   "cell_type": "markdown",
   "id": "d3ef8933-0453-4f90-b678-833f52c4d280",
   "metadata": {},
   "source": [
    "In semopy syntax, character 1 stands for an intercept. It can be manipulated and specified the in the model formulation the same way as any other variable, however in ModelMeans it is assumed that all endogenous observed variables have intercepts by default. This behaviour can be disabled by setting intercepts argument of the ModelMeans constructor to `False` i.e. `model = ModelMeans(desc, intercepts=False)`. In most cases it will produce the same estimates for other parameters if the data was centered beforehand (for example, by setting `data -= data.mean()`)"
   ]
  },
  {
   "cell_type": "code",
   "execution_count": 45,
   "id": "faba1803-3fe9-4a45-9e75-199914a74f62",
   "metadata": {
    "tags": []
   },
   "outputs": [
    {
     "name": "stdout",
     "output_type": "stream",
     "text": [
      "   lval  op rval  Estimate  Std. Err    z-value       p-value\n",
      "0    y1   ~   x1 -1.389716  0.073417 -18.929138  0.000000e+00\n",
      "1    y1   ~   x2 -1.138370  0.087965 -12.941189  0.000000e+00\n",
      "2    y1   ~   x3 -0.317955  0.072575  -4.381037  1.181158e-05\n",
      "3    y2   ~   x1 -0.745763  0.097970  -7.612163  2.686740e-14\n",
      "4    y2   ~   x2  1.074512  0.117383   9.153864  0.000000e+00\n",
      "5    y2   ~   x3 -1.130931  0.096847 -11.677491  0.000000e+00\n",
      "6    y3   ~   x1  0.702797  0.064268  10.935419  0.000000e+00\n",
      "7    y3   ~   x2  1.235039  0.077003  16.038796  0.000000e+00\n",
      "8    y3   ~   x3 -0.920443  0.063531 -14.487978  0.000000e+00\n",
      "9    y1   ~    1 -0.000004  0.079859  -0.000047  9.999624e-01\n",
      "10   y2   ~    1  0.000025  0.106566   0.000236  9.998119e-01\n",
      "11   y3   ~    1 -0.000002  0.069907  -0.000026  9.999793e-01\n",
      "12   y3  ~~   y3  0.488703  0.069113   7.071068  1.537437e-12\n",
      "13   y2  ~~   y2  1.135639  0.160604   7.071068  1.537437e-12\n",
      "14   y1  ~~   y1  0.637743  0.090190   7.071068  1.537437e-12\n"
     ]
    }
   ],
   "source": [
    "desc = multivariate_regression.get_model()\n",
    "data -= data.mean()\n",
    "\n",
    "model = ModelMeans(desc)\n",
    "model.fit(data)\n",
    "print(model.inspect())"
   ]
  },
  {
   "cell_type": "markdown",
   "id": "0e99e237-5419-495c-befb-eb304f02a6f7",
   "metadata": {},
   "source": [
    "ModelMeans also has one arguable advantage over Model: as exogeneous variables are ruled out to a mean component, we can make no distribution assumptions on their nature."
   ]
  },
  {
   "cell_type": "markdown",
   "id": "6fe80796-53c9-425c-ae21-10a2282d66c6",
   "metadata": {},
   "source": [
    "<a id='7'></a>"
   ]
  },
  {
   "cell_type": "markdown",
   "id": "63bc7343-d7b9-40c5-bb9b-39d938fc2ecd",
   "metadata": {},
   "source": [
    "## 7. REML and ML"
   ]
  },
  {
   "cell_type": "markdown",
   "id": "e2d6e55a-4018-4471-96cb-2db6e62735e4",
   "metadata": {},
   "source": [
    "The idea behind Restricted Maximum Likelihood (REML) is to find a data tranform (preferably a full-rank) that strips the model off the mean component. It allows to separate parameters into two independendent subsets and then perform an optimization procedure on each of the subsets. This, in turn, produces an unbiased estimates of variance parameters. It also might facilitate optimization routine as two smaller problems are being solved instead of one big problem, as in ML.\n",
    "\n",
    "In our tests, ML tends to produce an insignificantly smaller RMSE of parameters estimates than REML, however REML managed to achieve convergence on a slightly bigger number of models. Also, it is much faster. To switch to the REML estimator, pass `\"REML\"` to an obj argument in fit method:"
   ]
  },
  {
   "cell_type": "code",
   "execution_count": 46,
   "id": "268d4e25-1eb6-4273-81b4-5edfa6a9cd91",
   "metadata": {
    "tags": []
   },
   "outputs": [
    {
     "name": "stdout",
     "output_type": "stream",
     "text": [
      "   lval  op rval  Estimate  Std. Err    z-value       p-value\n",
      "0    y1   ~   x1 -1.389720  0.074932 -18.546486  0.000000e+00\n",
      "1    y1   ~   x2 -1.138386  0.089780 -12.679722  0.000000e+00\n",
      "2    y1   ~   x3 -0.317946  0.074073  -4.292328  1.768093e-05\n",
      "3    y2   ~   x1 -0.745751  0.099991  -7.458144  8.770762e-14\n",
      "4    y2   ~   x2  1.074511  0.119806   8.968792  0.000000e+00\n",
      "5    y2   ~   x3 -1.130937  0.098846 -11.441458  0.000000e+00\n",
      "6    y3   ~   x1  0.702782  0.065594  10.714155  0.000000e+00\n",
      "7    y3   ~   x2  1.235053  0.078592  15.714799  0.000000e+00\n",
      "8    y3   ~   x3 -0.920453  0.064842 -14.195310  0.000000e+00\n",
      "9    y1   ~    1 -1.456627  0.081923 -17.780402  0.000000e+00\n",
      "10   y2   ~    1  0.929302  0.109321   8.500665  0.000000e+00\n",
      "11   y3   ~    1  0.992041  0.071714  13.833309  0.000000e+00\n",
      "12   y3  ~~   y3  0.509073  0.071994   7.071068  1.537437e-12\n",
      "13   y2  ~~   y2  1.182989  0.167300   7.071068  1.537437e-12\n",
      "14   y1  ~~   y1  0.664334  0.093951   7.071068  1.537437e-12\n"
     ]
    }
   ],
   "source": [
    "from semopy.examples import multivariate_regression\n",
    "from semopy import ModelMeans\n",
    "desc = multivariate_regression.get_model()\n",
    "data = multivariate_regression.get_data()\n",
    "\n",
    "model = ModelMeans(desc)\n",
    "model.fit(data, obj=\"REML\")\n",
    "print(model.inspect())"
   ]
  },
  {
   "cell_type": "markdown",
   "id": "6924a1d6-ab2c-46e4-b2c3-0037eb47e099",
   "metadata": {},
   "source": [
    "<a id='8'></a>"
   ]
  },
  {
   "cell_type": "markdown",
   "id": "a8d86d73-6f79-4b52-81f3-7c556b60bd4f",
   "metadata": {},
   "source": [
    "## 8. Random Effects"
   ]
  },
  {
   "cell_type": "markdown",
   "id": "b8488d46-78ec-495e-afe7-d720a3535049",
   "metadata": {},
   "source": [
    "![](./www/random_effects_groups.png)\n",
    "  \n",
    "In many cases, the researcher must take the population structure into account. The presence of this structure in the model can be represented as autocorrelation, i.e. observations of the sample are not inpedendent from the observations in the population. Other popular ways to represent population structures are by means of groups or clusters in the data.\n",
    "  \n",
    "One way to interpret this dependence is to assume that there is an unique additive vector per group (a \"group mean\"). \n",
    "\n",
    "The two samples of points from groups A and B are assumed to be affected by an unkown effect O. Dashed arrows of red and green colours are unknown per-individual shifts caused by the random effect for groups A and B respectively. The lack arrows are estimators for random effects for each group. The presence of a priori information on the angle between mean vectors is helpful but not neccessary where there are multiple individuals per group\n",
    "\n"
   ]
  },
  {
   "cell_type": "markdown",
   "id": "fceebbb7-d99e-4c90-bb8a-3df41b67b3b5",
   "metadata": {},
   "source": [
    "Group-wise means can be a good estimator of random effects. In fact, fitting a model to data which is centered with respect to groups is the same as fitting the model to within-covariance matrix.\n",
    "\n",
    "semopy can do group-wise centering automatically by supplying a group's argument with a list of group names (data columns) to the fit method. For instance, let's assume a toy example of multivariate regression model and let's add random noise across 3 groups to the dataset:"
   ]
  },
  {
   "cell_type": "code",
   "execution_count": 61,
   "id": "c08c6b02-d32c-403b-8db5-653e68184f75",
   "metadata": {
    "tags": []
   },
   "outputs": [
    {
     "name": "stdout",
     "output_type": "stream",
     "text": [
      "   lval  op rval  Estimate  Std. Err    z-value       p-value\n",
      "0    y1   ~   x1 -0.684502  0.092260  -7.419257  1.176836e-13\n",
      "1    y1   ~   x2 -1.077002  0.151021  -7.131466  9.929835e-13\n",
      "2    y1   ~   x3 -0.251501  0.124333  -2.022807  4.309302e-02\n",
      "3    y2   ~   x1 -0.412799  0.079634  -5.183678  2.175527e-07\n",
      "4    y2   ~   x2  1.081677  0.130354   8.298006  0.000000e+00\n",
      "5    y2   ~   x3 -1.087719  0.107318 -10.135501  0.000000e+00\n",
      "6    y3   ~   x1  0.335176  0.061608   5.440424  5.315405e-08\n",
      "7    y3   ~   x2  1.203047  0.100847  11.929416  0.000000e+00\n",
      "8    y3   ~   x3 -0.953049  0.083025 -11.479006  0.000000e+00\n",
      "9    y1   ~    1  0.120980  0.137894   0.877337  3.803036e-01\n",
      "10   y2   ~    1 -0.107725  0.119023  -0.905074  3.654262e-01\n",
      "11   y3   ~    1 -0.170086  0.092081  -1.847132  6.472801e-02\n",
      "12   y3  ~~   y3  0.838557  0.118590   7.071068  1.537437e-12\n",
      "13   y2  ~~   y2  1.401048  0.198138   7.071068  1.537437e-12\n",
      "14   y1  ~~   y1  1.880532  0.265947   7.071068  1.537437e-12\n"
     ]
    }
   ],
   "source": [
    "from semopy.examples import multivariate_regression\n",
    "from semopy import ModelMeans\n",
    "\n",
    "desc = multivariate_regression.get_model()\n",
    "data = multivariate_regression.get_data()\n",
    "data['group'] = 0\n",
    "np.random.seed(10)\n",
    "U =  np.array([np.random.normal(scale=1, size=1).flatten() for _ in range(3)])\n",
    "data.iloc[0:25, 3] +=  U[0].flatten()\n",
    "data.iloc[0:25, -1] = 0\n",
    "data.iloc[25:50, 3] += U[1].flatten()\n",
    "data.iloc[25:50, -1] = 1\n",
    "data.iloc[50:75, 3] +=  U[2].flatten()\n",
    "data.iloc[50:75, -1] = 2\n",
    "\n",
    "mod = ModelMeans(desc)\n",
    "mod.fit(data, groups=['group'])\n",
    "print(mod.inspect())"
   ]
  },
  {
   "cell_type": "markdown",
   "id": "beb3b9ea-52b3-4f79-af3b-10684235cd40",
   "metadata": {
    "tags": []
   },
   "source": [
    "### Example with correlated observations"
   ]
  },
  {
   "cell_type": "markdown",
   "id": "4ca2d126-afcb-48e8-8edc-c97dd27caa3e",
   "metadata": {},
   "source": [
    "A case of non-independent observations can be thought as data where each individual resides in a group of size 1. For each observation there is a unique vector that causes some \"group-specific\" (i.e. observation-specific) shift.\n",
    "\n",
    "![](./www/random_effects_indiv.png)\n",
    "  \n",
    "In general, there is no way we can extract those random effect vectors from the data. However, if we have information on the angle between those vectors, or cosines, it might be possible to control for them. The elements of K matrix are essentialy those cosines. How K is obtained is up to a researcher, however. In timeseries analysis, it can be a model matrix that assumes certain time-based dependence model.\n",
    "  \n",
    "semopy has a built-in example with data already containing random effects:"
   ]
  },
  {
   "cell_type": "markdown",
   "id": "7ae40f2e-a73c-49bf-90e1-452c132701bb",
   "metadata": {},
   "source": [
    "`eta1 =~ y1 + y2`  \n",
    "`eta2 =~ y3 + y4`  \n",
    "`x2 ~ eta1`  \n",
    "`eta2 ~ eta1`  \n",
    "`x1 ~ eta1`  "
   ]
  },
  {
   "cell_type": "code",
   "execution_count": 68,
   "id": "9ddde036-9241-4982-8c4f-7d1a6b88e887",
   "metadata": {
    "tags": []
   },
   "outputs": [
    {
     "name": "stdout",
     "output_type": "stream",
     "text": [
      "    lval  op  rval      Estimate      Std. Err    z-value   p-value\n",
      "0   eta2   ~  eta1  2.935124e+00      0.221936  13.225065       0.0\n",
      "1     y1   ~  eta1  1.000000e+00             -          -         -\n",
      "2     y2   ~  eta1  3.068221e+00      0.227668  13.476736       0.0\n",
      "3     y3   ~  eta2  1.000000e+00             -          -         -\n",
      "4     y4   ~  eta2 -2.392335e-02      2.679432  -0.008929  0.992876\n",
      "5     x2   ~  eta1  2.127309e+00      0.170104  12.505911       0.0\n",
      "6     x1   ~  eta1 -2.366392e+00      0.185143 -12.781425       0.0\n",
      "7     x2   ~     1  3.446531e-01      0.595682   0.578585  0.562869\n",
      "8     x1   ~     1 -5.109442e-01      0.658431  -0.776003  0.437747\n",
      "9     y1   ~     1  3.778720e-01      0.302037   1.251079  0.210906\n",
      "10    y2   ~     1  6.742080e-01       0.84121   0.801474  0.422857\n",
      "11    y3   ~     1  5.946742e-01      0.808879   0.735183  0.462228\n",
      "12    y4   ~     1 -9.486492e-01     14.949079  -0.063459  0.949401\n",
      "13  eta2  ~~  eta2  0.000000e+00  10755.911083        0.0       1.0\n",
      "14  eta1  ~~  eta1  4.995048e+01     16.419994   3.042052   0.00235\n",
      "15    y4  ~~    y4  9.493640e-17   1795.452824        0.0       1.0\n",
      "16    y2  ~~    y2  0.000000e+00   1795.456225        0.0       1.0\n",
      "17    x1  ~~    x1  3.979653e-18   1795.456229        0.0       1.0\n",
      "18    y3  ~~    y3  0.000000e+00   1795.575442        0.0       1.0\n",
      "19    x2  ~~    x2  0.000000e+00   1795.456229        0.0       1.0\n",
      "20    y1  ~~    y1  4.174383e-17   1795.456219        0.0       1.0\n",
      "21    x1  RF    x1  5.313748e-02       5.98231   0.008882  0.992913\n",
      "22    x2  RF    x2  5.312868e-02      5.982309   0.008881  0.992914\n",
      "23    y1  RF    y1  4.086181e-02      5.982207   0.006831   0.99455\n",
      "24    y2  RF    y2  4.119563e-02      5.982217   0.006886  0.994506\n",
      "25    y3  RF    y3  5.294902e-02     29.862472   0.001773  0.998585\n",
      "26    y4  RF    y4  5.077709e+02    150.965657   3.363486   0.00077\n"
     ]
    }
   ],
   "source": [
    "from semopy.examples import example_rf\n",
    "\n",
    "desc = example_rf.get_model()\n",
    "data, k = example_rf.get_data()\n",
    "\n",
    "model = ModelEffects(desc)\n",
    "model.fit(data, group='group', k=k)\n",
    "print(model.inspect())"
   ]
  },
  {
   "cell_type": "markdown",
   "id": "cba8d50e-cce8-431e-815e-a4a7061d9166",
   "metadata": {},
   "source": [
    "<a id='9'></a>"
   ]
  },
  {
   "cell_type": "markdown",
   "id": "4247cf1c-adbf-4b34-be6c-724dfc9b7ce0",
   "metadata": {},
   "source": [
    "## 9. Ordinal variables"
   ]
  },
  {
   "cell_type": "markdown",
   "id": "1bcc9cfd-5006-4363-a323-5fa089b5c6d2",
   "metadata": {},
   "source": [
    "We conider a variable to be ordinal if it has a categorical non-continuous nature (for instance, if we can encode it as an integer), and if you can meaningfully sort it (it is possible to impose a total order relation). Simple example of an ordinal variable is size encoded as \"Tiny\", \"Small\", \"Average\", \"Big\".\n",
    "There are 2 ways to treat ordinal variables in semopy:\n",
    "\n",
    "1) Fixed effects: If in your SEM model ordinal variables are also exogenous, its should be all right to treat those variables as fixed effects. This is done automatically if you use ModelMeans or ModelEffects. However, results are subject to change under different encodings of ordinal variables in the data.\n",
    "\n",
    "2) Heterogenous correlation matrix: Heterogenous correlation matrix is a correlation matrix where correlations between ordinal variables are calculated as polychoric correlations, and correlations between ordinal and continious variables are calculated as polyserial correlations.\n",
    "\n",
    "DEFINE(ordinal) makes semopy treat variables as ordinal, i.e. their polychoric and/or polyserial correlations will be estimated."
   ]
  },
  {
   "cell_type": "code",
   "execution_count": 70,
   "id": "4252b3d2-a8cd-4190-a923-b12f88db6935",
   "metadata": {
    "tags": []
   },
   "outputs": [
    {
     "data": {
      "text/plain": [
       "'y ~ x1 + cat1 + cat2\\n   DEFINE(ordinal) cat1 cat2'"
      ]
     },
     "execution_count": 70,
     "metadata": {},
     "output_type": "execute_result"
    }
   ],
   "source": [
    "'''y ~ x1 + cat1 + cat2\n",
    "   DEFINE(ordinal) cat1 cat2'''"
   ]
  },
  {
   "cell_type": "markdown",
   "id": "f237d769-171c-43fe-8c4e-4a68949c8d0d",
   "metadata": {},
   "source": [
    "Here, Pearsons correlations between cat1 and cat2 variables will be substituted with polychoric correlations, and correlations inbetween cat1, cat2 and x, y with polyserial correlations."
   ]
  },
  {
   "cell_type": "markdown",
   "id": "f9ae72a7-92ae-4abb-9d89-b6e72d3cb5bd",
   "metadata": {},
   "source": [
    "This has some drawbacks:\n",
    "* Heterogenous correlations matrix takes a long time to compute and the time increases drastically as increases the number of observations and the number odinal variables.\n",
    "* Sometimes, heterogenous correlation matrix is not positive-definite, and semopy will find the closest positive-definite matrix. It might result in some original information deformation.\n",
    "* It works only for Model."
   ]
  },
  {
   "cell_type": "markdown",
   "id": "372fde31-ae4d-47ed-b55d-bfd9a0b394a4",
   "metadata": {},
   "source": [
    "<a id='10'></a>"
   ]
  },
  {
   "cell_type": "markdown",
   "id": "05174a52-5f0f-488d-93c2-51fbf8c331dd",
   "metadata": {
    "tags": []
   },
   "source": [
    "## 10. Fit Metrics"
   ]
  },
  {
   "cell_type": "markdown",
   "id": "ad31b3dc-facd-4328-ac88-f89205bf4d37",
   "metadata": {},
   "source": [
    "semopy has numerous fit metrics that help to evaluate SEM models, namely: \n",
    "  \n",
    "* $\\chi^{2}$\n",
    "\n",
    "* RMSEA \n",
    "* CFI, \n",
    "* TLI \n",
    "* NFI \n",
    "* GFI\n",
    "* AGFI. For details on how those indices are calculated in semopy, see"
   ]
  },
  {
   "cell_type": "code",
   "execution_count": 71,
   "id": "cbd2c373-6817-4b62-9dba-4ea6590e000a",
   "metadata": {
    "tags": []
   },
   "outputs": [
    {
     "name": "stdout",
     "output_type": "stream",
     "text": [
      "                    Value\n",
      "DoF             35.000000\n",
      "DoF Baseline    55.000000\n",
      "chi2            38.125446\n",
      "chi2 p-value     0.329171\n",
      "chi2 Baseline  730.654577\n",
      "CFI              0.995374\n",
      "GFI              0.947820\n",
      "AGFI             0.918003\n",
      "NFI              0.947820\n",
      "TLI              0.992731\n",
      "RMSEA            0.034738\n",
      "AIC             60.983321\n",
      "BIC            132.825453\n",
      "LogLik           0.508339\n"
     ]
    }
   ],
   "source": [
    "data = semopy.examples.political_democracy.get_data()\n",
    "mod = semopy.examples.political_democracy.get_model()\n",
    "m = semopy.Model(mod)\n",
    "res = m.fit(data)\n",
    "stats = semopy.calc_stats(m)\n",
    "print(stats.T)"
   ]
  },
  {
   "cell_type": "markdown",
   "id": "4b948952-251c-4684-96a0-da42cfc79615",
   "metadata": {},
   "source": [
    "<a id='11'></a>"
   ]
  },
  {
   "cell_type": "markdown",
   "id": "9c298d1b-4c5d-41b7-abb4-ce4ebd43c8c5",
   "metadata": {},
   "source": [
    "## 11. Confirmatory Factor Analysis"
   ]
  },
  {
   "cell_type": "markdown",
   "id": "cabc4f04-ccad-4d1b-8a79-e7029fd3fe79",
   "metadata": {},
   "source": [
    "As the name suggests, explore_cfa_model helps to retrieve a Confirmatory Factor Analysis model from the dataset, i.e. a model with latent factors that covary with each other. The function has the following arguments of interest:\n",
    "1) data — dataset in the form of pandas DataFrame\n",
    "2) min_loadings — expected minimal number of indicators per latent factor. The default is 2. It is better to be left at 2, as it is rare for the procedure to finish its work with less than 3 indicators per factor, yet a higher number might penalize it too much.\n",
    "3) pval — the p-value cutoff value. The model is guaranteed to have all regression coefficients to be at least as significant as this cutoff margin. The default is 0.01."
   ]
  },
  {
   "cell_type": "markdown",
   "id": "989f64cc-8a79-4aaa-9509-b286bd68aeec",
   "metadata": {
    "tags": []
   },
   "source": [
    "### Pine model"
   ]
  },
  {
   "cell_type": "markdown",
   "id": "19aa1d76-ee7d-41eb-9a67-1986cc7e1afb",
   "metadata": {},
   "source": [
    "Pine model is a generalization of CFA model. In Pine setting, the latent factors of the CFA model become indicators of some other \"higher level\" latent factor.  \n",
    "explore_pine_model has the following arguments of interest:\n",
    "1) data — dataset in the form of pandas DataFrame\n",
    "2) min_loadings — expected minimal number of indicators per latent factor. The default is 2. It is better to be left at 2, as it is rare for the procedure to finish it is work with less than 3 indicators per factor, yet a higher number might penalize it too much;\n",
    "4) pval — the p-value cutoff value. The model is guaranteed to have all regression coefficients to be at least as significant as this cutoff margin. The default is 0.01.\n",
    "5) levels — number of levels. If 1, the result will be the same as explore_cfa_model. Higher values allow for a more hierarchical model. The default is 2."
   ]
  },
  {
   "cell_type": "code",
   "execution_count": 75,
   "id": "c914e689-33ba-46d4-b595-be5473086c7d",
   "metadata": {
    "tags": []
   },
   "outputs": [
    {
     "name": "stdout",
     "output_type": "stream",
     "text": [
      "eta1 =~ y2 + y3 + y1\n",
      "eta2 =~ y5 + y4 + y3\n",
      "\n"
     ]
    }
   ],
   "source": [
    "np.random.seed(123)\n",
    "\n",
    "N = 100\n",
    "eta1 = np.random.normal(size=N)\n",
    "eta2 = np.random.normal(size=N)\n",
    "eta1 += 0.3 * eta2\n",
    "\n",
    "y1 = np.random.normal(size=N, scale=0.5) + eta1\n",
    "y2 = np.random.normal(size=N, scale=0.5) + 2 * eta1\n",
    "y3 = np.random.normal(size=N, scale=0.5) + 3 * eta1 + eta2\n",
    "y4 = np.random.normal(size=N, scale=0.5) - eta2\n",
    "y5 = np.random.normal(size=N, scale=0.5) + 1.5 * eta2\n",
    "x = np.random.normal(size=N)\n",
    "data_tr = pd.DataFrame([y1, y2, y3, y4, y5, x],\n",
    "                    index=['y1', 'y2', 'y3', 'y4', 'y5', 'x']).T\n",
    "\n",
    "print(semopy.efa.explore_cfa_model(data_tr))"
   ]
  },
  {
   "cell_type": "markdown",
   "id": "43ce0843-50e8-40b6-825d-225188d43e0e",
   "metadata": {},
   "source": [
    "It is exactly the model that was used for data generation."
   ]
  },
  {
   "cell_type": "markdown",
   "id": "e27a3498-2146-46af-a67f-84deed69f9da",
   "metadata": {},
   "source": [
    "<a id='12'></a>"
   ]
  },
  {
   "cell_type": "code",
   "execution_count": null,
   "id": "3530d950-48b8-46fd-b8bb-01a06af863b5",
   "metadata": {},
   "outputs": [],
   "source": [
    "## 12. Visualization"
   ]
  },
  {
   "cell_type": "markdown",
   "id": "9ce1c735-eeab-4970-8b66-9a6a9e39a6bd",
   "metadata": {},
   "source": [
    "Arguments:\n",
    "1) mod — semopy Model instance;\n",
    "2) filename — name of file where to plot is saved;\n",
    "3) plot_covs — If True, covariances are also drawnimport semopy\n",
    "\n",
    "data = semopy.examples.political_democracy.get_data()\n",
    "mod = semopy.examples.political_democracy.get_model()\n",
    "m = semopy.Model(mod)\n",
    "m.fit(data)\n",
    "g = semopy.semplot(m, \"pd.png\"). The default is False;\n",
    "4) plot_exos — If False, exogenous variables are not plotted. It might be useful, for example, in GWAS setting, where a number of exogenous variables, i.e. genetic markers, is oblivious. Has effect only with ModelMeans or ModelEffects. The default is True.\n",
    "5) images — node labels can be replaced with images. It will be the case if a map variable_name->path_to_image is provided."
   ]
  },
  {
   "cell_type": "code",
   "execution_count": 5,
   "id": "d3cf1dfd-6dde-43e5-a159-de679e184e76",
   "metadata": {
    "tags": []
   },
   "outputs": [
    {
     "data": {
      "image/svg+xml": [
       "<?xml version=\"1.0\" encoding=\"UTF-8\" standalone=\"no\"?>\n",
       "<!DOCTYPE svg PUBLIC \"-//W3C//DTD SVG 1.1//EN\"\n",
       " \"http://www.w3.org/Graphics/SVG/1.1/DTD/svg11.dtd\">\n",
       "<!-- Generated by graphviz version 7.1.0 (20230121.1956)\n",
       " -->\n",
       "<!-- Title: G Pages: 1 -->\n",
       "<svg width=\"669pt\" height=\"431pt\"\n",
       " viewBox=\"0.00 0.00 669.00 431.48\" xmlns=\"http://www.w3.org/2000/svg\" xmlns:xlink=\"http://www.w3.org/1999/xlink\">\n",
       "<g id=\"graph0\" class=\"graph\" transform=\"scale(1 1) rotate(0) translate(4 427.48)\">\n",
       "<title>G</title>\n",
       "<polygon fill=\"white\" stroke=\"none\" points=\"-4,4 -4,-427.48 665,-427.48 665,4 -4,4\"/>\n",
       "<!-- dem60 -->\n",
       "<g id=\"node1\" class=\"node\">\n",
       "<title>dem60</title>\n",
       "<ellipse fill=\"#cae6df\" stroke=\"black\" cx=\"212\" cy=\"-265.29\" rx=\"35.19\" ry=\"35.19\"/>\n",
       "<text text-anchor=\"middle\" x=\"212\" y=\"-261.59\" font-family=\"Times,serif\" font-size=\"14.00\">dem60</text>\n",
       "</g>\n",
       "<!-- dem65 -->\n",
       "<g id=\"node2\" class=\"node\">\n",
       "<title>dem65</title>\n",
       "<ellipse fill=\"#cae6df\" stroke=\"black\" cx=\"360\" cy=\"-133.1\" rx=\"35.19\" ry=\"35.19\"/>\n",
       "<text text-anchor=\"middle\" x=\"360\" y=\"-129.4\" font-family=\"Times,serif\" font-size=\"14.00\">dem65</text>\n",
       "</g>\n",
       "<!-- dem60&#45;&gt;dem65 -->\n",
       "<g id=\"edge3\" class=\"edge\">\n",
       "<title>dem60&#45;&gt;dem65</title>\n",
       "<path fill=\"none\" stroke=\"black\" d=\"M242.15,-246.64C257.18,-237.24 275.24,-225 290,-212.19 304.69,-199.45 319.31,-183.74 331.36,-169.76\"/>\n",
       "<polygon fill=\"black\" stroke=\"black\" points=\"333.74,-172.37 337.53,-162.48 328.4,-167.85 333.74,-172.37\"/>\n",
       "<text text-anchor=\"middle\" x=\"340\" y=\"-202.59\" font-family=\"Times,serif\" font-size=\"12.00\">0.838</text>\n",
       "<text text-anchor=\"middle\" x=\"340\" y=\"-189.59\" font-family=\"Times,serif\" font-size=\"12.00\">p&#45;val: 0.00</text>\n",
       "</g>\n",
       "<!-- y1 -->\n",
       "<g id=\"node7\" class=\"node\">\n",
       "<title>y1</title>\n",
       "<polygon fill=\"none\" stroke=\"black\" points=\"54,-151.1 0,-151.1 0,-115.1 54,-115.1 54,-151.1\"/>\n",
       "<text text-anchor=\"middle\" x=\"27\" y=\"-129.4\" font-family=\"Times,serif\" font-size=\"14.00\">y1</text>\n",
       "</g>\n",
       "<!-- dem60&#45;&gt;y1 -->\n",
       "<g id=\"edge7\" class=\"edge\">\n",
       "<title>dem60&#45;&gt;y1</title>\n",
       "<path fill=\"none\" stroke=\"black\" d=\"M176.95,-259.01C145.29,-252.67 99.06,-239.28 68,-212.19 52.81,-198.94 42.4,-178.67 35.87,-162.11\"/>\n",
       "<polygon fill=\"black\" stroke=\"black\" points=\"39.19,-160.98 32.48,-152.78 32.61,-163.37 39.19,-160.98\"/>\n",
       "<text text-anchor=\"middle\" x=\"82\" y=\"-196.09\" font-family=\"Times,serif\" font-size=\"12.00\">1.000</text>\n",
       "</g>\n",
       "<!-- y2 -->\n",
       "<g id=\"node8\" class=\"node\">\n",
       "<title>y2</title>\n",
       "<polygon fill=\"none\" stroke=\"black\" points=\"126,-151.1 72,-151.1 72,-115.1 126,-115.1 126,-151.1\"/>\n",
       "<text text-anchor=\"middle\" x=\"99\" y=\"-129.4\" font-family=\"Times,serif\" font-size=\"14.00\">y2</text>\n",
       "</g>\n",
       "<!-- dem60&#45;&gt;y2 -->\n",
       "<g id=\"edge8\" class=\"edge\">\n",
       "<title>dem60&#45;&gt;y2</title>\n",
       "<path fill=\"none\" stroke=\"black\" d=\"M178.1,-255.86C155.15,-248.32 126.16,-234.86 110,-212.19 99.87,-197.98 97.1,-178.55 96.87,-162.63\"/>\n",
       "<polygon fill=\"black\" stroke=\"black\" points=\"100.37,-162.87 97.08,-152.79 93.37,-162.72 100.37,-162.87\"/>\n",
       "<text text-anchor=\"middle\" x=\"136\" y=\"-202.59\" font-family=\"Times,serif\" font-size=\"12.00\">1.257</text>\n",
       "<text text-anchor=\"middle\" x=\"136\" y=\"-189.59\" font-family=\"Times,serif\" font-size=\"12.00\">p&#45;val: 0.00</text>\n",
       "</g>\n",
       "<!-- y3 -->\n",
       "<g id=\"node9\" class=\"node\">\n",
       "<title>y3</title>\n",
       "<polygon fill=\"none\" stroke=\"black\" points=\"201,-151.1 147,-151.1 147,-115.1 201,-115.1 201,-151.1\"/>\n",
       "<text text-anchor=\"middle\" x=\"174\" y=\"-129.4\" font-family=\"Times,serif\" font-size=\"14.00\">y3</text>\n",
       "</g>\n",
       "<!-- dem60&#45;&gt;y3 -->\n",
       "<g id=\"edge9\" class=\"edge\">\n",
       "<title>dem60&#45;&gt;y3</title>\n",
       "<path fill=\"none\" stroke=\"black\" d=\"M187.35,-239.86C180.73,-231.74 174.47,-222.2 171,-212.19 165.53,-196.41 166.02,-177.75 167.99,-162.63\"/>\n",
       "<polygon fill=\"black\" stroke=\"black\" points=\"171.43,-163.31 169.57,-152.88 164.52,-162.19 171.43,-163.31\"/>\n",
       "<text text-anchor=\"middle\" x=\"197\" y=\"-202.59\" font-family=\"Times,serif\" font-size=\"12.00\">1.058</text>\n",
       "<text text-anchor=\"middle\" x=\"197\" y=\"-189.59\" font-family=\"Times,serif\" font-size=\"12.00\">p&#45;val: 0.00</text>\n",
       "</g>\n",
       "<!-- y4 -->\n",
       "<g id=\"node10\" class=\"node\">\n",
       "<title>y4</title>\n",
       "<polygon fill=\"none\" stroke=\"black\" points=\"276,-151.1 222,-151.1 222,-115.1 276,-115.1 276,-151.1\"/>\n",
       "<text text-anchor=\"middle\" x=\"249\" y=\"-129.4\" font-family=\"Times,serif\" font-size=\"14.00\">y4</text>\n",
       "</g>\n",
       "<!-- dem60&#45;&gt;y4 -->\n",
       "<g id=\"edge10\" class=\"edge\">\n",
       "<title>dem60&#45;&gt;y4</title>\n",
       "<path fill=\"none\" stroke=\"black\" d=\"M221.63,-230.95C223.42,-224.72 225.27,-218.26 227,-212.19 231.69,-195.73 236.88,-177.3 241.05,-162.48\"/>\n",
       "<polygon fill=\"black\" stroke=\"black\" points=\"244.39,-163.51 243.73,-152.93 237.65,-161.61 244.39,-163.51\"/>\n",
       "<text text-anchor=\"middle\" x=\"260\" y=\"-202.59\" font-family=\"Times,serif\" font-size=\"12.00\">1.265</text>\n",
       "<text text-anchor=\"middle\" x=\"260\" y=\"-189.59\" font-family=\"Times,serif\" font-size=\"12.00\">p&#45;val: 0.00</text>\n",
       "</g>\n",
       "<!-- y5 -->\n",
       "<g id=\"node11\" class=\"node\">\n",
       "<title>y5</title>\n",
       "<polygon fill=\"none\" stroke=\"black\" points=\"277,-36 223,-36 223,0 277,0 277,-36\"/>\n",
       "<text text-anchor=\"middle\" x=\"250\" y=\"-14.3\" font-family=\"Times,serif\" font-size=\"14.00\">y5</text>\n",
       "</g>\n",
       "<!-- dem65&#45;&gt;y5 -->\n",
       "<g id=\"edge11\" class=\"edge\">\n",
       "<title>dem65&#45;&gt;y5</title>\n",
       "<path fill=\"none\" stroke=\"black\" d=\"M329.51,-115.25C314.86,-106.14 297.75,-93.9 285,-80 275.99,-70.18 268.31,-57.65 262.45,-46.5\"/>\n",
       "<polygon fill=\"black\" stroke=\"black\" points=\"265.67,-45.12 258.09,-37.73 259.4,-48.24 265.67,-45.12\"/>\n",
       "<text text-anchor=\"middle\" x=\"299\" y=\"-63.9\" font-family=\"Times,serif\" font-size=\"12.00\">1.000</text>\n",
       "</g>\n",
       "<!-- y6 -->\n",
       "<g id=\"node12\" class=\"node\">\n",
       "<title>y6</title>\n",
       "<polygon fill=\"none\" stroke=\"black\" points=\"349,-36 295,-36 295,0 349,0 349,-36\"/>\n",
       "<text text-anchor=\"middle\" x=\"322\" y=\"-14.3\" font-family=\"Times,serif\" font-size=\"14.00\">y6</text>\n",
       "</g>\n",
       "<!-- dem65&#45;&gt;y6 -->\n",
       "<g id=\"edge12\" class=\"edge\">\n",
       "<title>dem65&#45;&gt;y6</title>\n",
       "<path fill=\"none\" stroke=\"black\" d=\"M336.12,-106.96C329.98,-98.95 324.21,-89.65 321,-80 317.61,-69.82 317.06,-58.13 317.63,-47.74\"/>\n",
       "<polygon fill=\"black\" stroke=\"black\" points=\"321.12,-48.08 318.58,-37.8 314.15,-47.42 321.12,-48.08\"/>\n",
       "<text text-anchor=\"middle\" x=\"347\" y=\"-70.4\" font-family=\"Times,serif\" font-size=\"12.00\">1.186</text>\n",
       "<text text-anchor=\"middle\" x=\"347\" y=\"-57.4\" font-family=\"Times,serif\" font-size=\"12.00\">p&#45;val: 0.00</text>\n",
       "</g>\n",
       "<!-- y7 -->\n",
       "<g id=\"node13\" class=\"node\">\n",
       "<title>y7</title>\n",
       "<polygon fill=\"none\" stroke=\"black\" points=\"424,-36 370,-36 370,0 424,0 424,-36\"/>\n",
       "<text text-anchor=\"middle\" x=\"397\" y=\"-14.3\" font-family=\"Times,serif\" font-size=\"14.00\">y7</text>\n",
       "</g>\n",
       "<!-- dem65&#45;&gt;y7 -->\n",
       "<g id=\"edge13\" class=\"edge\">\n",
       "<title>dem65&#45;&gt;y7</title>\n",
       "<path fill=\"none\" stroke=\"black\" d=\"M370.8,-99.08C376.19,-82.61 382.64,-62.89 387.79,-47.14\"/>\n",
       "<polygon fill=\"black\" stroke=\"black\" points=\"391.03,-48.51 390.81,-37.92 384.37,-46.34 391.03,-48.51\"/>\n",
       "<text text-anchor=\"middle\" x=\"411\" y=\"-70.4\" font-family=\"Times,serif\" font-size=\"12.00\">1.280</text>\n",
       "<text text-anchor=\"middle\" x=\"411\" y=\"-57.4\" font-family=\"Times,serif\" font-size=\"12.00\">p&#45;val: 0.00</text>\n",
       "</g>\n",
       "<!-- y8 -->\n",
       "<g id=\"node14\" class=\"node\">\n",
       "<title>y8</title>\n",
       "<polygon fill=\"none\" stroke=\"black\" points=\"499,-36 445,-36 445,0 499,0 499,-36\"/>\n",
       "<text text-anchor=\"middle\" x=\"472\" y=\"-14.3\" font-family=\"Times,serif\" font-size=\"14.00\">y8</text>\n",
       "</g>\n",
       "<!-- dem65&#45;&gt;y8 -->\n",
       "<g id=\"edge14\" class=\"edge\">\n",
       "<title>dem65&#45;&gt;y8</title>\n",
       "<path fill=\"none\" stroke=\"black\" d=\"M391.71,-116.88C407.98,-107.88 427.21,-95.26 441,-80 449.66,-70.41 456.56,-57.96 461.63,-46.81\"/>\n",
       "<polygon fill=\"black\" stroke=\"black\" points=\"464.83,-48.22 465.49,-37.65 458.38,-45.5 464.83,-48.22\"/>\n",
       "<text text-anchor=\"middle\" x=\"483\" y=\"-70.4\" font-family=\"Times,serif\" font-size=\"12.00\">1.266</text>\n",
       "<text text-anchor=\"middle\" x=\"483\" y=\"-57.4\" font-family=\"Times,serif\" font-size=\"12.00\">p&#45;val: 0.00</text>\n",
       "</g>\n",
       "<!-- ind60 -->\n",
       "<g id=\"node3\" class=\"node\">\n",
       "<title>ind60</title>\n",
       "<ellipse fill=\"#cae6df\" stroke=\"black\" cx=\"488\" cy=\"-392.93\" rx=\"30.59\" ry=\"30.59\"/>\n",
       "<text text-anchor=\"middle\" x=\"488\" y=\"-389.23\" font-family=\"Times,serif\" font-size=\"14.00\">ind60</text>\n",
       "</g>\n",
       "<!-- ind60&#45;&gt;dem60 -->\n",
       "<g id=\"edge1\" class=\"edge\">\n",
       "<title>ind60&#45;&gt;dem60</title>\n",
       "<path fill=\"none\" stroke=\"black\" d=\"M457.81,-386.17C424.27,-379.09 369.05,-365.36 325,-344.39 297.43,-331.26 269.17,-311.73 247.8,-295.48\"/>\n",
       "<polygon fill=\"black\" stroke=\"black\" points=\"250.05,-292.79 239.99,-289.44 245.76,-298.33 250.05,-292.79\"/>\n",
       "<text text-anchor=\"middle\" x=\"351\" y=\"-334.79\" font-family=\"Times,serif\" font-size=\"12.00\">1.482</text>\n",
       "<text text-anchor=\"middle\" x=\"351\" y=\"-321.79\" font-family=\"Times,serif\" font-size=\"12.00\">p&#45;val: 0.00</text>\n",
       "</g>\n",
       "<!-- ind60&#45;&gt;dem65 -->\n",
       "<g id=\"edge2\" class=\"edge\">\n",
       "<title>ind60&#45;&gt;dem65</title>\n",
       "<path fill=\"none\" stroke=\"black\" d=\"M464.2,-373.44C444.1,-356.54 416.09,-329.78 400,-300.39 394.15,-289.7 379.37,-224.39 369.5,-178.87\"/>\n",
       "<polygon fill=\"black\" stroke=\"black\" points=\"372.96,-178.29 367.43,-169.25 366.12,-179.77 372.96,-178.29\"/>\n",
       "<text text-anchor=\"middle\" x=\"426\" y=\"-268.69\" font-family=\"Times,serif\" font-size=\"12.00\">0.572</text>\n",
       "<text text-anchor=\"middle\" x=\"426\" y=\"-255.69\" font-family=\"Times,serif\" font-size=\"12.00\">p&#45;val: 0.01</text>\n",
       "</g>\n",
       "<!-- x1 -->\n",
       "<g id=\"node4\" class=\"node\">\n",
       "<title>x1</title>\n",
       "<polygon fill=\"none\" stroke=\"black\" points=\"515,-283.29 461,-283.29 461,-247.29 515,-247.29 515,-283.29\"/>\n",
       "<text text-anchor=\"middle\" x=\"488\" y=\"-261.59\" font-family=\"Times,serif\" font-size=\"14.00\">x1</text>\n",
       "</g>\n",
       "<!-- ind60&#45;&gt;x1 -->\n",
       "<g id=\"edge4\" class=\"edge\">\n",
       "<title>ind60&#45;&gt;x1</title>\n",
       "<path fill=\"none\" stroke=\"black\" d=\"M488,-361.84C488,-341.64 488,-315.17 488,-295.22\"/>\n",
       "<polygon fill=\"black\" stroke=\"black\" points=\"491.5,-295.27 488,-285.27 484.5,-295.27 491.5,-295.27\"/>\n",
       "<text text-anchor=\"middle\" x=\"502\" y=\"-328.29\" font-family=\"Times,serif\" font-size=\"12.00\">1.000</text>\n",
       "</g>\n",
       "<!-- x2 -->\n",
       "<g id=\"node5\" class=\"node\">\n",
       "<title>x2</title>\n",
       "<polygon fill=\"none\" stroke=\"black\" points=\"587,-283.29 533,-283.29 533,-247.29 587,-247.29 587,-283.29\"/>\n",
       "<text text-anchor=\"middle\" x=\"560\" y=\"-261.59\" font-family=\"Times,serif\" font-size=\"14.00\">x2</text>\n",
       "</g>\n",
       "<!-- ind60&#45;&gt;x2 -->\n",
       "<g id=\"edge5\" class=\"edge\">\n",
       "<title>ind60&#45;&gt;x2</title>\n",
       "<path fill=\"none\" stroke=\"black\" d=\"M505.18,-367.62C510.15,-360.27 515.45,-352.1 520,-344.39 529.65,-328.02 539.39,-309.06 546.85,-293.93\"/>\n",
       "<polygon fill=\"black\" stroke=\"black\" points=\"549.95,-295.55 551.17,-285.03 543.65,-292.49 549.95,-295.55\"/>\n",
       "<text text-anchor=\"middle\" x=\"560\" y=\"-334.79\" font-family=\"Times,serif\" font-size=\"12.00\">2.180</text>\n",
       "<text text-anchor=\"middle\" x=\"560\" y=\"-321.79\" font-family=\"Times,serif\" font-size=\"12.00\">p&#45;val: 0.00</text>\n",
       "</g>\n",
       "<!-- x3 -->\n",
       "<g id=\"node6\" class=\"node\">\n",
       "<title>x3</title>\n",
       "<polygon fill=\"none\" stroke=\"black\" points=\"660,-283.29 606,-283.29 606,-247.29 660,-247.29 660,-283.29\"/>\n",
       "<text text-anchor=\"middle\" x=\"633\" y=\"-261.59\" font-family=\"Times,serif\" font-size=\"14.00\">x3</text>\n",
       "</g>\n",
       "<!-- ind60&#45;&gt;x3 -->\n",
       "<g id=\"edge6\" class=\"edge\">\n",
       "<title>ind60&#45;&gt;x3</title>\n",
       "<path fill=\"none\" stroke=\"black\" d=\"M517.23,-383.78C539.33,-376.42 569.31,-363.74 590,-344.39 604.79,-330.56 615.69,-310.47 622.82,-294.13\"/>\n",
       "<polygon fill=\"black\" stroke=\"black\" points=\"626.03,-295.52 626.58,-284.94 619.55,-292.87 626.03,-295.52\"/>\n",
       "<text text-anchor=\"middle\" x=\"635\" y=\"-334.79\" font-family=\"Times,serif\" font-size=\"12.00\">1.819</text>\n",
       "<text text-anchor=\"middle\" x=\"635\" y=\"-321.79\" font-family=\"Times,serif\" font-size=\"12.00\">p&#45;val: 0.00</text>\n",
       "</g>\n",
       "</g>\n",
       "</svg>\n"
      ],
      "text/plain": [
       "<graphviz.graphs.Digraph at 0x1306d93d0>"
      ]
     },
     "execution_count": 5,
     "metadata": {},
     "output_type": "execute_result"
    }
   ],
   "source": [
    "import semopy\n",
    "\n",
    "data = semopy.examples.political_democracy.get_data()\n",
    "mod = semopy.examples.political_democracy.get_model()\n",
    "m = semopy.Model(mod)\n",
    "m.fit(data)\n",
    "semopy.semplot(m, \"pd.png\")"
   ]
  },
  {
   "cell_type": "code",
   "execution_count": 4,
   "id": "e89f7198-81cd-430a-a513-585b4890e8e8",
   "metadata": {
    "tags": []
   },
   "outputs": [
    {
     "name": "stdout",
     "output_type": "stream",
     "text": [
      "# measurement model\n",
      "ind60 =~ x1 + x2 + x3\n",
      "dem60 =~ y1 + y2 + y3 + y4\n",
      "dem65 =~ y5 + y6 + y7 + y8\n",
      "# regressions\n",
      "dem60 ~ ind60\n",
      "dem65 ~ ind60 + dem60\n",
      "# residual correlations\n",
      "y1 ~~ y5\n",
      "y2 ~~ y4 + y6\n",
      "y3 ~~ y7\n",
      "y4 ~~ y8\n",
      "y6 ~~ y8\n"
     ]
    }
   ],
   "source": [
    "print(mod)"
   ]
  },
  {
   "cell_type": "markdown",
   "id": "c49f093d-98f6-4a3b-94f5-21c24815c96b",
   "metadata": {},
   "source": [
    "<a id='13'></a>"
   ]
  },
  {
   "cell_type": "code",
   "execution_count": null,
   "id": "7d6f9d09-cab1-4caa-a26b-76ad6c326fac",
   "metadata": {},
   "outputs": [],
   "source": [
    "## 13. Report"
   ]
  },
  {
   "cell_type": "markdown",
   "id": "5085dcf1-4a22-4546-81e6-8e6815d65ce3",
   "metadata": {},
   "source": [
    "Previously, it has been demonstrated how to extract valuable information from the fitted model programmaticaly by means of different functions and methods. semopy provides a report function that takes a fitted model and generates an HTML file. See an example:"
   ]
  },
  {
   "cell_type": "code",
   "execution_count": 6,
   "id": "2eac6e20-99e0-4145-b84c-4949e6cea3bc",
   "metadata": {
    "tags": []
   },
   "outputs": [],
   "source": [
    "from semopy.examples import political_democracy\n",
    "from semopy import ModelMeans, report\n",
    "\n",
    "desc = political_democracy.get_model()\n",
    "data = political_democracy.get_data()\n",
    "model = ModelMeans(desc)\n",
    "model.fit(data)\n",
    "report(model, \"Political Democracy\")"
   ]
  }
 ],
 "metadata": {
  "kernelspec": {
   "display_name": "Python 3 (ipykernel)",
   "language": "python",
   "name": "python3"
  },
  "language_info": {
   "codemirror_mode": {
    "name": "ipython",
    "version": 3
   },
   "file_extension": ".py",
   "mimetype": "text/x-python",
   "name": "python",
   "nbconvert_exporter": "python",
   "pygments_lexer": "ipython3",
   "version": "3.11.2"
  }
 },
 "nbformat": 4,
 "nbformat_minor": 5
}
