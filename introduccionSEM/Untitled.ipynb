{
 "cells": [
  {
   "cell_type": "code",
   "execution_count": null,
   "id": "09c9a89f-6fca-49fa-bbf9-f899f3484a96",
   "metadata": {},
   "outputs": [],
   "source": [
    "'''\n",
    "blah\n",
    "blah blah\n",
    "'''"
   ]
  }
 ],
 "metadata": {
  "kernelspec": {
   "display_name": "",
   "name": ""
  },
  "language_info": {
   "name": ""
  }
 },
 "nbformat": 4,
 "nbformat_minor": 5
}
