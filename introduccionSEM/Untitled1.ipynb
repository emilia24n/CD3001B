{
 "cells": [
  {
   "cell_type": "code",
   "execution_count": 3,
   "id": "27a6c070-9780-456c-b50a-588b51e82d68",
   "metadata": {
    "tags": []
   },
   "outputs": [],
   "source": [
    "import semopy\n",
    "import pandas as pd"
   ]
  },
  {
   "cell_type": "code",
   "execution_count": null,
   "id": "8d36ec49-bfcb-4bec-a8d1-c632248b652d",
   "metadata": {
    "tags": []
   },
   "outputs": [],
   "source": [
    "# install semopy\n",
    "# !pip install semopy\n",
    "# !pip install openpyxl"
   ]
  },
  {
   "cell_type": "code",
   "execution_count": 35,
   "id": "6fe077df-0523-4dd8-be75-26c13af43afa",
   "metadata": {
    "tags": []
   },
   "outputs": [],
   "source": [
    "df=pd.read_excel('/Users/jd/Desktop/exp_rec_sem/data.xlsx')\n",
    "\n",
    "df = pd.DataFrame(\n",
    "    data=df.values,\n",
    "    columns = [x.strip() for x in df.columns]\n",
    ")"
   ]
  },
  {
   "cell_type": "code",
   "execution_count": null,
   "id": "9a34dfd2-8631-4471-a1db-472a9d98437a",
   "metadata": {
    "tags": []
   },
   "outputs": [],
   "source": [
    "#df.groupby('EDAD').mean()"
   ]
  },
  {
   "cell_type": "code",
   "execution_count": 13,
   "id": "c625bf64-5044-49e7-bd8a-0a4bebe92a56",
   "metadata": {
    "tags": []
   },
   "outputs": [],
   "source": [
    "ex_rel_af = '''\n",
    "\n",
    "  control =~ RCO02 + RCO03 + RCO04 + RCO05 + RCO06 + RCO07 \n",
    "  dominio =~ RMA02 + RMA03 + RMA04 + RMA05 + RMA06 + RMA07 + RMA08 + RMA09 + RMA10 \n",
    "  desapego =~ RPD01 + RPD02 + RPD03 + RPD05 + RPD06 + RPD07 + RPD08 + RPD09 + RPD10 \n",
    "  relax =~ RRE02 + RRE03 + RRE04 + RRE05 + RRE06 + RRE07 + RRE10 \n",
    "  er =~ control + dominio + desapego + relax\n",
    "\n",
    "'''"
   ]
  },
  {
   "cell_type": "code",
   "execution_count": 38,
   "id": "e6eec6fa-1db1-4b04-805c-9007562d4b77",
   "metadata": {
    "tags": []
   },
   "outputs": [
    {
     "name": "stdout",
     "output_type": "stream",
     "text": [
      "Name of objective: MLW\n",
      "Optimization method: SLSQP\n",
      "Optimization successful.\n",
      "Optimization terminated successfully\n",
      "Objective value: 5.475\n",
      "Number of iterations: 59\n",
      "Params: 0.948 0.796 0.818 0.834 0.835 1.155 1.178 1.141 0.645 1.103 1.108 1.028 1.055 1.206 1.143 1.312 1.087 1.229 1.164 1.317 1.346 1.119 1.025 1.055 1.245 1.117 0.815 0.640 0.746 0.857 1.817 1.261 1.094 1.460 0.494 0.845 0.950 0.516 0.654 0.462 1.739 0.333 1.033 0.987 0.899 0.374 1.485 1.632 0.484 1.259 1.441 0.999 0.886 1.172 0.943 0.626 0.855 1.173 0.481 0.983 1.034 0.382 0.886 0.901 1.137 1.759\n"
     ]
    }
   ],
   "source": [
    "af = semopy.Model(ex_rel_af)\n",
    "af_fit = af.fit(df)\n",
    "print(af_fit)"
   ]
  },
  {
   "cell_type": "code",
   "execution_count": 42,
   "id": "3ad2c941-ac6f-461b-9fe0-872a70bec2f3",
   "metadata": {
    "tags": []
   },
   "outputs": [],
   "source": [
    "paso2 = '''\n",
    "   energia_recup =~ EN01 +  EN02 + EN04 + EN05 + EN06 + EN07 + EN08 \n",
    "   engange_lab =~ EVI01 + EVI02 + EVI03 + EDE01 + EDE02 + EDE03 + EAB01 + EAB02 + EAB03\n",
    "   engange_lab ~ energia_recup + er\n",
    "  '''"
   ]
  },
  {
   "cell_type": "code",
   "execution_count": 43,
   "id": "e00e73ef",
   "metadata": {},
   "outputs": [],
   "source": [
    "af2 = semopy.Model(ex_rel_af + paso2)\n",
    "af_fit2 = af2.fit(df)\n",
    "print(af_fit2)"
   ]
  }
 ],
 "metadata": {
  "kernelspec": {
   "display_name": "Python 3 (ipykernel)",
   "language": "python",
   "name": "python3"
  },
  "language_info": {
   "codemirror_mode": {
    "name": "ipython",
    "version": 3
   },
   "file_extension": ".py",
   "mimetype": "text/x-python",
   "name": "python",
   "nbconvert_exporter": "python",
   "pygments_lexer": "ipython3",
   "version": "3.11.2"
  }
 },
 "nbformat": 4,
 "nbformat_minor": 5
}
