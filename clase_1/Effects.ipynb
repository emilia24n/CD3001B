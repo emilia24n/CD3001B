{
  "nbformat": 4,
  "nbformat_minor": 0,
  "metadata": {
    "colab": {
      "provenance": [],
      "authorship_tag": "ABX9TyPZ8K6HJgvPY7Hiq74O3OE6",
      "include_colab_link": true
    },
    "kernelspec": {
      "name": "python3",
      "display_name": "Python 3"
    },
    "language_info": {
      "name": "python"
    }
  },
  "cells": [
    {
      "cell_type": "markdown",
      "metadata": {
        "id": "view-in-github",
        "colab_type": "text"
      },
      "source": [
        "<a href=\"https://colab.research.google.com/github/sharop/CD3001B/blob/main/clase_1/Effects.ipynb\" target=\"_parent\"><img src=\"https://colab.research.google.com/assets/colab-badge.svg\" alt=\"Open In Colab\"/></a>"
      ]
    },
    {
      "cell_type": "code",
      "source": [
        "!pip install linearmodels"
      ],
      "metadata": {
        "colab": {
          "base_uri": "https://localhost:8080/"
        },
        "id": "0B3zss46shTM",
        "outputId": "abc25cb9-def5-4208-d0f8-f3b0d95e1c20"
      },
      "execution_count": 1,
      "outputs": [
        {
          "output_type": "stream",
          "name": "stdout",
          "text": [
            "Looking in indexes: https://pypi.org/simple, https://us-python.pkg.dev/colab-wheels/public/simple/\n",
            "Collecting linearmodels\n",
            "  Downloading linearmodels-4.27-cp38-cp38-manylinux_2_17_x86_64.manylinux2014_x86_64.whl (1.5 MB)\n",
            "\u001b[2K     \u001b[90m━━━━━━━━━━━━━━━━━━━━━━━━━━━━━━━━━━━━━━━━\u001b[0m \u001b[32m1.5/1.5 MB\u001b[0m \u001b[31m38.7 MB/s\u001b[0m eta \u001b[36m0:00:00\u001b[0m\n",
            "\u001b[?25hRequirement already satisfied: scipy>=1.2 in /usr/local/lib/python3.8/dist-packages (from linearmodels) (1.7.3)\n",
            "Collecting pyhdfe>=0.1\n",
            "  Downloading pyhdfe-0.1.2-py3-none-any.whl (18 kB)\n",
            "Requirement already satisfied: numpy>=1.16 in /usr/local/lib/python3.8/dist-packages (from linearmodels) (1.21.6)\n",
            "Collecting setuptools-scm<7.0.0,>=6.4.2\n",
            "  Downloading setuptools_scm-6.4.2-py3-none-any.whl (37 kB)\n",
            "Collecting formulaic~=0.3.2\n",
            "  Downloading formulaic-0.3.4-py3-none-any.whl (68 kB)\n",
            "\u001b[2K     \u001b[90m━━━━━━━━━━━━━━━━━━━━━━━━━━━━━━━━━━━━━━━━\u001b[0m \u001b[32m68.2/68.2 KB\u001b[0m \u001b[31m4.6 MB/s\u001b[0m eta \u001b[36m0:00:00\u001b[0m\n",
            "\u001b[?25hCollecting property-cached>=1.6.3\n",
            "  Downloading property_cached-1.6.4-py2.py3-none-any.whl (7.8 kB)\n",
            "Requirement already satisfied: Cython>=0.29.21 in /usr/local/lib/python3.8/dist-packages (from linearmodels) (0.29.33)\n",
            "Requirement already satisfied: pandas>=0.24 in /usr/local/lib/python3.8/dist-packages (from linearmodels) (1.3.5)\n",
            "Requirement already satisfied: statsmodels>=0.11 in /usr/local/lib/python3.8/dist-packages (from linearmodels) (0.12.2)\n",
            "Collecting mypy-extensions>=0.4\n",
            "  Downloading mypy_extensions-1.0.0-py3-none-any.whl (4.7 kB)\n",
            "Requirement already satisfied: astor>=0.8 in /usr/local/lib/python3.8/dist-packages (from formulaic~=0.3.2->linearmodels) (0.8.1)\n",
            "Collecting interface-meta<2.0.0,>=1.2.0\n",
            "  Downloading interface_meta-1.3.0-py3-none-any.whl (14 kB)\n",
            "Requirement already satisfied: wrapt>=1.0 in /usr/local/lib/python3.8/dist-packages (from formulaic~=0.3.2->linearmodels) (1.14.1)\n",
            "Requirement already satisfied: python-dateutil>=2.7.3 in /usr/local/lib/python3.8/dist-packages (from pandas>=0.24->linearmodels) (2.8.2)\n",
            "Requirement already satisfied: pytz>=2017.3 in /usr/local/lib/python3.8/dist-packages (from pandas>=0.24->linearmodels) (2022.7.1)\n",
            "Requirement already satisfied: tomli>=1.0.0 in /usr/local/lib/python3.8/dist-packages (from setuptools-scm<7.0.0,>=6.4.2->linearmodels) (2.0.1)\n",
            "Requirement already satisfied: setuptools in /usr/local/lib/python3.8/dist-packages (from setuptools-scm<7.0.0,>=6.4.2->linearmodels) (57.4.0)\n",
            "Requirement already satisfied: packaging>=20.0 in /usr/local/lib/python3.8/dist-packages (from setuptools-scm<7.0.0,>=6.4.2->linearmodels) (23.0)\n",
            "Requirement already satisfied: patsy>=0.5 in /usr/local/lib/python3.8/dist-packages (from statsmodels>=0.11->linearmodels) (0.5.3)\n",
            "Requirement already satisfied: six in /usr/local/lib/python3.8/dist-packages (from patsy>=0.5->statsmodels>=0.11->linearmodels) (1.15.0)\n",
            "Installing collected packages: setuptools-scm, property-cached, mypy-extensions, interface-meta, pyhdfe, formulaic, linearmodels\n",
            "Successfully installed formulaic-0.3.4 interface-meta-1.3.0 linearmodels-4.27 mypy-extensions-1.0.0 property-cached-1.6.4 pyhdfe-0.1.2 setuptools-scm-6.4.2\n"
          ]
        }
      ]
    },
    {
      "cell_type": "code",
      "source": [],
      "metadata": {
        "id": "9VqFlY6V2v8n"
      },
      "execution_count": null,
      "outputs": []
    },
    {
      "cell_type": "markdown",
      "source": [],
      "metadata": {
        "id": "GUO19N0q3WI9"
      }
    },
    {
      "cell_type": "code",
      "execution_count": 6,
      "metadata": {
        "id": "txRi9YDGsfnF"
      },
      "outputs": [],
      "source": [
        "# Example 16.4 Panel Data Analysis for Investment Demand\n",
        "# Deviation Approach\n",
        "\n",
        "import numpy as np\n",
        "import pandas as pd\n",
        "from scipy import stats\n",
        "\n",
        "# read 5 data files\n",
        "data1 = pd.read_csv(\"http://web.pdx.edu/~crkl/ceR/data/ifcgm.txt\", sep='\\s+', nrows=20)\n",
        "data2 = pd.read_csv(\"http://web.pdx.edu/~crkl/ceR/data/ifcch.txt\", sep='\\s+', nrows=20)\n",
        "data3 = pd.read_csv(\"http://web.pdx.edu/~crkl/ceR/data/ifcge.txt\", sep='\\s+', nrows=20)\n",
        "data4 = pd.read_csv(\"http://web.pdx.edu/~crkl/ceR/data/ifcwe.txt\", sep='\\s+', nrows=20)\n",
        "data5 = pd.read_csv(\"http://web.pdx.edu/~crkl/ceR/data/ifcus.txt\", sep='\\s+', nrows=20)\n",
        "data1['ID'] = 1\n",
        "data2['ID'] = 2\n",
        "data3['ID'] = 3\n",
        "data4['ID'] = 4\n",
        "data5['ID'] = 5\n",
        "# set up panel data\n",
        "data = pd.concat([data1,data2,data3,data4,data5])\n",
        "data.set_index(['ID', 'YEAR'], inplace=True)\n",
        "# switch ID and YEAR to study the time effects\n",
        "# data.set_index(['YEAR', 'ID'], inplace=True)\n",
        "\n"
      ]
    },
    {
      "cell_type": "markdown",
      "source": [
        "* i =  5 empresas: General Motors, Chrysler, General Electric, Westinghouse, and United Steel.\n",
        "* t = 20 years: 1935-1954.\n",
        "* $I_it$ = Inversion bruta\n",
        "* $F_it$ = Valor de mercado\n",
        "* $C_it$ = Valor del stock de planta y equipo."
      ],
      "metadata": {
        "id": "j8w7bpRL75Hr"
      }
    },
    {
      "cell_type": "code",
      "source": [
        "data"
      ],
      "metadata": {
        "colab": {
          "base_uri": "https://localhost:8080/",
          "height": 450
        },
        "id": "2_9zRcjs3XbB",
        "outputId": "cda0b4c0-39ea-4be7-efcf-7749fd6e588c"
      },
      "execution_count": 7,
      "outputs": [
        {
          "output_type": "execute_result",
          "data": {
            "text/plain": [
              "             I       F      C\n",
              "ID YEAR                      \n",
              "1  1935  317.6  3078.5    2.8\n",
              "   1936  391.8  4661.7   52.6\n",
              "   1937  410.6  5387.1  156.9\n",
              "   1938  257.7  2792.2  209.2\n",
              "   1939  330.8  4313.2  203.4\n",
              "...        ...     ...    ...\n",
              "5  1950  418.8  1677.4  357.8\n",
              "   1951  588.2  2289.5  342.1\n",
              "   1952  645.2  2159.4  444.2\n",
              "   1953  641.0  2031.3  623.6\n",
              "   1954  459.3  2115.5  669.7\n",
              "\n",
              "[100 rows x 3 columns]"
            ],
            "text/html": [
              "\n",
              "  <div id=\"df-3c07014b-a645-4daa-944b-d16847d56a99\">\n",
              "    <div class=\"colab-df-container\">\n",
              "      <div>\n",
              "<style scoped>\n",
              "    .dataframe tbody tr th:only-of-type {\n",
              "        vertical-align: middle;\n",
              "    }\n",
              "\n",
              "    .dataframe tbody tr th {\n",
              "        vertical-align: top;\n",
              "    }\n",
              "\n",
              "    .dataframe thead th {\n",
              "        text-align: right;\n",
              "    }\n",
              "</style>\n",
              "<table border=\"1\" class=\"dataframe\">\n",
              "  <thead>\n",
              "    <tr style=\"text-align: right;\">\n",
              "      <th></th>\n",
              "      <th></th>\n",
              "      <th>I</th>\n",
              "      <th>F</th>\n",
              "      <th>C</th>\n",
              "    </tr>\n",
              "    <tr>\n",
              "      <th>ID</th>\n",
              "      <th>YEAR</th>\n",
              "      <th></th>\n",
              "      <th></th>\n",
              "      <th></th>\n",
              "    </tr>\n",
              "  </thead>\n",
              "  <tbody>\n",
              "    <tr>\n",
              "      <th rowspan=\"5\" valign=\"top\">1</th>\n",
              "      <th>1935</th>\n",
              "      <td>317.6</td>\n",
              "      <td>3078.5</td>\n",
              "      <td>2.8</td>\n",
              "    </tr>\n",
              "    <tr>\n",
              "      <th>1936</th>\n",
              "      <td>391.8</td>\n",
              "      <td>4661.7</td>\n",
              "      <td>52.6</td>\n",
              "    </tr>\n",
              "    <tr>\n",
              "      <th>1937</th>\n",
              "      <td>410.6</td>\n",
              "      <td>5387.1</td>\n",
              "      <td>156.9</td>\n",
              "    </tr>\n",
              "    <tr>\n",
              "      <th>1938</th>\n",
              "      <td>257.7</td>\n",
              "      <td>2792.2</td>\n",
              "      <td>209.2</td>\n",
              "    </tr>\n",
              "    <tr>\n",
              "      <th>1939</th>\n",
              "      <td>330.8</td>\n",
              "      <td>4313.2</td>\n",
              "      <td>203.4</td>\n",
              "    </tr>\n",
              "    <tr>\n",
              "      <th>...</th>\n",
              "      <th>...</th>\n",
              "      <td>...</td>\n",
              "      <td>...</td>\n",
              "      <td>...</td>\n",
              "    </tr>\n",
              "    <tr>\n",
              "      <th rowspan=\"5\" valign=\"top\">5</th>\n",
              "      <th>1950</th>\n",
              "      <td>418.8</td>\n",
              "      <td>1677.4</td>\n",
              "      <td>357.8</td>\n",
              "    </tr>\n",
              "    <tr>\n",
              "      <th>1951</th>\n",
              "      <td>588.2</td>\n",
              "      <td>2289.5</td>\n",
              "      <td>342.1</td>\n",
              "    </tr>\n",
              "    <tr>\n",
              "      <th>1952</th>\n",
              "      <td>645.2</td>\n",
              "      <td>2159.4</td>\n",
              "      <td>444.2</td>\n",
              "    </tr>\n",
              "    <tr>\n",
              "      <th>1953</th>\n",
              "      <td>641.0</td>\n",
              "      <td>2031.3</td>\n",
              "      <td>623.6</td>\n",
              "    </tr>\n",
              "    <tr>\n",
              "      <th>1954</th>\n",
              "      <td>459.3</td>\n",
              "      <td>2115.5</td>\n",
              "      <td>669.7</td>\n",
              "    </tr>\n",
              "  </tbody>\n",
              "</table>\n",
              "<p>100 rows × 3 columns</p>\n",
              "</div>\n",
              "      <button class=\"colab-df-convert\" onclick=\"convertToInteractive('df-3c07014b-a645-4daa-944b-d16847d56a99')\"\n",
              "              title=\"Convert this dataframe to an interactive table.\"\n",
              "              style=\"display:none;\">\n",
              "        \n",
              "  <svg xmlns=\"http://www.w3.org/2000/svg\" height=\"24px\"viewBox=\"0 0 24 24\"\n",
              "       width=\"24px\">\n",
              "    <path d=\"M0 0h24v24H0V0z\" fill=\"none\"/>\n",
              "    <path d=\"M18.56 5.44l.94 2.06.94-2.06 2.06-.94-2.06-.94-.94-2.06-.94 2.06-2.06.94zm-11 1L8.5 8.5l.94-2.06 2.06-.94-2.06-.94L8.5 2.5l-.94 2.06-2.06.94zm10 10l.94 2.06.94-2.06 2.06-.94-2.06-.94-.94-2.06-.94 2.06-2.06.94z\"/><path d=\"M17.41 7.96l-1.37-1.37c-.4-.4-.92-.59-1.43-.59-.52 0-1.04.2-1.43.59L10.3 9.45l-7.72 7.72c-.78.78-.78 2.05 0 2.83L4 21.41c.39.39.9.59 1.41.59.51 0 1.02-.2 1.41-.59l7.78-7.78 2.81-2.81c.8-.78.8-2.07 0-2.86zM5.41 20L4 18.59l7.72-7.72 1.47 1.35L5.41 20z\"/>\n",
              "  </svg>\n",
              "      </button>\n",
              "      \n",
              "  <style>\n",
              "    .colab-df-container {\n",
              "      display:flex;\n",
              "      flex-wrap:wrap;\n",
              "      gap: 12px;\n",
              "    }\n",
              "\n",
              "    .colab-df-convert {\n",
              "      background-color: #E8F0FE;\n",
              "      border: none;\n",
              "      border-radius: 50%;\n",
              "      cursor: pointer;\n",
              "      display: none;\n",
              "      fill: #1967D2;\n",
              "      height: 32px;\n",
              "      padding: 0 0 0 0;\n",
              "      width: 32px;\n",
              "    }\n",
              "\n",
              "    .colab-df-convert:hover {\n",
              "      background-color: #E2EBFA;\n",
              "      box-shadow: 0px 1px 2px rgba(60, 64, 67, 0.3), 0px 1px 3px 1px rgba(60, 64, 67, 0.15);\n",
              "      fill: #174EA6;\n",
              "    }\n",
              "\n",
              "    [theme=dark] .colab-df-convert {\n",
              "      background-color: #3B4455;\n",
              "      fill: #D2E3FC;\n",
              "    }\n",
              "\n",
              "    [theme=dark] .colab-df-convert:hover {\n",
              "      background-color: #434B5C;\n",
              "      box-shadow: 0px 1px 3px 1px rgba(0, 0, 0, 0.15);\n",
              "      filter: drop-shadow(0px 1px 2px rgba(0, 0, 0, 0.3));\n",
              "      fill: #FFFFFF;\n",
              "    }\n",
              "  </style>\n",
              "\n",
              "      <script>\n",
              "        const buttonEl =\n",
              "          document.querySelector('#df-3c07014b-a645-4daa-944b-d16847d56a99 button.colab-df-convert');\n",
              "        buttonEl.style.display =\n",
              "          google.colab.kernel.accessAllowed ? 'block' : 'none';\n",
              "\n",
              "        async function convertToInteractive(key) {\n",
              "          const element = document.querySelector('#df-3c07014b-a645-4daa-944b-d16847d56a99');\n",
              "          const dataTable =\n",
              "            await google.colab.kernel.invokeFunction('convertToInteractive',\n",
              "                                                     [key], {});\n",
              "          if (!dataTable) return;\n",
              "\n",
              "          const docLinkHtml = 'Like what you see? Visit the ' +\n",
              "            '<a target=\"_blank\" href=https://colab.research.google.com/notebooks/data_table.ipynb>data table notebook</a>'\n",
              "            + ' to learn more about interactive tables.';\n",
              "          element.innerHTML = '';\n",
              "          dataTable['output_type'] = 'display_data';\n",
              "          await google.colab.output.renderOutput(dataTable, element);\n",
              "          const docLink = document.createElement('div');\n",
              "          docLink.innerHTML = docLinkHtml;\n",
              "          element.appendChild(docLink);\n",
              "        }\n",
              "      </script>\n",
              "    </div>\n",
              "  </div>\n",
              "  "
            ]
          },
          "metadata": {},
          "execution_count": 7
        }
      ]
    },
    {
      "cell_type": "markdown",
      "source": [],
      "metadata": {
        "id": "NxK6d270230x"
      }
    },
    {
      "cell_type": "code",
      "source": [
        "# Pooled OLS estimator\n",
        "from linearmodels import PooledOLS\n",
        "pooled = PooledOLS.from_formula('I ~ 1 + F + C', data).fit()\n",
        "print(pooled)\n",
        "\n"
      ],
      "metadata": {
        "colab": {
          "base_uri": "https://localhost:8080/"
        },
        "id": "n6X6odQ324W6",
        "outputId": "d265e3ba-0529-4898-ed08-96c06854dcf1"
      },
      "execution_count": 9,
      "outputs": [
        {
          "output_type": "stream",
          "name": "stdout",
          "text": [
            "                          PooledOLS Estimation Summary                          \n",
            "================================================================================\n",
            "Dep. Variable:                      I   R-squared:                        0.7789\n",
            "Estimator:                  PooledOLS   R-squared (Between):              0.7725\n",
            "No. Observations:                 100   R-squared (Within):               0.7929\n",
            "Date:                Thu, Feb 16 2023   R-squared (Overall):              0.7789\n",
            "Time:                        20:38:37   Log-likelihood                   -624.99\n",
            "Cov. Estimator:            Unadjusted                                           \n",
            "                                        F-statistic:                      170.81\n",
            "Entities:                           5   P-value                           0.0000\n",
            "Avg Obs:                       20.000   Distribution:                    F(2,97)\n",
            "Min Obs:                       20.000                                           \n",
            "Max Obs:                       20.000   F-statistic (robust):             170.81\n",
            "                                        P-value                           0.0000\n",
            "Time periods:                      20   Distribution:                    F(2,97)\n",
            "Avg Obs:                       5.0000                                           \n",
            "Min Obs:                       5.0000                                           \n",
            "Max Obs:                       5.0000                                           \n",
            "                                                                                \n",
            "                             Parameter Estimates                              \n",
            "==============================================================================\n",
            "            Parameter  Std. Err.     T-stat    P-value    Lower CI    Upper CI\n",
            "------------------------------------------------------------------------------\n",
            "Intercept     -48.030     21.480    -2.2360     0.0276     -90.662     -5.3976\n",
            "C              0.3054     0.0435     7.0186     0.0000      0.2190      0.3917\n",
            "F              0.1051     0.0114     9.2360     0.0000      0.0825      0.1277\n",
            "==============================================================================\n"
          ]
        }
      ]
    },
    {
      "cell_type": "markdown",
      "source": [],
      "metadata": {
        "id": "njytX40Y27oz"
      }
    },
    {
      "cell_type": "code",
      "source": [
        "# Between estimator\n",
        "from linearmodels import BetweenOLS\n",
        "between = BetweenOLS.from_formula('I ~ 1 + F + C', data).fit()\n",
        "print(between)\n",
        "\n"
      ],
      "metadata": {
        "colab": {
          "base_uri": "https://localhost:8080/"
        },
        "id": "3QWSeNiU28KZ",
        "outputId": "e5b65ebb-51f8-4f36-9739-27a6829c23c8"
      },
      "execution_count": 10,
      "outputs": [
        {
          "output_type": "stream",
          "name": "stdout",
          "text": [
            "                         BetweenOLS Estimation Summary                          \n",
            "================================================================================\n",
            "Dep. Variable:                      I   R-squared:                        0.9082\n",
            "Estimator:                 BetweenOLS   R-squared (Between):              0.9082\n",
            "No. Observations:                   5   R-squared (Within):              -12.490\n",
            "Date:                Thu, Feb 16 2023   R-squared (Overall):             -3.2890\n",
            "Time:                        20:38:43   Log-likelihood                   -28.111\n",
            "Cov. Estimator:            Unadjusted                                           \n",
            "                                        F-statistic:                      9.8975\n",
            "Entities:                           5   P-value                           0.0918\n",
            "Avg Obs:                       20.000   Distribution:                     F(2,2)\n",
            "Min Obs:                       20.000                                           \n",
            "Max Obs:                       20.000   F-statistic (robust):             9.8975\n",
            "                                        P-value                           0.0918\n",
            "Time periods:                      20   Distribution:                     F(2,2)\n",
            "Avg Obs:                       5.0000                                           \n",
            "Min Obs:                       5.0000                                           \n",
            "Max Obs:                       5.0000                                           \n",
            "                                                                                \n",
            "                             Parameter Estimates                              \n",
            "==============================================================================\n",
            "            Parameter  Std. Err.     T-stat    P-value    Lower CI    Upper CI\n",
            "------------------------------------------------------------------------------\n",
            "Intercept     -2.0702     86.732    -0.0239     0.9831     -375.25      371.11\n",
            "C             -1.5298     1.0670    -1.4337     0.2881     -6.1209      3.0614\n",
            "F              0.3782     0.1635     2.3135     0.1468     -0.3251      1.0815\n",
            "==============================================================================\n"
          ]
        }
      ]
    },
    {
      "cell_type": "markdown",
      "source": [],
      "metadata": {
        "id": "CbytnwLS2_e5"
      }
    },
    {
      "cell_type": "code",
      "source": [
        "# First differences estimator (without constant term)\n",
        "from linearmodels import FirstDifferenceOLS\n",
        "firstdiff = FirstDifferenceOLS.from_formula('I ~ F + C', data).fit()\n",
        "print(firstdiff)\n",
        "\n",
        "from linearmodels.panel.results import compare\n",
        "res1 = {'Pooled':pooled,'Between':between,'firstdiff':firstdiff}\n",
        "print(compare(res1))\n",
        "\n"
      ],
      "metadata": {
        "id": "yEQc2UsR3AIT"
      },
      "execution_count": null,
      "outputs": []
    },
    {
      "cell_type": "code",
      "source": [],
      "metadata": {
        "id": "j6UVWZ9s3EUV"
      },
      "execution_count": null,
      "outputs": []
    },
    {
      "cell_type": "markdown",
      "source": [],
      "metadata": {
        "id": "KrBuOiB13EJF"
      }
    },
    {
      "cell_type": "code",
      "source": [
        "# Fixed effects or within estimator, constant included\n",
        "from linearmodels import PanelOLS\n",
        "fixed = PanelOLS.from_formula('I ~ 1 + F + C + EntityEffects', data).fit()\n",
        "print(fixed)\n",
        "# extract fixed effects\n",
        "fixed.estimated_effects\n",
        "fixed_effects = fixed.params.Intercept + fixed.estimated_effects.unstack(level=0).values[0]\n",
        "print(fixed_effects)\n",
        "# F test for fixed effects versus OLS\n",
        "print(fixed.f_pooled)\n",
        "\n"
      ],
      "metadata": {
        "id": "iux-QSqC3E73"
      },
      "execution_count": null,
      "outputs": []
    },
    {
      "cell_type": "markdown",
      "source": [],
      "metadata": {
        "id": "-f7zPm_R3HHw"
      }
    },
    {
      "cell_type": "code",
      "source": [
        "# Random effects estimator\n",
        "from linearmodels import RandomEffects\n",
        "random = RandomEffects.from_formula('I ~ 1 + F + C + EntityEffects', data).fit()\n",
        "print(random)\n",
        "# extract fixed effects\n",
        "random.estimated_effects\n",
        "random_effects = random.params.Intercept + random.estimated_effects.unstack(level=0).values[0]\n",
        "print(random_effects)\n",
        "\n"
      ],
      "metadata": {
        "id": "eBUClGpf3HlI"
      },
      "execution_count": null,
      "outputs": []
    },
    {
      "cell_type": "markdown",
      "source": [],
      "metadata": {
        "id": "ilqAUiSM3J9O"
      }
    },
    {
      "cell_type": "code",
      "source": [
        "# compare fixed effects and random effects models\n",
        "res2 = {'Pooled':pooled,'Fixed':fixed,'Random':random}\n",
        "print(compare(res2))\n",
        "\n"
      ],
      "metadata": {
        "id": "SIuWMZkn3KXC"
      },
      "execution_count": null,
      "outputs": []
    },
    {
      "cell_type": "markdown",
      "source": [],
      "metadata": {
        "id": "NmXcSu8E3MuV"
      }
    },
    {
      "cell_type": "code",
      "source": [
        "# compare the estimates of fixed effects and random effects\n",
        "effects = pd.DataFrame({'Fixed Effects':fixed_effects,'Random Effects':random_effects},\n",
        "                       index=data.index.levels[0])\n",
        "print(effects)\n",
        "\n"
      ],
      "metadata": {
        "id": "hPlPELuu3NG1"
      },
      "execution_count": null,
      "outputs": []
    },
    {
      "cell_type": "markdown",
      "source": [],
      "metadata": {
        "id": "rJT0Gi-m3QmA"
      }
    },
    {
      "cell_type": "code",
      "source": [
        "# LM test for random effects versus OLS\n",
        "n = data.index.levels[0].size\n",
        "T = data.index.levels[1].size\n",
        "D = np.kron(np.eye(n), np.ones(T)).T\n",
        "e = pooled.resids\n",
        "LM = (e.dot(D).dot(D.T).dot(e) / e.dot(e) - 1) ** 2 * n * T / 2 / (T - 1)\n",
        "LM_pvalue = stats.chi2(1).sf(LM)\n",
        "print(\"LM Test: chisq = {0}, df = 1, p-value = {1}\".format(LM, LM_pvalue))\n",
        "\n"
      ],
      "metadata": {
        "id": "ndhuQx4e3RBn"
      },
      "execution_count": null,
      "outputs": []
    },
    {
      "cell_type": "markdown",
      "source": [],
      "metadata": {
        "id": "AeIU2VE-3TwW"
      }
    },
    {
      "cell_type": "code",
      "source": [
        "# Hausman test for fixed versus random effects model\n",
        "psi = fixed.cov.iloc[1:,1:] - random.cov.iloc[1:,1:]\n",
        "diff = fixed.params[1:] - random.params[1:]\n",
        "W = -diff.dot(np.linalg.inv(-psi)).dot(-diff)\n",
        "dof = random.params.size - 1\n",
        "pvalue = stats.chi2(dof).sf(W)\n",
        "print(\"Hausman Test: chisq = {0}, df = {1}, p-value = {2}\".format(W, dof, pvalue))"
      ],
      "metadata": {
        "id": "3O6DKH3S3UK7"
      },
      "execution_count": null,
      "outputs": []
    },
    {
      "cell_type": "code",
      "source": [],
      "metadata": {
        "id": "oyBbdS_C2t3B"
      },
      "execution_count": null,
      "outputs": []
    }
  ]
}