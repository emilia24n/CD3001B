{
 "cells": [
  {
   "cell_type": "markdown",
   "metadata": {
    "id": "Bnbk2nsrzkAY"
   },
   "source": [
    "# Datos de Panel"
   ]
  },
  {
   "cell_type": "markdown",
   "metadata": {
    "colab_type": "text",
    "id": "view-in-github"
   },
   "source": [
    "<a href=\"https://colab.research.google.com/github/sharop/CD3001B/blob/main/clase_1/Tema-1_4-1_5.ipynb\" target=\"_parent\"><img src=\"https://colab.research.google.com/assets/colab-badge.svg\" alt=\"Open In Colab\"/></a>"
   ]
  },
  {
   "cell_type": "markdown",
   "metadata": {
    "id": "yriSJ1XfzShf"
   },
   "source": [
    "### 1. Construye un modelo de datos en panel. \n",
    "* Recuerda seleccionar adecuadamente tus variables dependientes e independientes. \n",
    "* Recuerda que el objetivo del ejercicio es predecir el número de variables que una empresa podría generar. \n",
    "\n"
   ]
  },
  {
   "cell_type": "code",
   "execution_count": null,
   "metadata": {},
   "outputs": [],
   "source": []
  },
  {
   "cell_type": "markdown",
   "metadata": {},
   "source": [
    "### 2. Realiza las pruebas necesarias para detectar posibles errores en tu análisis. \n",
    "• Verifica la presencia o ausencia de heterocedasticidad y autocorrelación serial. "
   ]
  },
  {
   "cell_type": "code",
   "execution_count": null,
   "metadata": {},
   "outputs": [],
   "source": []
  },
  {
   "cell_type": "markdown",
   "metadata": {},
   "source": [
    "### 3. Determina  cuál  es  el  modelo  apropiado  de  datos  panel  para  este  caso \n",
    "(efectos fijos o efectos aleatorios) "
   ]
  },
  {
   "cell_type": "code",
   "execution_count": null,
   "metadata": {},
   "outputs": [],
   "source": []
  },
  {
   "cell_type": "markdown",
   "metadata": {},
   "source": [
    "### 4. Interpreta  los  resultados  \n",
    "Qué tan  buenos  serían  los  pronósticos generados con el modelo propuesto. "
   ]
  },
  {
   "cell_type": "raw",
   "metadata": {},
   "source": []
  }
 ],
 "metadata": {
  "colab": {
   "authorship_tag": "ABX9TyP/fwG0KaDUZKm1wwc7SFVQ",
   "include_colab_link": true,
   "provenance": []
  },
  "kernelspec": {
   "display_name": "Python 3 (ipykernel)",
   "language": "python",
   "name": "python3"
  },
  "language_info": {
   "codemirror_mode": {
    "name": "ipython",
    "version": 3
   },
   "file_extension": ".py",
   "mimetype": "text/x-python",
   "name": "python",
   "nbconvert_exporter": "python",
   "pygments_lexer": "ipython3",
   "version": "3.11.1"
  }
 },
 "nbformat": 4,
 "nbformat_minor": 4
}
