{
  "cells": [
    {
      "cell_type": "markdown",
      "metadata": {
        "id": "view-in-github",
        "colab_type": "text"
      },
      "source": [
        "<a href=\"https://colab.research.google.com/github/sharop/CD3001B/blob/main/clase_1/Tema-1_4-1_5.ipynb\" target=\"_parent\"><img src=\"https://colab.research.google.com/assets/colab-badge.svg\" alt=\"Open In Colab\"/></a>"
      ]
    },
    {
      "cell_type": "markdown",
      "source": [
        "Instalación de librerias"
      ],
      "metadata": {
        "id": "9UmVSDuLJvS3"
      }
    },
    {
      "cell_type": "code",
      "execution_count": 74,
      "metadata": {
        "id": "yriSJ1XfzShf",
        "colab": {
          "base_uri": "https://localhost:8080/"
        },
        "outputId": "0fe26041-12f0-41d6-963c-2721d4d0f6b4"
      },
      "outputs": [
        {
          "output_type": "stream",
          "name": "stdout",
          "text": [
            "Looking in indexes: https://pypi.org/simple, https://us-python.pkg.dev/colab-wheels/public/simple/\n",
            "Collecting linearmodels\n",
            "  Downloading linearmodels-4.27-cp38-cp38-manylinux_2_17_x86_64.manylinux2014_x86_64.whl (1.5 MB)\n",
            "\u001b[2K     \u001b[90m━━━━━━━━━━━━━━━━━━━━━━━━━━━━━━━━━━━━━━━━\u001b[0m \u001b[32m1.5/1.5 MB\u001b[0m \u001b[31m20.6 MB/s\u001b[0m eta \u001b[36m0:00:00\u001b[0m\n",
            "\u001b[?25hCollecting formulaic~=0.3.2\n",
            "  Downloading formulaic-0.3.4-py3-none-any.whl (68 kB)\n",
            "\u001b[2K     \u001b[90m━━━━━━━━━━━━━━━━━━━━━━━━━━━━━━━━━━━━━━━━\u001b[0m \u001b[32m68.2/68.2 KB\u001b[0m \u001b[31m10.0 MB/s\u001b[0m eta \u001b[36m0:00:00\u001b[0m\n",
            "\u001b[?25hCollecting pyhdfe>=0.1\n",
            "  Downloading pyhdfe-0.1.2-py3-none-any.whl (18 kB)\n",
            "Collecting property-cached>=1.6.3\n",
            "  Downloading property_cached-1.6.4-py2.py3-none-any.whl (7.8 kB)\n",
            "Requirement already satisfied: statsmodels>=0.11 in /usr/local/lib/python3.8/dist-packages (from linearmodels) (0.12.2)\n",
            "Collecting setuptools-scm<7.0.0,>=6.4.2\n",
            "  Downloading setuptools_scm-6.4.2-py3-none-any.whl (37 kB)\n",
            "Requirement already satisfied: scipy>=1.2 in /usr/local/lib/python3.8/dist-packages (from linearmodels) (1.7.3)\n",
            "Requirement already satisfied: pandas>=0.24 in /usr/local/lib/python3.8/dist-packages (from linearmodels) (1.3.5)\n",
            "Collecting mypy-extensions>=0.4\n",
            "  Downloading mypy_extensions-1.0.0-py3-none-any.whl (4.7 kB)\n",
            "Requirement already satisfied: numpy>=1.16 in /usr/local/lib/python3.8/dist-packages (from linearmodels) (1.21.6)\n",
            "Requirement already satisfied: Cython>=0.29.21 in /usr/local/lib/python3.8/dist-packages (from linearmodels) (0.29.33)\n",
            "Requirement already satisfied: astor>=0.8 in /usr/local/lib/python3.8/dist-packages (from formulaic~=0.3.2->linearmodels) (0.8.1)\n",
            "Requirement already satisfied: wrapt>=1.0 in /usr/local/lib/python3.8/dist-packages (from formulaic~=0.3.2->linearmodels) (1.14.1)\n",
            "Collecting interface-meta<2.0.0,>=1.2.0\n",
            "  Downloading interface_meta-1.3.0-py3-none-any.whl (14 kB)\n",
            "Requirement already satisfied: pytz>=2017.3 in /usr/local/lib/python3.8/dist-packages (from pandas>=0.24->linearmodels) (2022.7.1)\n",
            "Requirement already satisfied: python-dateutil>=2.7.3 in /usr/local/lib/python3.8/dist-packages (from pandas>=0.24->linearmodels) (2.8.2)\n",
            "Requirement already satisfied: packaging>=20.0 in /usr/local/lib/python3.8/dist-packages (from setuptools-scm<7.0.0,>=6.4.2->linearmodels) (23.0)\n",
            "Requirement already satisfied: tomli>=1.0.0 in /usr/local/lib/python3.8/dist-packages (from setuptools-scm<7.0.0,>=6.4.2->linearmodels) (2.0.1)\n",
            "Requirement already satisfied: setuptools in /usr/local/lib/python3.8/dist-packages (from setuptools-scm<7.0.0,>=6.4.2->linearmodels) (57.4.0)\n",
            "Requirement already satisfied: patsy>=0.5 in /usr/local/lib/python3.8/dist-packages (from statsmodels>=0.11->linearmodels) (0.5.3)\n",
            "Requirement already satisfied: six in /usr/local/lib/python3.8/dist-packages (from patsy>=0.5->statsmodels>=0.11->linearmodels) (1.15.0)\n",
            "Installing collected packages: setuptools-scm, property-cached, mypy-extensions, interface-meta, pyhdfe, formulaic, linearmodels\n",
            "Successfully installed formulaic-0.3.4 interface-meta-1.3.0 linearmodels-4.27 mypy-extensions-1.0.0 property-cached-1.6.4 pyhdfe-0.1.2 setuptools-scm-6.4.2\n"
          ]
        }
      ],
      "source": [
        "#!apt-get install r-base\n",
        "#!pip install rpy2\n",
        "!pip install linearmodels"
      ]
    },
    {
      "cell_type": "code",
      "source": [],
      "metadata": {
        "id": "FRmvlUFb7iwB"
      },
      "execution_count": null,
      "outputs": []
    },
    {
      "cell_type": "markdown",
      "source": [
        "#Preparación de ambiente"
      ],
      "metadata": {
        "id": "IrRrD9GrK6H5"
      }
    },
    {
      "cell_type": "code",
      "source": [
        "# Download the data and assets that this notebook uses\n",
        "import urllib.request\n",
        "\n",
        "url_prefix = \"https://github.com/jmbejara/comp-econ-sp19/blob/master/lectures/4-23_Panel_Data/\"\n",
        "files = [\n",
        "    \"15_2_Wooldridge_Intro.png\",\n",
        "    \"lme.dta\",\n",
        "    \"Example_10_4_Wooldridge_Panel.png\",\n",
        "    \"Example_10_5_Wooldridge_Panel.png\",\n",
        "    \"fixed_and_random_effects.do\",\n",
        "    \"St11-12_jtrain1.dta\",\n",
        "    ]\n",
        "for file in files:\n",
        "    url = url_prefix + file + \"?raw=true\"\n",
        "    urllib.request.urlretrieve(url, f'./{file}')"
      ],
      "metadata": {
        "id": "Ns7MjEgmK5c7"
      },
      "execution_count": null,
      "outputs": []
    },
    {
      "cell_type": "markdown",
      "source": [
        "El codigo que se encuentra en las celdas previas solo es para Google Colab.\n",
        "El siguiente codigo es generico."
      ],
      "metadata": {
        "id": "YYI0Wan95DkP"
      }
    },
    {
      "cell_type": "code",
      "source": [],
      "metadata": {
        "id": "WyF13ly4LCZv"
      },
      "execution_count": null,
      "outputs": []
    },
    {
      "cell_type": "markdown",
      "metadata": {
        "id": "B-8LKLuDzTj1"
      },
      "source": [
        "#Exploración del ambiente\n"
      ]
    },
    {
      "cell_type": "code",
      "source": [
        "import numpy as np\n",
        "import pandas as pd\n",
        "from linearmodels import PanelOLS\n",
        "from linearmodels import RandomEffects"
      ],
      "metadata": {
        "id": "v9Jc56UHJB8c"
      },
      "execution_count": null,
      "outputs": []
    },
    {
      "cell_type": "code",
      "source": [
        "import numpy as np\n",
        "import pandas as pd\n",
        "import statsmodels.api as sm\n",
        "import statsmodels.formula.api as smf\n",
        "import matplotlib.pyplot as plt\n",
        "import linearmodels\n",
        "from statsmodels.sandbox.regression.predstd import wls_prediction_std\n",
        "\n",
        "np.random.seed(1)"
      ],
      "metadata": {
        "id": "J5widHYP7hfL"
      },
      "execution_count": null,
      "outputs": []
    },
    {
      "cell_type": "code",
      "source": [
        "# Muestra simple con datos faltantes.\n",
        "nsample = 100\n",
        "x = np.linspace(0, 10, 100)\n",
        "X = np.column_stack((x, x**2))\n",
        "beta = np.array([0.1, 10])\n",
        "e = np.random.normal(size=nsample)\n",
        "alpha = 1\n",
        "y = alpha + X @ beta + e\n",
        "X[3,1] = np.nan # agregamos datos faltantes"
      ],
      "metadata": {
        "id": "CVGBSNID74cl"
      },
      "execution_count": null,
      "outputs": []
    },
    {
      "cell_type": "code",
      "source": [],
      "metadata": {
        "id": "P6JhcL7bp26T"
      },
      "execution_count": null,
      "outputs": []
    },
    {
      "cell_type": "markdown",
      "source": [
        "###Statsmodel con el API estámdar."
      ],
      "metadata": {
        "id": "cwRYzRoU83o7"
      }
    },
    {
      "cell_type": "code",
      "source": [
        "df = pd.DataFrame(X, columns=['x1', 'x2'])\n",
        "df['y'] = y\n",
        "df.head()"
      ],
      "metadata": {
        "colab": {
          "base_uri": "https://localhost:8080/",
          "height": 204
        },
        "id": "pKfj-JI675Qr",
        "outputId": "8dd35ad9-8a6b-4bbb-8f35-2943349eaf42"
      },
      "execution_count": null,
      "outputs": [
        {
          "output_type": "execute_result",
          "data": {
            "text/plain": [
              "        x1        x2         y\n",
              "0  0.00000  0.000000  2.624345\n",
              "1  0.10101  0.010203  0.500375\n",
              "2  0.20202  0.040812  0.900152\n",
              "3  0.30303       NaN  0.875608\n",
              "4  0.40404  0.163249  3.538298"
            ],
            "text/html": [
              "\n",
              "  <div id=\"df-e52727f7-3e32-4d2f-a439-f7d7a3e7a5bd\">\n",
              "    <div class=\"colab-df-container\">\n",
              "      <div>\n",
              "<style scoped>\n",
              "    .dataframe tbody tr th:only-of-type {\n",
              "        vertical-align: middle;\n",
              "    }\n",
              "\n",
              "    .dataframe tbody tr th {\n",
              "        vertical-align: top;\n",
              "    }\n",
              "\n",
              "    .dataframe thead th {\n",
              "        text-align: right;\n",
              "    }\n",
              "</style>\n",
              "<table border=\"1\" class=\"dataframe\">\n",
              "  <thead>\n",
              "    <tr style=\"text-align: right;\">\n",
              "      <th></th>\n",
              "      <th>x1</th>\n",
              "      <th>x2</th>\n",
              "      <th>y</th>\n",
              "    </tr>\n",
              "  </thead>\n",
              "  <tbody>\n",
              "    <tr>\n",
              "      <th>0</th>\n",
              "      <td>0.00000</td>\n",
              "      <td>0.000000</td>\n",
              "      <td>2.624345</td>\n",
              "    </tr>\n",
              "    <tr>\n",
              "      <th>1</th>\n",
              "      <td>0.10101</td>\n",
              "      <td>0.010203</td>\n",
              "      <td>0.500375</td>\n",
              "    </tr>\n",
              "    <tr>\n",
              "      <th>2</th>\n",
              "      <td>0.20202</td>\n",
              "      <td>0.040812</td>\n",
              "      <td>0.900152</td>\n",
              "    </tr>\n",
              "    <tr>\n",
              "      <th>3</th>\n",
              "      <td>0.30303</td>\n",
              "      <td>NaN</td>\n",
              "      <td>0.875608</td>\n",
              "    </tr>\n",
              "    <tr>\n",
              "      <th>4</th>\n",
              "      <td>0.40404</td>\n",
              "      <td>0.163249</td>\n",
              "      <td>3.538298</td>\n",
              "    </tr>\n",
              "  </tbody>\n",
              "</table>\n",
              "</div>\n",
              "      <button class=\"colab-df-convert\" onclick=\"convertToInteractive('df-e52727f7-3e32-4d2f-a439-f7d7a3e7a5bd')\"\n",
              "              title=\"Convert this dataframe to an interactive table.\"\n",
              "              style=\"display:none;\">\n",
              "        \n",
              "  <svg xmlns=\"http://www.w3.org/2000/svg\" height=\"24px\"viewBox=\"0 0 24 24\"\n",
              "       width=\"24px\">\n",
              "    <path d=\"M0 0h24v24H0V0z\" fill=\"none\"/>\n",
              "    <path d=\"M18.56 5.44l.94 2.06.94-2.06 2.06-.94-2.06-.94-.94-2.06-.94 2.06-2.06.94zm-11 1L8.5 8.5l.94-2.06 2.06-.94-2.06-.94L8.5 2.5l-.94 2.06-2.06.94zm10 10l.94 2.06.94-2.06 2.06-.94-2.06-.94-.94-2.06-.94 2.06-2.06.94z\"/><path d=\"M17.41 7.96l-1.37-1.37c-.4-.4-.92-.59-1.43-.59-.52 0-1.04.2-1.43.59L10.3 9.45l-7.72 7.72c-.78.78-.78 2.05 0 2.83L4 21.41c.39.39.9.59 1.41.59.51 0 1.02-.2 1.41-.59l7.78-7.78 2.81-2.81c.8-.78.8-2.07 0-2.86zM5.41 20L4 18.59l7.72-7.72 1.47 1.35L5.41 20z\"/>\n",
              "  </svg>\n",
              "      </button>\n",
              "      \n",
              "  <style>\n",
              "    .colab-df-container {\n",
              "      display:flex;\n",
              "      flex-wrap:wrap;\n",
              "      gap: 12px;\n",
              "    }\n",
              "\n",
              "    .colab-df-convert {\n",
              "      background-color: #E8F0FE;\n",
              "      border: none;\n",
              "      border-radius: 50%;\n",
              "      cursor: pointer;\n",
              "      display: none;\n",
              "      fill: #1967D2;\n",
              "      height: 32px;\n",
              "      padding: 0 0 0 0;\n",
              "      width: 32px;\n",
              "    }\n",
              "\n",
              "    .colab-df-convert:hover {\n",
              "      background-color: #E2EBFA;\n",
              "      box-shadow: 0px 1px 2px rgba(60, 64, 67, 0.3), 0px 1px 3px 1px rgba(60, 64, 67, 0.15);\n",
              "      fill: #174EA6;\n",
              "    }\n",
              "\n",
              "    [theme=dark] .colab-df-convert {\n",
              "      background-color: #3B4455;\n",
              "      fill: #D2E3FC;\n",
              "    }\n",
              "\n",
              "    [theme=dark] .colab-df-convert:hover {\n",
              "      background-color: #434B5C;\n",
              "      box-shadow: 0px 1px 3px 1px rgba(0, 0, 0, 0.15);\n",
              "      filter: drop-shadow(0px 1px 2px rgba(0, 0, 0, 0.3));\n",
              "      fill: #FFFFFF;\n",
              "    }\n",
              "  </style>\n",
              "\n",
              "      <script>\n",
              "        const buttonEl =\n",
              "          document.querySelector('#df-e52727f7-3e32-4d2f-a439-f7d7a3e7a5bd button.colab-df-convert');\n",
              "        buttonEl.style.display =\n",
              "          google.colab.kernel.accessAllowed ? 'block' : 'none';\n",
              "\n",
              "        async function convertToInteractive(key) {\n",
              "          const element = document.querySelector('#df-e52727f7-3e32-4d2f-a439-f7d7a3e7a5bd');\n",
              "          const dataTable =\n",
              "            await google.colab.kernel.invokeFunction('convertToInteractive',\n",
              "                                                     [key], {});\n",
              "          if (!dataTable) return;\n",
              "\n",
              "          const docLinkHtml = 'Like what you see? Visit the ' +\n",
              "            '<a target=\"_blank\" href=https://colab.research.google.com/notebooks/data_table.ipynb>data table notebook</a>'\n",
              "            + ' to learn more about interactive tables.';\n",
              "          element.innerHTML = '';\n",
              "          dataTable['output_type'] = 'display_data';\n",
              "          await google.colab.output.renderOutput(dataTable, element);\n",
              "          const docLink = document.createElement('div');\n",
              "          docLink.innerHTML = docLinkHtml;\n",
              "          element.appendChild(docLink);\n",
              "        }\n",
              "      </script>\n",
              "    </div>\n",
              "  </div>\n",
              "  "
            ]
          },
          "metadata": {},
          "execution_count": 57
        }
      ]
    },
    {
      "cell_type": "code",
      "source": [
        "rhs = sm.add_constant(df[['x1', 'x2']])\n",
        "lhs = df['y']\n",
        "res = sm.OLS(lhs, rhs, missing='drop').fit()"
      ],
      "metadata": {
        "colab": {
          "base_uri": "https://localhost:8080/"
        },
        "id": "0jGsRdRo77tC",
        "outputId": "131b1954-503a-466e-845b-25319254f6c8"
      },
      "execution_count": null,
      "outputs": [
        {
          "output_type": "stream",
          "name": "stderr",
          "text": [
            "/usr/local/lib/python3.8/dist-packages/statsmodels/tsa/tsatools.py:142: FutureWarning: In a future version of pandas all arguments of concat except for the argument 'objs' will be keyword-only\n",
            "  x = pd.concat(x[::order], 1)\n"
          ]
        }
      ]
    },
    {
      "cell_type": "code",
      "source": [
        "res.summary()"
      ],
      "metadata": {
        "colab": {
          "base_uri": "https://localhost:8080/",
          "height": 465
        },
        "id": "HOXc6QQX77wR",
        "outputId": "f689e3dd-49b4-4375-cc3e-f8cfcf21dd70"
      },
      "execution_count": null,
      "outputs": [
        {
          "output_type": "execute_result",
          "data": {
            "text/plain": [
              "<class 'statsmodels.iolib.summary.Summary'>\n",
              "\"\"\"\n",
              "                            OLS Regression Results                            \n",
              "==============================================================================\n",
              "Dep. Variable:                      y   R-squared:                       1.000\n",
              "Model:                            OLS   Adj. R-squared:                  1.000\n",
              "Method:                 Least Squares   F-statistic:                 5.659e+06\n",
              "Date:                Wed, 15 Feb 2023   Prob (F-statistic):          3.69e-244\n",
              "Time:                        01:41:01   Log-Likelihood:                -127.54\n",
              "No. Observations:                  99   AIC:                             261.1\n",
              "Df Residuals:                      96   BIC:                             268.9\n",
              "Df Model:                           2                                         \n",
              "Covariance Type:            nonrobust                                         \n",
              "==============================================================================\n",
              "                 coef    std err          t      P>|t|      [0.025      0.975]\n",
              "------------------------------------------------------------------------------\n",
              "const          0.8325      0.271      3.068      0.003       0.294       1.371\n",
              "x1             0.1872      0.124      1.509      0.135      -0.059       0.433\n",
              "x2             9.9941      0.012    838.517      0.000       9.970      10.018\n",
              "==============================================================================\n",
              "Omnibus:                        0.221   Durbin-Watson:                   2.071\n",
              "Prob(Omnibus):                  0.895   Jarque-Bera (JB):                0.080\n",
              "Skew:                           0.069   Prob(JB):                        0.961\n",
              "Kurtosis:                       3.019   Cond. No.                         149.\n",
              "==============================================================================\n",
              "\n",
              "Notes:\n",
              "[1] Standard Errors assume that the covariance matrix of the errors is correctly specified.\n",
              "\"\"\""
            ],
            "text/html": [
              "<table class=\"simpletable\">\n",
              "<caption>OLS Regression Results</caption>\n",
              "<tr>\n",
              "  <th>Dep. Variable:</th>            <td>y</td>        <th>  R-squared:         </th> <td>   1.000</td> \n",
              "</tr>\n",
              "<tr>\n",
              "  <th>Model:</th>                   <td>OLS</td>       <th>  Adj. R-squared:    </th> <td>   1.000</td> \n",
              "</tr>\n",
              "<tr>\n",
              "  <th>Method:</th>             <td>Least Squares</td>  <th>  F-statistic:       </th> <td>5.659e+06</td>\n",
              "</tr>\n",
              "<tr>\n",
              "  <th>Date:</th>             <td>Wed, 15 Feb 2023</td> <th>  Prob (F-statistic):</th> <td>3.69e-244</td>\n",
              "</tr>\n",
              "<tr>\n",
              "  <th>Time:</th>                 <td>01:41:01</td>     <th>  Log-Likelihood:    </th> <td> -127.54</td> \n",
              "</tr>\n",
              "<tr>\n",
              "  <th>No. Observations:</th>      <td>    99</td>      <th>  AIC:               </th> <td>   261.1</td> \n",
              "</tr>\n",
              "<tr>\n",
              "  <th>Df Residuals:</th>          <td>    96</td>      <th>  BIC:               </th> <td>   268.9</td> \n",
              "</tr>\n",
              "<tr>\n",
              "  <th>Df Model:</th>              <td>     2</td>      <th>                     </th>     <td> </td>    \n",
              "</tr>\n",
              "<tr>\n",
              "  <th>Covariance Type:</th>      <td>nonrobust</td>    <th>                     </th>     <td> </td>    \n",
              "</tr>\n",
              "</table>\n",
              "<table class=\"simpletable\">\n",
              "<tr>\n",
              "    <td></td>       <th>coef</th>     <th>std err</th>      <th>t</th>      <th>P>|t|</th>  <th>[0.025</th>    <th>0.975]</th>  \n",
              "</tr>\n",
              "<tr>\n",
              "  <th>const</th> <td>    0.8325</td> <td>    0.271</td> <td>    3.068</td> <td> 0.003</td> <td>    0.294</td> <td>    1.371</td>\n",
              "</tr>\n",
              "<tr>\n",
              "  <th>x1</th>    <td>    0.1872</td> <td>    0.124</td> <td>    1.509</td> <td> 0.135</td> <td>   -0.059</td> <td>    0.433</td>\n",
              "</tr>\n",
              "<tr>\n",
              "  <th>x2</th>    <td>    9.9941</td> <td>    0.012</td> <td>  838.517</td> <td> 0.000</td> <td>    9.970</td> <td>   10.018</td>\n",
              "</tr>\n",
              "</table>\n",
              "<table class=\"simpletable\">\n",
              "<tr>\n",
              "  <th>Omnibus:</th>       <td> 0.221</td> <th>  Durbin-Watson:     </th> <td>   2.071</td>\n",
              "</tr>\n",
              "<tr>\n",
              "  <th>Prob(Omnibus):</th> <td> 0.895</td> <th>  Jarque-Bera (JB):  </th> <td>   0.080</td>\n",
              "</tr>\n",
              "<tr>\n",
              "  <th>Skew:</th>          <td> 0.069</td> <th>  Prob(JB):          </th> <td>   0.961</td>\n",
              "</tr>\n",
              "<tr>\n",
              "  <th>Kurtosis:</th>      <td> 3.019</td> <th>  Cond. No.          </th> <td>    149.</td>\n",
              "</tr>\n",
              "</table><br/><br/>Notes:<br/>[1] Standard Errors assume that the covariance matrix of the errors is correctly specified."
            ]
          },
          "metadata": {},
          "execution_count": 59
        }
      ]
    },
    {
      "cell_type": "code",
      "source": [
        "res.params"
      ],
      "metadata": {
        "colab": {
          "base_uri": "https://localhost:8080/"
        },
        "id": "A_DqXUtB77zM",
        "outputId": "9eb76417-234f-4513-d2b9-b7ae6a9f0ea0"
      },
      "execution_count": null,
      "outputs": [
        {
          "output_type": "execute_result",
          "data": {
            "text/plain": [
              "const    0.832483\n",
              "x1       0.187168\n",
              "x2       9.994077\n",
              "dtype: float64"
            ]
          },
          "metadata": {},
          "execution_count": 60
        }
      ]
    },
    {
      "cell_type": "markdown",
      "source": [
        "### Statsmodels utilizando el API de formula.\n",
        "Estilo R. Hay qeue revisar que el paquete `import statsmodels.formula.api as smf`"
      ],
      "metadata": {
        "id": "WEFexDdM9v1U"
      }
    },
    {
      "cell_type": "code",
      "source": [
        "results = smf.ols(formula=\"y ~ x1 + x2\", data=df).fit()\n",
        "results.summary()"
      ],
      "metadata": {
        "colab": {
          "base_uri": "https://localhost:8080/",
          "height": 465
        },
        "id": "bDRFCWxR9u1x",
        "outputId": "5a4d2613-3aa0-41e7-c131-a6e6548a29d9"
      },
      "execution_count": null,
      "outputs": [
        {
          "output_type": "execute_result",
          "data": {
            "text/plain": [
              "<class 'statsmodels.iolib.summary.Summary'>\n",
              "\"\"\"\n",
              "                            OLS Regression Results                            \n",
              "==============================================================================\n",
              "Dep. Variable:                      y   R-squared:                       1.000\n",
              "Model:                            OLS   Adj. R-squared:                  1.000\n",
              "Method:                 Least Squares   F-statistic:                 5.659e+06\n",
              "Date:                Wed, 15 Feb 2023   Prob (F-statistic):          3.69e-244\n",
              "Time:                        01:41:47   Log-Likelihood:                -127.54\n",
              "No. Observations:                  99   AIC:                             261.1\n",
              "Df Residuals:                      96   BIC:                             268.9\n",
              "Df Model:                           2                                         \n",
              "Covariance Type:            nonrobust                                         \n",
              "==============================================================================\n",
              "                 coef    std err          t      P>|t|      [0.025      0.975]\n",
              "------------------------------------------------------------------------------\n",
              "Intercept      0.8325      0.271      3.068      0.003       0.294       1.371\n",
              "x1             0.1872      0.124      1.509      0.135      -0.059       0.433\n",
              "x2             9.9941      0.012    838.517      0.000       9.970      10.018\n",
              "==============================================================================\n",
              "Omnibus:                        0.221   Durbin-Watson:                   2.071\n",
              "Prob(Omnibus):                  0.895   Jarque-Bera (JB):                0.080\n",
              "Skew:                           0.069   Prob(JB):                        0.961\n",
              "Kurtosis:                       3.019   Cond. No.                         149.\n",
              "==============================================================================\n",
              "\n",
              "Notes:\n",
              "[1] Standard Errors assume that the covariance matrix of the errors is correctly specified.\n",
              "\"\"\""
            ],
            "text/html": [
              "<table class=\"simpletable\">\n",
              "<caption>OLS Regression Results</caption>\n",
              "<tr>\n",
              "  <th>Dep. Variable:</th>            <td>y</td>        <th>  R-squared:         </th> <td>   1.000</td> \n",
              "</tr>\n",
              "<tr>\n",
              "  <th>Model:</th>                   <td>OLS</td>       <th>  Adj. R-squared:    </th> <td>   1.000</td> \n",
              "</tr>\n",
              "<tr>\n",
              "  <th>Method:</th>             <td>Least Squares</td>  <th>  F-statistic:       </th> <td>5.659e+06</td>\n",
              "</tr>\n",
              "<tr>\n",
              "  <th>Date:</th>             <td>Wed, 15 Feb 2023</td> <th>  Prob (F-statistic):</th> <td>3.69e-244</td>\n",
              "</tr>\n",
              "<tr>\n",
              "  <th>Time:</th>                 <td>01:41:47</td>     <th>  Log-Likelihood:    </th> <td> -127.54</td> \n",
              "</tr>\n",
              "<tr>\n",
              "  <th>No. Observations:</th>      <td>    99</td>      <th>  AIC:               </th> <td>   261.1</td> \n",
              "</tr>\n",
              "<tr>\n",
              "  <th>Df Residuals:</th>          <td>    96</td>      <th>  BIC:               </th> <td>   268.9</td> \n",
              "</tr>\n",
              "<tr>\n",
              "  <th>Df Model:</th>              <td>     2</td>      <th>                     </th>     <td> </td>    \n",
              "</tr>\n",
              "<tr>\n",
              "  <th>Covariance Type:</th>      <td>nonrobust</td>    <th>                     </th>     <td> </td>    \n",
              "</tr>\n",
              "</table>\n",
              "<table class=\"simpletable\">\n",
              "<tr>\n",
              "      <td></td>         <th>coef</th>     <th>std err</th>      <th>t</th>      <th>P>|t|</th>  <th>[0.025</th>    <th>0.975]</th>  \n",
              "</tr>\n",
              "<tr>\n",
              "  <th>Intercept</th> <td>    0.8325</td> <td>    0.271</td> <td>    3.068</td> <td> 0.003</td> <td>    0.294</td> <td>    1.371</td>\n",
              "</tr>\n",
              "<tr>\n",
              "  <th>x1</th>        <td>    0.1872</td> <td>    0.124</td> <td>    1.509</td> <td> 0.135</td> <td>   -0.059</td> <td>    0.433</td>\n",
              "</tr>\n",
              "<tr>\n",
              "  <th>x2</th>        <td>    9.9941</td> <td>    0.012</td> <td>  838.517</td> <td> 0.000</td> <td>    9.970</td> <td>   10.018</td>\n",
              "</tr>\n",
              "</table>\n",
              "<table class=\"simpletable\">\n",
              "<tr>\n",
              "  <th>Omnibus:</th>       <td> 0.221</td> <th>  Durbin-Watson:     </th> <td>   2.071</td>\n",
              "</tr>\n",
              "<tr>\n",
              "  <th>Prob(Omnibus):</th> <td> 0.895</td> <th>  Jarque-Bera (JB):  </th> <td>   0.080</td>\n",
              "</tr>\n",
              "<tr>\n",
              "  <th>Skew:</th>          <td> 0.069</td> <th>  Prob(JB):          </th> <td>   0.961</td>\n",
              "</tr>\n",
              "<tr>\n",
              "  <th>Kurtosis:</th>      <td> 3.019</td> <th>  Cond. No.          </th> <td>    149.</td>\n",
              "</tr>\n",
              "</table><br/><br/>Notes:<br/>[1] Standard Errors assume that the covariance matrix of the errors is correctly specified."
            ]
          },
          "metadata": {},
          "execution_count": 61
        }
      ]
    },
    {
      "cell_type": "code",
      "source": [],
      "metadata": {
        "id": "DfehBAGk771m"
      },
      "execution_count": null,
      "outputs": []
    },
    {
      "cell_type": "code",
      "source": [],
      "metadata": {
        "id": "p8E8b4cL774M"
      },
      "execution_count": null,
      "outputs": []
    },
    {
      "cell_type": "markdown",
      "source": [
        "#1.4. Modelo de efectos fijos"
      ],
      "metadata": {
        "id": "Y6BcCuuA-e4q"
      }
    },
    {
      "cell_type": "markdown",
      "source": [
        "En statsmodels\n",
        "\n",
        "ejemplo de la sintaxis de stastsmodels. Referencia: http://statsmodels.sourceforge.net/devel/mixed_linear.html\n",
        "\n",
        "Dataset obtenido de https://cran.r-project.org/web//packages/geepack/geepack.pdf"
      ],
      "metadata": {
        "id": "kboeX9OkF8Ic"
      }
    },
    {
      "cell_type": "code",
      "source": [
        "import statsmodels.api as sm \n",
        "import statsmodels.formula.api as smf\n",
        "\n",
        "data = sm.datasets.get_rdataset(\"dietox\", \"geepack\").data\n",
        "data.head()"
      ],
      "metadata": {
        "colab": {
          "base_uri": "https://localhost:8080/",
          "height": 204
        },
        "id": "a6-a__fo-iZu",
        "outputId": "9f1fda83-2b0f-4d56-ce5f-c48ab56235e4"
      },
      "execution_count": null,
      "outputs": [
        {
          "output_type": "execute_result",
          "data": {
            "text/plain": [
              "    Pig     Evit     Cu  Litter  Start    Weight       Feed  Time\n",
              "0  4601  Evit000  Cu000       1   26.5  26.50000        NaN     1\n",
              "1  4601  Evit000  Cu000       1   26.5  27.59999   5.200005     2\n",
              "2  4601  Evit000  Cu000       1   26.5  36.50000  17.600000     3\n",
              "3  4601  Evit000  Cu000       1   26.5  40.29999  28.500000     4\n",
              "4  4601  Evit000  Cu000       1   26.5  49.09998  45.200001     5"
            ],
            "text/html": [
              "\n",
              "  <div id=\"df-32c35cb5-214c-4b4a-a269-dbc6924acfa1\">\n",
              "    <div class=\"colab-df-container\">\n",
              "      <div>\n",
              "<style scoped>\n",
              "    .dataframe tbody tr th:only-of-type {\n",
              "        vertical-align: middle;\n",
              "    }\n",
              "\n",
              "    .dataframe tbody tr th {\n",
              "        vertical-align: top;\n",
              "    }\n",
              "\n",
              "    .dataframe thead th {\n",
              "        text-align: right;\n",
              "    }\n",
              "</style>\n",
              "<table border=\"1\" class=\"dataframe\">\n",
              "  <thead>\n",
              "    <tr style=\"text-align: right;\">\n",
              "      <th></th>\n",
              "      <th>Pig</th>\n",
              "      <th>Evit</th>\n",
              "      <th>Cu</th>\n",
              "      <th>Litter</th>\n",
              "      <th>Start</th>\n",
              "      <th>Weight</th>\n",
              "      <th>Feed</th>\n",
              "      <th>Time</th>\n",
              "    </tr>\n",
              "  </thead>\n",
              "  <tbody>\n",
              "    <tr>\n",
              "      <th>0</th>\n",
              "      <td>4601</td>\n",
              "      <td>Evit000</td>\n",
              "      <td>Cu000</td>\n",
              "      <td>1</td>\n",
              "      <td>26.5</td>\n",
              "      <td>26.50000</td>\n",
              "      <td>NaN</td>\n",
              "      <td>1</td>\n",
              "    </tr>\n",
              "    <tr>\n",
              "      <th>1</th>\n",
              "      <td>4601</td>\n",
              "      <td>Evit000</td>\n",
              "      <td>Cu000</td>\n",
              "      <td>1</td>\n",
              "      <td>26.5</td>\n",
              "      <td>27.59999</td>\n",
              "      <td>5.200005</td>\n",
              "      <td>2</td>\n",
              "    </tr>\n",
              "    <tr>\n",
              "      <th>2</th>\n",
              "      <td>4601</td>\n",
              "      <td>Evit000</td>\n",
              "      <td>Cu000</td>\n",
              "      <td>1</td>\n",
              "      <td>26.5</td>\n",
              "      <td>36.50000</td>\n",
              "      <td>17.600000</td>\n",
              "      <td>3</td>\n",
              "    </tr>\n",
              "    <tr>\n",
              "      <th>3</th>\n",
              "      <td>4601</td>\n",
              "      <td>Evit000</td>\n",
              "      <td>Cu000</td>\n",
              "      <td>1</td>\n",
              "      <td>26.5</td>\n",
              "      <td>40.29999</td>\n",
              "      <td>28.500000</td>\n",
              "      <td>4</td>\n",
              "    </tr>\n",
              "    <tr>\n",
              "      <th>4</th>\n",
              "      <td>4601</td>\n",
              "      <td>Evit000</td>\n",
              "      <td>Cu000</td>\n",
              "      <td>1</td>\n",
              "      <td>26.5</td>\n",
              "      <td>49.09998</td>\n",
              "      <td>45.200001</td>\n",
              "      <td>5</td>\n",
              "    </tr>\n",
              "  </tbody>\n",
              "</table>\n",
              "</div>\n",
              "      <button class=\"colab-df-convert\" onclick=\"convertToInteractive('df-32c35cb5-214c-4b4a-a269-dbc6924acfa1')\"\n",
              "              title=\"Convert this dataframe to an interactive table.\"\n",
              "              style=\"display:none;\">\n",
              "        \n",
              "  <svg xmlns=\"http://www.w3.org/2000/svg\" height=\"24px\"viewBox=\"0 0 24 24\"\n",
              "       width=\"24px\">\n",
              "    <path d=\"M0 0h24v24H0V0z\" fill=\"none\"/>\n",
              "    <path d=\"M18.56 5.44l.94 2.06.94-2.06 2.06-.94-2.06-.94-.94-2.06-.94 2.06-2.06.94zm-11 1L8.5 8.5l.94-2.06 2.06-.94-2.06-.94L8.5 2.5l-.94 2.06-2.06.94zm10 10l.94 2.06.94-2.06 2.06-.94-2.06-.94-.94-2.06-.94 2.06-2.06.94z\"/><path d=\"M17.41 7.96l-1.37-1.37c-.4-.4-.92-.59-1.43-.59-.52 0-1.04.2-1.43.59L10.3 9.45l-7.72 7.72c-.78.78-.78 2.05 0 2.83L4 21.41c.39.39.9.59 1.41.59.51 0 1.02-.2 1.41-.59l7.78-7.78 2.81-2.81c.8-.78.8-2.07 0-2.86zM5.41 20L4 18.59l7.72-7.72 1.47 1.35L5.41 20z\"/>\n",
              "  </svg>\n",
              "      </button>\n",
              "      \n",
              "  <style>\n",
              "    .colab-df-container {\n",
              "      display:flex;\n",
              "      flex-wrap:wrap;\n",
              "      gap: 12px;\n",
              "    }\n",
              "\n",
              "    .colab-df-convert {\n",
              "      background-color: #E8F0FE;\n",
              "      border: none;\n",
              "      border-radius: 50%;\n",
              "      cursor: pointer;\n",
              "      display: none;\n",
              "      fill: #1967D2;\n",
              "      height: 32px;\n",
              "      padding: 0 0 0 0;\n",
              "      width: 32px;\n",
              "    }\n",
              "\n",
              "    .colab-df-convert:hover {\n",
              "      background-color: #E2EBFA;\n",
              "      box-shadow: 0px 1px 2px rgba(60, 64, 67, 0.3), 0px 1px 3px 1px rgba(60, 64, 67, 0.15);\n",
              "      fill: #174EA6;\n",
              "    }\n",
              "\n",
              "    [theme=dark] .colab-df-convert {\n",
              "      background-color: #3B4455;\n",
              "      fill: #D2E3FC;\n",
              "    }\n",
              "\n",
              "    [theme=dark] .colab-df-convert:hover {\n",
              "      background-color: #434B5C;\n",
              "      box-shadow: 0px 1px 3px 1px rgba(0, 0, 0, 0.15);\n",
              "      filter: drop-shadow(0px 1px 2px rgba(0, 0, 0, 0.3));\n",
              "      fill: #FFFFFF;\n",
              "    }\n",
              "  </style>\n",
              "\n",
              "      <script>\n",
              "        const buttonEl =\n",
              "          document.querySelector('#df-32c35cb5-214c-4b4a-a269-dbc6924acfa1 button.colab-df-convert');\n",
              "        buttonEl.style.display =\n",
              "          google.colab.kernel.accessAllowed ? 'block' : 'none';\n",
              "\n",
              "        async function convertToInteractive(key) {\n",
              "          const element = document.querySelector('#df-32c35cb5-214c-4b4a-a269-dbc6924acfa1');\n",
              "          const dataTable =\n",
              "            await google.colab.kernel.invokeFunction('convertToInteractive',\n",
              "                                                     [key], {});\n",
              "          if (!dataTable) return;\n",
              "\n",
              "          const docLinkHtml = 'Like what you see? Visit the ' +\n",
              "            '<a target=\"_blank\" href=https://colab.research.google.com/notebooks/data_table.ipynb>data table notebook</a>'\n",
              "            + ' to learn more about interactive tables.';\n",
              "          element.innerHTML = '';\n",
              "          dataTable['output_type'] = 'display_data';\n",
              "          await google.colab.output.renderOutput(dataTable, element);\n",
              "          const docLink = document.createElement('div');\n",
              "          docLink.innerHTML = docLinkHtml;\n",
              "          element.appendChild(docLink);\n",
              "        }\n",
              "      </script>\n",
              "    </div>\n",
              "  </div>\n",
              "  "
            ]
          },
          "metadata": {},
          "execution_count": 1
        }
      ]
    },
    {
      "cell_type": "code",
      "source": [
        "data.describe()"
      ],
      "metadata": {
        "colab": {
          "base_uri": "https://localhost:8080/",
          "height": 297
        },
        "id": "3ZMuO-_rb6OB",
        "outputId": "58fa88ec-854b-4356-c0e8-55af66b6cbc4"
      },
      "execution_count": null,
      "outputs": [
        {
          "output_type": "execute_result",
          "data": {
            "text/plain": [
              "               Pig      Litter       Start      Weight        Feed        Time\n",
              "count   861.000000  861.000000  861.000000  861.000000  789.000000  861.000000\n",
              "mean   6238.319396   12.135889   25.672701   60.725769   80.728645    6.480836\n",
              "std    1323.845928    7.427252    3.624336   24.978881   52.877736    3.444735\n",
              "min    4601.000000    1.000000   15.000000   15.000000    3.300003    1.000000\n",
              "25%    4857.000000    5.000000   23.799990   38.299990   32.800003    3.000000\n",
              "50%    5866.000000   11.000000   25.700000   59.199980   74.499996    6.000000\n",
              "75%    8050.000000   20.000000   27.299990   81.199950  123.000000    9.000000\n",
              "max    8442.000000   24.000000   35.399990  117.000000  224.500000   12.000000"
            ],
            "text/html": [
              "\n",
              "  <div id=\"df-f5e32db8-31d2-41eb-a68c-9e375a33c818\">\n",
              "    <div class=\"colab-df-container\">\n",
              "      <div>\n",
              "<style scoped>\n",
              "    .dataframe tbody tr th:only-of-type {\n",
              "        vertical-align: middle;\n",
              "    }\n",
              "\n",
              "    .dataframe tbody tr th {\n",
              "        vertical-align: top;\n",
              "    }\n",
              "\n",
              "    .dataframe thead th {\n",
              "        text-align: right;\n",
              "    }\n",
              "</style>\n",
              "<table border=\"1\" class=\"dataframe\">\n",
              "  <thead>\n",
              "    <tr style=\"text-align: right;\">\n",
              "      <th></th>\n",
              "      <th>Pig</th>\n",
              "      <th>Litter</th>\n",
              "      <th>Start</th>\n",
              "      <th>Weight</th>\n",
              "      <th>Feed</th>\n",
              "      <th>Time</th>\n",
              "    </tr>\n",
              "  </thead>\n",
              "  <tbody>\n",
              "    <tr>\n",
              "      <th>count</th>\n",
              "      <td>861.000000</td>\n",
              "      <td>861.000000</td>\n",
              "      <td>861.000000</td>\n",
              "      <td>861.000000</td>\n",
              "      <td>789.000000</td>\n",
              "      <td>861.000000</td>\n",
              "    </tr>\n",
              "    <tr>\n",
              "      <th>mean</th>\n",
              "      <td>6238.319396</td>\n",
              "      <td>12.135889</td>\n",
              "      <td>25.672701</td>\n",
              "      <td>60.725769</td>\n",
              "      <td>80.728645</td>\n",
              "      <td>6.480836</td>\n",
              "    </tr>\n",
              "    <tr>\n",
              "      <th>std</th>\n",
              "      <td>1323.845928</td>\n",
              "      <td>7.427252</td>\n",
              "      <td>3.624336</td>\n",
              "      <td>24.978881</td>\n",
              "      <td>52.877736</td>\n",
              "      <td>3.444735</td>\n",
              "    </tr>\n",
              "    <tr>\n",
              "      <th>min</th>\n",
              "      <td>4601.000000</td>\n",
              "      <td>1.000000</td>\n",
              "      <td>15.000000</td>\n",
              "      <td>15.000000</td>\n",
              "      <td>3.300003</td>\n",
              "      <td>1.000000</td>\n",
              "    </tr>\n",
              "    <tr>\n",
              "      <th>25%</th>\n",
              "      <td>4857.000000</td>\n",
              "      <td>5.000000</td>\n",
              "      <td>23.799990</td>\n",
              "      <td>38.299990</td>\n",
              "      <td>32.800003</td>\n",
              "      <td>3.000000</td>\n",
              "    </tr>\n",
              "    <tr>\n",
              "      <th>50%</th>\n",
              "      <td>5866.000000</td>\n",
              "      <td>11.000000</td>\n",
              "      <td>25.700000</td>\n",
              "      <td>59.199980</td>\n",
              "      <td>74.499996</td>\n",
              "      <td>6.000000</td>\n",
              "    </tr>\n",
              "    <tr>\n",
              "      <th>75%</th>\n",
              "      <td>8050.000000</td>\n",
              "      <td>20.000000</td>\n",
              "      <td>27.299990</td>\n",
              "      <td>81.199950</td>\n",
              "      <td>123.000000</td>\n",
              "      <td>9.000000</td>\n",
              "    </tr>\n",
              "    <tr>\n",
              "      <th>max</th>\n",
              "      <td>8442.000000</td>\n",
              "      <td>24.000000</td>\n",
              "      <td>35.399990</td>\n",
              "      <td>117.000000</td>\n",
              "      <td>224.500000</td>\n",
              "      <td>12.000000</td>\n",
              "    </tr>\n",
              "  </tbody>\n",
              "</table>\n",
              "</div>\n",
              "      <button class=\"colab-df-convert\" onclick=\"convertToInteractive('df-f5e32db8-31d2-41eb-a68c-9e375a33c818')\"\n",
              "              title=\"Convert this dataframe to an interactive table.\"\n",
              "              style=\"display:none;\">\n",
              "        \n",
              "  <svg xmlns=\"http://www.w3.org/2000/svg\" height=\"24px\"viewBox=\"0 0 24 24\"\n",
              "       width=\"24px\">\n",
              "    <path d=\"M0 0h24v24H0V0z\" fill=\"none\"/>\n",
              "    <path d=\"M18.56 5.44l.94 2.06.94-2.06 2.06-.94-2.06-.94-.94-2.06-.94 2.06-2.06.94zm-11 1L8.5 8.5l.94-2.06 2.06-.94-2.06-.94L8.5 2.5l-.94 2.06-2.06.94zm10 10l.94 2.06.94-2.06 2.06-.94-2.06-.94-.94-2.06-.94 2.06-2.06.94z\"/><path d=\"M17.41 7.96l-1.37-1.37c-.4-.4-.92-.59-1.43-.59-.52 0-1.04.2-1.43.59L10.3 9.45l-7.72 7.72c-.78.78-.78 2.05 0 2.83L4 21.41c.39.39.9.59 1.41.59.51 0 1.02-.2 1.41-.59l7.78-7.78 2.81-2.81c.8-.78.8-2.07 0-2.86zM5.41 20L4 18.59l7.72-7.72 1.47 1.35L5.41 20z\"/>\n",
              "  </svg>\n",
              "      </button>\n",
              "      \n",
              "  <style>\n",
              "    .colab-df-container {\n",
              "      display:flex;\n",
              "      flex-wrap:wrap;\n",
              "      gap: 12px;\n",
              "    }\n",
              "\n",
              "    .colab-df-convert {\n",
              "      background-color: #E8F0FE;\n",
              "      border: none;\n",
              "      border-radius: 50%;\n",
              "      cursor: pointer;\n",
              "      display: none;\n",
              "      fill: #1967D2;\n",
              "      height: 32px;\n",
              "      padding: 0 0 0 0;\n",
              "      width: 32px;\n",
              "    }\n",
              "\n",
              "    .colab-df-convert:hover {\n",
              "      background-color: #E2EBFA;\n",
              "      box-shadow: 0px 1px 2px rgba(60, 64, 67, 0.3), 0px 1px 3px 1px rgba(60, 64, 67, 0.15);\n",
              "      fill: #174EA6;\n",
              "    }\n",
              "\n",
              "    [theme=dark] .colab-df-convert {\n",
              "      background-color: #3B4455;\n",
              "      fill: #D2E3FC;\n",
              "    }\n",
              "\n",
              "    [theme=dark] .colab-df-convert:hover {\n",
              "      background-color: #434B5C;\n",
              "      box-shadow: 0px 1px 3px 1px rgba(0, 0, 0, 0.15);\n",
              "      filter: drop-shadow(0px 1px 2px rgba(0, 0, 0, 0.3));\n",
              "      fill: #FFFFFF;\n",
              "    }\n",
              "  </style>\n",
              "\n",
              "      <script>\n",
              "        const buttonEl =\n",
              "          document.querySelector('#df-f5e32db8-31d2-41eb-a68c-9e375a33c818 button.colab-df-convert');\n",
              "        buttonEl.style.display =\n",
              "          google.colab.kernel.accessAllowed ? 'block' : 'none';\n",
              "\n",
              "        async function convertToInteractive(key) {\n",
              "          const element = document.querySelector('#df-f5e32db8-31d2-41eb-a68c-9e375a33c818');\n",
              "          const dataTable =\n",
              "            await google.colab.kernel.invokeFunction('convertToInteractive',\n",
              "                                                     [key], {});\n",
              "          if (!dataTable) return;\n",
              "\n",
              "          const docLinkHtml = 'Like what you see? Visit the ' +\n",
              "            '<a target=\"_blank\" href=https://colab.research.google.com/notebooks/data_table.ipynb>data table notebook</a>'\n",
              "            + ' to learn more about interactive tables.';\n",
              "          element.innerHTML = '';\n",
              "          dataTable['output_type'] = 'display_data';\n",
              "          await google.colab.output.renderOutput(dataTable, element);\n",
              "          const docLink = document.createElement('div');\n",
              "          docLink.innerHTML = docLinkHtml;\n",
              "          element.appendChild(docLink);\n",
              "        }\n",
              "      </script>\n",
              "    </div>\n",
              "  </div>\n",
              "  "
            ]
          },
          "metadata": {},
          "execution_count": 2
        }
      ]
    },
    {
      "cell_type": "code",
      "source": [
        "md = smf.mixedlm(\"Weight ~ Time\", data, groups=data[\"Pig\"]) \n",
        "mdf = md.fit() \n",
        "mdf.summary()"
      ],
      "metadata": {
        "colab": {
          "base_uri": "https://localhost:8080/",
          "height": 231
        },
        "id": "1CcK-VcPb75Y",
        "outputId": "e7cff221-e4d7-4fad-934f-10a67ba0f5e5"
      },
      "execution_count": null,
      "outputs": [
        {
          "output_type": "execute_result",
          "data": {
            "text/plain": [
              "<class 'statsmodels.iolib.summary2.Summary'>\n",
              "\"\"\"\n",
              "         Mixed Linear Model Regression Results\n",
              "========================================================\n",
              "Model:            MixedLM Dependent Variable: Weight    \n",
              "No. Observations: 861     Method:             REML      \n",
              "No. Groups:       72      Scale:              11.3669   \n",
              "Min. group size:  11      Log-Likelihood:     -2404.7753\n",
              "Max. group size:  12      Converged:          Yes       \n",
              "Mean group size:  12.0                                  \n",
              "--------------------------------------------------------\n",
              "             Coef.  Std.Err.    z    P>|z| [0.025 0.975]\n",
              "--------------------------------------------------------\n",
              "Intercept    15.724    0.788  19.952 0.000 14.179 17.268\n",
              "Time          6.943    0.033 207.939 0.000  6.877  7.008\n",
              "Group Var    40.394    2.149                            \n",
              "========================================================\n",
              "\n",
              "\"\"\""
            ],
            "text/html": [
              "<table class=\"simpletable\">\n",
              "<tr>\n",
              "       <td>Model:</td>       <td>MixedLM</td> <td>Dependent Variable:</td>   <td>Weight</td>  \n",
              "</tr>\n",
              "<tr>\n",
              "  <td>No. Observations:</td>   <td>861</td>         <td>Method:</td>          <td>REML</td>   \n",
              "</tr>\n",
              "<tr>\n",
              "     <td>No. Groups:</td>      <td>72</td>          <td>Scale:</td>          <td>11.3669</td> \n",
              "</tr>\n",
              "<tr>\n",
              "  <td>Min. group size:</td>    <td>11</td>      <td>Log-Likelihood:</td>   <td>-2404.7753</td>\n",
              "</tr>\n",
              "<tr>\n",
              "  <td>Max. group size:</td>    <td>12</td>        <td>Converged:</td>          <td>Yes</td>   \n",
              "</tr>\n",
              "<tr>\n",
              "  <td>Mean group size:</td>   <td>12.0</td>            <td></td>                <td></td>     \n",
              "</tr>\n",
              "</table>\n",
              "<table class=\"simpletable\">\n",
              "<tr>\n",
              "      <td></td>       <th>Coef.</th> <th>Std.Err.</th>    <th>z</th>    <th>P>|z|</th> <th>[0.025</th> <th>0.975]</th>\n",
              "</tr>\n",
              "<tr>\n",
              "  <th>Intercept</th> <td>15.724</td>   <td>0.788</td>  <td>19.952</td>  <td>0.000</td> <td>14.179</td> <td>17.268</td>\n",
              "</tr>\n",
              "<tr>\n",
              "  <th>Time</th>       <td>6.943</td>   <td>0.033</td>  <td>207.939</td> <td>0.000</td>  <td>6.877</td>  <td>7.008</td>\n",
              "</tr>\n",
              "<tr>\n",
              "  <th>Group Var</th> <td>40.394</td>   <td>2.149</td>     <td></td>       <td></td>       <td></td>       <td></td>   \n",
              "</tr>\n",
              "</table>"
            ]
          },
          "metadata": {},
          "execution_count": 3
        }
      ]
    },
    {
      "cell_type": "markdown",
      "source": [
        "#Otro ejemplo"
      ],
      "metadata": {
        "id": "QtoHR6MvD5PB"
      }
    },
    {
      "cell_type": "markdown",
      "source": [
        "![1*QLt_bp0Rdnx_CMRHZU4ELQ.webp](data:image/webp;base64,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)"
      ],
      "metadata": {
        "id": "Jju2L2ebgTYQ"
      }
    },
    {
      "cell_type": "code",
      "source": [
        "\n",
        "import pandas as pd\n",
        "import numpy as np\n",
        "import statsmodels.api as sm"
      ],
      "metadata": {
        "id": "jACed4KKeGTn"
      },
      "execution_count": null,
      "outputs": []
    },
    {
      "cell_type": "code",
      "source": [
        "# load the data\n",
        "\n",
        "url= \"https://media.githubusercontent.com/media/nickeubank/MIDS_Data/master/us_driving_fatalities.csv\"\n",
        "df = pd.read_csv(url)\n",
        "\n"
      ],
      "metadata": {
        "id": "gXo17Xasbfxa"
      },
      "execution_count": null,
      "outputs": []
    },
    {
      "cell_type": "code",
      "source": [
        "# define the fatality rate\n",
        "df[\"fatal_rate\"] = df[\"fatal\"] /df[\"pop\"] * 10000\n",
        "\n",
        "df_demean = df.copy()\n",
        "\n"
      ],
      "metadata": {
        "id": "_lEiT6ZLEOoY"
      },
      "execution_count": null,
      "outputs": []
    },
    {
      "cell_type": "code",
      "source": [
        "# calculate the entity(state) mean beer tax\n",
        "df_demean['Mean_beerTax_byState'] = df_demean.groupby('state').beertax.transform(np.mean)\n",
        "\n"
      ],
      "metadata": {
        "id": "5OX1GvrPEU6Y"
      },
      "execution_count": null,
      "outputs": []
    },
    {
      "cell_type": "code",
      "source": [
        "# calculate the entity(state) mean for fatal rate\n",
        "df_demean['Mean_fatal_rate_byState'] = df_demean.groupby('state').fatal_rate.transform(np.mean)\n",
        "\n"
      ],
      "metadata": {
        "id": "i2li0NBxEXaL"
      },
      "execution_count": null,
      "outputs": []
    },
    {
      "cell_type": "code",
      "source": [
        "# demean, subtract each row by the entity-mean\n",
        "df_demean[\"fatal_rate\"] = df_demean[\"fatal_rate\"] - df_demean['Mean_fatal_rate_byState']\n",
        "df_demean[\"beertax\"] = df_demean[\"beertax\"] - df_demean['Mean_beerTax_byState']\n"
      ],
      "metadata": {
        "id": "cRWBL759Eags"
      },
      "execution_count": null,
      "outputs": []
    },
    {
      "cell_type": "code",
      "source": [
        "model = sm.OLS(df_demean.fatal_rate, df_demean.beertax)\n",
        "results2 = model.fit()\n",
        "print(results2.summary())"
      ],
      "metadata": {
        "colab": {
          "base_uri": "https://localhost:8080/"
        },
        "id": "b1Tw4zcJEdaC",
        "outputId": "4e4a9770-5e12-42a2-88e1-dcb28b911f9a"
      },
      "execution_count": null,
      "outputs": [
        {
          "output_type": "stream",
          "name": "stdout",
          "text": [
            "                                 OLS Regression Results                                \n",
            "=======================================================================================\n",
            "Dep. Variable:             fatal_rate   R-squared (uncentered):                   0.580\n",
            "Model:                            OLS   Adj. R-squared (uncentered):              0.578\n",
            "Method:                 Least Squares   F-statistic:                              462.0\n",
            "Date:                Tue, 14 Feb 2023   Prob (F-statistic):                    5.06e-65\n",
            "Time:                        22:35:52   Log-Likelihood:                         -583.37\n",
            "No. Observations:                 336   AIC:                                      1169.\n",
            "Df Residuals:                     335   BIC:                                      1173.\n",
            "Df Model:                           1                                                  \n",
            "Covariance Type:            nonrobust                                                  \n",
            "==============================================================================\n",
            "                 coef    std err          t      P>|t|      [0.025      0.975]\n",
            "------------------------------------------------------------------------------\n",
            "beertax        2.3016      0.107     21.495      0.000       2.091       2.512\n",
            "==============================================================================\n",
            "Omnibus:                       93.684   Durbin-Watson:                   0.191\n",
            "Prob(Omnibus):                  0.000   Jarque-Bera (JB):              303.140\n",
            "Skew:                           1.225   Prob(JB):                     1.49e-66\n",
            "Kurtosis:                       6.956   Cond. No.                         1.00\n",
            "==============================================================================\n",
            "\n",
            "Notes:\n",
            "[1] R² is computed without centering (uncentered) since the model does not contain a constant.\n",
            "[2] Standard Errors assume that the covariance matrix of the errors is correctly specified.\n"
          ]
        }
      ]
    },
    {
      "cell_type": "markdown",
      "source": [
        "Los resultados muestran que el coeficiente de impuesto a la cerveza es negativo y estadísticamente significativo. Podemos interpretarlo como que un aumento del impuesto a la cerveza de $1 llevará a una disminución de 0.66 por cada 10.000 personas, lo que es enorme. Esto podría deberse a otras variables omitidas que varían con el tiempo que introducen el sesgo. Esta información es importante para comprender mejor el comportamiento de la variable dependiente y para tomar decisiones informadas sobre el proceso de regresión.\n",
        "\n",
        "Además, los resultados sugieren que el coeficiente de impuesto a la cerveza es el factor más importante para explicar el comportamiento de la variable dependiente. Esto sugiere que los ajustes de impuestos pueden tener un efecto significativo en el comportamiento de la variable. Por lo tanto, es importante para los tomadores de decisiones tener en cuenta estos resultados al considerar los impuestos a la cerveza. Además, los ajustes adecuados pueden ayudar a reducir el sesgo debido a variables omitidas."
      ],
      "metadata": {
        "id": "QeQdD6XtE0Md"
      }
    },
    {
      "cell_type": "code",
      "source": [],
      "metadata": {
        "id": "EV3KbcMeEx9q"
      },
      "execution_count": null,
      "outputs": []
    },
    {
      "cell_type": "markdown",
      "metadata": {
        "id": "jYAStCa9zd3U"
      },
      "source": [
        "#1.5 Modelo de efectos aleatorios"
      ]
    },
    {
      "cell_type": "code",
      "execution_count": null,
      "metadata": {
        "id": "Bnbk2nsrzkAY"
      },
      "outputs": [],
      "source": [
        "import pandas as pd\n",
        "import scipy.stats as st\n",
        "import statsmodels.api as sm\n",
        "import statsmodels.formula.api as smf\n",
        "from matplotlib import pyplot as plt\n",
        "import seaborn as sns"
      ]
    },
    {
      "cell_type": "markdown",
      "source": [
        "Dataset obtenido del Banco Mundial, de crecimiento año con año por paises, es de siete paises. \n",
        "\n"
      ],
      "metadata": {
        "id": "H9HT4VW7IIau"
      }
    },
    {
      "cell_type": "code",
      "source": [
        "url_random = \"https://gist.githubusercontent.com/sachinsdate/c40651e9e4bc13a696780462209f1992/raw/95f58d30404b2bd205f738b2466ca58c34f7b2ec/wb_data_panel_2ind_7units_1992_2014.csv\"\n",
        "random_df = pd.read_csv(url_random, header=0)"
      ],
      "metadata": {
        "id": "X2LO-K3eFv60"
      },
      "execution_count": null,
      "outputs": []
    },
    {
      "cell_type": "markdown",
      "source": [
        "Nuestro objetivo de regresión será estudiar la influencia del crecimiento Y-o-Y % en la formación bruta de capital en el crecimiento Y-o-Y % del PIB.\n",
        "Por lo tanto, nuestra variable dependiente o variable de respuesta y es el crecimiento Y-o-Y % del PIB per cápita.\n",
        "La variable independiente o variable explicativa X es el crecimiento Y-o-Y % en la formación bruta de capital.\n",
        "Comenzaremos inspeccionando visualmente la relación entre el crecimiento del PIB y el crecimiento de la FCB."
      ],
      "metadata": {
        "id": "Inv6z8LuJdFt"
      }
    },
    {
      "cell_type": "code",
      "source": [
        "random_df"
      ],
      "metadata": {
        "colab": {
          "base_uri": "https://localhost:8080/",
          "height": 640
        },
        "id": "xRyya7WqGlaL",
        "outputId": "798a83e1-5de3-4dbd-8e93-248ead4105a1"
      },
      "execution_count": null,
      "outputs": [
        {
          "output_type": "execute_result",
          "data": {
            "text/plain": [
              "     COUNTRY  YEAR  GCF_GWTH_PCNT  GDP_PCAP_GWTH_PCNT\n",
              "0    Belgium  1992       1.829137            1.119566\n",
              "1    Belgium  1993      -2.956525           -1.348000\n",
              "2    Belgium  1994       3.764435            2.909319\n",
              "3    Belgium  1995       4.113741            2.170550\n",
              "4    Belgium  1996       0.415439            1.123669\n",
              "..       ...   ...            ...                 ...\n",
              "156      USA  2010      10.457543            1.716400\n",
              "157      USA  2011       4.218060            0.815453\n",
              "158      USA  2012       7.662971            1.502188\n",
              "159      USA  2013       4.665743            1.138897\n",
              "160      USA  2014       4.394881            1.776838\n",
              "\n",
              "[161 rows x 4 columns]"
            ],
            "text/html": [
              "\n",
              "  <div id=\"df-71d4605d-1a59-4d8b-b629-ac226873fbef\">\n",
              "    <div class=\"colab-df-container\">\n",
              "      <div>\n",
              "<style scoped>\n",
              "    .dataframe tbody tr th:only-of-type {\n",
              "        vertical-align: middle;\n",
              "    }\n",
              "\n",
              "    .dataframe tbody tr th {\n",
              "        vertical-align: top;\n",
              "    }\n",
              "\n",
              "    .dataframe thead th {\n",
              "        text-align: right;\n",
              "    }\n",
              "</style>\n",
              "<table border=\"1\" class=\"dataframe\">\n",
              "  <thead>\n",
              "    <tr style=\"text-align: right;\">\n",
              "      <th></th>\n",
              "      <th>COUNTRY</th>\n",
              "      <th>YEAR</th>\n",
              "      <th>GCF_GWTH_PCNT</th>\n",
              "      <th>GDP_PCAP_GWTH_PCNT</th>\n",
              "    </tr>\n",
              "  </thead>\n",
              "  <tbody>\n",
              "    <tr>\n",
              "      <th>0</th>\n",
              "      <td>Belgium</td>\n",
              "      <td>1992</td>\n",
              "      <td>1.829137</td>\n",
              "      <td>1.119566</td>\n",
              "    </tr>\n",
              "    <tr>\n",
              "      <th>1</th>\n",
              "      <td>Belgium</td>\n",
              "      <td>1993</td>\n",
              "      <td>-2.956525</td>\n",
              "      <td>-1.348000</td>\n",
              "    </tr>\n",
              "    <tr>\n",
              "      <th>2</th>\n",
              "      <td>Belgium</td>\n",
              "      <td>1994</td>\n",
              "      <td>3.764435</td>\n",
              "      <td>2.909319</td>\n",
              "    </tr>\n",
              "    <tr>\n",
              "      <th>3</th>\n",
              "      <td>Belgium</td>\n",
              "      <td>1995</td>\n",
              "      <td>4.113741</td>\n",
              "      <td>2.170550</td>\n",
              "    </tr>\n",
              "    <tr>\n",
              "      <th>4</th>\n",
              "      <td>Belgium</td>\n",
              "      <td>1996</td>\n",
              "      <td>0.415439</td>\n",
              "      <td>1.123669</td>\n",
              "    </tr>\n",
              "    <tr>\n",
              "      <th>...</th>\n",
              "      <td>...</td>\n",
              "      <td>...</td>\n",
              "      <td>...</td>\n",
              "      <td>...</td>\n",
              "    </tr>\n",
              "    <tr>\n",
              "      <th>156</th>\n",
              "      <td>USA</td>\n",
              "      <td>2010</td>\n",
              "      <td>10.457543</td>\n",
              "      <td>1.716400</td>\n",
              "    </tr>\n",
              "    <tr>\n",
              "      <th>157</th>\n",
              "      <td>USA</td>\n",
              "      <td>2011</td>\n",
              "      <td>4.218060</td>\n",
              "      <td>0.815453</td>\n",
              "    </tr>\n",
              "    <tr>\n",
              "      <th>158</th>\n",
              "      <td>USA</td>\n",
              "      <td>2012</td>\n",
              "      <td>7.662971</td>\n",
              "      <td>1.502188</td>\n",
              "    </tr>\n",
              "    <tr>\n",
              "      <th>159</th>\n",
              "      <td>USA</td>\n",
              "      <td>2013</td>\n",
              "      <td>4.665743</td>\n",
              "      <td>1.138897</td>\n",
              "    </tr>\n",
              "    <tr>\n",
              "      <th>160</th>\n",
              "      <td>USA</td>\n",
              "      <td>2014</td>\n",
              "      <td>4.394881</td>\n",
              "      <td>1.776838</td>\n",
              "    </tr>\n",
              "  </tbody>\n",
              "</table>\n",
              "<p>161 rows × 4 columns</p>\n",
              "</div>\n",
              "      <button class=\"colab-df-convert\" onclick=\"convertToInteractive('df-71d4605d-1a59-4d8b-b629-ac226873fbef')\"\n",
              "              title=\"Convert this dataframe to an interactive table.\"\n",
              "              style=\"display:none;\">\n",
              "        \n",
              "  <svg xmlns=\"http://www.w3.org/2000/svg\" height=\"24px\"viewBox=\"0 0 24 24\"\n",
              "       width=\"24px\">\n",
              "    <path d=\"M0 0h24v24H0V0z\" fill=\"none\"/>\n",
              "    <path d=\"M18.56 5.44l.94 2.06.94-2.06 2.06-.94-2.06-.94-.94-2.06-.94 2.06-2.06.94zm-11 1L8.5 8.5l.94-2.06 2.06-.94-2.06-.94L8.5 2.5l-.94 2.06-2.06.94zm10 10l.94 2.06.94-2.06 2.06-.94-2.06-.94-.94-2.06-.94 2.06-2.06.94z\"/><path d=\"M17.41 7.96l-1.37-1.37c-.4-.4-.92-.59-1.43-.59-.52 0-1.04.2-1.43.59L10.3 9.45l-7.72 7.72c-.78.78-.78 2.05 0 2.83L4 21.41c.39.39.9.59 1.41.59.51 0 1.02-.2 1.41-.59l7.78-7.78 2.81-2.81c.8-.78.8-2.07 0-2.86zM5.41 20L4 18.59l7.72-7.72 1.47 1.35L5.41 20z\"/>\n",
              "  </svg>\n",
              "      </button>\n",
              "      \n",
              "  <style>\n",
              "    .colab-df-container {\n",
              "      display:flex;\n",
              "      flex-wrap:wrap;\n",
              "      gap: 12px;\n",
              "    }\n",
              "\n",
              "    .colab-df-convert {\n",
              "      background-color: #E8F0FE;\n",
              "      border: none;\n",
              "      border-radius: 50%;\n",
              "      cursor: pointer;\n",
              "      display: none;\n",
              "      fill: #1967D2;\n",
              "      height: 32px;\n",
              "      padding: 0 0 0 0;\n",
              "      width: 32px;\n",
              "    }\n",
              "\n",
              "    .colab-df-convert:hover {\n",
              "      background-color: #E2EBFA;\n",
              "      box-shadow: 0px 1px 2px rgba(60, 64, 67, 0.3), 0px 1px 3px 1px rgba(60, 64, 67, 0.15);\n",
              "      fill: #174EA6;\n",
              "    }\n",
              "\n",
              "    [theme=dark] .colab-df-convert {\n",
              "      background-color: #3B4455;\n",
              "      fill: #D2E3FC;\n",
              "    }\n",
              "\n",
              "    [theme=dark] .colab-df-convert:hover {\n",
              "      background-color: #434B5C;\n",
              "      box-shadow: 0px 1px 3px 1px rgba(0, 0, 0, 0.15);\n",
              "      filter: drop-shadow(0px 1px 2px rgba(0, 0, 0, 0.3));\n",
              "      fill: #FFFFFF;\n",
              "    }\n",
              "  </style>\n",
              "\n",
              "      <script>\n",
              "        const buttonEl =\n",
              "          document.querySelector('#df-71d4605d-1a59-4d8b-b629-ac226873fbef button.colab-df-convert');\n",
              "        buttonEl.style.display =\n",
              "          google.colab.kernel.accessAllowed ? 'block' : 'none';\n",
              "\n",
              "        async function convertToInteractive(key) {\n",
              "          const element = document.querySelector('#df-71d4605d-1a59-4d8b-b629-ac226873fbef');\n",
              "          const dataTable =\n",
              "            await google.colab.kernel.invokeFunction('convertToInteractive',\n",
              "                                                     [key], {});\n",
              "          if (!dataTable) return;\n",
              "\n",
              "          const docLinkHtml = 'Like what you see? Visit the ' +\n",
              "            '<a target=\"_blank\" href=https://colab.research.google.com/notebooks/data_table.ipynb>data table notebook</a>'\n",
              "            + ' to learn more about interactive tables.';\n",
              "          element.innerHTML = '';\n",
              "          dataTable['output_type'] = 'display_data';\n",
              "          await google.colab.output.renderOutput(dataTable, element);\n",
              "          const docLink = document.createElement('div');\n",
              "          docLink.innerHTML = docLinkHtml;\n",
              "          element.appendChild(docLink);\n",
              "        }\n",
              "      </script>\n",
              "    </div>\n",
              "  </div>\n",
              "  "
            ]
          },
          "metadata": {},
          "execution_count": 19
        }
      ]
    },
    {
      "cell_type": "code",
      "source": [
        "random_df.describe()"
      ],
      "metadata": {
        "colab": {
          "base_uri": "https://localhost:8080/",
          "height": 297
        },
        "id": "PifoZG5vIcky",
        "outputId": "ee5e4d63-2c3a-4dae-c023-5085def6201a"
      },
      "execution_count": null,
      "outputs": [
        {
          "output_type": "execute_result",
          "data": {
            "text/plain": [
              "              YEAR  GCF_GWTH_PCNT  GDP_PCAP_GWTH_PCNT\n",
              "count   161.000000     161.000000          161.000000\n",
              "mean   2003.000000       3.051516            1.748991\n",
              "std       6.653946       7.892476            2.548424\n",
              "min    1992.000000     -19.465306           -6.414124\n",
              "25%    1997.000000      -0.198605            0.628754\n",
              "50%    2003.000000       3.764435            1.738506\n",
              "75%    2009.000000       7.548499            2.918338\n",
              "max    2014.000000      26.772255            9.907158"
            ],
            "text/html": [
              "\n",
              "  <div id=\"df-2d972ee4-bef0-4cfc-86f1-92387ce2ef4d\">\n",
              "    <div class=\"colab-df-container\">\n",
              "      <div>\n",
              "<style scoped>\n",
              "    .dataframe tbody tr th:only-of-type {\n",
              "        vertical-align: middle;\n",
              "    }\n",
              "\n",
              "    .dataframe tbody tr th {\n",
              "        vertical-align: top;\n",
              "    }\n",
              "\n",
              "    .dataframe thead th {\n",
              "        text-align: right;\n",
              "    }\n",
              "</style>\n",
              "<table border=\"1\" class=\"dataframe\">\n",
              "  <thead>\n",
              "    <tr style=\"text-align: right;\">\n",
              "      <th></th>\n",
              "      <th>YEAR</th>\n",
              "      <th>GCF_GWTH_PCNT</th>\n",
              "      <th>GDP_PCAP_GWTH_PCNT</th>\n",
              "    </tr>\n",
              "  </thead>\n",
              "  <tbody>\n",
              "    <tr>\n",
              "      <th>count</th>\n",
              "      <td>161.000000</td>\n",
              "      <td>161.000000</td>\n",
              "      <td>161.000000</td>\n",
              "    </tr>\n",
              "    <tr>\n",
              "      <th>mean</th>\n",
              "      <td>2003.000000</td>\n",
              "      <td>3.051516</td>\n",
              "      <td>1.748991</td>\n",
              "    </tr>\n",
              "    <tr>\n",
              "      <th>std</th>\n",
              "      <td>6.653946</td>\n",
              "      <td>7.892476</td>\n",
              "      <td>2.548424</td>\n",
              "    </tr>\n",
              "    <tr>\n",
              "      <th>min</th>\n",
              "      <td>1992.000000</td>\n",
              "      <td>-19.465306</td>\n",
              "      <td>-6.414124</td>\n",
              "    </tr>\n",
              "    <tr>\n",
              "      <th>25%</th>\n",
              "      <td>1997.000000</td>\n",
              "      <td>-0.198605</td>\n",
              "      <td>0.628754</td>\n",
              "    </tr>\n",
              "    <tr>\n",
              "      <th>50%</th>\n",
              "      <td>2003.000000</td>\n",
              "      <td>3.764435</td>\n",
              "      <td>1.738506</td>\n",
              "    </tr>\n",
              "    <tr>\n",
              "      <th>75%</th>\n",
              "      <td>2009.000000</td>\n",
              "      <td>7.548499</td>\n",
              "      <td>2.918338</td>\n",
              "    </tr>\n",
              "    <tr>\n",
              "      <th>max</th>\n",
              "      <td>2014.000000</td>\n",
              "      <td>26.772255</td>\n",
              "      <td>9.907158</td>\n",
              "    </tr>\n",
              "  </tbody>\n",
              "</table>\n",
              "</div>\n",
              "      <button class=\"colab-df-convert\" onclick=\"convertToInteractive('df-2d972ee4-bef0-4cfc-86f1-92387ce2ef4d')\"\n",
              "              title=\"Convert this dataframe to an interactive table.\"\n",
              "              style=\"display:none;\">\n",
              "        \n",
              "  <svg xmlns=\"http://www.w3.org/2000/svg\" height=\"24px\"viewBox=\"0 0 24 24\"\n",
              "       width=\"24px\">\n",
              "    <path d=\"M0 0h24v24H0V0z\" fill=\"none\"/>\n",
              "    <path d=\"M18.56 5.44l.94 2.06.94-2.06 2.06-.94-2.06-.94-.94-2.06-.94 2.06-2.06.94zm-11 1L8.5 8.5l.94-2.06 2.06-.94-2.06-.94L8.5 2.5l-.94 2.06-2.06.94zm10 10l.94 2.06.94-2.06 2.06-.94-2.06-.94-.94-2.06-.94 2.06-2.06.94z\"/><path d=\"M17.41 7.96l-1.37-1.37c-.4-.4-.92-.59-1.43-.59-.52 0-1.04.2-1.43.59L10.3 9.45l-7.72 7.72c-.78.78-.78 2.05 0 2.83L4 21.41c.39.39.9.59 1.41.59.51 0 1.02-.2 1.41-.59l7.78-7.78 2.81-2.81c.8-.78.8-2.07 0-2.86zM5.41 20L4 18.59l7.72-7.72 1.47 1.35L5.41 20z\"/>\n",
              "  </svg>\n",
              "      </button>\n",
              "      \n",
              "  <style>\n",
              "    .colab-df-container {\n",
              "      display:flex;\n",
              "      flex-wrap:wrap;\n",
              "      gap: 12px;\n",
              "    }\n",
              "\n",
              "    .colab-df-convert {\n",
              "      background-color: #E8F0FE;\n",
              "      border: none;\n",
              "      border-radius: 50%;\n",
              "      cursor: pointer;\n",
              "      display: none;\n",
              "      fill: #1967D2;\n",
              "      height: 32px;\n",
              "      padding: 0 0 0 0;\n",
              "      width: 32px;\n",
              "    }\n",
              "\n",
              "    .colab-df-convert:hover {\n",
              "      background-color: #E2EBFA;\n",
              "      box-shadow: 0px 1px 2px rgba(60, 64, 67, 0.3), 0px 1px 3px 1px rgba(60, 64, 67, 0.15);\n",
              "      fill: #174EA6;\n",
              "    }\n",
              "\n",
              "    [theme=dark] .colab-df-convert {\n",
              "      background-color: #3B4455;\n",
              "      fill: #D2E3FC;\n",
              "    }\n",
              "\n",
              "    [theme=dark] .colab-df-convert:hover {\n",
              "      background-color: #434B5C;\n",
              "      box-shadow: 0px 1px 3px 1px rgba(0, 0, 0, 0.15);\n",
              "      filter: drop-shadow(0px 1px 2px rgba(0, 0, 0, 0.3));\n",
              "      fill: #FFFFFF;\n",
              "    }\n",
              "  </style>\n",
              "\n",
              "      <script>\n",
              "        const buttonEl =\n",
              "          document.querySelector('#df-2d972ee4-bef0-4cfc-86f1-92387ce2ef4d button.colab-df-convert');\n",
              "        buttonEl.style.display =\n",
              "          google.colab.kernel.accessAllowed ? 'block' : 'none';\n",
              "\n",
              "        async function convertToInteractive(key) {\n",
              "          const element = document.querySelector('#df-2d972ee4-bef0-4cfc-86f1-92387ce2ef4d');\n",
              "          const dataTable =\n",
              "            await google.colab.kernel.invokeFunction('convertToInteractive',\n",
              "                                                     [key], {});\n",
              "          if (!dataTable) return;\n",
              "\n",
              "          const docLinkHtml = 'Like what you see? Visit the ' +\n",
              "            '<a target=\"_blank\" href=https://colab.research.google.com/notebooks/data_table.ipynb>data table notebook</a>'\n",
              "            + ' to learn more about interactive tables.';\n",
              "          element.innerHTML = '';\n",
              "          dataTable['output_type'] = 'display_data';\n",
              "          await google.colab.output.renderOutput(dataTable, element);\n",
              "          const docLink = document.createElement('div');\n",
              "          docLink.innerHTML = docLinkHtml;\n",
              "          element.appendChild(docLink);\n",
              "        }\n",
              "      </script>\n",
              "    </div>\n",
              "  </div>\n",
              "  "
            ]
          },
          "metadata": {},
          "execution_count": 20
        }
      ]
    },
    {
      "cell_type": "code",
      "source": [
        "colors = ['blue', 'red', 'orange', 'lime', 'yellow', 'cyan', 'violet']\n",
        " \n",
        "sns.scatterplot(x=random_df['GCF_GWTH_PCNT'], \n",
        "                y=random_df['GDP_PCAP_GWTH_PCNT'],\n",
        "                hue=random_df['COUNTRY'],\n",
        "                palette=colors).set(title='Y-o-Y % Change in per-capita GDP versus Y-o-Y % Change in Gross capital formation')\n",
        " \n",
        "plt.show()"
      ],
      "metadata": {
        "colab": {
          "base_uri": "https://localhost:8080/",
          "height": 296
        },
        "id": "BxbMXp_CGrIO",
        "outputId": "97e56ac6-b345-403b-e30f-2547b52d4b18"
      },
      "execution_count": null,
      "outputs": [
        {
          "output_type": "display_data",
          "data": {
            "text/plain": [
              "<Figure size 432x288 with 1 Axes>"
            ],
            "image/png": "[encoded data removed]"
          },
          "metadata": {
            "needs_background": "light"
          }
        }
      ]
    },
    {
      "cell_type": "code",
      "source": [],
      "metadata": {
        "id": "2rfuIn4aG8As"
      },
      "execution_count": null,
      "outputs": []
    },
    {
      "cell_type": "code",
      "source": [],
      "metadata": {
        "id": "ZLRy5xaOjLOf"
      },
      "execution_count": null,
      "outputs": []
    },
    {
      "cell_type": "code",
      "source": [],
      "metadata": {
        "id": "2aa3hBCpjLEn"
      },
      "execution_count": null,
      "outputs": []
    },
    {
      "cell_type": "markdown",
      "source": [
        "#Laboratorio"
      ],
      "metadata": {
        "id": "HmFEC3-9jNwQ"
      }
    },
    {
      "cell_type": "markdown",
      "source": [
        "Estudio Framingham del Corazón\n",
        "Este laboratorio utiliza información publica. Es un estudio realizado sobre el riesgo cardio vascular. Este estudio se puso en marcha en 1948 con la participación inicial de 5.209 mujeres y hombres sanos de esta ciudad de entre 30 y 62 años, y en el que actualmente se incluye la tercera generación de participantes. Gracias a este estudio, que continúa siendo un referente en la actualidad, se dispone de diversos conocimientos sobre la epidemiología de los problemas cardiovasculares y los factores de riesgo asociados a su aparición.1​\n",
        "\n",
        "Es un estudio prospectivo de base poblacional que comenzó en Framingham en 1948 con la cohorte original en el que, durante los últimos 66 años los investigadores han recogido datos sobre las enfermedades cardiovasculares y sus factores predisponentes. Es un estudio pionero en la investigación epidemiológica de las enfermedades crónicas no infecciosas y los métodos, estadísticos y de análisis e interpretación de datos, que ha utilizado, han tenido una amplia difusión en este campo. El estudio Framingham surge en un contexto y un momento que lo hicieron posible. En primer lugar hay que situar la importancia creciente de las enfermedades cardiovasculares.\n",
        "\n"
      ],
      "metadata": {
        "id": "Rle8NOLIPPhV"
      }
    },
    {
      "cell_type": "markdown",
      "source": [
        "### Descripción del modelo de datos.\n",
        "* male: 0 = Female; 1 = Male\n",
        "* age: Age at exam time.\n",
        "* education: 1 = Some High School; 2 = High School or GED; 3 = Some College or Vocational School; 4 = College\n",
        "* currentSmoker: 0 = nonsmoker; 1 = smoker\n",
        "* cigsPerDay: number of cigarettes smoked per day (estimated average)\n",
        "* BPMeds: 0 = Not on Blood Pressure medications; 1 = Is on Blood Pressure medications\n",
        "* prevalentStroke: 0 = Stroke not prevalent in family history; 1 = Stroke prevalent in family history\n",
        "* prevalentHyp: 0 = Hypertension not prevalent in family history; 1 = Hypertension prevalent in family history\n",
        "* diabetes: 0 = No; 1 = Yes\n",
        "* totChol: total cholesterol (mg/dL)\n",
        "* sysBP: systolic blood pressure (mmHg)\n",
        "* diaBP: diastolic blood pressure (mmHg)\n",
        "* BMI: BodyMass Index calculated as: Weight (kg) / Height(meter-squared)\n",
        "heartRate Beats/Min (Ventricular)\n",
        "* glucose: total glucose mg/dL\n",
        "* TenYearCHD: 0 = Patient doesn’t have 10-year risk of future coronary heart disease; 1 = Patient has 10-year risk of future coronary heart disease\n",
        "### Tipos de datos\n",
        "* Sex                 object\n",
        "* age                  int64\n",
        "* education          float64\n",
        "* currentSmoker       object\n",
        "* cigsPerDay         float64\n",
        "* BPMeds             float64\n",
        "* prevalentStroke      int64\n",
        "* prevalentHyp         int64\n",
        "* diabetes            object\n",
        "* totChol            float64\n",
        "* sysBP              float64\n",
        "* diaBP              float64\n",
        "* BMI                float64\n",
        "* heartRate          float64\n",
        "* glucose            float64\n",
        "* TenYearCHD           int64"
      ],
      "metadata": {
        "id": "pw3ntLfxRxVA"
      }
    },
    {
      "cell_type": "code",
      "source": [
        "import numpy as np \n",
        "import pandas as pd\n",
        "import statsmodels.formula.api as smf"
      ],
      "metadata": {
        "id": "hFY1m5D2jK0e"
      },
      "execution_count": 15,
      "outputs": []
    },
    {
      "cell_type": "code",
      "source": [
        "url = \"https://raw.githubusercontent.com/RM-Santiago/framingham/main/framingham/framingham.csv\"\n",
        "df = pd.read_csv(url)\n"
      ],
      "metadata": {
        "id": "kjsPDtS_jSgr"
      },
      "execution_count": 16,
      "outputs": []
    },
    {
      "cell_type": "code",
      "source": [
        "df.head()"
      ],
      "metadata": {
        "id": "SWzAzD_jjlnT",
        "outputId": "78c502de-a645-497e-f947-3684ee2f160d",
        "colab": {
          "base_uri": "https://localhost:8080/",
          "height": 204
        }
      },
      "execution_count": 23,
      "outputs": [
        {
          "output_type": "execute_result",
          "data": {
            "text/plain": [
              "      Sex  age  education currentSmoker  cigsPerDay  BPMeds  prevalentStroke  \\\n",
              "0    male   39        4.0            No         0.0     0.0                0   \n",
              "1  female   46        2.0            No         0.0     0.0                0   \n",
              "2    male   48        1.0           Yes        20.0     0.0                0   \n",
              "3  female   61        3.0           Yes        30.0     0.0                0   \n",
              "4  female   46        3.0           Yes        23.0     0.0                0   \n",
              "\n",
              "   prevalentHyp diabetes  totChol  sysBP  diaBP    BMI  heartRate  glucose  \\\n",
              "0             0       No    195.0  106.0   70.0  26.97       80.0     77.0   \n",
              "1             0       No    250.0  121.0   81.0  28.73       95.0     76.0   \n",
              "2             0       No    245.0  127.5   80.0  25.34       75.0     70.0   \n",
              "3             1       No    225.0  150.0   95.0  28.58       65.0    103.0   \n",
              "4             0       No    285.0  130.0   84.0  23.10       85.0     85.0   \n",
              "\n",
              "   TenYearCHD  \n",
              "0           0  \n",
              "1           0  \n",
              "2           0  \n",
              "3           1  \n",
              "4           0  "
            ],
            "text/html": [
              "\n",
              "  <div id=\"df-d83b5684-67fd-4891-af5d-1fcaf09a5e43\">\n",
              "    <div class=\"colab-df-container\">\n",
              "      <div>\n",
              "<style scoped>\n",
              "    .dataframe tbody tr th:only-of-type {\n",
              "        vertical-align: middle;\n",
              "    }\n",
              "\n",
              "    .dataframe tbody tr th {\n",
              "        vertical-align: top;\n",
              "    }\n",
              "\n",
              "    .dataframe thead th {\n",
              "        text-align: right;\n",
              "    }\n",
              "</style>\n",
              "<table border=\"1\" class=\"dataframe\">\n",
              "  <thead>\n",
              "    <tr style=\"text-align: right;\">\n",
              "      <th></th>\n",
              "      <th>Sex</th>\n",
              "      <th>age</th>\n",
              "      <th>education</th>\n",
              "      <th>currentSmoker</th>\n",
              "      <th>cigsPerDay</th>\n",
              "      <th>BPMeds</th>\n",
              "      <th>prevalentStroke</th>\n",
              "      <th>prevalentHyp</th>\n",
              "      <th>diabetes</th>\n",
              "      <th>totChol</th>\n",
              "      <th>sysBP</th>\n",
              "      <th>diaBP</th>\n",
              "      <th>BMI</th>\n",
              "      <th>heartRate</th>\n",
              "      <th>glucose</th>\n",
              "      <th>TenYearCHD</th>\n",
              "    </tr>\n",
              "  </thead>\n",
              "  <tbody>\n",
              "    <tr>\n",
              "      <th>0</th>\n",
              "      <td>male</td>\n",
              "      <td>39</td>\n",
              "      <td>4.0</td>\n",
              "      <td>No</td>\n",
              "      <td>0.0</td>\n",
              "      <td>0.0</td>\n",
              "      <td>0</td>\n",
              "      <td>0</td>\n",
              "      <td>No</td>\n",
              "      <td>195.0</td>\n",
              "      <td>106.0</td>\n",
              "      <td>70.0</td>\n",
              "      <td>26.97</td>\n",
              "      <td>80.0</td>\n",
              "      <td>77.0</td>\n",
              "      <td>0</td>\n",
              "    </tr>\n",
              "    <tr>\n",
              "      <th>1</th>\n",
              "      <td>female</td>\n",
              "      <td>46</td>\n",
              "      <td>2.0</td>\n",
              "      <td>No</td>\n",
              "      <td>0.0</td>\n",
              "      <td>0.0</td>\n",
              "      <td>0</td>\n",
              "      <td>0</td>\n",
              "      <td>No</td>\n",
              "      <td>250.0</td>\n",
              "      <td>121.0</td>\n",
              "      <td>81.0</td>\n",
              "      <td>28.73</td>\n",
              "      <td>95.0</td>\n",
              "      <td>76.0</td>\n",
              "      <td>0</td>\n",
              "    </tr>\n",
              "    <tr>\n",
              "      <th>2</th>\n",
              "      <td>male</td>\n",
              "      <td>48</td>\n",
              "      <td>1.0</td>\n",
              "      <td>Yes</td>\n",
              "      <td>20.0</td>\n",
              "      <td>0.0</td>\n",
              "      <td>0</td>\n",
              "      <td>0</td>\n",
              "      <td>No</td>\n",
              "      <td>245.0</td>\n",
              "      <td>127.5</td>\n",
              "      <td>80.0</td>\n",
              "      <td>25.34</td>\n",
              "      <td>75.0</td>\n",
              "      <td>70.0</td>\n",
              "      <td>0</td>\n",
              "    </tr>\n",
              "    <tr>\n",
              "      <th>3</th>\n",
              "      <td>female</td>\n",
              "      <td>61</td>\n",
              "      <td>3.0</td>\n",
              "      <td>Yes</td>\n",
              "      <td>30.0</td>\n",
              "      <td>0.0</td>\n",
              "      <td>0</td>\n",
              "      <td>1</td>\n",
              "      <td>No</td>\n",
              "      <td>225.0</td>\n",
              "      <td>150.0</td>\n",
              "      <td>95.0</td>\n",
              "      <td>28.58</td>\n",
              "      <td>65.0</td>\n",
              "      <td>103.0</td>\n",
              "      <td>1</td>\n",
              "    </tr>\n",
              "    <tr>\n",
              "      <th>4</th>\n",
              "      <td>female</td>\n",
              "      <td>46</td>\n",
              "      <td>3.0</td>\n",
              "      <td>Yes</td>\n",
              "      <td>23.0</td>\n",
              "      <td>0.0</td>\n",
              "      <td>0</td>\n",
              "      <td>0</td>\n",
              "      <td>No</td>\n",
              "      <td>285.0</td>\n",
              "      <td>130.0</td>\n",
              "      <td>84.0</td>\n",
              "      <td>23.10</td>\n",
              "      <td>85.0</td>\n",
              "      <td>85.0</td>\n",
              "      <td>0</td>\n",
              "    </tr>\n",
              "  </tbody>\n",
              "</table>\n",
              "</div>\n",
              "      <button class=\"colab-df-convert\" onclick=\"convertToInteractive('df-d83b5684-67fd-4891-af5d-1fcaf09a5e43')\"\n",
              "              title=\"Convert this dataframe to an interactive table.\"\n",
              "              style=\"display:none;\">\n",
              "        \n",
              "  <svg xmlns=\"http://www.w3.org/2000/svg\" height=\"24px\"viewBox=\"0 0 24 24\"\n",
              "       width=\"24px\">\n",
              "    <path d=\"M0 0h24v24H0V0z\" fill=\"none\"/>\n",
              "    <path d=\"M18.56 5.44l.94 2.06.94-2.06 2.06-.94-2.06-.94-.94-2.06-.94 2.06-2.06.94zm-11 1L8.5 8.5l.94-2.06 2.06-.94-2.06-.94L8.5 2.5l-.94 2.06-2.06.94zm10 10l.94 2.06.94-2.06 2.06-.94-2.06-.94-.94-2.06-.94 2.06-2.06.94z\"/><path d=\"M17.41 7.96l-1.37-1.37c-.4-.4-.92-.59-1.43-.59-.52 0-1.04.2-1.43.59L10.3 9.45l-7.72 7.72c-.78.78-.78 2.05 0 2.83L4 21.41c.39.39.9.59 1.41.59.51 0 1.02-.2 1.41-.59l7.78-7.78 2.81-2.81c.8-.78.8-2.07 0-2.86zM5.41 20L4 18.59l7.72-7.72 1.47 1.35L5.41 20z\"/>\n",
              "  </svg>\n",
              "      </button>\n",
              "      \n",
              "  <style>\n",
              "    .colab-df-container {\n",
              "      display:flex;\n",
              "      flex-wrap:wrap;\n",
              "      gap: 12px;\n",
              "    }\n",
              "\n",
              "    .colab-df-convert {\n",
              "      background-color: #E8F0FE;\n",
              "      border: none;\n",
              "      border-radius: 50%;\n",
              "      cursor: pointer;\n",
              "      display: none;\n",
              "      fill: #1967D2;\n",
              "      height: 32px;\n",
              "      padding: 0 0 0 0;\n",
              "      width: 32px;\n",
              "    }\n",
              "\n",
              "    .colab-df-convert:hover {\n",
              "      background-color: #E2EBFA;\n",
              "      box-shadow: 0px 1px 2px rgba(60, 64, 67, 0.3), 0px 1px 3px 1px rgba(60, 64, 67, 0.15);\n",
              "      fill: #174EA6;\n",
              "    }\n",
              "\n",
              "    [theme=dark] .colab-df-convert {\n",
              "      background-color: #3B4455;\n",
              "      fill: #D2E3FC;\n",
              "    }\n",
              "\n",
              "    [theme=dark] .colab-df-convert:hover {\n",
              "      background-color: #434B5C;\n",
              "      box-shadow: 0px 1px 3px 1px rgba(0, 0, 0, 0.15);\n",
              "      filter: drop-shadow(0px 1px 2px rgba(0, 0, 0, 0.3));\n",
              "      fill: #FFFFFF;\n",
              "    }\n",
              "  </style>\n",
              "\n",
              "      <script>\n",
              "        const buttonEl =\n",
              "          document.querySelector('#df-d83b5684-67fd-4891-af5d-1fcaf09a5e43 button.colab-df-convert');\n",
              "        buttonEl.style.display =\n",
              "          google.colab.kernel.accessAllowed ? 'block' : 'none';\n",
              "\n",
              "        async function convertToInteractive(key) {\n",
              "          const element = document.querySelector('#df-d83b5684-67fd-4891-af5d-1fcaf09a5e43');\n",
              "          const dataTable =\n",
              "            await google.colab.kernel.invokeFunction('convertToInteractive',\n",
              "                                                     [key], {});\n",
              "          if (!dataTable) return;\n",
              "\n",
              "          const docLinkHtml = 'Like what you see? Visit the ' +\n",
              "            '<a target=\"_blank\" href=https://colab.research.google.com/notebooks/data_table.ipynb>data table notebook</a>'\n",
              "            + ' to learn more about interactive tables.';\n",
              "          element.innerHTML = '';\n",
              "          dataTable['output_type'] = 'display_data';\n",
              "          await google.colab.output.renderOutput(dataTable, element);\n",
              "          const docLink = document.createElement('div');\n",
              "          docLink.innerHTML = docLinkHtml;\n",
              "          element.appendChild(docLink);\n",
              "        }\n",
              "      </script>\n",
              "    </div>\n",
              "  </div>\n",
              "  "
            ]
          },
          "metadata": {},
          "execution_count": 23
        }
      ]
    },
    {
      "cell_type": "code",
      "source": [
        "df.describe()"
      ],
      "metadata": {
        "id": "mIDs1KRJjpXE",
        "colab": {
          "base_uri": "https://localhost:8080/",
          "height": 297
        },
        "outputId": "b2cd83d7-b22d-4e2b-92c0-7366f31ead4b"
      },
      "execution_count": 26,
      "outputs": [
        {
          "output_type": "execute_result",
          "data": {
            "text/plain": [
              "               age    education   cigsPerDay       BPMeds  prevalentStroke  \\\n",
              "count  4240.000000  4135.000000  4211.000000  4187.000000      4240.000000   \n",
              "mean     49.580189     1.979444     9.005937     0.029615         0.005896   \n",
              "std       8.572942     1.019791    11.922462     0.169544         0.076569   \n",
              "min      32.000000     1.000000     0.000000     0.000000         0.000000   \n",
              "25%      42.000000     1.000000     0.000000     0.000000         0.000000   \n",
              "50%      49.000000     2.000000     0.000000     0.000000         0.000000   \n",
              "75%      56.000000     3.000000    20.000000     0.000000         0.000000   \n",
              "max      70.000000     4.000000    70.000000     1.000000         1.000000   \n",
              "\n",
              "       prevalentHyp      totChol        sysBP        diaBP          BMI  \\\n",
              "count   4240.000000  4190.000000  4240.000000  4240.000000  4221.000000   \n",
              "mean       0.310613   236.699523   132.354599    82.897759    25.800801   \n",
              "std        0.462799    44.591284    22.033300    11.910394     4.079840   \n",
              "min        0.000000   107.000000    83.500000    48.000000    15.540000   \n",
              "25%        0.000000   206.000000   117.000000    75.000000    23.070000   \n",
              "50%        0.000000   234.000000   128.000000    82.000000    25.400000   \n",
              "75%        1.000000   263.000000   144.000000    90.000000    28.040000   \n",
              "max        1.000000   696.000000   295.000000   142.500000    56.800000   \n",
              "\n",
              "         heartRate      glucose   TenYearCHD  \n",
              "count  4239.000000  3852.000000  4240.000000  \n",
              "mean     75.878981    81.963655     0.151887  \n",
              "std      12.025348    23.954335     0.358953  \n",
              "min      44.000000    40.000000     0.000000  \n",
              "25%      68.000000    71.000000     0.000000  \n",
              "50%      75.000000    78.000000     0.000000  \n",
              "75%      83.000000    87.000000     0.000000  \n",
              "max     143.000000   394.000000     1.000000  "
            ],
            "text/html": [
              "\n",
              "  <div id=\"df-97a8b79f-af95-45b4-9eb5-d934f4d253ba\">\n",
              "    <div class=\"colab-df-container\">\n",
              "      <div>\n",
              "<style scoped>\n",
              "    .dataframe tbody tr th:only-of-type {\n",
              "        vertical-align: middle;\n",
              "    }\n",
              "\n",
              "    .dataframe tbody tr th {\n",
              "        vertical-align: top;\n",
              "    }\n",
              "\n",
              "    .dataframe thead th {\n",
              "        text-align: right;\n",
              "    }\n",
              "</style>\n",
              "<table border=\"1\" class=\"dataframe\">\n",
              "  <thead>\n",
              "    <tr style=\"text-align: right;\">\n",
              "      <th></th>\n",
              "      <th>age</th>\n",
              "      <th>education</th>\n",
              "      <th>cigsPerDay</th>\n",
              "      <th>BPMeds</th>\n",
              "      <th>prevalentStroke</th>\n",
              "      <th>prevalentHyp</th>\n",
              "      <th>totChol</th>\n",
              "      <th>sysBP</th>\n",
              "      <th>diaBP</th>\n",
              "      <th>BMI</th>\n",
              "      <th>heartRate</th>\n",
              "      <th>glucose</th>\n",
              "      <th>TenYearCHD</th>\n",
              "    </tr>\n",
              "  </thead>\n",
              "  <tbody>\n",
              "    <tr>\n",
              "      <th>count</th>\n",
              "      <td>4240.000000</td>\n",
              "      <td>4135.000000</td>\n",
              "      <td>4211.000000</td>\n",
              "      <td>4187.000000</td>\n",
              "      <td>4240.000000</td>\n",
              "      <td>4240.000000</td>\n",
              "      <td>4190.000000</td>\n",
              "      <td>4240.000000</td>\n",
              "      <td>4240.000000</td>\n",
              "      <td>4221.000000</td>\n",
              "      <td>4239.000000</td>\n",
              "      <td>3852.000000</td>\n",
              "      <td>4240.000000</td>\n",
              "    </tr>\n",
              "    <tr>\n",
              "      <th>mean</th>\n",
              "      <td>49.580189</td>\n",
              "      <td>1.979444</td>\n",
              "      <td>9.005937</td>\n",
              "      <td>0.029615</td>\n",
              "      <td>0.005896</td>\n",
              "      <td>0.310613</td>\n",
              "      <td>236.699523</td>\n",
              "      <td>132.354599</td>\n",
              "      <td>82.897759</td>\n",
              "      <td>25.800801</td>\n",
              "      <td>75.878981</td>\n",
              "      <td>81.963655</td>\n",
              "      <td>0.151887</td>\n",
              "    </tr>\n",
              "    <tr>\n",
              "      <th>std</th>\n",
              "      <td>8.572942</td>\n",
              "      <td>1.019791</td>\n",
              "      <td>11.922462</td>\n",
              "      <td>0.169544</td>\n",
              "      <td>0.076569</td>\n",
              "      <td>0.462799</td>\n",
              "      <td>44.591284</td>\n",
              "      <td>22.033300</td>\n",
              "      <td>11.910394</td>\n",
              "      <td>4.079840</td>\n",
              "      <td>12.025348</td>\n",
              "      <td>23.954335</td>\n",
              "      <td>0.358953</td>\n",
              "    </tr>\n",
              "    <tr>\n",
              "      <th>min</th>\n",
              "      <td>32.000000</td>\n",
              "      <td>1.000000</td>\n",
              "      <td>0.000000</td>\n",
              "      <td>0.000000</td>\n",
              "      <td>0.000000</td>\n",
              "      <td>0.000000</td>\n",
              "      <td>107.000000</td>\n",
              "      <td>83.500000</td>\n",
              "      <td>48.000000</td>\n",
              "      <td>15.540000</td>\n",
              "      <td>44.000000</td>\n",
              "      <td>40.000000</td>\n",
              "      <td>0.000000</td>\n",
              "    </tr>\n",
              "    <tr>\n",
              "      <th>25%</th>\n",
              "      <td>42.000000</td>\n",
              "      <td>1.000000</td>\n",
              "      <td>0.000000</td>\n",
              "      <td>0.000000</td>\n",
              "      <td>0.000000</td>\n",
              "      <td>0.000000</td>\n",
              "      <td>206.000000</td>\n",
              "      <td>117.000000</td>\n",
              "      <td>75.000000</td>\n",
              "      <td>23.070000</td>\n",
              "      <td>68.000000</td>\n",
              "      <td>71.000000</td>\n",
              "      <td>0.000000</td>\n",
              "    </tr>\n",
              "    <tr>\n",
              "      <th>50%</th>\n",
              "      <td>49.000000</td>\n",
              "      <td>2.000000</td>\n",
              "      <td>0.000000</td>\n",
              "      <td>0.000000</td>\n",
              "      <td>0.000000</td>\n",
              "      <td>0.000000</td>\n",
              "      <td>234.000000</td>\n",
              "      <td>128.000000</td>\n",
              "      <td>82.000000</td>\n",
              "      <td>25.400000</td>\n",
              "      <td>75.000000</td>\n",
              "      <td>78.000000</td>\n",
              "      <td>0.000000</td>\n",
              "    </tr>\n",
              "    <tr>\n",
              "      <th>75%</th>\n",
              "      <td>56.000000</td>\n",
              "      <td>3.000000</td>\n",
              "      <td>20.000000</td>\n",
              "      <td>0.000000</td>\n",
              "      <td>0.000000</td>\n",
              "      <td>1.000000</td>\n",
              "      <td>263.000000</td>\n",
              "      <td>144.000000</td>\n",
              "      <td>90.000000</td>\n",
              "      <td>28.040000</td>\n",
              "      <td>83.000000</td>\n",
              "      <td>87.000000</td>\n",
              "      <td>0.000000</td>\n",
              "    </tr>\n",
              "    <tr>\n",
              "      <th>max</th>\n",
              "      <td>70.000000</td>\n",
              "      <td>4.000000</td>\n",
              "      <td>70.000000</td>\n",
              "      <td>1.000000</td>\n",
              "      <td>1.000000</td>\n",
              "      <td>1.000000</td>\n",
              "      <td>696.000000</td>\n",
              "      <td>295.000000</td>\n",
              "      <td>142.500000</td>\n",
              "      <td>56.800000</td>\n",
              "      <td>143.000000</td>\n",
              "      <td>394.000000</td>\n",
              "      <td>1.000000</td>\n",
              "    </tr>\n",
              "  </tbody>\n",
              "</table>\n",
              "</div>\n",
              "      <button class=\"colab-df-convert\" onclick=\"convertToInteractive('df-97a8b79f-af95-45b4-9eb5-d934f4d253ba')\"\n",
              "              title=\"Convert this dataframe to an interactive table.\"\n",
              "              style=\"display:none;\">\n",
              "        \n",
              "  <svg xmlns=\"http://www.w3.org/2000/svg\" height=\"24px\"viewBox=\"0 0 24 24\"\n",
              "       width=\"24px\">\n",
              "    <path d=\"M0 0h24v24H0V0z\" fill=\"none\"/>\n",
              "    <path d=\"M18.56 5.44l.94 2.06.94-2.06 2.06-.94-2.06-.94-.94-2.06-.94 2.06-2.06.94zm-11 1L8.5 8.5l.94-2.06 2.06-.94-2.06-.94L8.5 2.5l-.94 2.06-2.06.94zm10 10l.94 2.06.94-2.06 2.06-.94-2.06-.94-.94-2.06-.94 2.06-2.06.94z\"/><path d=\"M17.41 7.96l-1.37-1.37c-.4-.4-.92-.59-1.43-.59-.52 0-1.04.2-1.43.59L10.3 9.45l-7.72 7.72c-.78.78-.78 2.05 0 2.83L4 21.41c.39.39.9.59 1.41.59.51 0 1.02-.2 1.41-.59l7.78-7.78 2.81-2.81c.8-.78.8-2.07 0-2.86zM5.41 20L4 18.59l7.72-7.72 1.47 1.35L5.41 20z\"/>\n",
              "  </svg>\n",
              "      </button>\n",
              "      \n",
              "  <style>\n",
              "    .colab-df-container {\n",
              "      display:flex;\n",
              "      flex-wrap:wrap;\n",
              "      gap: 12px;\n",
              "    }\n",
              "\n",
              "    .colab-df-convert {\n",
              "      background-color: #E8F0FE;\n",
              "      border: none;\n",
              "      border-radius: 50%;\n",
              "      cursor: pointer;\n",
              "      display: none;\n",
              "      fill: #1967D2;\n",
              "      height: 32px;\n",
              "      padding: 0 0 0 0;\n",
              "      width: 32px;\n",
              "    }\n",
              "\n",
              "    .colab-df-convert:hover {\n",
              "      background-color: #E2EBFA;\n",
              "      box-shadow: 0px 1px 2px rgba(60, 64, 67, 0.3), 0px 1px 3px 1px rgba(60, 64, 67, 0.15);\n",
              "      fill: #174EA6;\n",
              "    }\n",
              "\n",
              "    [theme=dark] .colab-df-convert {\n",
              "      background-color: #3B4455;\n",
              "      fill: #D2E3FC;\n",
              "    }\n",
              "\n",
              "    [theme=dark] .colab-df-convert:hover {\n",
              "      background-color: #434B5C;\n",
              "      box-shadow: 0px 1px 3px 1px rgba(0, 0, 0, 0.15);\n",
              "      filter: drop-shadow(0px 1px 2px rgba(0, 0, 0, 0.3));\n",
              "      fill: #FFFFFF;\n",
              "    }\n",
              "  </style>\n",
              "\n",
              "      <script>\n",
              "        const buttonEl =\n",
              "          document.querySelector('#df-97a8b79f-af95-45b4-9eb5-d934f4d253ba button.colab-df-convert');\n",
              "        buttonEl.style.display =\n",
              "          google.colab.kernel.accessAllowed ? 'block' : 'none';\n",
              "\n",
              "        async function convertToInteractive(key) {\n",
              "          const element = document.querySelector('#df-97a8b79f-af95-45b4-9eb5-d934f4d253ba');\n",
              "          const dataTable =\n",
              "            await google.colab.kernel.invokeFunction('convertToInteractive',\n",
              "                                                     [key], {});\n",
              "          if (!dataTable) return;\n",
              "\n",
              "          const docLinkHtml = 'Like what you see? Visit the ' +\n",
              "            '<a target=\"_blank\" href=https://colab.research.google.com/notebooks/data_table.ipynb>data table notebook</a>'\n",
              "            + ' to learn more about interactive tables.';\n",
              "          element.innerHTML = '';\n",
              "          dataTable['output_type'] = 'display_data';\n",
              "          await google.colab.output.renderOutput(dataTable, element);\n",
              "          const docLink = document.createElement('div');\n",
              "          docLink.innerHTML = docLinkHtml;\n",
              "          element.appendChild(docLink);\n",
              "        }\n",
              "      </script>\n",
              "    </div>\n",
              "  </div>\n",
              "  "
            ]
          },
          "metadata": {},
          "execution_count": 26
        }
      ]
    },
    {
      "cell_type": "markdown",
      "source": [
        "¿Existe una asociación entre la presión arterial sistólica y la edad, después de ajustar los factores de confusión relevantes?\n",
        "\n",
        "Antes de ejecutar los números tenemos que definir una hipótesis nula y una hipótesis alternativa:\n",
        "\n",
        "Hipótesis nula (H0): NO existe asociación entre la PAS y la edad (considerando los factores de confusión elegidos);\n",
        "Alternative hypothesis (H1): There is an association between sBP and age (considering the chosen confounders).\n"
      ],
      "metadata": {
        "id": "v7W9RRF3kAHI"
      }
    },
    {
      "cell_type": "code",
      "source": [
        "model1 = smf.ols(formula='sysBP ~ age', data=df).fit() \n",
        "print(model1.summary())\n"
      ],
      "metadata": {
        "id": "QhkBejALm9gY",
        "outputId": "b39c573e-24a2-40e4-bbb7-2101bbc2c8a6",
        "colab": {
          "base_uri": "https://localhost:8080/"
        }
      },
      "execution_count": 27,
      "outputs": [
        {
          "output_type": "stream",
          "name": "stdout",
          "text": [
            "                            OLS Regression Results                            \n",
            "==============================================================================\n",
            "Dep. Variable:                  sysBP   R-squared:                       0.155\n",
            "Model:                            OLS   Adj. R-squared:                  0.155\n",
            "Method:                 Least Squares   F-statistic:                     779.0\n",
            "Date:                Thu, 16 Feb 2023   Prob (F-statistic):          1.58e-157\n",
            "Time:                        17:51:39   Log-Likelihood:                -18770.\n",
            "No. Observations:                4240   AIC:                         3.754e+04\n",
            "Df Residuals:                    4238   BIC:                         3.756e+04\n",
            "Df Model:                           1                                         \n",
            "Covariance Type:            nonrobust                                         \n",
            "==============================================================================\n",
            "                 coef    std err          t      P>|t|      [0.025      0.975]\n",
            "------------------------------------------------------------------------------\n",
            "Intercept     82.1420      1.826     44.992      0.000      78.563      85.721\n",
            "age            1.0128      0.036     27.911      0.000       0.942       1.084\n",
            "==============================================================================\n",
            "Omnibus:                      669.703   Durbin-Watson:                   1.970\n",
            "Prob(Omnibus):                  0.000   Jarque-Bera (JB):             1392.384\n",
            "Skew:                           0.944   Prob(JB):                    4.44e-303\n",
            "Kurtosis:                       5.078   Cond. No.                         295.\n",
            "==============================================================================\n",
            "\n",
            "Notes:\n",
            "[1] Standard Errors assume that the covariance matrix of the errors is correctly specified.\n"
          ]
        }
      ]
    },
    {
      "cell_type": "markdown",
      "source": [
        "R-cuadrado = 0.155, lo que significa el modelo explica el 16 % de la variabilidad de los resultados. El R-cuadrado varía de 0 a 1 y mide qué tan cerca están los datos de la línea de regresión ajustada. En otras palabras, indica con %, la variabilidad del resultado (datos de respuesta) es explicada por el modelo;\n",
        "El valor F-statistic se utiliza para calcular el valor p del modelo, Prob (F-statistic), que aquí es <0,05. Esto también nos dice que Python está usando una prueba ANOVA, lo que implica una distribución F.\n",
        "\n",
        "\n",
        " Los resultados de nuestro estudio muestran una asociación positiva entre nuestro resultado, la presión arterial sistólica (sysbp), y la variable independiente, edad (encontrada en la primera columna de nuestros resultados). El coeficiente beta para esta asociación fue de 1.0128 (encontrado en la segunda columna), con un error estándar de 0.036 (encontrado en la tercera columna), y una relación t (para una distribución t) de 27.911 (encontrado en la cuarta columna). Esto da un valor p <0.001 (encontrado en la quinta columna), con un intervalo de confianza del 95% para el coeficiente beta entre 0.942 (límite inferior, encontrado en la sexta columna) y 1.084 (límite superior, encontrado en la séptima columna).\n",
        "\n",
        "En conclusión, debido a que el valor p es menor a 0.05 y el intervalo de confianza del 95% no incluye un coeficiente beta igual a 0.0, podemos rechazar la hipótesis nula de no asociación entre la edad y la presión arterial sistólica. Esto indica que existe una relación positiva (coeficiente beta > 1,0) entre la edad y la presión arterial sistólica, que resulta ser estadísticamente significativa."
      ],
      "metadata": {
        "id": "I4LQpFiiW1kh"
      }
    },
    {
      "cell_type": "markdown",
      "source": [
        "### Regresion Lineal Multiple.\n"
      ],
      "metadata": {
        "id": "91568662bIvA"
      }
    },
    {
      "cell_type": "code",
      "source": [
        "#Creamos una columna categorica, para sexo.\n",
        "df[\"male\"]=(df[\"Sex\"]==\"male\").astype(int)"
      ],
      "metadata": {
        "id": "v9if-MiwcP0L"
      },
      "execution_count": 51,
      "outputs": []
    },
    {
      "cell_type": "code",
      "source": [
        "model2 = smf.ols(formula='sysBP ~ age  + education + male + cigsPerDay + BPMeds + totChol', data=df).fit()\n",
        "print(model2.summary())"
      ],
      "metadata": {
        "id": "A4t0beZUnCmk",
        "colab": {
          "base_uri": "https://localhost:8080/"
        },
        "outputId": "19299e13-080d-427d-fd77-332401c1b625"
      },
      "execution_count": 53,
      "outputs": [
        {
          "output_type": "stream",
          "name": "stdout",
          "text": [
            "                            OLS Regression Results                            \n",
            "==============================================================================\n",
            "Dep. Variable:                  sysBP   R-squared:                       0.213\n",
            "Model:                            OLS   Adj. R-squared:                  0.212\n",
            "Method:                 Least Squares   F-statistic:                     180.3\n",
            "Date:                Thu, 16 Feb 2023   Prob (F-statistic):          1.24e-203\n",
            "Time:                        18:23:19   Log-Likelihood:                -17596.\n",
            "No. Observations:                4007   AIC:                         3.521e+04\n",
            "Df Residuals:                    4000   BIC:                         3.525e+04\n",
            "Df Model:                           6                                         \n",
            "Covariance Type:            nonrobust                                         \n",
            "==============================================================================\n",
            "                 coef    std err          t      P>|t|      [0.025      0.975]\n",
            "------------------------------------------------------------------------------\n",
            "Intercept     81.1446      2.449     33.137      0.000      76.344      85.946\n",
            "age            0.8289      0.039     21.241      0.000       0.752       0.905\n",
            "education     -1.6076      0.307     -5.234      0.000      -2.210      -1.005\n",
            "male          -0.0814      0.663     -0.123      0.902      -1.381       1.219\n",
            "cigsPerDay    -0.0230      0.028     -0.821      0.411      -0.078       0.032\n",
            "BPMeds        26.7662      1.847     14.490      0.000      23.145      30.388\n",
            "totChol        0.0538      0.007      7.358      0.000       0.040       0.068\n",
            "==============================================================================\n",
            "Omnibus:                      651.685   Durbin-Watson:                   1.984\n",
            "Prob(Omnibus):                  0.000   Jarque-Bera (JB):             1440.931\n",
            "Skew:                           0.945   Prob(JB):                         0.00\n",
            "Kurtosis:                       5.249   Cond. No.                     1.96e+03\n",
            "==============================================================================\n",
            "\n",
            "Notes:\n",
            "[1] Standard Errors assume that the covariance matrix of the errors is correctly specified.\n",
            "[2] The condition number is large, 1.96e+03. This might indicate that there are\n",
            "strong multicollinearity or other numerical problems.\n"
          ]
        }
      ]
    },
    {
      "cell_type": "markdown",
      "source": [
        "Tenemos que estratificar las variables."
      ],
      "metadata": {
        "id": "rZ3Ha5FCd7ZN"
      }
    },
    {
      "cell_type": "code",
      "source": [
        "model3 = smf.ols(formula='sysBP ~ age + male + C(education) + cigsPerDay + BPMeds + totChol', data=df).fit()\n",
        "print(model3.summary())\n"
      ],
      "metadata": {
        "colab": {
          "base_uri": "https://localhost:8080/"
        },
        "id": "TvM7cEQ9eD4_",
        "outputId": "2ffba6f9-2ed8-4375-e810-c38b7f3b3baa"
      },
      "execution_count": 54,
      "outputs": [
        {
          "output_type": "stream",
          "name": "stdout",
          "text": [
            "                            OLS Regression Results                            \n",
            "==============================================================================\n",
            "Dep. Variable:                  sysBP   R-squared:                       0.213\n",
            "Model:                            OLS   Adj. R-squared:                  0.212\n",
            "Method:                 Least Squares   F-statistic:                     135.4\n",
            "Date:                Thu, 16 Feb 2023   Prob (F-statistic):          9.75e-202\n",
            "Time:                        18:24:28   Log-Likelihood:                -17595.\n",
            "No. Observations:                4007   AIC:                         3.521e+04\n",
            "Df Residuals:                    3998   BIC:                         3.526e+04\n",
            "Df Model:                           8                                         \n",
            "Covariance Type:            nonrobust                                         \n",
            "=======================================================================================\n",
            "                          coef    std err          t      P>|t|      [0.025      0.975]\n",
            "---------------------------------------------------------------------------------------\n",
            "Intercept              79.0066      2.416     32.700      0.000      74.270      83.744\n",
            "C(education)[T.2.0]    -0.8474      0.760     -1.115      0.265      -2.338       0.643\n",
            "C(education)[T.3.0]    -3.5724      0.907     -3.937      0.000      -5.351      -1.794\n",
            "C(education)[T.4.0]    -4.5333      1.043     -4.348      0.000      -6.577      -2.489\n",
            "age                     0.8365      0.040     21.108      0.000       0.759       0.914\n",
            "male                   -0.0871      0.670     -0.130      0.897      -1.401       1.226\n",
            "cigsPerDay             -0.0238      0.028     -0.849      0.396      -0.079       0.031\n",
            "BPMeds                 26.6926      1.848     14.443      0.000      23.069      30.316\n",
            "totChol                 0.0537      0.007      7.333      0.000       0.039       0.068\n",
            "==============================================================================\n",
            "Omnibus:                      652.299   Durbin-Watson:                   1.983\n",
            "Prob(Omnibus):                  0.000   Jarque-Bera (JB):             1444.451\n",
            "Skew:                           0.945   Prob(JB):                         0.00\n",
            "Kurtosis:                       5.253   Cond. No.                     1.96e+03\n",
            "==============================================================================\n",
            "\n",
            "Notes:\n",
            "[1] Standard Errors assume that the covariance matrix of the errors is correctly specified.\n",
            "[2] The condition number is large, 1.96e+03. This might indicate that there are\n",
            "strong multicollinearity or other numerical problems.\n"
          ]
        }
      ]
    },
    {
      "cell_type": "markdown",
      "source": [
        "Los resultados de nuestro estudio muestran que la hipótesis nula de que no hay asociación lineal entre la edad y la presión arterial sistólica (sysbp), cuando se controla por género, educación, tabaquismo, ingesta de antihipertensivos y colesterol total (es decir, cuando se controla por todas las demás covariables presentes en el modelo), se rechaza. Esto indica que existe una relación lineal positiva entre la edad y la presión arterial sistólica, que resulta ser estadísticamente significativa. Además, el coeficiente beta para esta asociación fue de 1,0128 con un intervalo de confianza del 95% para el coeficiente beta entre 0,942 (límite inferior) y 1,084 (límite superior). Esto significa que para cada unidad de aumento en la edad, la presión arterial sistólica promedio aumenta en +0.84mmHg.\n",
        "\n",
        "Existe un patrón importante relativo a los valores p y los intervalos de confianza del 95%. Cuando el valor p es menor que 0,05, el intervalo de confianza del 95% no incluye un coeficiente beta igual a 0,0. Por el contrario, cuando el valor p es mayor o igual que 0,05, el intervalo de confianza del 95% incluye un coeficiente beta igual a 0,0."
      ],
      "metadata": {
        "id": "Is2Y4goWfSyF"
      }
    },
    {
      "cell_type": "code",
      "source": [],
      "metadata": {
        "id": "H2K2qw9qeHoX"
      },
      "execution_count": null,
      "outputs": []
    },
    {
      "cell_type": "markdown",
      "source": [],
      "metadata": {
        "id": "bJO9IQmbfau_"
      }
    },
    {
      "cell_type": "code",
      "source": [],
      "metadata": {
        "id": "XBBcW9GIfaiu"
      },
      "execution_count": null,
      "outputs": []
    },
    {
      "cell_type": "code",
      "source": [],
      "metadata": {
        "id": "RLzgW7o9faWv"
      },
      "execution_count": null,
      "outputs": []
    },
    {
      "cell_type": "markdown",
      "source": [
        "# Actividad."
      ],
      "metadata": {
        "id": "lJBust3ufbhP"
      }
    },
    {
      "cell_type": "markdown",
      "source": [
        "En el conjunto de datos de panel, se utilizan las siguientes variables: \n",
        "* I (aerolínea), \n",
        "* T (año), \n",
        "* PF (precio de combustible), \n",
        "* LF (factor de carga, el promedio de la utilización de la capacidad de la flota), \n",
        "* Q (salida, en millas de pasajero de ingresos, índice numérico)  \n",
        "* C (costo total, en $1000). \n",
        "\n",
        "El conjunto de datos contiene 90 observaciones de 6 compañías de aerolíneas desde 1970 a 1984. \n",
        "\n"
      ],
      "metadata": {
        "id": "JBBM_6W5iKfc"
      }
    },
    {
      "cell_type": "markdown",
      "source": [
        "### Descricpcion de los datos\n",
        "En el conjunto de datos de panel, se observan los siguientes datos para las 6 aerolíneas a lo largo de los 15 años de 1970 a 1984. \n",
        "\n",
        "El precio del combustible (PF) es un índice y los precios de los datos muestran el precio promedio global pagado en la refinería por el combustible para aviación jet en la fecha informada. \n",
        "\n",
        "El factor de carga (LF) es una medida de cuánta capacidad de carga de pasajeros ha utilizado una aerolínea. Esto depende generalmente de la capacidad de asientos de vuelo, la ruta de la aerolínea, la demanda, etc. \n",
        "\n",
        "Las millas de pasajero de ingresos (Q) es una métrica de la industria de transporte que muestra el número de millas recorridas por los pasajeros que pagan y suele ser una estadística de tráfico de aerolíneas. \n",
        "\n",
        "El costo (C) depende de diversos factores, incluido el precio del combustible, el factor de carga, la depreciación y el arrendamiento, el mantenimiento de aeronaves, el trabajo y los cargos de manejo de aeropuertos."
      ],
      "metadata": {
        "id": "6fZ4BJkWjF-n"
      }
    },
    {
      "cell_type": "code",
      "source": [
        "#df= pd.read_csv(\"https://raw.githubusercontent.com/sharop/CD3001B/main/clase_1/PanelData.csv\")\n",
        "df = pd.read_csv(\"http://web.pdx.edu/~crkl/ceR/data/airline.txt\", sep='\\s+', nrows=90)\n"
      ],
      "metadata": {
        "id": "prRD6g8KgGXy"
      },
      "execution_count": 217,
      "outputs": []
    },
    {
      "cell_type": "code",
      "source": [
        "df.head()"
      ],
      "metadata": {
        "colab": {
          "base_uri": "https://localhost:8080/",
          "height": 204
        },
        "id": "ZL22jSgukPcC",
        "outputId": "f4b13a94-a7b9-43d7-d8e1-a06853151dd4"
      },
      "execution_count": 218,
      "outputs": [
        {
          "output_type": "execute_result",
          "data": {
            "text/plain": [
              "   I  T        C         Q      PF        LF\n",
              "0  1  1  1140640  0.952757  106650  0.534487\n",
              "1  1  2  1215690  0.986757  110307  0.532328\n",
              "2  1  3  1309570  1.091980  110574  0.547736\n",
              "3  1  4  1511530  1.175780  121974  0.540846\n",
              "4  1  5  1676730  1.160170  196606  0.591167"
            ],
            "text/html": [
              "\n",
              "  <div id=\"df-2084d1d1-166a-45ff-8294-38d1da1fad83\">\n",
              "    <div class=\"colab-df-container\">\n",
              "      <div>\n",
              "<style scoped>\n",
              "    .dataframe tbody tr th:only-of-type {\n",
              "        vertical-align: middle;\n",
              "    }\n",
              "\n",
              "    .dataframe tbody tr th {\n",
              "        vertical-align: top;\n",
              "    }\n",
              "\n",
              "    .dataframe thead th {\n",
              "        text-align: right;\n",
              "    }\n",
              "</style>\n",
              "<table border=\"1\" class=\"dataframe\">\n",
              "  <thead>\n",
              "    <tr style=\"text-align: right;\">\n",
              "      <th></th>\n",
              "      <th>I</th>\n",
              "      <th>T</th>\n",
              "      <th>C</th>\n",
              "      <th>Q</th>\n",
              "      <th>PF</th>\n",
              "      <th>LF</th>\n",
              "    </tr>\n",
              "  </thead>\n",
              "  <tbody>\n",
              "    <tr>\n",
              "      <th>0</th>\n",
              "      <td>1</td>\n",
              "      <td>1</td>\n",
              "      <td>1140640</td>\n",
              "      <td>0.952757</td>\n",
              "      <td>106650</td>\n",
              "      <td>0.534487</td>\n",
              "    </tr>\n",
              "    <tr>\n",
              "      <th>1</th>\n",
              "      <td>1</td>\n",
              "      <td>2</td>\n",
              "      <td>1215690</td>\n",
              "      <td>0.986757</td>\n",
              "      <td>110307</td>\n",
              "      <td>0.532328</td>\n",
              "    </tr>\n",
              "    <tr>\n",
              "      <th>2</th>\n",
              "      <td>1</td>\n",
              "      <td>3</td>\n",
              "      <td>1309570</td>\n",
              "      <td>1.091980</td>\n",
              "      <td>110574</td>\n",
              "      <td>0.547736</td>\n",
              "    </tr>\n",
              "    <tr>\n",
              "      <th>3</th>\n",
              "      <td>1</td>\n",
              "      <td>4</td>\n",
              "      <td>1511530</td>\n",
              "      <td>1.175780</td>\n",
              "      <td>121974</td>\n",
              "      <td>0.540846</td>\n",
              "    </tr>\n",
              "    <tr>\n",
              "      <th>4</th>\n",
              "      <td>1</td>\n",
              "      <td>5</td>\n",
              "      <td>1676730</td>\n",
              "      <td>1.160170</td>\n",
              "      <td>196606</td>\n",
              "      <td>0.591167</td>\n",
              "    </tr>\n",
              "  </tbody>\n",
              "</table>\n",
              "</div>\n",
              "      <button class=\"colab-df-convert\" onclick=\"convertToInteractive('df-2084d1d1-166a-45ff-8294-38d1da1fad83')\"\n",
              "              title=\"Convert this dataframe to an interactive table.\"\n",
              "              style=\"display:none;\">\n",
              "        \n",
              "  <svg xmlns=\"http://www.w3.org/2000/svg\" height=\"24px\"viewBox=\"0 0 24 24\"\n",
              "       width=\"24px\">\n",
              "    <path d=\"M0 0h24v24H0V0z\" fill=\"none\"/>\n",
              "    <path d=\"M18.56 5.44l.94 2.06.94-2.06 2.06-.94-2.06-.94-.94-2.06-.94 2.06-2.06.94zm-11 1L8.5 8.5l.94-2.06 2.06-.94-2.06-.94L8.5 2.5l-.94 2.06-2.06.94zm10 10l.94 2.06.94-2.06 2.06-.94-2.06-.94-.94-2.06-.94 2.06-2.06.94z\"/><path d=\"M17.41 7.96l-1.37-1.37c-.4-.4-.92-.59-1.43-.59-.52 0-1.04.2-1.43.59L10.3 9.45l-7.72 7.72c-.78.78-.78 2.05 0 2.83L4 21.41c.39.39.9.59 1.41.59.51 0 1.02-.2 1.41-.59l7.78-7.78 2.81-2.81c.8-.78.8-2.07 0-2.86zM5.41 20L4 18.59l7.72-7.72 1.47 1.35L5.41 20z\"/>\n",
              "  </svg>\n",
              "      </button>\n",
              "      \n",
              "  <style>\n",
              "    .colab-df-container {\n",
              "      display:flex;\n",
              "      flex-wrap:wrap;\n",
              "      gap: 12px;\n",
              "    }\n",
              "\n",
              "    .colab-df-convert {\n",
              "      background-color: #E8F0FE;\n",
              "      border: none;\n",
              "      border-radius: 50%;\n",
              "      cursor: pointer;\n",
              "      display: none;\n",
              "      fill: #1967D2;\n",
              "      height: 32px;\n",
              "      padding: 0 0 0 0;\n",
              "      width: 32px;\n",
              "    }\n",
              "\n",
              "    .colab-df-convert:hover {\n",
              "      background-color: #E2EBFA;\n",
              "      box-shadow: 0px 1px 2px rgba(60, 64, 67, 0.3), 0px 1px 3px 1px rgba(60, 64, 67, 0.15);\n",
              "      fill: #174EA6;\n",
              "    }\n",
              "\n",
              "    [theme=dark] .colab-df-convert {\n",
              "      background-color: #3B4455;\n",
              "      fill: #D2E3FC;\n",
              "    }\n",
              "\n",
              "    [theme=dark] .colab-df-convert:hover {\n",
              "      background-color: #434B5C;\n",
              "      box-shadow: 0px 1px 3px 1px rgba(0, 0, 0, 0.15);\n",
              "      filter: drop-shadow(0px 1px 2px rgba(0, 0, 0, 0.3));\n",
              "      fill: #FFFFFF;\n",
              "    }\n",
              "  </style>\n",
              "\n",
              "      <script>\n",
              "        const buttonEl =\n",
              "          document.querySelector('#df-2084d1d1-166a-45ff-8294-38d1da1fad83 button.colab-df-convert');\n",
              "        buttonEl.style.display =\n",
              "          google.colab.kernel.accessAllowed ? 'block' : 'none';\n",
              "\n",
              "        async function convertToInteractive(key) {\n",
              "          const element = document.querySelector('#df-2084d1d1-166a-45ff-8294-38d1da1fad83');\n",
              "          const dataTable =\n",
              "            await google.colab.kernel.invokeFunction('convertToInteractive',\n",
              "                                                     [key], {});\n",
              "          if (!dataTable) return;\n",
              "\n",
              "          const docLinkHtml = 'Like what you see? Visit the ' +\n",
              "            '<a target=\"_blank\" href=https://colab.research.google.com/notebooks/data_table.ipynb>data table notebook</a>'\n",
              "            + ' to learn more about interactive tables.';\n",
              "          element.innerHTML = '';\n",
              "          dataTable['output_type'] = 'display_data';\n",
              "          await google.colab.output.renderOutput(dataTable, element);\n",
              "          const docLink = document.createElement('div');\n",
              "          docLink.innerHTML = docLinkHtml;\n",
              "          element.appendChild(docLink);\n",
              "        }\n",
              "      </script>\n",
              "    </div>\n",
              "  </div>\n",
              "  "
            ]
          },
          "metadata": {},
          "execution_count": 218
        }
      ]
    },
    {
      "cell_type": "markdown",
      "source": [
        "* ¿Es un panel balanceado?\n",
        "* ¿Es un panel corto o largo?"
      ],
      "metadata": {
        "id": "kbccc-Rbka1P"
      }
    },
    {
      "cell_type": "code",
      "source": [
        "df.corr()"
      ],
      "metadata": {
        "colab": {
          "base_uri": "https://localhost:8080/",
          "height": 235
        },
        "id": "Ljxly7SzgsNt",
        "outputId": "d9b4ed6c-9833-489c-bc2b-39ab364df56a"
      },
      "execution_count": 219,
      "outputs": [
        {
          "output_type": "execute_result",
          "data": {
            "text/plain": [
              "               I             T         C         Q        PF        LF\n",
              "I   1.000000e+00  3.744889e-17 -0.708624 -0.867936  0.013294 -0.339957\n",
              "T   3.744889e-17  1.000000e+00  0.500027  0.271114  0.931188  0.600149\n",
              "C  -7.086242e-01  5.000271e-01  1.000000  0.926327  0.479044  0.414338\n",
              "Q  -8.679359e-01  2.711141e-01  0.926327  1.000000  0.227612  0.424810\n",
              "PF  1.329393e-02  9.311876e-01  0.479044  0.227612  1.000000  0.486700\n",
              "LF -3.399570e-01  6.001491e-01  0.414338  0.424810  0.486700  1.000000"
            ],
            "text/html": [
              "\n",
              "  <div id=\"df-8435318c-9f90-4cda-9c1a-f16f4fb958fd\">\n",
              "    <div class=\"colab-df-container\">\n",
              "      <div>\n",
              "<style scoped>\n",
              "    .dataframe tbody tr th:only-of-type {\n",
              "        vertical-align: middle;\n",
              "    }\n",
              "\n",
              "    .dataframe tbody tr th {\n",
              "        vertical-align: top;\n",
              "    }\n",
              "\n",
              "    .dataframe thead th {\n",
              "        text-align: right;\n",
              "    }\n",
              "</style>\n",
              "<table border=\"1\" class=\"dataframe\">\n",
              "  <thead>\n",
              "    <tr style=\"text-align: right;\">\n",
              "      <th></th>\n",
              "      <th>I</th>\n",
              "      <th>T</th>\n",
              "      <th>C</th>\n",
              "      <th>Q</th>\n",
              "      <th>PF</th>\n",
              "      <th>LF</th>\n",
              "    </tr>\n",
              "  </thead>\n",
              "  <tbody>\n",
              "    <tr>\n",
              "      <th>I</th>\n",
              "      <td>1.000000e+00</td>\n",
              "      <td>3.744889e-17</td>\n",
              "      <td>-0.708624</td>\n",
              "      <td>-0.867936</td>\n",
              "      <td>0.013294</td>\n",
              "      <td>-0.339957</td>\n",
              "    </tr>\n",
              "    <tr>\n",
              "      <th>T</th>\n",
              "      <td>3.744889e-17</td>\n",
              "      <td>1.000000e+00</td>\n",
              "      <td>0.500027</td>\n",
              "      <td>0.271114</td>\n",
              "      <td>0.931188</td>\n",
              "      <td>0.600149</td>\n",
              "    </tr>\n",
              "    <tr>\n",
              "      <th>C</th>\n",
              "      <td>-7.086242e-01</td>\n",
              "      <td>5.000271e-01</td>\n",
              "      <td>1.000000</td>\n",
              "      <td>0.926327</td>\n",
              "      <td>0.479044</td>\n",
              "      <td>0.414338</td>\n",
              "    </tr>\n",
              "    <tr>\n",
              "      <th>Q</th>\n",
              "      <td>-8.679359e-01</td>\n",
              "      <td>2.711141e-01</td>\n",
              "      <td>0.926327</td>\n",
              "      <td>1.000000</td>\n",
              "      <td>0.227612</td>\n",
              "      <td>0.424810</td>\n",
              "    </tr>\n",
              "    <tr>\n",
              "      <th>PF</th>\n",
              "      <td>1.329393e-02</td>\n",
              "      <td>9.311876e-01</td>\n",
              "      <td>0.479044</td>\n",
              "      <td>0.227612</td>\n",
              "      <td>1.000000</td>\n",
              "      <td>0.486700</td>\n",
              "    </tr>\n",
              "    <tr>\n",
              "      <th>LF</th>\n",
              "      <td>-3.399570e-01</td>\n",
              "      <td>6.001491e-01</td>\n",
              "      <td>0.414338</td>\n",
              "      <td>0.424810</td>\n",
              "      <td>0.486700</td>\n",
              "      <td>1.000000</td>\n",
              "    </tr>\n",
              "  </tbody>\n",
              "</table>\n",
              "</div>\n",
              "      <button class=\"colab-df-convert\" onclick=\"convertToInteractive('df-8435318c-9f90-4cda-9c1a-f16f4fb958fd')\"\n",
              "              title=\"Convert this dataframe to an interactive table.\"\n",
              "              style=\"display:none;\">\n",
              "        \n",
              "  <svg xmlns=\"http://www.w3.org/2000/svg\" height=\"24px\"viewBox=\"0 0 24 24\"\n",
              "       width=\"24px\">\n",
              "    <path d=\"M0 0h24v24H0V0z\" fill=\"none\"/>\n",
              "    <path d=\"M18.56 5.44l.94 2.06.94-2.06 2.06-.94-2.06-.94-.94-2.06-.94 2.06-2.06.94zm-11 1L8.5 8.5l.94-2.06 2.06-.94-2.06-.94L8.5 2.5l-.94 2.06-2.06.94zm10 10l.94 2.06.94-2.06 2.06-.94-2.06-.94-.94-2.06-.94 2.06-2.06.94z\"/><path d=\"M17.41 7.96l-1.37-1.37c-.4-.4-.92-.59-1.43-.59-.52 0-1.04.2-1.43.59L10.3 9.45l-7.72 7.72c-.78.78-.78 2.05 0 2.83L4 21.41c.39.39.9.59 1.41.59.51 0 1.02-.2 1.41-.59l7.78-7.78 2.81-2.81c.8-.78.8-2.07 0-2.86zM5.41 20L4 18.59l7.72-7.72 1.47 1.35L5.41 20z\"/>\n",
              "  </svg>\n",
              "      </button>\n",
              "      \n",
              "  <style>\n",
              "    .colab-df-container {\n",
              "      display:flex;\n",
              "      flex-wrap:wrap;\n",
              "      gap: 12px;\n",
              "    }\n",
              "\n",
              "    .colab-df-convert {\n",
              "      background-color: #E8F0FE;\n",
              "      border: none;\n",
              "      border-radius: 50%;\n",
              "      cursor: pointer;\n",
              "      display: none;\n",
              "      fill: #1967D2;\n",
              "      height: 32px;\n",
              "      padding: 0 0 0 0;\n",
              "      width: 32px;\n",
              "    }\n",
              "\n",
              "    .colab-df-convert:hover {\n",
              "      background-color: #E2EBFA;\n",
              "      box-shadow: 0px 1px 2px rgba(60, 64, 67, 0.3), 0px 1px 3px 1px rgba(60, 64, 67, 0.15);\n",
              "      fill: #174EA6;\n",
              "    }\n",
              "\n",
              "    [theme=dark] .colab-df-convert {\n",
              "      background-color: #3B4455;\n",
              "      fill: #D2E3FC;\n",
              "    }\n",
              "\n",
              "    [theme=dark] .colab-df-convert:hover {\n",
              "      background-color: #434B5C;\n",
              "      box-shadow: 0px 1px 3px 1px rgba(0, 0, 0, 0.15);\n",
              "      filter: drop-shadow(0px 1px 2px rgba(0, 0, 0, 0.3));\n",
              "      fill: #FFFFFF;\n",
              "    }\n",
              "  </style>\n",
              "\n",
              "      <script>\n",
              "        const buttonEl =\n",
              "          document.querySelector('#df-8435318c-9f90-4cda-9c1a-f16f4fb958fd button.colab-df-convert');\n",
              "        buttonEl.style.display =\n",
              "          google.colab.kernel.accessAllowed ? 'block' : 'none';\n",
              "\n",
              "        async function convertToInteractive(key) {\n",
              "          const element = document.querySelector('#df-8435318c-9f90-4cda-9c1a-f16f4fb958fd');\n",
              "          const dataTable =\n",
              "            await google.colab.kernel.invokeFunction('convertToInteractive',\n",
              "                                                     [key], {});\n",
              "          if (!dataTable) return;\n",
              "\n",
              "          const docLinkHtml = 'Like what you see? Visit the ' +\n",
              "            '<a target=\"_blank\" href=https://colab.research.google.com/notebooks/data_table.ipynb>data table notebook</a>'\n",
              "            + ' to learn more about interactive tables.';\n",
              "          element.innerHTML = '';\n",
              "          dataTable['output_type'] = 'display_data';\n",
              "          await google.colab.output.renderOutput(dataTable, element);\n",
              "          const docLink = document.createElement('div');\n",
              "          docLink.innerHTML = docLinkHtml;\n",
              "          element.appendChild(docLink);\n",
              "        }\n",
              "      </script>\n",
              "    </div>\n",
              "  </div>\n",
              "  "
            ]
          },
          "metadata": {},
          "execution_count": 219
        }
      ]
    },
    {
      "cell_type": "code",
      "source": [
        "import seaborn as sns\n",
        "import matplotlib.pyplot as plt\n",
        "\n",
        "g = sns.clustermap(df.corr(), \n",
        "                   method = 'complete', \n",
        "                   cmap   = 'RdBu', \n",
        "                   annot  = True, \n",
        "                   annot_kws = {'size': 8})\n",
        "plt.setp(g.ax_heatmap.get_xticklabels(), rotation=60);"
      ],
      "metadata": {
        "colab": {
          "base_uri": "https://localhost:8080/",
          "height": 735
        },
        "id": "hu7dwxf5kTNF",
        "outputId": "6cfac375-8221-4565-dee3-5cf14e519556"
      },
      "execution_count": 220,
      "outputs": [
        {
          "output_type": "display_data",
          "data": {
            "text/plain": [
              "<Figure size 720x720 with 4 Axes>"
            ],
            "image/png": "[encoded data removed]"
          },
          "metadata": {
            "needs_background": "light"
          }
        }
      ]
    },
    {
      "cell_type": "markdown",
      "source": [
        "¿Que variables presentan la menor correlación y que variables representan la mayor correlación?"
      ],
      "metadata": {
        "id": "DusFDZLolPgq"
      }
    },
    {
      "cell_type": "markdown",
      "source": [
        "\n",
        "Interpreta los resultados, de los siguientes modelos.\n",
        "\n",
        "\n",
        "> Nota: ANOVA_LM es un método estadístico para examinar si hay diferencias significativas entre los promedios de dos o más grupos. Se puede usar para comparar el rendimiento de diferentes tratamientos o para evaluar la relación entre dos o más variables. Esta prueba estadística se basa en la varianza (varianza entre los grupos y varianza dentro de los grupos). ANOVA_LM calcula el valor F, que es una medida de la variabilidad entre los grupos en comparación con la variabilidad dentro de los grupos. Si el valor F es significativamente alto, esto indica que la diferencia entre los grupos es significativamente grande. Los valores de F se comparan con una distribución F conocida para determinar si la diferencia entre los grupos es estadísticamente significativa."
      ],
      "metadata": {
        "id": "B8HlOVRImZf0"
      }
    },
    {
      "cell_type": "code",
      "source": [
        "import numpy as np\n",
        "import pandas as pd\n",
        "import statsmodels.api as sm\n",
        "import statsmodels.formula.api as smf\n",
        "import matplotlib.pyplot as plt\n",
        "import linearmodels\n",
        "from statsmodels.sandbox.regression.predstd import wls_prediction_std\n",
        "from linearmodels import PanelOLS\n",
        "from statsmodels.stats.anova import anova_lm\n",
        "\n"
      ],
      "metadata": {
        "id": "VoRbQPqTn_fQ"
      },
      "execution_count": 226,
      "outputs": []
    },
    {
      "cell_type": "code",
      "source": [
        "#df.set_index([\"I\", \"T\"],inplace=True)\n",
        "#df['T'] = df['T']+2000"
      ],
      "metadata": {
        "id": "Jte6x7U-osdf"
      },
      "execution_count": 202,
      "outputs": []
    },
    {
      "cell_type": "code",
      "source": [
        "#df['T']=pd.to_datetime(df['T'], format='%Y')\n",
        "#df=df.set_index(['I','T'], append=True)\n",
        "#df.index = df.index.swaplevel(0,1)\n",
        "D = df['I'].astype('category')\n",
        "T = df['T'].astype('category')\n",
        "cs = np.log(df['C'])\n",
        "qs = np.log(df['Q'])\n",
        "pfs = np.log(df['PF'])\n",
        "lfs = df['LF'] # load factor, not logged\n",
        "df = pd.DataFrame({'D': D, 'T': T, \"cs\": cs, \"qs\": qs, \"pfs\": pfs, \"lfs\": lfs})\n"
      ],
      "metadata": {
        "id": "dtHPDetIuKX0"
      },
      "execution_count": 222,
      "outputs": []
    },
    {
      "cell_type": "code",
      "source": [
        "df.info()"
      ],
      "metadata": {
        "id": "ZBGpebUNzgjh",
        "outputId": "498a7fca-37d9-4790-fd68-a8a1d200cc5d",
        "colab": {
          "base_uri": "https://localhost:8080/"
        }
      },
      "execution_count": 223,
      "outputs": [
        {
          "output_type": "stream",
          "name": "stdout",
          "text": [
            "<class 'pandas.core.frame.DataFrame'>\n",
            "RangeIndex: 90 entries, 0 to 89\n",
            "Data columns (total 6 columns):\n",
            " #   Column  Non-Null Count  Dtype   \n",
            "---  ------  --------------  -----   \n",
            " 0   D       90 non-null     category\n",
            " 1   T       90 non-null     category\n",
            " 2   cs      90 non-null     float64 \n",
            " 3   qs      90 non-null     float64 \n",
            " 4   pfs     90 non-null     float64 \n",
            " 5   lfs     90 non-null     float64 \n",
            "dtypes: category(2), float64(4)\n",
            "memory usage: 4.0 KB\n"
          ]
        }
      ]
    },
    {
      "cell_type": "code",
      "source": [
        "# individual effects model\n",
        "model1 = sm.OLS.from_formula('cs ~ qs + pfs + lfs + D', df).fit()\n",
        "print(model1.summary())\n",
        "print(anova_lm(model1,typ=2))"
      ],
      "metadata": {
        "colab": {
          "base_uri": "https://localhost:8080/"
        },
        "id": "X9Nf3H_2mTCv",
        "outputId": "5a283f5f-5e93-4b32-efa8-00c52dfef2c3"
      },
      "execution_count": 227,
      "outputs": [
        {
          "output_type": "stream",
          "name": "stdout",
          "text": [
            "                            OLS Regression Results                            \n",
            "==============================================================================\n",
            "Dep. Variable:                     cs   R-squared:                       0.997\n",
            "Model:                            OLS   Adj. R-squared:                  0.997\n",
            "Method:                 Least Squares   F-statistic:                     3936.\n",
            "Date:                Thu, 16 Feb 2023   Prob (F-statistic):          1.51e-101\n",
            "Time:                        20:19:15   Log-Likelihood:                 130.09\n",
            "No. Observations:                  90   AIC:                            -242.2\n",
            "Df Residuals:                      81   BIC:                            -219.7\n",
            "Df Model:                           8                                         \n",
            "Covariance Type:            nonrobust                                         \n",
            "==============================================================================\n",
            "                 coef    std err          t      P>|t|      [0.025      0.975]\n",
            "------------------------------------------------------------------------------\n",
            "Intercept      9.7059      0.193     50.258      0.000       9.322      10.090\n",
            "D[T.2]        -0.0412      0.025     -1.637      0.105      -0.091       0.009\n",
            "D[T.3]        -0.2089      0.043     -4.881      0.000      -0.294      -0.124\n",
            "D[T.4]         0.1846      0.061      3.038      0.003       0.064       0.305\n",
            "D[T.5]         0.0241      0.080      0.301      0.764      -0.135       0.183\n",
            "D[T.6]         0.0871      0.084      1.034      0.304      -0.080       0.255\n",
            "qs             0.9193      0.030     30.756      0.000       0.860       0.979\n",
            "pfs            0.4175      0.015     27.468      0.000       0.387       0.448\n",
            "lfs           -1.0704      0.202     -5.307      0.000      -1.472      -0.669\n",
            "==============================================================================\n",
            "Omnibus:                        3.428   Durbin-Watson:                   1.026\n",
            "Prob(Omnibus):                  0.180   Jarque-Bera (JB):                2.719\n",
            "Skew:                           0.343   Prob(JB):                        0.257\n",
            "Kurtosis:                       3.505   Cond. No.                         504.\n",
            "==============================================================================\n",
            "\n",
            "Notes:\n",
            "[1] Standard Errors assume that the covariance matrix of the errors is correctly specified.\n",
            "            sum_sq    df           F        PR(>F)\n",
            "D         1.042820   5.0   57.732058  2.806934e-25\n",
            "qs        3.417185   1.0  945.902172  1.951945e-46\n",
            "pfs       2.725719   1.0  754.499339  8.370793e-43\n",
            "lfs       0.101752   1.0   28.165743  9.500253e-07\n",
            "Residual  0.292622  81.0         NaN           NaN\n"
          ]
        }
      ]
    },
    {
      "cell_type": "code",
      "source": [
        "# time effects model\n",
        "model2 = sm.OLS.from_formula('cs ~ qs + pfs + lfs + T', df).fit()\n",
        "print(model2.summary())\n",
        "print(anova_lm(model2,typ=2))\n"
      ],
      "metadata": {
        "id": "MRFduM9UsPjP",
        "outputId": "e8cfab2b-a18f-4840-9591-81c122eba079",
        "colab": {
          "base_uri": "https://localhost:8080/"
        }
      },
      "execution_count": 228,
      "outputs": [
        {
          "output_type": "stream",
          "name": "stdout",
          "text": [
            "                            OLS Regression Results                            \n",
            "==============================================================================\n",
            "Dep. Variable:                     cs   R-squared:                       0.990\n",
            "Model:                            OLS   Adj. R-squared:                  0.988\n",
            "Method:                 Least Squares   F-statistic:                     439.6\n",
            "Date:                Thu, 16 Feb 2023   Prob (F-statistic):           1.32e-65\n",
            "Time:                        20:20:20   Log-Likelihood:                 70.984\n",
            "No. Observations:                  90   AIC:                            -106.0\n",
            "Df Residuals:                      72   BIC:                            -60.97\n",
            "Df Model:                          17                                         \n",
            "Covariance Type:            nonrobust                                         \n",
            "==============================================================================\n",
            "                 coef    std err          t      P>|t|      [0.025      0.975]\n",
            "------------------------------------------------------------------------------\n",
            "Intercept     20.4958      4.210      4.869      0.000      12.104      28.887\n",
            "T[T.2]         0.0822      0.072      1.142      0.257      -0.061       0.226\n",
            "T[T.3]         0.1599      0.075      2.144      0.035       0.011       0.309\n",
            "T[T.4]         0.2450      0.081      3.011      0.004       0.083       0.407\n",
            "T[T.5]         0.7040      0.243      2.903      0.005       0.221       1.188\n",
            "T[T.6]         0.9158      0.337      2.718      0.008       0.244       1.588\n",
            "T[T.7]         1.0075      0.369      2.730      0.008       0.272       1.743\n",
            "T[T.8]         1.1582      0.420      2.760      0.007       0.322       1.995\n",
            "T[T.9]         1.3338      0.454      2.937      0.004       0.428       2.239\n",
            "T[T.10]        1.6180      0.588      2.751      0.008       0.446       2.790\n",
            "T[T.11]        1.9695      0.744      2.647      0.010       0.487       3.453\n",
            "T[T.12]        2.1555      0.802      2.686      0.009       0.556       3.755\n",
            "T[T.13]        2.1208      0.780      2.719      0.008       0.566       3.676\n",
            "T[T.14]        2.0564      0.750      2.742      0.008       0.561       3.552\n",
            "T[T.15]        2.0410      0.735      2.778      0.007       0.576       3.506\n",
            "qs             0.8677      0.015     56.316      0.000       0.837       0.898\n",
            "pfs           -0.4845      0.364     -1.331      0.188      -1.210       0.241\n",
            "lfs           -1.9544      0.442     -4.418      0.000      -2.836      -1.073\n",
            "==============================================================================\n",
            "Omnibus:                        0.742   Durbin-Watson:                   0.236\n",
            "Prob(Omnibus):                  0.690   Jarque-Bera (JB):                0.292\n",
            "Skew:                           0.035   Prob(JB):                        0.864\n",
            "Kurtosis:                       3.270   Cond. No.                     4.64e+03\n",
            "==============================================================================\n",
            "\n",
            "Notes:\n",
            "[1] Standard Errors assume that the covariance matrix of the errors is correctly specified.\n",
            "[2] The condition number is large, 4.64e+03. This might indicate that there are\n",
            "strong multicollinearity or other numerical problems.\n",
            "             sum_sq    df            F        PR(>F)\n",
            "T          0.247251  14.0     1.168525  3.177793e-01\n",
            "qs        47.933025   1.0  3171.481787  2.780127e-61\n",
            "pfs        0.026759   1.0     1.770508  1.875181e-01\n",
            "lfs        0.294995   1.0    19.518270  3.447374e-05\n",
            "Residual   1.088191  72.0          NaN           NaN\n"
          ]
        }
      ]
    },
    {
      "cell_type": "markdown",
      "source": [],
      "metadata": {
        "id": "v14PjMAl5FsQ"
      }
    },
    {
      "cell_type": "markdown",
      "source": [
        "Con la información siguiente, escribe tus hallazgos.\n"
      ],
      "metadata": {
        "id": "2_UYm6gJ5PHJ"
      }
    },
    {
      "cell_type": "code",
      "source": [
        "# pooled model\n",
        "model = sm.OLS.from_formula('cs ~ qs + pfs + lfs', df).fit()\n",
        "print(model.summary())\n",
        "\n",
        "print(anova_lm(model,model1))\n",
        "print(anova_lm(model,model2))"
      ],
      "metadata": {
        "id": "Qu6qFQeIn9yY",
        "outputId": "45e4249a-868e-40a4-d1fd-c9181b278f0f",
        "colab": {
          "base_uri": "https://localhost:8080/"
        }
      },
      "execution_count": 229,
      "outputs": [
        {
          "output_type": "stream",
          "name": "stdout",
          "text": [
            "                            OLS Regression Results                            \n",
            "==============================================================================\n",
            "Dep. Variable:                     cs   R-squared:                       0.988\n",
            "Model:                            OLS   Adj. R-squared:                  0.988\n",
            "Method:                 Least Squares   F-statistic:                     2419.\n",
            "Date:                Thu, 16 Feb 2023   Prob (F-statistic):           6.59e-83\n",
            "Time:                        20:20:24   Log-Likelihood:                 61.770\n",
            "No. Observations:                  90   AIC:                            -115.5\n",
            "Df Residuals:                      86   BIC:                            -105.5\n",
            "Df Model:                           3                                         \n",
            "Covariance Type:            nonrobust                                         \n",
            "==============================================================================\n",
            "                 coef    std err          t      P>|t|      [0.025      0.975]\n",
            "------------------------------------------------------------------------------\n",
            "Intercept      9.5169      0.229     41.514      0.000       9.061       9.973\n",
            "qs             0.8827      0.013     66.599      0.000       0.856       0.909\n",
            "pfs            0.4540      0.020     22.359      0.000       0.414       0.494\n",
            "lfs           -1.6275      0.345     -4.713      0.000      -2.314      -0.941\n",
            "==============================================================================\n",
            "Omnibus:                        0.217   Durbin-Watson:                   0.383\n",
            "Prob(Omnibus):                  0.897   Jarque-Bera (JB):                0.270\n",
            "Skew:                          -0.113   Prob(JB):                        0.874\n",
            "Kurtosis:                       2.855   Cond. No.                         347.\n",
            "==============================================================================\n",
            "\n",
            "Notes:\n",
            "[1] Standard Errors assume that the covariance matrix of the errors is correctly specified.\n",
            "   df_resid       ssr  df_diff  ss_diff          F        Pr(>F)\n",
            "0      86.0  1.335442      0.0      NaN        NaN           NaN\n",
            "1      81.0  0.292622      5.0  1.04282  57.732058  2.806934e-25\n",
            "   df_resid       ssr  df_diff   ss_diff         F    Pr(>F)\n",
            "0      86.0  1.335442      0.0       NaN       NaN       NaN\n",
            "1      72.0  1.088191     14.0  0.247251  1.168525  0.317779\n"
          ]
        }
      ]
    },
    {
      "cell_type": "code",
      "source": [],
      "metadata": {
        "id": "xav_8W_jlOKN"
      },
      "execution_count": null,
      "outputs": []
    },
    {
      "cell_type": "code",
      "source": [],
      "metadata": {
        "id": "mzgJEvTZlJ0p"
      },
      "execution_count": null,
      "outputs": []
    },
    {
      "cell_type": "markdown",
      "source": [],
      "metadata": {
        "id": "Q1XguMJ-gEcl"
      }
    },
    {
      "cell_type": "markdown",
      "source": [
        "# Repaso\n",
        "\n",
        "Revision de resultados de MCO.\n",
        "\n"
      ],
      "metadata": {
        "id": "MdPCLciX6WXy"
      }
    },
    {
      "cell_type": "code",
      "source": [
        "%matplotlib inline"
      ],
      "metadata": {
        "id": "hW5moTZ262Uh"
      },
      "execution_count": 1,
      "outputs": []
    },
    {
      "cell_type": "code",
      "source": [
        "import matplotlib.pyplot as plt\n",
        "import numpy as np\n",
        "import pandas as pd\n",
        "import statsmodels.api as sm\n",
        "\n",
        "np.random.seed(9876789)\n"
      ],
      "metadata": {
        "id": "jC2-daCd69Mn"
      },
      "execution_count": 2,
      "outputs": []
    },
    {
      "cell_type": "markdown",
      "source": [
        "Generamos una muestra de datos."
      ],
      "metadata": {
        "id": "hFFLdAuv7JRA"
      }
    },
    {
      "cell_type": "code",
      "source": [
        "nsample = 100\n",
        "x = np.linspace(0, 10, 100)\n",
        "X = np.column_stack((x, x ** 2))\n",
        "beta = np.array([1, 0.1, 10]) \n",
        "e = np.random.normal(size=nsample) #Error"
      ],
      "metadata": {
        "id": "nsW2mtd2691j"
      },
      "execution_count": 5,
      "outputs": []
    },
    {
      "cell_type": "markdown",
      "source": [
        "Agregamos una columna de 1s como intercepto."
      ],
      "metadata": {
        "id": "eYJR5uR_7Rba"
      }
    },
    {
      "cell_type": "code",
      "source": [
        "X = sm.add_constant(X)\n",
        "y = np.dot(X, beta) + e"
      ],
      "metadata": {
        "id": "Th68B9R37N-i"
      },
      "execution_count": 6,
      "outputs": []
    },
    {
      "cell_type": "markdown",
      "source": [
        "Realizamos la regresios."
      ],
      "metadata": {
        "id": "1tKnN0468gg2"
      }
    },
    {
      "cell_type": "code",
      "source": [
        "model = sm.OLS(y, X)\n",
        "results = model.fit()\n",
        "print(results.summary())\n"
      ],
      "metadata": {
        "colab": {
          "base_uri": "https://localhost:8080/"
        },
        "id": "N4Z76ACm8NCG",
        "outputId": "b8395221-9ea2-4cb5-d6b9-a915ca6a8550"
      },
      "execution_count": 8,
      "outputs": [
        {
          "output_type": "stream",
          "name": "stdout",
          "text": [
            "                            OLS Regression Results                            \n",
            "==============================================================================\n",
            "Dep. Variable:                      y   R-squared:                       1.000\n",
            "Model:                            OLS   Adj. R-squared:                  1.000\n",
            "Method:                 Least Squares   F-statistic:                 5.083e+06\n",
            "Date:                Thu, 16 Feb 2023   Prob (F-statistic):          3.25e-244\n",
            "Time:                        15:57:30   Log-Likelihood:                -134.79\n",
            "No. Observations:                 100   AIC:                             275.6\n",
            "Df Residuals:                      97   BIC:                             283.4\n",
            "Df Model:                           2                                         \n",
            "Covariance Type:            nonrobust                                         \n",
            "==============================================================================\n",
            "                 coef    std err          t      P>|t|      [0.025      0.975]\n",
            "------------------------------------------------------------------------------\n",
            "const          1.1876      0.278      4.270      0.000       0.636       1.740\n",
            "x1             0.0675      0.129      0.525      0.601      -0.188       0.323\n",
            "x2            10.0009      0.012    803.987      0.000       9.976      10.026\n",
            "==============================================================================\n",
            "Omnibus:                        0.629   Durbin-Watson:                   2.451\n",
            "Prob(Omnibus):                  0.730   Jarque-Bera (JB):                0.766\n",
            "Skew:                          -0.151   Prob(JB):                        0.682\n",
            "Kurtosis:                       2.696   Cond. No.                         144.\n",
            "==============================================================================\n",
            "\n",
            "Notes:\n",
            "[1] Standard Errors assume that the covariance matrix of the errors is correctly specified.\n"
          ]
        }
      ]
    },
    {
      "cell_type": "code",
      "source": [
        "print(\"Parameters: \", results.params)\n",
        "print(\"R2: \", results.rsquared)"
      ],
      "metadata": {
        "colab": {
          "base_uri": "https://localhost:8080/"
        },
        "id": "gZDldPMb8UeW",
        "outputId": "146b7b51-0839-407e-803e-8e1c796a064d"
      },
      "execution_count": 9,
      "outputs": [
        {
          "output_type": "stream",
          "name": "stdout",
          "text": [
            "Parameters:  [ 1.1875799   0.06751355 10.00087227]\n",
            "R2:  0.9999904584846492\n"
          ]
        }
      ]
    },
    {
      "cell_type": "markdown",
      "source": [
        "* $R^2$ (coeficiente de determinación) y $R^2$ Ajustado. es el porcentaje de variación explicado por la relacion entre 2 variables. Es la porcion de la varianza que que ha sido explicada por variable independiente. Proporciona una buena idea del ajuste. Proporciona una medida de la probabilidad de que el modelo prediga muestras no vistas, a través de la proporción de la varianza explicada. Un modelo constante que prediga siempre el valor esperado de y, sin tener en cuenta las características de entrada, tendrá una puntuación $R^2$ de 0,0.\n",
        "Por ejemplo, si el $R^2$ es 0.90, significa que el modelo explica el 90% de la variación de la variable dependiente. Si el $R^2$ ajustado es 0.85, significa que el 85% de la variación de la variable dependiente se puede explicar por el modelo, teniendo en cuenta el número de variables independientes. Esta información es útil para evaluar si los resultados del modelo son significativos. \n",
        "Ahora supongamos que agregamos una variable independiente 'inutil', y vemos que la $R^2$ incrementa a 95%. Sucede que una limitación de $R^2$ es que aumenta al agregar variables independientes al modelo, lo cual es engañoso, ya que algunas variables agregadas pueden ser inútiles con una significación mínima. \n",
        "$R^2$ ajustado supera este problema agregando una penalización si intentamos agregar una variable independiente que no mejora el modelo.\n",
        "\n",
        "\n",
        "\n",
        "* **Log-likelihood** en una regresión ordinaria de mínimos cuadrados (OLS) representa el logaritmo de la probabilidad de que los datos observados sean generados por el modelo. Esto se calcula como el logaritmo del producto de las probabilidades individuales de que cada observación se genere por el modelo. Por ejemplo, considere un modelo OLS que estudia la relación entre dos variables dependiente (Y) e independiente (X). Para calcular el valor Log-likelihood para este modelo, se calcula el logaritmo del producto de las probabilidades individuales de que cada observación de Y se genere por el modelo.\n",
        "\n",
        "\n",
        "* F-statistic y Prob (F-statistic) son estadísticos que se utilizan para evaluar la significancia del modelo de regresión. El estadístico F se utiliza para evaluar si el modelo es significativo al comparar el $R^2$ con el $R^2$ ajustado. Esto se hace para tener en cuenta el número de variables independientes en el modelo. La probabilidad F (denotada como Prob (F-statistic)) es el valor p asociado con el estadístico F. Esto es, la probabilidad de que los resultados del modelo sean estadísticamente significativos. Por ejemplo, si el valor F-statistic es 10.85 y la Prob (F-statistic) es 0.001, significa que el modelo es estadísticamente significativo (el valor p es menor que 0.05). Esta información es útil para evaluar si los resultados del modelo son significativos. [referencia](https://youtu.be/Uh2ky5RXkeA)\n",
        "\n",
        "* El valor AIC (Akaike Information Criteria) y BIC (Bayesian Information Criteria) son estadísticos que se utilizan para evaluar la bondad de ajuste de un modelo de regresión OLS. El valor AIC es una medida de la bondad del ajuste del modelo que toma en cuenta la complejidad del modelo. Por otro lado, el valor BIC es una medida de la bondad del ajuste del modelo que toma en cuenta tanto la complejidad como la cantidad de datos. Por lo tanto, el valor AIC es útil para modelos con pocos datos, mientras que el valor BIC es útil para modelos con muchos datos. Los resultados del modelo incluyen el valor AIC y BIC. Por ejemplo, si el valor AIC es 32.3 y el valor BIC es 38.5, significa que el modelo tiene un ajuste bueno pero no óptimo. Esta información es útil para evaluar si los resultados del modelo son significativos. [referencia](https://youtu.be/-BR4WElPIXg)"
      ],
      "metadata": {
        "id": "EfwT-aOPAm6G"
      }
    },
    {
      "cell_type": "markdown",
      "source": [
        "* El valor t y P<|t| son estadísticos que se utilizan para evaluar la significancia de una variable independiente en una regresión OLS. El valor t es el estadístico t para la variable independiente. Esto se calcula como la diferencia entre la media de los valores de la variable independiente y el valor esperado, dividido por el error estándar. Por otro lado, la probabilidad P<|t| es el valor p asociado con el estadístico t. Esto es, la probabilidad de que los resultados del modelo sean estadísticamente significativos.\n",
        "\n",
        "Por ejemplo, si el valor t es 2.85 y la Prob (P<|t|) es 0.005, significa que la variable independiente es estadísticamente significativa (el valor p es menor que 0.05). Esta información es útil para evaluar si los resultados del modelo son significativos. Esto se puede hacer comparando el valor t calculado con el valor crítico para la probabilidad P<|t|. Si el valor t calculado es mayor que el valor crítico, entonces los resultados del modelo son significativos. Por otro lado, si el valor t calculado es menor que el valor crítico, los resultados no son significativos. Además, los modelos OLS también se pueden utilizar para estimar los parámetros del modelo y la varianza de los errores."
      ],
      "metadata": {
        "id": "-YiZdl7TM9ve"
      }
    },
    {
      "cell_type": "markdown",
      "source": [
        "¿Que podemos hacer si tenemos un panel no balanceado o con datos faltantes?\n",
        "* Cuando se tiene una panel no balanceado o con datos faltantes, hay varias opciones para tratar los datos. Una opción es rellenar los datos faltantes utilizando datos de otros paneles. Esto se conoce como imputación de datos. En algunos casos, se puede rellenar los datos faltantes utilizando técnicas de extrapolación o interpolación. Otra opción es eliminar los datos faltantes en lugar de rellenarlos. Sin embargo, esto puede reducir el tamaño de la muestra y afectar la precisión de los resultados. Por último, se puede utilizar un modelo de efectos aleatorios, que asume que los efectos de las variables X en Y varían entre las observaciones. Esto permite que el modelo tenga en cuenta los datos faltantes. Estas son algunas opciones para tratar un panel no balanceado o con datos faltantes. "
      ],
      "metadata": {
        "id": "E4-zmciyGpcc"
      }
    },
    {
      "cell_type": "code",
      "source": [],
      "metadata": {
        "id": "NZwidlRiGu30"
      },
      "execution_count": null,
      "outputs": []
    }
  ],
  "metadata": {
    "colab": {
      "provenance": [],
      "include_colab_link": true
    },
    "kernelspec": {
      "display_name": "Python 3 (ipykernel)",
      "language": "python",
      "name": "python3"
    },
    "language_info": {
      "codemirror_mode": {
        "name": "ipython",
        "version": 3
      },
      "file_extension": ".py",
      "mimetype": "text/x-python",
      "name": "python",
      "nbconvert_exporter": "python",
      "pygments_lexer": "ipython3",
      "version": "3.11.1"
    }
  },
  "nbformat": 4,
  "nbformat_minor": 0
}