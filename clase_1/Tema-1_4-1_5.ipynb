{
  "cells": [
    {
      "cell_type": "markdown",
      "metadata": {
        "id": "view-in-github",
        "colab_type": "text"
      },
      "source": [
        "<a href=\"https://colab.research.google.com/github/sharop/CD3001B/blob/main/clase_1/Tema-1_4-1_5.ipynb\" target=\"_parent\"><img src=\"https://colab.research.google.com/assets/colab-badge.svg\" alt=\"Open In Colab\"/></a>"
      ]
    },
    {
      "cell_type": "markdown",
      "source": [
        "Instalación de librerias"
      ],
      "metadata": {
        "id": "9UmVSDuLJvS3"
      }
    },
    {
      "cell_type": "code",
      "execution_count": 5,
      "metadata": {
        "id": "yriSJ1XfzShf",
        "colab": {
          "base_uri": "https://localhost:8080/"
        },
        "outputId": "5fc769e5-c829-4e58-f9ac-b1f5ce7a4d19"
      },
      "outputs": [
        {
          "output_type": "stream",
          "name": "stdout",
          "text": [
            "Looking in indexes: https://pypi.org/simple, https://us-python.pkg.dev/colab-wheels/public/simple/\n",
            "Requirement already satisfied: linearmodels in /usr/local/lib/python3.8/dist-packages (4.27)\n",
            "Requirement already satisfied: scipy>=1.2 in /usr/local/lib/python3.8/dist-packages (from linearmodels) (1.7.3)\n",
            "Requirement already satisfied: property-cached>=1.6.3 in /usr/local/lib/python3.8/dist-packages (from linearmodels) (1.6.4)\n",
            "Requirement already satisfied: statsmodels>=0.11 in /usr/local/lib/python3.8/dist-packages (from linearmodels) (0.12.2)\n",
            "Requirement already satisfied: numpy>=1.16 in /usr/local/lib/python3.8/dist-packages (from linearmodels) (1.21.6)\n",
            "Requirement already satisfied: pandas>=0.24 in /usr/local/lib/python3.8/dist-packages (from linearmodels) (1.3.5)\n",
            "Requirement already satisfied: pyhdfe>=0.1 in /usr/local/lib/python3.8/dist-packages (from linearmodels) (0.1.2)\n",
            "Requirement already satisfied: mypy-extensions>=0.4 in /usr/local/lib/python3.8/dist-packages (from linearmodels) (1.0.0)\n",
            "Requirement already satisfied: setuptools-scm<7.0.0,>=6.4.2 in /usr/local/lib/python3.8/dist-packages (from linearmodels) (6.4.2)\n",
            "Requirement already satisfied: formulaic~=0.3.2 in /usr/local/lib/python3.8/dist-packages (from linearmodels) (0.3.4)\n",
            "Requirement already satisfied: Cython>=0.29.21 in /usr/local/lib/python3.8/dist-packages (from linearmodels) (0.29.33)\n",
            "Requirement already satisfied: astor>=0.8 in /usr/local/lib/python3.8/dist-packages (from formulaic~=0.3.2->linearmodels) (0.8.1)\n",
            "Requirement already satisfied: wrapt>=1.0 in /usr/local/lib/python3.8/dist-packages (from formulaic~=0.3.2->linearmodels) (1.14.1)\n",
            "Requirement already satisfied: interface-meta<2.0.0,>=1.2.0 in /usr/local/lib/python3.8/dist-packages (from formulaic~=0.3.2->linearmodels) (1.3.0)\n",
            "Requirement already satisfied: python-dateutil>=2.7.3 in /usr/local/lib/python3.8/dist-packages (from pandas>=0.24->linearmodels) (2.8.2)\n",
            "Requirement already satisfied: pytz>=2017.3 in /usr/local/lib/python3.8/dist-packages (from pandas>=0.24->linearmodels) (2022.7.1)\n",
            "Requirement already satisfied: tomli>=1.0.0 in /usr/local/lib/python3.8/dist-packages (from setuptools-scm<7.0.0,>=6.4.2->linearmodels) (2.0.1)\n",
            "Requirement already satisfied: setuptools in /usr/local/lib/python3.8/dist-packages (from setuptools-scm<7.0.0,>=6.4.2->linearmodels) (57.4.0)\n",
            "Requirement already satisfied: packaging>=20.0 in /usr/local/lib/python3.8/dist-packages (from setuptools-scm<7.0.0,>=6.4.2->linearmodels) (23.0)\n",
            "Requirement already satisfied: patsy>=0.5 in /usr/local/lib/python3.8/dist-packages (from statsmodels>=0.11->linearmodels) (0.5.3)\n",
            "Requirement already satisfied: six in /usr/local/lib/python3.8/dist-packages (from patsy>=0.5->statsmodels>=0.11->linearmodels) (1.15.0)\n"
          ]
        }
      ],
      "source": [
        "#!apt-get install r-base\n",
        "#!pip install rpy2\n",
        "!pip install linearmodels"
      ]
    },
    {
      "cell_type": "code",
      "source": [],
      "metadata": {
        "id": "FRmvlUFb7iwB"
      },
      "execution_count": null,
      "outputs": []
    },
    {
      "cell_type": "markdown",
      "source": [
        "#Preparación de ambiente"
      ],
      "metadata": {
        "id": "IrRrD9GrK6H5"
      }
    },
    {
      "cell_type": "code",
      "source": [
        "# Download the data and assets that this notebook uses\n",
        "import urllib.request\n",
        "\n",
        "url_prefix = \"https://github.com/jmbejara/comp-econ-sp19/blob/master/lectures/4-23_Panel_Data/\"\n",
        "files = [\n",
        "    \"15_2_Wooldridge_Intro.png\",\n",
        "    \"lme.dta\",\n",
        "    \"Example_10_4_Wooldridge_Panel.png\",\n",
        "    \"Example_10_5_Wooldridge_Panel.png\",\n",
        "    \"fixed_and_random_effects.do\",\n",
        "    \"St11-12_jtrain1.dta\",\n",
        "    ]\n",
        "for file in files:\n",
        "    url = url_prefix + file + \"?raw=true\"\n",
        "    urllib.request.urlretrieve(url, f'./{file}')"
      ],
      "metadata": {
        "id": "Ns7MjEgmK5c7"
      },
      "execution_count": 1,
      "outputs": []
    },
    {
      "cell_type": "markdown",
      "source": [
        "El codigo que se encuentra en las celdas previas solo es para Google Colab.\n",
        "El siguiente codigo es generico."
      ],
      "metadata": {
        "id": "YYI0Wan95DkP"
      }
    },
    {
      "cell_type": "code",
      "source": [],
      "metadata": {
        "id": "WyF13ly4LCZv"
      },
      "execution_count": null,
      "outputs": []
    },
    {
      "cell_type": "markdown",
      "metadata": {
        "id": "B-8LKLuDzTj1"
      },
      "source": [
        "#Exploración del ambiente\n"
      ]
    },
    {
      "cell_type": "code",
      "source": [
        "import numpy as np\n",
        "import pandas as pd\n",
        "from linearmodels import PanelOLS\n",
        "from linearmodels import RandomEffects"
      ],
      "metadata": {
        "id": "v9Jc56UHJB8c"
      },
      "execution_count": 6,
      "outputs": []
    },
    {
      "cell_type": "code",
      "source": [
        "import numpy as np\n",
        "import pandas as pd\n",
        "import statsmodels.api as sm\n",
        "import statsmodels.formula.api as smf\n",
        "import matplotlib.pyplot as plt\n",
        "import linearmodels\n",
        "from statsmodels.sandbox.regression.predstd import wls_prediction_std\n",
        "\n",
        "np.random.seed(9876789)"
      ],
      "metadata": {
        "id": "J5widHYP7hfL"
      },
      "execution_count": 9,
      "outputs": []
    },
    {
      "cell_type": "code",
      "source": [
        "# Muestra simple con datos faltantes.\n",
        "nsample = 100\n",
        "x = np.linspace(0, 10, 100)\n",
        "X = np.column_stack((x, x**2))\n",
        "beta = np.array([0.1, 10])\n",
        "e = np.random.normal(size=nsample)\n",
        "alpha = 1\n",
        "y = alpha + X @ beta + e\n",
        "X[3,1] = np.nan # agregamos datos faltantes"
      ],
      "metadata": {
        "id": "CVGBSNID74cl"
      },
      "execution_count": 10,
      "outputs": []
    },
    {
      "cell_type": "markdown",
      "source": [
        "###Statsmodel con el API estámdar."
      ],
      "metadata": {
        "id": "cwRYzRoU83o7"
      }
    },
    {
      "cell_type": "code",
      "source": [
        "df = pd.DataFrame(X, columns=['x1', 'x2'])\n",
        "df['y'] = y\n",
        "df.head()"
      ],
      "metadata": {
        "id": "pKfj-JI675Qr",
        "outputId": "bf4bf2f3-491f-490b-9f23-69e03ced75bb",
        "colab": {
          "base_uri": "https://localhost:8080/",
          "height": 204
        }
      },
      "execution_count": 11,
      "outputs": [
        {
          "output_type": "execute_result",
          "data": {
            "text/plain": [
              "        x1        x2         y\n",
              "0  0.00000  0.000000  0.159484\n",
              "1  0.10101  0.010203  2.709627\n",
              "2  0.20202  0.040812  1.893866\n",
              "3  0.30303       NaN  1.440418\n",
              "4  0.40404  0.163249  5.607196"
            ],
            "text/html": [
              "\n",
              "  <div id=\"df-c8668c7a-f95a-41a2-b7ad-3e4d875a9fd7\">\n",
              "    <div class=\"colab-df-container\">\n",
              "      <div>\n",
              "<style scoped>\n",
              "    .dataframe tbody tr th:only-of-type {\n",
              "        vertical-align: middle;\n",
              "    }\n",
              "\n",
              "    .dataframe tbody tr th {\n",
              "        vertical-align: top;\n",
              "    }\n",
              "\n",
              "    .dataframe thead th {\n",
              "        text-align: right;\n",
              "    }\n",
              "</style>\n",
              "<table border=\"1\" class=\"dataframe\">\n",
              "  <thead>\n",
              "    <tr style=\"text-align: right;\">\n",
              "      <th></th>\n",
              "      <th>x1</th>\n",
              "      <th>x2</th>\n",
              "      <th>y</th>\n",
              "    </tr>\n",
              "  </thead>\n",
              "  <tbody>\n",
              "    <tr>\n",
              "      <th>0</th>\n",
              "      <td>0.00000</td>\n",
              "      <td>0.000000</td>\n",
              "      <td>0.159484</td>\n",
              "    </tr>\n",
              "    <tr>\n",
              "      <th>1</th>\n",
              "      <td>0.10101</td>\n",
              "      <td>0.010203</td>\n",
              "      <td>2.709627</td>\n",
              "    </tr>\n",
              "    <tr>\n",
              "      <th>2</th>\n",
              "      <td>0.20202</td>\n",
              "      <td>0.040812</td>\n",
              "      <td>1.893866</td>\n",
              "    </tr>\n",
              "    <tr>\n",
              "      <th>3</th>\n",
              "      <td>0.30303</td>\n",
              "      <td>NaN</td>\n",
              "      <td>1.440418</td>\n",
              "    </tr>\n",
              "    <tr>\n",
              "      <th>4</th>\n",
              "      <td>0.40404</td>\n",
              "      <td>0.163249</td>\n",
              "      <td>5.607196</td>\n",
              "    </tr>\n",
              "  </tbody>\n",
              "</table>\n",
              "</div>\n",
              "      <button class=\"colab-df-convert\" onclick=\"convertToInteractive('df-c8668c7a-f95a-41a2-b7ad-3e4d875a9fd7')\"\n",
              "              title=\"Convert this dataframe to an interactive table.\"\n",
              "              style=\"display:none;\">\n",
              "        \n",
              "  <svg xmlns=\"http://www.w3.org/2000/svg\" height=\"24px\"viewBox=\"0 0 24 24\"\n",
              "       width=\"24px\">\n",
              "    <path d=\"M0 0h24v24H0V0z\" fill=\"none\"/>\n",
              "    <path d=\"M18.56 5.44l.94 2.06.94-2.06 2.06-.94-2.06-.94-.94-2.06-.94 2.06-2.06.94zm-11 1L8.5 8.5l.94-2.06 2.06-.94-2.06-.94L8.5 2.5l-.94 2.06-2.06.94zm10 10l.94 2.06.94-2.06 2.06-.94-2.06-.94-.94-2.06-.94 2.06-2.06.94z\"/><path d=\"M17.41 7.96l-1.37-1.37c-.4-.4-.92-.59-1.43-.59-.52 0-1.04.2-1.43.59L10.3 9.45l-7.72 7.72c-.78.78-.78 2.05 0 2.83L4 21.41c.39.39.9.59 1.41.59.51 0 1.02-.2 1.41-.59l7.78-7.78 2.81-2.81c.8-.78.8-2.07 0-2.86zM5.41 20L4 18.59l7.72-7.72 1.47 1.35L5.41 20z\"/>\n",
              "  </svg>\n",
              "      </button>\n",
              "      \n",
              "  <style>\n",
              "    .colab-df-container {\n",
              "      display:flex;\n",
              "      flex-wrap:wrap;\n",
              "      gap: 12px;\n",
              "    }\n",
              "\n",
              "    .colab-df-convert {\n",
              "      background-color: #E8F0FE;\n",
              "      border: none;\n",
              "      border-radius: 50%;\n",
              "      cursor: pointer;\n",
              "      display: none;\n",
              "      fill: #1967D2;\n",
              "      height: 32px;\n",
              "      padding: 0 0 0 0;\n",
              "      width: 32px;\n",
              "    }\n",
              "\n",
              "    .colab-df-convert:hover {\n",
              "      background-color: #E2EBFA;\n",
              "      box-shadow: 0px 1px 2px rgba(60, 64, 67, 0.3), 0px 1px 3px 1px rgba(60, 64, 67, 0.15);\n",
              "      fill: #174EA6;\n",
              "    }\n",
              "\n",
              "    [theme=dark] .colab-df-convert {\n",
              "      background-color: #3B4455;\n",
              "      fill: #D2E3FC;\n",
              "    }\n",
              "\n",
              "    [theme=dark] .colab-df-convert:hover {\n",
              "      background-color: #434B5C;\n",
              "      box-shadow: 0px 1px 3px 1px rgba(0, 0, 0, 0.15);\n",
              "      filter: drop-shadow(0px 1px 2px rgba(0, 0, 0, 0.3));\n",
              "      fill: #FFFFFF;\n",
              "    }\n",
              "  </style>\n",
              "\n",
              "      <script>\n",
              "        const buttonEl =\n",
              "          document.querySelector('#df-c8668c7a-f95a-41a2-b7ad-3e4d875a9fd7 button.colab-df-convert');\n",
              "        buttonEl.style.display =\n",
              "          google.colab.kernel.accessAllowed ? 'block' : 'none';\n",
              "\n",
              "        async function convertToInteractive(key) {\n",
              "          const element = document.querySelector('#df-c8668c7a-f95a-41a2-b7ad-3e4d875a9fd7');\n",
              "          const dataTable =\n",
              "            await google.colab.kernel.invokeFunction('convertToInteractive',\n",
              "                                                     [key], {});\n",
              "          if (!dataTable) return;\n",
              "\n",
              "          const docLinkHtml = 'Like what you see? Visit the ' +\n",
              "            '<a target=\"_blank\" href=https://colab.research.google.com/notebooks/data_table.ipynb>data table notebook</a>'\n",
              "            + ' to learn more about interactive tables.';\n",
              "          element.innerHTML = '';\n",
              "          dataTable['output_type'] = 'display_data';\n",
              "          await google.colab.output.renderOutput(dataTable, element);\n",
              "          const docLink = document.createElement('div');\n",
              "          docLink.innerHTML = docLinkHtml;\n",
              "          element.appendChild(docLink);\n",
              "        }\n",
              "      </script>\n",
              "    </div>\n",
              "  </div>\n",
              "  "
            ]
          },
          "metadata": {},
          "execution_count": 11
        }
      ]
    },
    {
      "cell_type": "code",
      "source": [
        "rhs = sm.add_constant(df[['x1', 'x2']])\n",
        "lhs = df['y']\n",
        "res = sm.OLS(lhs, rhs, missing='drop').fit()"
      ],
      "metadata": {
        "id": "0jGsRdRo77tC",
        "outputId": "f025573b-75ac-4f2e-d116-7c8afedef2d0",
        "colab": {
          "base_uri": "https://localhost:8080/"
        }
      },
      "execution_count": 12,
      "outputs": [
        {
          "output_type": "stream",
          "name": "stderr",
          "text": [
            "/usr/local/lib/python3.8/dist-packages/statsmodels/tsa/tsatools.py:142: FutureWarning: In a future version of pandas all arguments of concat except for the argument 'objs' will be keyword-only\n",
            "  x = pd.concat(x[::order], 1)\n"
          ]
        }
      ]
    },
    {
      "cell_type": "code",
      "source": [
        "res.summary()"
      ],
      "metadata": {
        "id": "HOXc6QQX77wR",
        "outputId": "fe7b3cd6-725c-427a-962f-8cfb3bc8d398",
        "colab": {
          "base_uri": "https://localhost:8080/",
          "height": 465
        }
      },
      "execution_count": 13,
      "outputs": [
        {
          "output_type": "execute_result",
          "data": {
            "text/plain": [
              "<class 'statsmodels.iolib.summary.Summary'>\n",
              "\"\"\"\n",
              "                            OLS Regression Results                            \n",
              "==============================================================================\n",
              "Dep. Variable:                      y   R-squared:                       1.000\n",
              "Model:                            OLS   Adj. R-squared:                  1.000\n",
              "Method:                 Least Squares   F-statistic:                 3.955e+06\n",
              "Date:                Tue, 14 Feb 2023   Prob (F-statistic):          1.09e-236\n",
              "Time:                        17:19:47   Log-Likelihood:                -145.23\n",
              "No. Observations:                  99   AIC:                             296.5\n",
              "Df Residuals:                      96   BIC:                             304.2\n",
              "Df Model:                           2                                         \n",
              "Covariance Type:            nonrobust                                         \n",
              "==============================================================================\n",
              "                 coef    std err          t      P>|t|      [0.025      0.975]\n",
              "------------------------------------------------------------------------------\n",
              "const          1.4086      0.324      4.341      0.000       0.765       2.053\n",
              "x1            -0.0654      0.148     -0.441      0.660      -0.360       0.229\n",
              "x2            10.0123      0.014    702.595      0.000       9.984      10.041\n",
              "==============================================================================\n",
              "Omnibus:                        1.981   Durbin-Watson:                   2.228\n",
              "Prob(Omnibus):                  0.371   Jarque-Bera (JB):                1.764\n",
              "Skew:                           0.209   Prob(JB):                        0.414\n",
              "Kurtosis:                       2.498   Cond. No.                         149.\n",
              "==============================================================================\n",
              "\n",
              "Notes:\n",
              "[1] Standard Errors assume that the covariance matrix of the errors is correctly specified.\n",
              "\"\"\""
            ],
            "text/html": [
              "<table class=\"simpletable\">\n",
              "<caption>OLS Regression Results</caption>\n",
              "<tr>\n",
              "  <th>Dep. Variable:</th>            <td>y</td>        <th>  R-squared:         </th> <td>   1.000</td> \n",
              "</tr>\n",
              "<tr>\n",
              "  <th>Model:</th>                   <td>OLS</td>       <th>  Adj. R-squared:    </th> <td>   1.000</td> \n",
              "</tr>\n",
              "<tr>\n",
              "  <th>Method:</th>             <td>Least Squares</td>  <th>  F-statistic:       </th> <td>3.955e+06</td>\n",
              "</tr>\n",
              "<tr>\n",
              "  <th>Date:</th>             <td>Tue, 14 Feb 2023</td> <th>  Prob (F-statistic):</th> <td>1.09e-236</td>\n",
              "</tr>\n",
              "<tr>\n",
              "  <th>Time:</th>                 <td>17:19:47</td>     <th>  Log-Likelihood:    </th> <td> -145.23</td> \n",
              "</tr>\n",
              "<tr>\n",
              "  <th>No. Observations:</th>      <td>    99</td>      <th>  AIC:               </th> <td>   296.5</td> \n",
              "</tr>\n",
              "<tr>\n",
              "  <th>Df Residuals:</th>          <td>    96</td>      <th>  BIC:               </th> <td>   304.2</td> \n",
              "</tr>\n",
              "<tr>\n",
              "  <th>Df Model:</th>              <td>     2</td>      <th>                     </th>     <td> </td>    \n",
              "</tr>\n",
              "<tr>\n",
              "  <th>Covariance Type:</th>      <td>nonrobust</td>    <th>                     </th>     <td> </td>    \n",
              "</tr>\n",
              "</table>\n",
              "<table class=\"simpletable\">\n",
              "<tr>\n",
              "    <td></td>       <th>coef</th>     <th>std err</th>      <th>t</th>      <th>P>|t|</th>  <th>[0.025</th>    <th>0.975]</th>  \n",
              "</tr>\n",
              "<tr>\n",
              "  <th>const</th> <td>    1.4086</td> <td>    0.324</td> <td>    4.341</td> <td> 0.000</td> <td>    0.765</td> <td>    2.053</td>\n",
              "</tr>\n",
              "<tr>\n",
              "  <th>x1</th>    <td>   -0.0654</td> <td>    0.148</td> <td>   -0.441</td> <td> 0.660</td> <td>   -0.360</td> <td>    0.229</td>\n",
              "</tr>\n",
              "<tr>\n",
              "  <th>x2</th>    <td>   10.0123</td> <td>    0.014</td> <td>  702.595</td> <td> 0.000</td> <td>    9.984</td> <td>   10.041</td>\n",
              "</tr>\n",
              "</table>\n",
              "<table class=\"simpletable\">\n",
              "<tr>\n",
              "  <th>Omnibus:</th>       <td> 1.981</td> <th>  Durbin-Watson:     </th> <td>   2.228</td>\n",
              "</tr>\n",
              "<tr>\n",
              "  <th>Prob(Omnibus):</th> <td> 0.371</td> <th>  Jarque-Bera (JB):  </th> <td>   1.764</td>\n",
              "</tr>\n",
              "<tr>\n",
              "  <th>Skew:</th>          <td> 0.209</td> <th>  Prob(JB):          </th> <td>   0.414</td>\n",
              "</tr>\n",
              "<tr>\n",
              "  <th>Kurtosis:</th>      <td> 2.498</td> <th>  Cond. No.          </th> <td>    149.</td>\n",
              "</tr>\n",
              "</table><br/><br/>Notes:<br/>[1] Standard Errors assume that the covariance matrix of the errors is correctly specified."
            ]
          },
          "metadata": {},
          "execution_count": 13
        }
      ]
    },
    {
      "cell_type": "code",
      "source": [
        "res.params"
      ],
      "metadata": {
        "id": "A_DqXUtB77zM",
        "outputId": "6823767f-f588-461f-e00f-9971c7c86601",
        "colab": {
          "base_uri": "https://localhost:8080/"
        }
      },
      "execution_count": 14,
      "outputs": [
        {
          "output_type": "execute_result",
          "data": {
            "text/plain": [
              "const     1.408565\n",
              "x1       -0.065398\n",
              "x2       10.012289\n",
              "dtype: float64"
            ]
          },
          "metadata": {},
          "execution_count": 14
        }
      ]
    },
    {
      "cell_type": "markdown",
      "source": [
        "### Statsmodels utilizando el API de formula.\n",
        "Estilo R. Hay qeue revisar que el paquete `import statsmodels.formula.api as smf`"
      ],
      "metadata": {
        "id": "WEFexDdM9v1U"
      }
    },
    {
      "cell_type": "code",
      "source": [
        "results = smf.ols(formula=\"y ~ x1 + x2\", data=df).fit()\n",
        "results.summary()"
      ],
      "metadata": {
        "id": "bDRFCWxR9u1x",
        "outputId": "36b2c60a-4c52-4bf1-ab5a-3d477bea2848",
        "colab": {
          "base_uri": "https://localhost:8080/",
          "height": 465
        }
      },
      "execution_count": 15,
      "outputs": [
        {
          "output_type": "execute_result",
          "data": {
            "text/plain": [
              "<class 'statsmodels.iolib.summary.Summary'>\n",
              "\"\"\"\n",
              "                            OLS Regression Results                            \n",
              "==============================================================================\n",
              "Dep. Variable:                      y   R-squared:                       1.000\n",
              "Model:                            OLS   Adj. R-squared:                  1.000\n",
              "Method:                 Least Squares   F-statistic:                 3.955e+06\n",
              "Date:                Tue, 14 Feb 2023   Prob (F-statistic):          1.09e-236\n",
              "Time:                        17:28:33   Log-Likelihood:                -145.23\n",
              "No. Observations:                  99   AIC:                             296.5\n",
              "Df Residuals:                      96   BIC:                             304.2\n",
              "Df Model:                           2                                         \n",
              "Covariance Type:            nonrobust                                         \n",
              "==============================================================================\n",
              "                 coef    std err          t      P>|t|      [0.025      0.975]\n",
              "------------------------------------------------------------------------------\n",
              "Intercept      1.4086      0.324      4.341      0.000       0.765       2.053\n",
              "x1            -0.0654      0.148     -0.441      0.660      -0.360       0.229\n",
              "x2            10.0123      0.014    702.595      0.000       9.984      10.041\n",
              "==============================================================================\n",
              "Omnibus:                        1.981   Durbin-Watson:                   2.228\n",
              "Prob(Omnibus):                  0.371   Jarque-Bera (JB):                1.764\n",
              "Skew:                           0.209   Prob(JB):                        0.414\n",
              "Kurtosis:                       2.498   Cond. No.                         149.\n",
              "==============================================================================\n",
              "\n",
              "Notes:\n",
              "[1] Standard Errors assume that the covariance matrix of the errors is correctly specified.\n",
              "\"\"\""
            ],
            "text/html": [
              "<table class=\"simpletable\">\n",
              "<caption>OLS Regression Results</caption>\n",
              "<tr>\n",
              "  <th>Dep. Variable:</th>            <td>y</td>        <th>  R-squared:         </th> <td>   1.000</td> \n",
              "</tr>\n",
              "<tr>\n",
              "  <th>Model:</th>                   <td>OLS</td>       <th>  Adj. R-squared:    </th> <td>   1.000</td> \n",
              "</tr>\n",
              "<tr>\n",
              "  <th>Method:</th>             <td>Least Squares</td>  <th>  F-statistic:       </th> <td>3.955e+06</td>\n",
              "</tr>\n",
              "<tr>\n",
              "  <th>Date:</th>             <td>Tue, 14 Feb 2023</td> <th>  Prob (F-statistic):</th> <td>1.09e-236</td>\n",
              "</tr>\n",
              "<tr>\n",
              "  <th>Time:</th>                 <td>17:28:33</td>     <th>  Log-Likelihood:    </th> <td> -145.23</td> \n",
              "</tr>\n",
              "<tr>\n",
              "  <th>No. Observations:</th>      <td>    99</td>      <th>  AIC:               </th> <td>   296.5</td> \n",
              "</tr>\n",
              "<tr>\n",
              "  <th>Df Residuals:</th>          <td>    96</td>      <th>  BIC:               </th> <td>   304.2</td> \n",
              "</tr>\n",
              "<tr>\n",
              "  <th>Df Model:</th>              <td>     2</td>      <th>                     </th>     <td> </td>    \n",
              "</tr>\n",
              "<tr>\n",
              "  <th>Covariance Type:</th>      <td>nonrobust</td>    <th>                     </th>     <td> </td>    \n",
              "</tr>\n",
              "</table>\n",
              "<table class=\"simpletable\">\n",
              "<tr>\n",
              "      <td></td>         <th>coef</th>     <th>std err</th>      <th>t</th>      <th>P>|t|</th>  <th>[0.025</th>    <th>0.975]</th>  \n",
              "</tr>\n",
              "<tr>\n",
              "  <th>Intercept</th> <td>    1.4086</td> <td>    0.324</td> <td>    4.341</td> <td> 0.000</td> <td>    0.765</td> <td>    2.053</td>\n",
              "</tr>\n",
              "<tr>\n",
              "  <th>x1</th>        <td>   -0.0654</td> <td>    0.148</td> <td>   -0.441</td> <td> 0.660</td> <td>   -0.360</td> <td>    0.229</td>\n",
              "</tr>\n",
              "<tr>\n",
              "  <th>x2</th>        <td>   10.0123</td> <td>    0.014</td> <td>  702.595</td> <td> 0.000</td> <td>    9.984</td> <td>   10.041</td>\n",
              "</tr>\n",
              "</table>\n",
              "<table class=\"simpletable\">\n",
              "<tr>\n",
              "  <th>Omnibus:</th>       <td> 1.981</td> <th>  Durbin-Watson:     </th> <td>   2.228</td>\n",
              "</tr>\n",
              "<tr>\n",
              "  <th>Prob(Omnibus):</th> <td> 0.371</td> <th>  Jarque-Bera (JB):  </th> <td>   1.764</td>\n",
              "</tr>\n",
              "<tr>\n",
              "  <th>Skew:</th>          <td> 0.209</td> <th>  Prob(JB):          </th> <td>   0.414</td>\n",
              "</tr>\n",
              "<tr>\n",
              "  <th>Kurtosis:</th>      <td> 2.498</td> <th>  Cond. No.          </th> <td>    149.</td>\n",
              "</tr>\n",
              "</table><br/><br/>Notes:<br/>[1] Standard Errors assume that the covariance matrix of the errors is correctly specified."
            ]
          },
          "metadata": {},
          "execution_count": 15
        }
      ]
    },
    {
      "cell_type": "code",
      "source": [],
      "metadata": {
        "id": "DfehBAGk771m"
      },
      "execution_count": 10,
      "outputs": []
    },
    {
      "cell_type": "code",
      "source": [],
      "metadata": {
        "id": "p8E8b4cL774M"
      },
      "execution_count": null,
      "outputs": []
    },
    {
      "cell_type": "markdown",
      "source": [
        "#1.4. Modelo de efectos fijos"
      ],
      "metadata": {
        "id": "Y6BcCuuA-e4q"
      }
    },
    {
      "cell_type": "markdown",
      "source": [
        "In statsmodels\n",
        "\n",
        "Here is a quick example of the syntax from statsmodels. This is taken from here: http://statsmodels.sourceforge.net/devel/mixed_linear.html"
      ],
      "metadata": {
        "id": "kboeX9OkF8Ic"
      }
    },
    {
      "cell_type": "code",
      "source": [],
      "metadata": {
        "id": "a6-a__fo-iZu"
      },
      "execution_count": null,
      "outputs": []
    },
    {
      "cell_type": "markdown",
      "metadata": {
        "id": "jYAStCa9zd3U"
      },
      "source": [
        "#1.5 Modelo de efectos aleatorios"
      ]
    },
    {
      "cell_type": "code",
      "execution_count": null,
      "metadata": {
        "id": "Bnbk2nsrzkAY"
      },
      "outputs": [],
      "source": []
    }
  ],
  "metadata": {
    "colab": {
      "provenance": [],
      "include_colab_link": true
    },
    "kernelspec": {
      "display_name": "Python 3 (ipykernel)",
      "language": "python",
      "name": "python3"
    },
    "language_info": {
      "codemirror_mode": {
        "name": "ipython",
        "version": 3
      },
      "file_extension": ".py",
      "mimetype": "text/x-python",
      "name": "python",
      "nbconvert_exporter": "python",
      "pygments_lexer": "ipython3",
      "version": "3.11.1"
    }
  },
  "nbformat": 4,
  "nbformat_minor": 0
}