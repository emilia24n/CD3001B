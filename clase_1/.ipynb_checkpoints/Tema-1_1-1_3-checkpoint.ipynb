{
  "nbformat": 4,
  "nbformat_minor": 0,
  "metadata": {
    "colab": {
      "provenance": [],
      "authorship_tag": "ABX9TyP/fwG0KaDUZKm1wwc7SFVQ",
      "include_colab_link": true
    },
    "kernelspec": {
      "name": "python3",
      "display_name": "Python 3"
    },
    "language_info": {
      "name": "python"
    }
  },
  "cells": [
    {
      "cell_type": "markdown",
      "metadata": {
        "id": "view-in-github",
        "colab_type": "text"
      },
      "source": [
        "<a href=\"https://colab.research.google.com/github/sharop/CD3001B/blob/main/clase_1/Tema-1_4-1_5.ipynb\" target=\"_parent\"><img src=\"https://colab.research.google.com/assets/colab-badge.svg\" alt=\"Open In Colab\"/></a>"
      ]
    },
    {
      "cell_type": "code",
      "execution_count": null,
      "metadata": {
        "id": "yriSJ1XfzShf"
      },
      "outputs": [],
      "source": []
    },
    {
      "cell_type": "markdown",
      "source": [
        "#1.4. Modelo de efectos fijos\n"
      ],
      "metadata": {
        "id": "B-8LKLuDzTj1"
      }
    },
    {
      "cell_type": "markdown",
      "source": [
        "#1.5 Modelo de efectos aleatorios"
      ],
      "metadata": {
        "id": "jYAStCa9zd3U"
      }
    },
    {
      "cell_type": "code",
      "source": [],
      "metadata": {
        "id": "Bnbk2nsrzkAY"
      },
      "execution_count": null,
      "outputs": []
    }
  ]
}